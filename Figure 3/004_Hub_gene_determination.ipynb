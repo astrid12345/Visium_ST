{
 "cells": [
  {
   "cell_type": "code",
   "execution_count": null,
   "id": "e30707c2",
   "metadata": {},
   "outputs": [],
   "source": [
    "########################################################################\n",
    "# Author    : A. Alsema, J. Kotah\n",
    "# Date      : October 2023\n",
    "# Dataset   : Visium Spatial Transcriptomics for MS lesions, 14 WM samples\n",
    "# Purpose   : define hub genes from SpaceX analysis\n",
    "# Output    : list of hubs per sample, networks per sample\n",
    "# Input     : RDS SpaceX analyzed object per sample\n",
    "########################################################################\n"
   ]
  },
  {
   "cell_type": "code",
   "execution_count": 3,
   "id": "a5d0608c",
   "metadata": {
    "scrolled": true
   },
   "outputs": [],
   "source": [
    "rm(list = ls())\n",
    "library(tidyverse)\n",
    "library(corrr)\n",
    "library(igraph)\n",
    "library(patchwork)\n"
   ]
  },
  {
   "cell_type": "code",
   "execution_count": 2,
   "id": "61a955a4",
   "metadata": {
    "scrolled": true
   },
   "outputs": [
    {
     "data": {
      "text/html": [
       "<table class=\"dataframe\">\n",
       "<caption>A data.frame: 3 × 2</caption>\n",
       "<thead>\n",
       "\t<tr><th scope=col>X</th><th scope=col>x</th></tr>\n",
       "\t<tr><th scope=col>&lt;int&gt;</th><th scope=col>&lt;chr&gt;</th></tr>\n",
       "</thead>\n",
       "<tbody>\n",
       "\t<tr><td>1</td><td>ST33_active    </td></tr>\n",
       "\t<tr><td>2</td><td>ST33_PL_active </td></tr>\n",
       "\t<tr><td>3</td><td>ST33_RIM_active</td></tr>\n",
       "</tbody>\n",
       "</table>\n"
      ],
      "text/latex": [
       "A data.frame: 3 × 2\n",
       "\\begin{tabular}{ll}\n",
       " X & x\\\\\n",
       " <int> & <chr>\\\\\n",
       "\\hline\n",
       "\t 1 & ST33\\_active    \\\\\n",
       "\t 2 & ST33\\_PL\\_active \\\\\n",
       "\t 3 & ST33\\_RIM\\_active\\\\\n",
       "\\end{tabular}\n"
      ],
      "text/markdown": [
       "\n",
       "A data.frame: 3 × 2\n",
       "\n",
       "| X &lt;int&gt; | x &lt;chr&gt; |\n",
       "|---|---|\n",
       "| 1 | ST33_active     |\n",
       "| 2 | ST33_PL_active  |\n",
       "| 3 | ST33_RIM_active |\n",
       "\n"
      ],
      "text/plain": [
       "  X x              \n",
       "1 1 ST33_active    \n",
       "2 2 ST33_PL_active \n",
       "3 3 ST33_RIM_active"
      ]
     },
     "metadata": {},
     "output_type": "display_data"
    }
   ],
   "source": [
    "outdir = \"YOUR OUTPUT DIRECTORY HERE\" \n",
    "\n",
    "#load sample analyzed\n",
    "ID <- \"ST33\"\n",
    "\n",
    "path = \"POST-PROCESSED FILE OUTPUT FOLDER\"\n",
    "path_to_load = paste0(path, ID, \"_003_SpaceX_Post-processed.rds\")\n",
    "sample = readRDS(path_to_load)\n",
    "\n",
    "#load sheet created in Script 2 about order of spatial clusters analyzed, check which folder\n",
    "cluster_info_dir = \"./Order_of_groups/\"\n",
    "cluster_info_df = read.csv(paste0(cluster_info_dir, ID, \"_orderofgroups.csv\"))\n",
    "cluster_info_df"
   ]
  },
  {
   "cell_type": "code",
   "execution_count": 6,
   "id": "cbf42887",
   "metadata": {},
   "outputs": [
    {
     "data": {
      "text/html": [
       "14"
      ],
      "text/latex": [
       "14"
      ],
      "text/markdown": [
       "14"
      ],
      "text/plain": [
       "[1] 14"
      ]
     },
     "metadata": {},
     "output_type": "display_data"
    }
   ],
   "source": [
    "#preparing to load all samples in a loop\n",
    "samples = c(\"ST31\",\n",
    "            \"ST32\",\n",
    "            \"ST33\",\n",
    "            \"ST34\",\n",
    "            \"ST37\",\n",
    "            \"ST67\",\n",
    "            \"ST68\",\n",
    "            \"ST69\",\n",
    "            \"ST70\",\n",
    "            \"ST71\",\n",
    "            \"ST72\",\n",
    "            \"ST73\",\n",
    "            \"ST74\",\n",
    "            \"ST79\")\n",
    "\n",
    "length(samples)"
   ]
  },
  {
   "cell_type": "code",
   "execution_count": 7,
   "id": "9c1e2add",
   "metadata": {
    "scrolled": true
   },
   "outputs": [
    {
     "name": "stdout",
     "output_type": "stream",
     "text": [
      "[1] \"ST31\"\n",
      "[1] \"ST31_CWM\"\n",
      "[1] \"ST32\"\n",
      "[1] \"ST32_CWM\"\n",
      "[1] \"ST33\"\n",
      "[1] \"ST33_active\"\n",
      "[1] \"ST33_PL_active\"\n",
      "[1] \"ST33_RIM_active\"\n",
      "[1] \"ST34\"\n",
      "[1] \"ST34_NAWM\"\n",
      "[1] \"ST37\"\n",
      "[1] \"ST37_NAWM\"\n",
      "[1] \"ST67\"\n",
      "[1] \"ST67_chronic\"\n",
      "[1] \"ST67_PL_chronic\"\n",
      "[1] \"ST67_RIM_chronic\"\n",
      "[1] \"ST68\"\n",
      "[1] \"ST68_chronic\"\n",
      "[1] \"ST68_PL_chronic\"\n",
      "[1] \"ST68_RIM_chronic\"\n",
      "[1] \"ST69\"\n",
      "[1] \"ST69_active\"\n",
      "[1] \"ST69_PL_active\"\n",
      "[1] \"ST69_RIM_active\"\n",
      "[1] \"ST70\"\n",
      "[1] \"ST70_active\"\n",
      "[1] \"ST70_PL_active\"\n",
      "[1] \"ST70_RIM_active\"\n",
      "[1] \"ST71\"\n",
      "[1] \"ST71_chronic\"\n",
      "[1] \"ST71_PL_chronic\"\n",
      "[1] \"ST71_RIM_chronic\"\n",
      "[1] \"ST72\"\n",
      "[1] \"ST72_chronic\"\n",
      "[1] \"ST72_PL_chronic\"\n",
      "[1] \"ST72_RIM_chronic\"\n",
      "[1] \"ST73\"\n",
      "[1] \"ST73_chronic\"\n",
      "[1] \"ST73_PL_chronic\"\n",
      "[1] \"ST73_RIM_chronic\"\n",
      "[1] \"ST74\"\n",
      "[1] \"ST74_chronic\"\n",
      "[1] \"ST74_PL_chronic\"\n",
      "[1] \"ST74_RIM_chronic\"\n",
      "[1] \"ST79\"\n",
      "[1] \"ST79_active\"\n",
      "[1] \"ST79_PL_active\"\n",
      "[1] \"ST79_RIM_active\"\n"
     ]
    },
    {
     "data": {
      "text/html": [
       "<strong>png:</strong> 2"
      ],
      "text/latex": [
       "\\textbf{png:} 2"
      ],
      "text/markdown": [
       "**png:** 2"
      ],
      "text/plain": [
       "png \n",
       "  2 "
      ]
     },
     "metadata": {},
     "output_type": "display_data"
    }
   ],
   "source": [
    "#create histograms to visualize all correlation values that SpaceX gives\n",
    "#from this we chose to use a value of 0.7 as a cutoff to determine 'connection' between two genes\n",
    "\n",
    "pdf(\"Correlation_Histograms.pdf\")\n",
    "\n",
    "for (ID in samples){\n",
    "    print(ID)\n",
    "    \n",
    "    path_to_load = paste0(path, ID, \"_003_SpaceX_Post-processed.rds\")\n",
    "    \n",
    "    #loading sample\n",
    "    sample = readRDS(path_to_load)\n",
    "        \n",
    "    #loading cluster network order within sample, here everything is analyzed\n",
    "    #for our analysis specifically, the rims were always in index 3 in active and act/inact lesions\n",
    "    cluster_info_df = read.csv(paste0(cluster_info_dir, ID, \"_orderofgroups.csv\"))\n",
    "\n",
    "    for (each in 1:nrow(cluster_info_df)){\n",
    "        cluster_index = each\n",
    "        cluster_name = cluster_info_df[cluster_index, 'x']\n",
    "        print(cluster_name)\n",
    "        \n",
    "        #select the spatial cluster specific network\n",
    "        group_network <- sample[[3]][, , cluster_index] \n",
    "        above_thres = group_network[abs(group_network) > 0.7] %>% length() \n",
    "\n",
    "        abs(as.matrix(group_network)) %>% hist(main = paste0(\"Histogram of |correlation values| in \", cluster_name),\n",
    "                                       sub = paste0(\"# Connections > +/-0.7: \", above_thres)) %>%\n",
    "        \n",
    "        #500 genes were loaded, so we expect to see at least 500 good connections due auto-correlation, this highlights those\n",
    "        abline(h=500, col = 'red', lty = 'dashed') %>% \n",
    "        \n",
    "        #we chose an absolute value of 0.7, which we visualize here\n",
    "        abline(v = 0.7, col = \"blue\", lty = \"dashed\")\n",
    "    }\n",
    "    \n",
    "    rm(sample)\n",
    "    rm(cluster_info_df)\n",
    "}\n",
    "\n",
    "dev.off()"
   ]
  },
  {
   "cell_type": "code",
   "execution_count": 30,
   "id": "f97b16dd",
   "metadata": {
    "scrolled": false
   },
   "outputs": [
    {
     "name": "stdout",
     "output_type": "stream",
     "text": [
      "[1] \"Processing sample ST31\"\n",
      "[1] \"Processing sample ST32\"\n",
      "[1] \"Processing sample ST33\"\n",
      "[1] \"Processing sample ST34\"\n",
      "[1] \"Processing sample ST37\"\n",
      "[1] \"Processing sample ST67\"\n",
      "[1] \"Processing sample ST68\"\n",
      "[1] \"Processing sample ST69\"\n",
      "[1] \"Processing sample ST70\"\n",
      "[1] \"Processing sample ST71\"\n",
      "[1] \"Processing sample ST72\"\n",
      "[1] \"Processing sample ST73\"\n",
      "[1] \"Processing sample ST74\"\n",
      "[1] \"Processing sample ST79\"\n"
     ]
    },
    {
     "data": {
      "text/html": [
       "<strong>png:</strong> 2"
      ],
      "text/latex": [
       "\\textbf{png:} 2"
      ],
      "text/markdown": [
       "**png:** 2"
      ],
      "text/plain": [
       "png \n",
       "  2 "
      ]
     },
     "metadata": {},
     "output_type": "display_data"
    }
   ],
   "source": [
    "#hub determination was done by selecting genes connected to at least 10% of total genes in the network \n",
    "#(i.e., those above +0.7)\n",
    "\n",
    "hub.list.top10p = list()\n",
    "\n",
    "pdf(\"Visualize_hub_gene_determination.pdf\")\n",
    "for (ID in samples){\n",
    "    print(paste0(\"Processing sample \", ID))\n",
    "    \n",
    "    #load sample info and data\n",
    "    \n",
    "    path_to_load = paste0(path, ID, \"_003_SpaceX_Post-processed.rds\")\n",
    "    sample = readRDS(path_to_load)    \n",
    "    cluster_info_df = read.csv(paste0(cluster_info_dir, ID, \"_orderofgroups.csv\"))\n",
    "\n",
    "\n",
    "for (cluster_index in 1:nrow(cluster_info_df)){\n",
    "\n",
    "    #for completeness we also do other spatial clusters;\n",
    "    #in our analysis, we focused on cluster_index =3, the active and act/inact lesion rims\n",
    "    group_network <- sample[[3]][, , cluster_index] \n",
    "    \n",
    "    # convert to matrix\n",
    "    colnames(group_network) <- sample$Genes\n",
    "    rownames(group_network) <- sample$Genes\n",
    "    group_network = as.matrix(group_network)\n",
    "    diag(group_network) = 0\n",
    "\n",
    "    #extract only the strong correlations to improve visibility\n",
    "    filter = abs(group_network) < 0.7 # remove small correlations, 0.7 was a good threshold; take only positive\n",
    "    result_network = group_network\n",
    "    result_network[filter] = 0\n",
    "\n",
    "    #igraph based:\n",
    "    graph2 <- graph.adjacency(result_network, mode = \"undirected\", weighted = TRUE)\n",
    "    remove <- E(graph2)$weight < 0 #edges with links that are sub-threshold\n",
    "    graph2 <- delete_edges(graph2, E(graph2)[remove])\n",
    "\n",
    "    # Find isolated nodes (nodes with degree zero)\n",
    "    isolated_nodes <- V(graph2)[degree(graph2) == 0]\n",
    "    # Delete isolated nodes from the network\n",
    "    graph2 <- delete_vertices(graph2, v = isolated_nodes)\n",
    "\n",
    "    #identify total nodes left in each network\n",
    "    nodes = degree(graph2) %>% data.frame() %>% nrow()\n",
    "    \n",
    "    degree_df =  degree(graph2) %>% sort(decreasing = T) %>% data.frame() %>% `colnames<-`(\"Degree\") %>%\n",
    "    mutate(Gene = rownames(.)) %>% mutate(Degree_pct = 100* Degree/nrow(.))\n",
    "    \n",
    "    #show histogram and where 10 percent cutoff would be\n",
    "    degree_df %>% mutate(fill = Degree_pct >= 10) %>%\n",
    "    ggplot(., aes(y= Degree_pct, x = reorder(Gene, -Degree),\n",
    "                      fill = fill\n",
    "                     )) + geom_bar(stat=\"identity\") +\n",
    "    geom_hline(yintercept = 10, color = \"red\", linetype = \"dashed\") +\n",
    "    ylab(\"Percent of genes in network connected to\") + theme_classic() +\n",
    "    xlab(\"Genes ordered by connectivity\")\n",
    "    theme(axis.text.x = element_blank(),\n",
    "          axis.ticks.x = element_blank(),\n",
    "          legend.position='none', aspect.ratio = 0.48\n",
    "         ) +\n",
    "    scale_y_continuous(expand = c(0,0)) +\n",
    "    ggtitle(title = paste0(\"Identification of hubs in \", cluster_info_df[cluster_index,2]))\n",
    "\n",
    "    #export hub information per spatial cluster for downstream interpretation\n",
    "    hub.list.top10p[[cluster_info_df[cluster_index,2]]] = degree(graph2) %>% sort(decreasing = T) %>% data.frame() %>% `colnames<-`(\"Degree\") %>%\n",
    "    mutate(Gene = rownames(.), Percent = Degree/nodes) %>% filter(Percent > 0.1) %>% rownames(.) %>% c(.)\n",
    "   \n",
    "    }\n",
    "    rm(sample)\n",
    "    rm(cluster_info_df)    \n",
    "}\n",
    "\n",
    "dev.off()\n",
    "\n",
    "saveRDS(hub.list.top10p, \"04_allSamples_top10p_hub_genes.rds\")"
   ]
  },
  {
   "cell_type": "code",
   "execution_count": null,
   "id": "9cf6c08b",
   "metadata": {},
   "outputs": [],
   "source": [
    "#example code for plotting networks per sample\n",
    "\n",
    "ID = samples[1] #select sample to visualize\n",
    "\n",
    "path_to_load = paste0(path, ID, \"_003_SpaceX_Post-processed.rds\")\n",
    "sample = readRDS(path_to_load)\n",
    "\n",
    "cluster_info_df = read.csv(paste0(cluster_info_dir, ID, \"_orderofgroups.csv\"))\n",
    "\n",
    "cluster_index = 3 #active rims\n",
    "cluster_name = cluster_info_df[cluster_index, 'x']\n",
    "print(cluster_name)\n",
    "\n",
    "group_network <- sample[[3]][, , cluster_index]\n",
    "\n",
    "# convert to matrix, extract only the strong correlations to improve visibility\n",
    "colnames(group_network) <- sample$Genes\n",
    "rownames(group_network) <- sample$Genes\n",
    "group_network = as.matrix(group_network)\n",
    "\n",
    "#make df  with communities and color\n",
    "each = 3\n",
    "cluster_index = each\n",
    "cluster_name = cluster_info_df[cluster_index, 'x']\n",
    "print(cluster_name)\n",
    "\n",
    "group_network <- sample[[3]][, , cluster_index] # group network is a cluster specific network\n",
    "\n",
    "# convert to matrix, extract only the strong correlations to improve visibility\n",
    "colnames(group_network) <- sample$Genes\n",
    "rownames(group_network) <- sample$Genes\n",
    "group_network = as.matrix(group_network)\n",
    "diag(group_network) = 0\n",
    "filter = group_network < 0.7 # remove small correlations, 0.7 was a good threshold, as estimated by local minimum in probability density in 3 test samples\n",
    "result_network = group_network\n",
    "result_network[filter] = 0\n",
    "\n",
    "# Convert the adjacency matrix to an igraph object\n",
    "graph <- graph.adjacency(result_network, mode = \"undirected\", weighted = TRUE)\n",
    "remove <- E(graph)$weight == 0\n",
    "graph <- delete_edges(graph, E(graph)[remove])\n",
    "\n",
    "# Find isolated nodes (nodes with degree zero)\n",
    "isolated_nodes <- V(graph)[igraph::degree(graph) == 0]\n",
    "# Delete isolated nodes from the graph\n",
    "graph <- delete_vertices(graph, v = isolated_nodes)\n",
    "\n",
    "# define the connectivity of all the genes\n",
    "vertex_degrees <- igraph::degree(graph)\n",
    "# define node size based on degree\n",
    "scaling_factor = 0.25 # adjust as needed for visibility\n",
    "node_sizes <- scaling_factor * vertex_degrees\n",
    "communities <- cluster_walktrap(graph)# Get the community assignments for each node\n",
    "node_communities <- membership(communities)\n",
    "community_colors <- rainbow(length(communities))\n",
    "node_colors <- community_colors[node_communities]\n",
    "layout_algorithm <- layout.fruchterman.reingold\n",
    "node_positions <- layout_algorithm(graph)# Plot the graph with node positions reflecting communities\n",
    "\n",
    "#for the legend\n",
    "sizeCut = round(seq(1, max(vertex_degrees), length.out = 4),0)\n",
    "    \n",
    "#plot top3 hubs per community\n",
    "set.seed(42)\n",
    "plot(graph,\n",
    "     layout = layout.fruchterman.reingold,\n",
    "     vertex.label.dist = 0.8, # Adjust the distance of labels from nodes\n",
    "     vertex.label.cex = 0.5,\n",
    "     vertex.label.color = \"black\",  # Label color\n",
    "     vertex.color = node_colors, #color nodes by community\n",
    "     vertex.size = node_sizes,  # specify node size based on degree. size is proportional to degree\n",
    "     edge.width = 5,  # Edge width\n",
    "     edge.color = \"gray\"  # Edge color\n",
    "    )\n",
    "\n",
    "legend('bottomright', title = 'Degree', legend = unique(sizeCut), pt.cex = sizeCut/20, pt.bg = \"grey\",\n",
    "       bty = 'n', y.intersp = 1.05,\n",
    "       pch= 21)\n"
   ]
  },
  {
   "cell_type": "code",
   "execution_count": 4,
   "id": "9f6bd863",
   "metadata": {
    "scrolled": true
   },
   "outputs": [
    {
     "data": {
      "text/plain": [
       "R version 4.1.2 (2021-11-01)\n",
       "Platform: x86_64-conda-linux-gnu (64-bit)\n",
       "Running under: Ubuntu 20.04.5 LTS\n",
       "\n",
       "Matrix products: default\n",
       "BLAS/LAPACK: /data/bcn/p283607/anaconda3/envs/spacex/lib/libopenblasp-r0.3.21.so\n",
       "\n",
       "locale:\n",
       " [1] LC_CTYPE=en_US.UTF-8       LC_NUMERIC=C              \n",
       " [3] LC_TIME=en_US.UTF-8        LC_COLLATE=en_US.UTF-8    \n",
       " [5] LC_MONETARY=en_US.UTF-8    LC_MESSAGES=en_US.UTF-8   \n",
       " [7] LC_PAPER=en_US.UTF-8       LC_NAME=C                 \n",
       " [9] LC_ADDRESS=C               LC_TELEPHONE=C            \n",
       "[11] LC_MEASUREMENT=en_US.UTF-8 LC_IDENTIFICATION=C       \n",
       "\n",
       "attached base packages:\n",
       "[1] stats     graphics  grDevices utils     datasets  methods   base     \n",
       "\n",
       "other attached packages:\n",
       " [1] patchwork_1.2.0 igraph_1.5.1    corrr_0.4.4     lubridate_1.9.2\n",
       " [5] forcats_1.0.0   stringr_1.5.0   dplyr_1.1.3     purrr_1.0.2    \n",
       " [9] readr_2.1.4     tidyr_1.3.0     tibble_3.2.1    ggplot2_3.4.4  \n",
       "[13] tidyverse_2.0.0\n",
       "\n",
       "loaded via a namespace (and not attached):\n",
       " [1] pillar_1.9.0     compiler_4.1.2   base64enc_0.1-3  tools_4.1.2     \n",
       " [5] digest_0.6.33    uuid_1.1-0       timechange_0.2.0 jsonlite_1.8.7  \n",
       " [9] evaluate_0.23    lifecycle_1.0.4  gtable_0.3.4     pkgconfig_2.0.3 \n",
       "[13] rlang_1.1.2      IRdisplay_1.1    cli_3.6.1        IRkernel_1.3.2  \n",
       "[17] fastmap_1.1.1    repr_1.1.6       withr_3.0.0      hms_1.1.3       \n",
       "[21] generics_0.1.3   vctrs_0.6.4      grid_4.1.2       tidyselect_1.2.0\n",
       "[25] glue_1.6.2       R6_2.5.1         fansi_1.0.5      pbdZMQ_0.3-9    \n",
       "[29] tzdb_0.4.0       magrittr_2.0.3   scales_1.3.0     htmltools_0.5.7 \n",
       "[33] colorspace_2.1-0 utf8_1.2.4       stringi_1.7.12   munsell_0.5.0   \n",
       "[37] crayon_1.5.2    "
      ]
     },
     "metadata": {},
     "output_type": "display_data"
    }
   ],
   "source": [
    "sessionInfo()"
   ]
  }
 ],
 "metadata": {
  "kernelspec": {
   "display_name": "R 4.1.2 SpaceX",
   "language": "R",
   "name": "ir412_spacex"
  },
  "language_info": {
   "codemirror_mode": "r",
   "file_extension": ".r",
   "mimetype": "text/x-r-source",
   "name": "R",
   "pygments_lexer": "r",
   "version": "4.1.2"
  }
 },
 "nbformat": 4,
 "nbformat_minor": 5
}
