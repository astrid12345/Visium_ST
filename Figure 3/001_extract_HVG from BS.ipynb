{
 "cells": [
  {
   "cell_type": "code",
   "execution_count": null,
   "id": "dfda22d4",
   "metadata": {},
   "outputs": [],
   "source": [
    "########################################################################\n",
    "# Author    : A. Alsema, J. Kotah\n",
    "# Date      : October 2023\n",
    "# Dataset   : Visium Spatial Transcriptomics for MS lesions, 14 WM samples\n",
    "# Purpose   : generate spatially variable genes to be used as inputs in SpaceX analysis\n",
    "# Output    : a list of top500 spatially variable genes per sample\n",
    "# Input     : SpaceRanger output data files per sample\n",
    "########################################################################"
   ]
  },
  {
   "cell_type": "code",
   "execution_count": 1,
   "id": "a7efacfa",
   "metadata": {
    "jupyter": {
     "outputs_hidden": true
    },
    "scrolled": true,
    "tags": []
   },
   "outputs": [
    {
     "name": "stderr",
     "output_type": "stream",
     "text": [
      "Loading required package: SingleCellExperiment\n",
      "\n",
      "Loading required package: SummarizedExperiment\n",
      "\n",
      "Loading required package: MatrixGenerics\n",
      "\n",
      "Loading required package: matrixStats\n",
      "\n",
      "\n",
      "Attaching package: ‘MatrixGenerics’\n",
      "\n",
      "\n",
      "The following objects are masked from ‘package:matrixStats’:\n",
      "\n",
      "    colAlls, colAnyNAs, colAnys, colAvgsPerRowSet, colCollapse,\n",
      "    colCounts, colCummaxs, colCummins, colCumprods, colCumsums,\n",
      "    colDiffs, colIQRDiffs, colIQRs, colLogSumExps, colMadDiffs,\n",
      "    colMads, colMaxs, colMeans2, colMedians, colMins, colOrderStats,\n",
      "    colProds, colQuantiles, colRanges, colRanks, colSdDiffs, colSds,\n",
      "    colSums2, colTabulates, colVarDiffs, colVars, colWeightedMads,\n",
      "    colWeightedMeans, colWeightedMedians, colWeightedSds,\n",
      "    colWeightedVars, rowAlls, rowAnyNAs, rowAnys, rowAvgsPerColSet,\n",
      "    rowCollapse, rowCounts, rowCummaxs, rowCummins, rowCumprods,\n",
      "    rowCumsums, rowDiffs, rowIQRDiffs, rowIQRs, rowLogSumExps,\n",
      "    rowMadDiffs, rowMads, rowMaxs, rowMeans2, rowMedians, rowMins,\n",
      "    rowOrderStats, rowProds, rowQuantiles, rowRanges, rowRanks,\n",
      "    rowSdDiffs, rowSds, rowSums2, rowTabulates, rowVarDiffs, rowVars,\n",
      "    rowWeightedMads, rowWeightedMeans, rowWeightedMedians,\n",
      "    rowWeightedSds, rowWeightedVars\n",
      "\n",
      "\n",
      "Loading required package: GenomicRanges\n",
      "\n",
      "Loading required package: stats4\n",
      "\n",
      "Loading required package: BiocGenerics\n",
      "\n",
      "\n",
      "Attaching package: ‘BiocGenerics’\n",
      "\n",
      "\n",
      "The following objects are masked from ‘package:stats’:\n",
      "\n",
      "    IQR, mad, sd, var, xtabs\n",
      "\n",
      "\n",
      "The following objects are masked from ‘package:base’:\n",
      "\n",
      "    anyDuplicated, append, as.data.frame, basename, cbind, colnames,\n",
      "    dirname, do.call, duplicated, eval, evalq, Filter, Find, get, grep,\n",
      "    grepl, intersect, is.unsorted, lapply, Map, mapply, match, mget,\n",
      "    order, paste, pmax, pmax.int, pmin, pmin.int, Position, rank,\n",
      "    rbind, Reduce, rownames, sapply, setdiff, sort, table, tapply,\n",
      "    union, unique, unsplit, which.max, which.min\n",
      "\n",
      "\n",
      "Loading required package: S4Vectors\n",
      "\n",
      "\n",
      "Attaching package: ‘S4Vectors’\n",
      "\n",
      "\n",
      "The following objects are masked from ‘package:base’:\n",
      "\n",
      "    expand.grid, I, unname\n",
      "\n",
      "\n",
      "Loading required package: IRanges\n",
      "\n",
      "Loading required package: GenomeInfoDb\n",
      "\n",
      "Loading required package: Biobase\n",
      "\n",
      "Welcome to Bioconductor\n",
      "\n",
      "    Vignettes contain introductory material; view with\n",
      "    'browseVignettes()'. To cite Bioconductor, see\n",
      "    'citation(\"Biobase\")', and for packages 'citation(\"pkgname\")'.\n",
      "\n",
      "\n",
      "\n",
      "Attaching package: ‘Biobase’\n",
      "\n",
      "\n",
      "The following object is masked from ‘package:MatrixGenerics’:\n",
      "\n",
      "    rowMedians\n",
      "\n",
      "\n",
      "The following objects are masked from ‘package:matrixStats’:\n",
      "\n",
      "    anyMissing, rowMedians\n",
      "\n",
      "\n",
      "Loading required package: scuttle\n",
      "\n"
     ]
    }
   ],
   "source": [
    "#2023-10-3 done for sample ST37\n",
    "rm(list =ls())\n",
    "library(BayesSpace)\n",
    "library(scran)"
   ]
  },
  {
   "cell_type": "code",
   "execution_count": 2,
   "id": "0609a23d",
   "metadata": {},
   "outputs": [],
   "source": [
    "indir = \"YOUR INPUT DIRECTORY HERE\"\n",
    "outdir = \"YOUR OUTPUT DIRECTORY HERE\" "
   ]
  },
  {
   "cell_type": "code",
   "execution_count": 3,
   "id": "2443673a",
   "metadata": {
    "tags": []
   },
   "outputs": [
    {
     "name": "stdout",
     "output_type": "stream",
     "text": [
      "[1] \"dimensions of your sample\"\n",
      "[1] 33538  4208\n",
      "[1] 33538  4208\n"
     ]
    }
   ],
   "source": [
    "sampleID = \"ST67\" #change as needed\n",
    "\n",
    "sce <- readVisium(paste0(indir, sampleID, \"-out/outs\"))\n",
    "print(\"dimensions of your sample\")\n",
    "print(dim(sce))\n",
    "\n",
    "sce <- sce[, colSums(counts(sce)) > 0] # remove spots with zero counts \n",
    "print(dim(sce))\n",
    "sce <- logNormCounts(sce)"
   ]
  },
  {
   "cell_type": "code",
   "execution_count": 4,
   "id": "757ba767",
   "metadata": {},
   "outputs": [],
   "source": [
    "# extract highly variable genes in the BayesSpace method as inputs for SpaceX\n",
    "top500 = scran::getTopHVGs(sce, n = 500)\n",
    "\n",
    "write.csv(top500, paste0(outdir, sampleID, \"HVG_top500_fromBS.csv\"))"
   ]
  },
  {
   "cell_type": "code",
   "execution_count": 5,
   "id": "5719306f",
   "metadata": {},
   "outputs": [
    {
     "data": {
      "text/html": [
       "<style>\n",
       ".list-inline {list-style: none; margin:0; padding: 0}\n",
       ".list-inline>li {display: inline-block}\n",
       ".list-inline>li:not(:last-child)::after {content: \"\\00b7\"; padding: 0 .5ex}\n",
       "</style>\n",
       "<ol class=list-inline><li>'AL078639.1'</li><li>'MBP'</li><li>'PLP1'</li><li>'SPP1'</li><li>'IGKC'</li><li>'ARHGAP5'</li></ol>\n"
      ],
      "text/latex": [
       "\\begin{enumerate*}\n",
       "\\item 'AL078639.1'\n",
       "\\item 'MBP'\n",
       "\\item 'PLP1'\n",
       "\\item 'SPP1'\n",
       "\\item 'IGKC'\n",
       "\\item 'ARHGAP5'\n",
       "\\end{enumerate*}\n"
      ],
      "text/markdown": [
       "1. 'AL078639.1'\n",
       "2. 'MBP'\n",
       "3. 'PLP1'\n",
       "4. 'SPP1'\n",
       "5. 'IGKC'\n",
       "6. 'ARHGAP5'\n",
       "\n",
       "\n"
      ],
      "text/plain": [
       "[1] \"AL078639.1\" \"MBP\"        \"PLP1\"       \"SPP1\"       \"IGKC\"      \n",
       "[6] \"ARHGAP5\"   "
      ]
     },
     "metadata": {},
     "output_type": "display_data"
    }
   ],
   "source": [
    "head(top500)"
   ]
  },
  {
   "cell_type": "code",
   "execution_count": 2,
   "id": "f1d6b5f0",
   "metadata": {
    "scrolled": true
   },
   "outputs": [
    {
     "data": {
      "text/plain": [
       "R version 4.1.2 (2021-11-01)\n",
       "Platform: x86_64-conda-linux-gnu (64-bit)\n",
       "Running under: Ubuntu 20.04.5 LTS\n",
       "\n",
       "Matrix products: default\n",
       "BLAS/LAPACK: /data/bcn/p283607/anaconda3/envs/spacex/lib/libopenblasp-r0.3.21.so\n",
       "\n",
       "locale:\n",
       " [1] LC_CTYPE=en_US.UTF-8       LC_NUMERIC=C              \n",
       " [3] LC_TIME=en_US.UTF-8        LC_COLLATE=en_US.UTF-8    \n",
       " [5] LC_MONETARY=en_US.UTF-8    LC_MESSAGES=en_US.UTF-8   \n",
       " [7] LC_PAPER=en_US.UTF-8       LC_NAME=C                 \n",
       " [9] LC_ADDRESS=C               LC_TELEPHONE=C            \n",
       "[11] LC_MEASUREMENT=en_US.UTF-8 LC_IDENTIFICATION=C       \n",
       "\n",
       "attached base packages:\n",
       "[1] stats4    stats     graphics  grDevices utils     datasets  methods  \n",
       "[8] base     \n",
       "\n",
       "other attached packages:\n",
       " [1] scran_1.22.1                scuttle_1.4.0              \n",
       " [3] BayesSpace_1.4.1            SingleCellExperiment_1.16.0\n",
       " [5] SummarizedExperiment_1.24.0 Biobase_2.54.0             \n",
       " [7] GenomicRanges_1.46.1        GenomeInfoDb_1.30.1        \n",
       " [9] IRanges_2.28.0              S4Vectors_0.32.4           \n",
       "[11] BiocGenerics_0.40.0         MatrixGenerics_1.6.0       \n",
       "[13] matrixStats_1.1.0          \n",
       "\n",
       "loaded via a namespace (and not attached):\n",
       " [1] bitops_1.0-7              bit64_4.0.5              \n",
       " [3] filelock_1.0.2            httr_1.4.7               \n",
       " [5] repr_1.1.6                tools_4.1.2              \n",
       " [7] utf8_1.2.4                R6_2.5.1                 \n",
       " [9] irlba_2.3.5.1             vipor_0.4.5              \n",
       "[11] DirichletReg_0.7-1        DBI_1.1.3                \n",
       "[13] colorspace_2.1-0          rhdf5filters_1.6.0       \n",
       "[15] tidyselect_1.2.0          gridExtra_2.3            \n",
       "[17] bit_4.0.5                 curl_4.3.3               \n",
       "[19] compiler_4.1.2            cli_3.6.1                \n",
       "[21] BiocNeighbors_1.12.0      DelayedArray_0.20.0      \n",
       "[23] sandwich_3.0-2            scales_1.3.0             \n",
       "[25] rappdirs_0.3.3            pbdZMQ_0.3-9             \n",
       "[27] digest_0.6.33             XVector_0.34.0           \n",
       "[29] base64enc_0.1-3           scater_1.22.0            \n",
       "[31] pkgconfig_2.0.3           htmltools_0.5.7          \n",
       "[33] sparseMatrixStats_1.6.0   limma_3.50.3             \n",
       "[35] dbplyr_2.3.2              fastmap_1.1.1            \n",
       "[37] rlang_1.1.2               RSQLite_2.3.1            \n",
       "[39] DelayedMatrixStats_1.16.0 generics_0.1.3           \n",
       "[41] zoo_1.8-12                jsonlite_1.8.7           \n",
       "[43] mclust_6.0.0              BiocParallel_1.28.3      \n",
       "[45] dplyr_1.1.3               RCurl_1.98-1.13          \n",
       "[47] magrittr_2.0.3            BiocSingular_1.10.0      \n",
       "[49] GenomeInfoDbData_1.2.7    Formula_1.2-5            \n",
       "[51] Matrix_1.6-2              Rcpp_1.0.11              \n",
       "[53] ggbeeswarm_0.7.2          IRkernel_1.3.2           \n",
       "[55] munsell_0.5.0             Rhdf5lib_1.16.0          \n",
       "[57] fansi_1.0.5               viridis_0.6.3            \n",
       "[59] lifecycle_1.0.4           edgeR_3.36.0             \n",
       "[61] zlibbioc_1.40.0           rhdf5_2.38.1             \n",
       "[63] BiocFileCache_2.2.1       grid_4.1.2               \n",
       "[65] blob_1.2.4                dqrng_0.3.1              \n",
       "[67] parallel_4.1.2            ggrepel_0.9.4            \n",
       "[69] crayon_1.5.2              lattice_0.20-45          \n",
       "[71] IRdisplay_1.1             beachmat_2.10.0          \n",
       "[73] locfit_1.5-9.8            metapod_1.2.0            \n",
       "[75] pillar_1.9.0              igraph_1.5.1             \n",
       "[77] uuid_1.1-0                xgboost_1.7.5.1          \n",
       "[79] ScaledMatrix_1.2.0        glue_1.6.2               \n",
       "[81] evaluate_0.23             data.table_1.14.8        \n",
       "[83] vctrs_0.6.4               miscTools_0.6-28         \n",
       "[85] gtable_0.3.4              purrr_1.0.2              \n",
       "[87] assertthat_0.2.1          cachem_1.0.8             \n",
       "[89] ggplot2_3.4.4             rsvd_1.0.5               \n",
       "[91] coda_0.19-4               viridisLite_0.4.2        \n",
       "[93] tibble_3.2.1              beeswarm_0.4.0           \n",
       "[95] memoise_2.0.1             cluster_2.1.4            \n",
       "[97] maxLik_1.5-2              statmod_1.5.0            \n",
       "[99] bluster_1.4.0            "
      ]
     },
     "metadata": {},
     "output_type": "display_data"
    }
   ],
   "source": [
    "sessionInfo()"
   ]
  }
 ],
 "metadata": {
  "kernelspec": {
   "display_name": "R 4.1.2 SpaceX",
   "language": "R",
   "name": "ir412_spacex"
  },
  "language_info": {
   "codemirror_mode": "r",
   "file_extension": ".r",
   "mimetype": "text/x-r-source",
   "name": "R",
   "pygments_lexer": "r",
   "version": "4.1.2"
  }
 },
 "nbformat": 4,
 "nbformat_minor": 5
}
