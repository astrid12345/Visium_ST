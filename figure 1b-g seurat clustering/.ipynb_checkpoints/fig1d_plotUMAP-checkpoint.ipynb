{
 "cells": [
  {
   "cell_type": "code",
   "execution_count": null,
   "metadata": {},
   "outputs": [],
   "source": [
    "########################################################################\n",
    "# Author    : A. Alsema\n",
    "# Date      : May-July 2021\n",
    "# Dataset   : Visium Spatial Transcriptomics for MS lesions\n",
    "# Purpose   : plot a UMAP with the clusters\n",
    "# Required input: \"3.WM.clustered.res0.2.rds\"\n",
    "# Output    : figure 1d, UMAP with the clusters in custom colors.\n",
    "#########################################################################"
   ]
  },
  {
   "cell_type": "code",
   "execution_count": 2,
   "metadata": {},
   "outputs": [],
   "source": [
    "rm(list = ls())\n",
    "\n",
    "library(Seurat)\n",
    "library(hdf5r)\n",
    "library(ggplot2)\n",
    "library(patchwork)\n",
    "library(future)\n",
    "library(dplyr)\n",
    "library(RColorBrewer)\n",
    "options(future.globals.maxSize = 3000 * 1024^2)"
   ]
  },
  {
   "cell_type": "code",
   "execution_count": 2,
   "metadata": {},
   "outputs": [
    {
     "data": {
      "text/html": [
       "<style>\n",
       ".list-inline {list-style: none; margin:0; padding: 0}\n",
       ".list-inline>li {display: inline-block}\n",
       ".list-inline>li:not(:last-child)::after {content: \"\\00b7\"; padding: 0 .5ex}\n",
       "</style>\n",
       "<ol class=list-inline><li>'CWM'</li><li>'NAWM'</li><li>'active'</li><li>'mixed-active-inactive'</li><li>'remyelinated'</li><li>'inactive'</li></ol>\n"
      ],
      "text/latex": [
       "\\begin{enumerate*}\n",
       "\\item 'CWM'\n",
       "\\item 'NAWM'\n",
       "\\item 'active'\n",
       "\\item 'mixed-active-inactive'\n",
       "\\item 'remyelinated'\n",
       "\\item 'inactive'\n",
       "\\end{enumerate*}\n"
      ],
      "text/markdown": [
       "1. 'CWM'\n",
       "2. 'NAWM'\n",
       "3. 'active'\n",
       "4. 'mixed-active-inactive'\n",
       "5. 'remyelinated'\n",
       "6. 'inactive'\n",
       "\n",
       "\n"
      ],
      "text/plain": [
       "[1] \"CWM\"                   \"NAWM\"                  \"active\"               \n",
       "[4] \"mixed-active-inactive\" \"remyelinated\"          \"inactive\"             "
      ]
     },
     "metadata": {},
     "output_type": "display_data"
    }
   ],
   "source": [
    "# load data\n",
    "res = 0.2\n",
    "datasets <- readRDS(file = paste0(\"./RData/seurat/3.WM.clustered.res\", res, \".rds\"))\n",
    "levels(datasets$Group)"
   ]
  },
  {
   "cell_type": "code",
   "execution_count": 11,
   "metadata": {},
   "outputs": [],
   "source": [
    "\n",
    "ggplot.theme <- theme(aspect.ratio = 1,\n",
    "                    text = element_text(hjust = 0.5, face = \"plain\", size = (9)),\n",
    "                    plot.title = element_text(hjust = 0.5, face = \"plain\", size = (10)),\n",
    "                    axis.title.x = element_text(face = \"plain\", size = (12)),\n",
    "                    axis.title.y = element_text(face = \"plain\", size = (12)),\n",
    "                    axis.text = element_text(face = \"plain\", size = (12), colour = \"black\"),\n",
    "#                     axis.text.x = element_text(angle = 90, vjust=0.5, hjust=1),\n",
    "                    plot.subtitle = element_text(hjust = 0.5),\n",
    "                    panel.background = element_blank(),\n",
    "                    panel.border = element_blank(),\n",
    "                    panel.grid.major = element_blank(), panel.grid.minor = element_blank(),\n",
    "                    panel.grid = element_blank(),\n",
    "                    axis.line = element_line(color = \"black\"),\n",
    "                    plot.background = element_rect(fill=\"transparent\", color=NA),\n",
    "                    legend.key = element_rect(fill=\"transparent\", color=\"transparent\"),\n",
    "                    legend.box.background = element_rect(fill=\"transparent\", color=\"transparent\"),\n",
    "                    legend.background = element_rect(fill=\"transparent\", color=\"transparent\"),\n",
    "                    legend.text=element_text(size=10), \n",
    "                    legend.title = element_text(size=10))"
   ]
  },
  {
   "cell_type": "code",
   "execution_count": 3,
   "metadata": {},
   "outputs": [
    {
     "data": {
      "text/html": [
       "<style>\n",
       ".list-inline {list-style: none; margin:0; padding: 0}\n",
       ".list-inline>li {display: inline-block}\n",
       ".list-inline>li:not(:last-child)::after {content: \"\\00b7\"; padding: 0 .5ex}\n",
       "</style>\n",
       "<ol class=list-inline><li>'0'</li><li>'1'</li><li>'2'</li><li>'3'</li></ol>\n"
      ],
      "text/latex": [
       "\\begin{enumerate*}\n",
       "\\item '0'\n",
       "\\item '1'\n",
       "\\item '2'\n",
       "\\item '3'\n",
       "\\end{enumerate*}\n"
      ],
      "text/markdown": [
       "1. '0'\n",
       "2. '1'\n",
       "3. '2'\n",
       "4. '3'\n",
       "\n",
       "\n"
      ],
      "text/plain": [
       "[1] \"0\" \"1\" \"2\" \"3\""
      ]
     },
     "metadata": {},
     "output_type": "display_data"
    }
   ],
   "source": [
    "levels(datasets@active.ident)\n"
   ]
  },
  {
   "cell_type": "code",
   "execution_count": null,
   "metadata": {},
   "outputs": [],
   "source": [
    "ucols <- c(\"#006666\", \"#C8D523\",  \"#EC4861\",\"#FF9933\", \"#B11A20\", \"#3838c9\")\n",
    "\n",
    "names(ucols) <- levels(datasets@active.ident)\n",
    "DimPlot(datasets, label = F, pt.size = 0.6, cols = ucols) + theme_void()"
   ]
  },
  {
   "cell_type": "code",
   "execution_count": 6,
   "metadata": {},
   "outputs": [
    {
     "data": {
      "text/html": [
       "<strong>png:</strong> 2"
      ],
      "text/latex": [
       "\\textbf{png:} 2"
      ],
      "text/markdown": [
       "**png:** 2"
      ],
      "text/plain": [
       "png \n",
       "  2 "
      ]
     },
     "metadata": {},
     "output_type": "display_data"
    }
   ],
   "source": [
    "png(\"./Routput/Seurat/Figures/UMAP-fig1.png\")\n",
    "DimPlot(datasets, label = F, pt.size = 0.6, cols = ucols) + theme_void()\n",
    "dev.off()"
   ]
  },
  {
   "cell_type": "code",
   "execution_count": 7,
   "metadata": {},
   "outputs": [
    {
     "data": {
      "text/html": [
       "<strong>png:</strong> 2"
      ],
      "text/latex": [
       "\\textbf{png:} 2"
      ],
      "text/markdown": [
       "**png:** 2"
      ],
      "text/plain": [
       "png \n",
       "  2 "
      ]
     },
     "metadata": {},
     "output_type": "display_data"
    }
   ],
   "source": [
    "tiff(\"./Routput/Seurat/Figures/UMAP-fig1.tiff\")\n",
    "DimPlot(datasets, label = F, pt.size = 0.6, cols = ucols) + theme_void()\n",
    "dev.off()"
   ]
  },
  {
   "cell_type": "code",
   "execution_count": 13,
   "metadata": {},
   "outputs": [
    {
     "data": {
      "text/html": [
       "<strong>png:</strong> 2"
      ],
      "text/latex": [
       "\\textbf{png:} 2"
      ],
      "text/markdown": [
       "**png:** 2"
      ],
      "text/plain": [
       "png \n",
       "  2 "
      ]
     },
     "metadata": {},
     "output_type": "display_data"
    }
   ],
   "source": [
    "\n",
    "datasets$temp.var <- \"fill\"\n",
    "png(\"./Routput/Seurat/Figures/UMAP-empty-for-presentations.png\")\n",
    "DimPlot(datasets, label = F, group.by  = \"temp.var\", cols = \"grey\") + ggplot.theme + theme_void() \n",
    "dev.off()"
   ]
  },
  {
   "cell_type": "code",
   "execution_count": null,
   "metadata": {},
   "outputs": [],
   "source": [
    "sessionInfo()"
   ]
  }
 ],
 "metadata": {
  "kernelspec": {
   "display_name": "R4.2",
   "language": "R",
   "name": "ir"
  },
  "language_info": {
   "codemirror_mode": "r",
   "file_extension": ".r",
   "mimetype": "text/x-r-source",
   "name": "R",
   "pygments_lexer": "r",
   "version": "4.2.0"
  }
 },
 "nbformat": 4,
 "nbformat_minor": 4
}
