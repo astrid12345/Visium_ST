{
 "cells": [
  {
   "cell_type": "code",
   "execution_count": null,
   "metadata": {},
   "outputs": [],
   "source": [
    "########################################################################\n",
    "# Author    : A. Alsema\n",
    "# Date      : May-July 2021\n",
    "# Dataset   : Visium Spatial Transcriptomics for MS lesions\n",
    "# Purpose   : boxplots with the cluster distribution per lesion type\n",
    "# Required input: \n",
    "#  - \"3.WM.clustered.res0.2.rds\"\n",
    "#  - \"WM_Targetfile.csv\"\n",
    "# Output    : figure 1e, custom boxplots. PDF.\n",
    "#########################################################################"
   ]
  },
  {
   "cell_type": "code",
   "execution_count": 1,
   "metadata": {
    "tags": []
   },
   "outputs": [],
   "source": [
    "rm(list = ls())\n",
    "\n",
    "library(Seurat)\n",
    "library(hdf5r)\n",
    "library(ggplot2)\n",
    "library(patchwork)\n",
    "library(future)\n",
    "library(dplyr)\n",
    "library(RColorBrewer)\n"
   ]
  },
  {
   "cell_type": "code",
   "execution_count": 1,
   "metadata": {
    "tags": []
   },
   "outputs": [
    {
     "name": "stderr",
     "output_type": "stream",
     "text": [
      "Attaching SeuratObject\n",
      "\n",
      "\n",
      "Attaching package: ‘dplyr’\n",
      "\n",
      "\n",
      "The following objects are masked from ‘package:stats’:\n",
      "\n",
      "    filter, lag\n",
      "\n",
      "\n",
      "The following objects are masked from ‘package:base’:\n",
      "\n",
      "    intersect, setdiff, setequal, union\n",
      "\n",
      "\n",
      "Warning message:\n",
      "“package ‘RColorBrewer’ was built under R version 4.2.1”\n"
     ]
    },
    {
     "data": {
      "text/html": [
       "<style>\n",
       ".list-inline {list-style: none; margin:0; padding: 0}\n",
       ".list-inline>li {display: inline-block}\n",
       ".list-inline>li:not(:last-child)::after {content: \"\\00b7\"; padding: 0 .5ex}\n",
       "</style>\n",
       "<ol class=list-inline><li>'CWM'</li><li>'NAWM'</li><li>'active'</li><li>'act/inact'</li></ol>\n"
      ],
      "text/latex": [
       "\\begin{enumerate*}\n",
       "\\item 'CWM'\n",
       "\\item 'NAWM'\n",
       "\\item 'active'\n",
       "\\item 'act/inact'\n",
       "\\end{enumerate*}\n"
      ],
      "text/markdown": [
       "1. 'CWM'\n",
       "2. 'NAWM'\n",
       "3. 'active'\n",
       "4. 'act/inact'\n",
       "\n",
       "\n"
      ],
      "text/plain": [
       "[1] \"CWM\"       \"NAWM\"      \"active\"    \"act/inact\""
      ]
     },
     "metadata": {},
     "output_type": "display_data"
    }
   ],
   "source": [
    "res = 0.2\n",
    "datasets <- readRDS(file = paste0(\"./RData/seurat/3.WM.clustered.res\", res, \".rds\"))\n",
    "levels(datasets$Group)"
   ]
  },
  {
   "cell_type": "code",
   "execution_count": 138,
   "metadata": {
    "collapsed": true,
    "jupyter": {
     "outputs_hidden": true
    },
    "tags": []
   },
   "outputs": [
    {
     "data": {
      "text/html": [
       "<table class=\"dataframe\">\n",
       "<caption>A data.frame: 6 × 2</caption>\n",
       "<thead>\n",
       "\t<tr><th></th><th scope=col>sample_ID</th><th scope=col>Group</th></tr>\n",
       "\t<tr><th></th><th scope=col>&lt;chr&gt;</th><th scope=col>&lt;chr&gt;</th></tr>\n",
       "</thead>\n",
       "<tbody>\n",
       "\t<tr><th scope=row>1</th><td>ST31</td><td>CWM      </td></tr>\n",
       "\t<tr><th scope=row>2</th><td>ST32</td><td>CWM      </td></tr>\n",
       "\t<tr><th scope=row>3</th><td>ST33</td><td>activeWML</td></tr>\n",
       "\t<tr><th scope=row>4</th><td>ST34</td><td>NAWM     </td></tr>\n",
       "\t<tr><th scope=row>5</th><td>ST37</td><td>NAWM     </td></tr>\n",
       "\t<tr><th scope=row>6</th><td>ST38</td><td>NAWM     </td></tr>\n",
       "</tbody>\n",
       "</table>\n"
      ],
      "text/latex": [
       "A data.frame: 6 × 2\n",
       "\\begin{tabular}{r|ll}\n",
       "  & sample\\_ID & Group\\\\\n",
       "  & <chr> & <chr>\\\\\n",
       "\\hline\n",
       "\t1 & ST31 & CWM      \\\\\n",
       "\t2 & ST32 & CWM      \\\\\n",
       "\t3 & ST33 & activeWML\\\\\n",
       "\t4 & ST34 & NAWM     \\\\\n",
       "\t5 & ST37 & NAWM     \\\\\n",
       "\t6 & ST38 & NAWM     \\\\\n",
       "\\end{tabular}\n"
      ],
      "text/markdown": [
       "\n",
       "A data.frame: 6 × 2\n",
       "\n",
       "| <!--/--> | sample_ID &lt;chr&gt; | Group &lt;chr&gt; |\n",
       "|---|---|---|\n",
       "| 1 | ST31 | CWM       |\n",
       "| 2 | ST32 | CWM       |\n",
       "| 3 | ST33 | activeWML |\n",
       "| 4 | ST34 | NAWM      |\n",
       "| 5 | ST37 | NAWM      |\n",
       "| 6 | ST38 | NAWM      |\n",
       "\n"
      ],
      "text/plain": [
       "  sample_ID Group    \n",
       "1 ST31      CWM      \n",
       "2 ST32      CWM      \n",
       "3 ST33      activeWML\n",
       "4 ST34      NAWM     \n",
       "5 ST37      NAWM     \n",
       "6 ST38      NAWM     "
      ]
     },
     "metadata": {},
     "output_type": "display_data"
    },
    {
     "data": {
      "text/html": [
       "<table class=\"dataframe\">\n",
       "<caption>A data.frame: 6 × 3</caption>\n",
       "<thead>\n",
       "\t<tr><th></th><th scope=col>cluster</th><th scope=col>variable</th><th scope=col>percentage</th></tr>\n",
       "\t<tr><th></th><th scope=col>&lt;fct&gt;</th><th scope=col>&lt;fct&gt;</th><th scope=col>&lt;dbl&gt;</th></tr>\n",
       "</thead>\n",
       "<tbody>\n",
       "\t<tr><th scope=row>1</th><td>0</td><td>ST31</td><td>66.904830</td></tr>\n",
       "\t<tr><th scope=row>2</th><td>1</td><td>ST31</td><td>12.060589</td></tr>\n",
       "\t<tr><th scope=row>3</th><td>2</td><td>ST31</td><td> 9.374107</td></tr>\n",
       "\t<tr><th scope=row>4</th><td>3</td><td>ST31</td><td> 4.401258</td></tr>\n",
       "\t<tr><th scope=row>5</th><td>4</td><td>ST31</td><td> 5.230066</td></tr>\n",
       "\t<tr><th scope=row>6</th><td>5</td><td>ST31</td><td> 2.029151</td></tr>\n",
       "</tbody>\n",
       "</table>\n"
      ],
      "text/latex": [
       "A data.frame: 6 × 3\n",
       "\\begin{tabular}{r|lll}\n",
       "  & cluster & variable & percentage\\\\\n",
       "  & <fct> & <fct> & <dbl>\\\\\n",
       "\\hline\n",
       "\t1 & 0 & ST31 & 66.904830\\\\\n",
       "\t2 & 1 & ST31 & 12.060589\\\\\n",
       "\t3 & 2 & ST31 &  9.374107\\\\\n",
       "\t4 & 3 & ST31 &  4.401258\\\\\n",
       "\t5 & 4 & ST31 &  5.230066\\\\\n",
       "\t6 & 5 & ST31 &  2.029151\\\\\n",
       "\\end{tabular}\n"
      ],
      "text/markdown": [
       "\n",
       "A data.frame: 6 × 3\n",
       "\n",
       "| <!--/--> | cluster &lt;fct&gt; | variable &lt;fct&gt; | percentage &lt;dbl&gt; |\n",
       "|---|---|---|---|\n",
       "| 1 | 0 | ST31 | 66.904830 |\n",
       "| 2 | 1 | ST31 | 12.060589 |\n",
       "| 3 | 2 | ST31 |  9.374107 |\n",
       "| 4 | 3 | ST31 |  4.401258 |\n",
       "| 5 | 4 | ST31 |  5.230066 |\n",
       "| 6 | 5 | ST31 |  2.029151 |\n",
       "\n"
      ],
      "text/plain": [
       "  cluster variable percentage\n",
       "1 0       ST31     66.904830 \n",
       "2 1       ST31     12.060589 \n",
       "3 2       ST31      9.374107 \n",
       "4 3       ST31      4.401258 \n",
       "5 4       ST31      5.230066 \n",
       "6 5       ST31      2.029151 "
      ]
     },
     "metadata": {},
     "output_type": "display_data"
    },
    {
     "data": {
      "text/html": [
       "<style>\n",
       ".list-inline {list-style: none; margin:0; padding: 0}\n",
       ".list-inline>li {display: inline-block}\n",
       ".list-inline>li:not(:last-child)::after {content: \"\\00b7\"; padding: 0 .5ex}\n",
       "</style>\n",
       "<ol class=list-inline><li>1</li><li>7</li><li>31</li><li>13</li><li>19</li><li>25</li><li>55</li><li>61</li><li>37</li><li>43</li><li>67</li><li>73</li><li>79</li><li>85</li><li>49</li></ol>\n"
      ],
      "text/latex": [
       "\\begin{enumerate*}\n",
       "\\item 1\n",
       "\\item 7\n",
       "\\item 31\n",
       "\\item 13\n",
       "\\item 19\n",
       "\\item 25\n",
       "\\item 55\n",
       "\\item 61\n",
       "\\item 37\n",
       "\\item 43\n",
       "\\item 67\n",
       "\\item 73\n",
       "\\item 79\n",
       "\\item 85\n",
       "\\item 49\n",
       "\\end{enumerate*}\n"
      ],
      "text/markdown": [
       "1. 1\n",
       "2. 7\n",
       "3. 31\n",
       "4. 13\n",
       "5. 19\n",
       "6. 25\n",
       "7. 55\n",
       "8. 61\n",
       "9. 37\n",
       "10. 43\n",
       "11. 67\n",
       "12. 73\n",
       "13. 79\n",
       "14. 85\n",
       "15. 49\n",
       "\n",
       "\n"
      ],
      "text/plain": [
       " [1]  1  7 31 13 19 25 55 61 37 43 67 73 79 85 49"
      ]
     },
     "metadata": {},
     "output_type": "display_data"
    }
   ],
   "source": [
    "# add donor group info\n",
    "rel_counts <- table(datasets$seurat_clusters, datasets$sample_ID)\n",
    "write.csv(rel_counts, file = \"Routput/Seurat/Clustering/WM_ST_cluster_counts.csv\")\n",
    "\n",
    "for (i in 1:ncol(rel_counts)){\n",
    " rel_counts[,i] <- (prop.table(rel_counts[,i]))*100\n",
    "}\n",
    "dg <- as.data.frame(rel_counts)\n",
    "colnames(dg) <- c(\"cluster\", \"variable\", \"percentage\")\n",
    "group_info <- read.csv('WM_Targetfile.csv')\n",
    "group_info <- group_info[, c(\"sample_ID\", \"Group\")]\n",
    "\n",
    "head(group_info)\n",
    "head(dg)\n",
    "match(group_info$sample_ID, dg$variable)a"
   ]
  },
  {
   "cell_type": "code",
   "execution_count": 90,
   "metadata": {
    "tags": []
   },
   "outputs": [],
   "source": [
    "identical(group_info$sample_ID[match(dg$variable, group_info$sample_ID)], as.character(dg$variable) )\n",
    "dg$group <- group_info$Group[match(dg$variable, group_info$sample_ID)]\n",
    "dg$group <- factor(dg$group, levels = unique(dg$group), labels = c('CWM', 'NAWM', 'active', 'act/inact'))"
   ]
  },
  {
   "cell_type": "code",
   "execution_count": 122,
   "metadata": {},
   "outputs": [
    {
     "data": {
      "text/html": [
       "<strong>png:</strong> 2"
      ],
      "text/latex": [
       "\\textbf{png:} 2"
      ],
      "text/markdown": [
       "**png:** 2"
      ],
      "text/plain": [
       "png \n",
       "  2 "
      ]
     },
     "metadata": {},
     "output_type": "display_data"
    }
   ],
   "source": [
    "# plotting proportions: is there a CWM/NAWM enriched cluster? Is there a lesion-enriched cluster?\n",
    "my_plot <- function(df, var, my_breaks, my_lims) {\n",
    "  ggplot(data = df, aes(x = group, y = percentage, fill = group)) +\n",
    "    facet_grid(~ {{var}}) +\n",
    "    geom_boxplot(alpha = 1) +\n",
    "    geom_point(shape = 21, size = 4) +\n",
    "    scale_fill_manual(values = group_cols) +\n",
    "    theme_classic() +\n",
    "    theme(text = element_text(hjust = 0.5, face = \"plain\", size = (16)),\n",
    "                    axis.text.x = element_blank(),\n",
    "                    axis.ticks.x = element_blank(), \n",
    "                    plot.title = element_text(hjust = 0.5, face = \"plain\", size = (16)),\n",
    "                    axis.title.y = element_text(face = \"plain\", size = (16)),\n",
    "                    axis.text = element_text(size = (16), colour = \"black\"),\n",
    "                    plot.subtitle = element_text(hjust = 0.5),\n",
    "                    panel.background = element_blank(),\n",
    "                    panel.border = element_blank(),\n",
    "                    panel.grid.major = element_blank(), \n",
    "                    panel.grid.minor = element_blank(),\n",
    "                    panel.grid = element_blank(),\n",
    "                    axis.line = element_line(color = \"black\")\n",
    "              ) +\n",
    "    ylab(\"spots (%)\") +\n",
    "    NoLegend() +\n",
    "    scale_y_continuous(breaks = {{my_breaks}}, limits = {{my_lims}})+\n",
    "    expand_limits(y = 0)\n",
    "}\n",
    "\n",
    "\n",
    "p0 <- dg %>% filter(cluster == \"0\") %>% my_plot(var = \"0\", my_breaks = c(0, 20, 40, 60), my_lims = c(0, 75))\n",
    "p1 <- dg %>% filter(cluster == \"1\") %>% my_plot(var = \"1\", my_breaks = c(0, 20, 40, 60), my_lims = c(0, 75))\n",
    "p2 <- dg %>% filter(cluster == \"2\") %>% my_plot(var = \"2\", my_breaks = c(0, 20, 40), my_lims = c(0, 40))\n",
    "p3 <- dg %>% filter(cluster == \"3\") %>% my_plot(var = \"3\", my_breaks = c(0, 5, 10, 15, 20), my_lims = c(0, 20))\n",
    "p4 <- dg %>% filter(cluster == \"4\") %>% my_plot(var = \"4\", my_breaks = c(0, 5, 10, 15, 20), my_lims = c(0, 20))\n",
    "p5 <- dg %>% filter(cluster == \"5\") %>% my_plot(var = \"5\", my_breaks = c(0, 1, 2, 3), my_lims = c(0, 3))\n",
    "\n",
    "pdf('Routput/Seurat/Clustering/boxplot_proportions.pdf')\n",
    "p0+p1+p2+p3+p4+p5+plot_layout(ncol = 3)\n",
    "dev.off()"
   ]
  },
  {
   "cell_type": "code",
   "execution_count": 17,
   "metadata": {},
   "outputs": [
    {
     "data": {
      "text/html": [
       "<strong>png:</strong> 2"
      ],
      "text/latex": [
       "\\textbf{png:} 2"
      ],
      "text/markdown": [
       "**png:** 2"
      ],
      "text/plain": [
       "png \n",
       "  2 "
      ]
     },
     "metadata": {},
     "output_type": "display_data"
    }
   ],
   "source": [
    "# for the legend \n",
    "\n",
    "my_plot <- function(df, var, my_breaks, my_lims) {\n",
    "  ggplot(data = df, aes(x = group, y = percentage, fill = group)) +\n",
    "    facet_grid(~ {{var}}) +\n",
    "    geom_boxplot(alpha = 1) +\n",
    "    geom_point(shape = 21, size = 4) +\n",
    "    scale_fill_manual(values = group_cols) +\n",
    "    theme_classic() +\n",
    "    theme(text = element_text(hjust = 0.5, face = \"plain\", size = (16)),\n",
    "                    axis.text.x = element_blank(),\n",
    "                    axis.ticks.x = element_blank(), \n",
    "                    plot.title = element_text(hjust = 0.5, face = \"plain\", size = (16)),\n",
    "                    axis.title.y = element_text(face = \"plain\", size = (16)),\n",
    "                    axis.text = element_text(size = (16), colour = \"black\"),\n",
    "                    plot.subtitle = element_text(hjust = 0.5),\n",
    "                    panel.background = element_blank(),\n",
    "                    panel.border = element_blank(),\n",
    "                    panel.grid.major = element_blank(), \n",
    "                    panel.grid.minor = element_blank(),\n",
    "                    panel.grid = element_blank(),\n",
    "                    axis.line = element_line(color = \"black\"),\n",
    "                    strip.text = element_text(size = 24, color = \"black\"),\n",
    "                    aspect.ratio = 1\n",
    "              ) +\n",
    "    ylab(\"\") +\n",
    "    xlab(\"\") +\n",
    "\n",
    "    scale_y_continuous(breaks = {{my_breaks}}, limits = {{my_lims}}) +\n",
    "    expand_limits(y = 0) \n",
    "}\n",
    "\n",
    "\n",
    "p1 <- dg %>% filter(cluster == \"0\") %>% my_plot(var = \"0\", \n",
    "                                                my_breaks = seq(0, 70, 10), my_lims = NULL)\n",
    "\n",
    "pdf(paste(\"Routput/Seurat/Figures/Boxplot_res\", res, \"_landscape_LEGEND.pdf\"), width = 12, height = 12)\n",
    "p1\n",
    "dev.off()"
   ]
  },
  {
   "cell_type": "code",
   "execution_count": null,
   "metadata": {},
   "outputs": [],
   "source": [
    "sessionInfo()"
   ]
  }
 ],
 "metadata": {
  "kernelspec": {
   "display_name": "R4.2",
   "language": "R",
   "name": "ir"
  },
  "language_info": {
   "codemirror_mode": "r",
   "file_extension": ".r",
   "mimetype": "text/x-r-source",
   "name": "R",
   "pygments_lexer": "r",
   "version": "4.2.0"
  }
 },
 "nbformat": 4,
 "nbformat_minor": 4
}
