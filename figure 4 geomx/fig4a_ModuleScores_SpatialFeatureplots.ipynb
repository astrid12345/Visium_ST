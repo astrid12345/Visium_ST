{
 "cells": [
  {
   "cell_type": "code",
   "execution_count": null,
   "metadata": {},
   "outputs": [],
   "source": [
    "########################################################################\n",
    "# Author    : A. Alsema\n",
    "# Date      : Augustus 2021 \n",
    "# Dataset   : Visium Spatial Transcriptomics for MS lesions, WM samples\n",
    "# Purpose   : Make spatial module score plot.\n",
    "\n",
    "# Required inputs:\n",
    "# - 6.WM_integrated_scaled_subgroup_exclGM.rds: seurat object with subgroup info, \n",
    "# - markers: csv file with gene lists of interest, e.g. \"GeneLists_for_Modulescores_final.csv\"\n",
    "# - outdir: directory for plots printed as pdf\n",
    "\n",
    "# Output    : Modulescore spatial feature plots, including those corresponding to figure 4a\n",
    "#########################################################################"
   ]
  },
  {
   "cell_type": "code",
   "execution_count": 6,
   "metadata": {
    "tags": []
   },
   "outputs": [],
   "source": [
    "rm(list = ls())\n",
    "library(Seurat)\n",
    "library(ggplot2)\n",
    "library(cowplot)\n",
    "\n",
    "outdir <- \"Routput/Seurat/ModuleScores/\""
   ]
  },
  {
   "cell_type": "code",
   "execution_count": 7,
   "metadata": {
    "tags": []
   },
   "outputs": [],
   "source": [
    "#' Add a Small Legend to a ggplot. \n",
    "#' From: https://stackoverflow.com/questions/52297978/decrease-overal-legend-size-elements-and-text\n",
    "#'\n",
    "#' This function modifies the legend of a ggplot object to make it smaller by adjusting the point size, text size, and space between legend items.\n",
    "#'\n",
    "#' @param myPlot A ggplot object to which the small legend will be added.\n",
    "#' @param pointSize Numeric, specifying the size of the points in the legend. Default is 0.5.\n",
    "#' @param textSize Numeric, specifying the size of the text in the legend. Default is 3.\n",
    "#' @param spaceLegend Numeric, specifying the space between legend items, measured in lines. Default is 0.4.\n",
    "#' \n",
    "#' @return A ggplot object with the modified, smaller legend.\n",
    "\n",
    "#' @examples\n",
    "#' library(ggplot2)\n",
    "#' plot_small_legend <- addSmallLegend(plot)\n",
    "#' print(plot_small_legend)\n",
    "#' \n",
    "#' @export\n",
    "addSmallLegend <- function(myPlot, pointSize = 0.5, textSize = 3, spaceLegend = 0.4) {\n",
    "    myPlot = myPlot +\n",
    "        guides(shape = guide_legend(override.aes = list(size = pointSize)),\n",
    "               color = guide_legend(override.aes = list(size = pointSize))) +\n",
    "        theme(legend.title = element_text(size = textSize), \n",
    "              legend.text  = element_text(size = textSize),\n",
    "              legend.key.size = unit(spaceLegend, \"lines\"))\n",
    "    return(myPlot)\n",
    "}"
   ]
  },
  {
   "cell_type": "markdown",
   "metadata": {},
   "source": [
    "## load data and compute module scores"
   ]
  },
  {
   "cell_type": "code",
   "execution_count": 11,
   "metadata": {
    "collapsed": true,
    "jupyter": {
     "outputs_hidden": true
    },
    "tags": []
   },
   "outputs": [],
   "source": [
    "datasets <- readRDS(\"RData/seurat/2-1.WM_integrated_scaled_subgroup.rds\")\n",
    "\n",
    "DefaultAssay(datasets) <- \"Spatial\"\n",
    "\n",
    "## option1: load gene lists from csv\n",
    "markers <- read.csv(file = 'genesets/GeneLists_for_Modulescores_final.csv', header = T, stringsAsFactors = F)\n",
    "\n",
    "## option2: manually define genes in markers\n",
    "# markers <- c(\"CFAP299\", \"SPAG17\", \"ADGB\", \"CFAP43\", \"DNAH11\", \"DNAH9\", \"ZBBX\")\n",
    "\n",
    "markers <- as.data.frame(markers)\n",
    "\n",
    "# calculate module scores and print plots\n",
    "\n",
    "# prepare meaningful ggplot title\n",
    "datasets$orig.ident = paste(datasets$sample_ID, datasets$Group, sep = \"_\")\n",
    "samples <- names(datasets@images)\n",
    "ST_ID <- unique(datasets$orig.ident)\n",
    "\n",
    "meta.vars <- ncol(datasets@meta.data)\n",
    "\n",
    "#calculate the module scores, can take 10min or so\n",
    "\n",
    "for (column in 1:ncol(markers)){\n",
    "    datasets <- AddModuleScore(datasets, features = list(na.omit(unique(markers[,column]))), name = colnames(markers)[column])\n",
    "    }\n",
    "\n",
    "# optional check, print head to see if the modules scores are calculated\n",
    "head(datasets@meta.data)[meta.vars+1] \n",
    "\n",
    "# plot module score per sample inside the image.\n",
    "datasets$orig.ident = paste(datasets$sample_ID, datasets$Group, sep = \"_\")\n",
    "samples <- names(datasets@images)\n",
    "ST_ID <- unique(datasets$orig.ident) # will be the title\n",
    "\n",
    "# start is the first column index in datasets@meta.data to plot\n",
    "start = meta.vars + 1\n",
    "plot_list = NULL\n",
    "\n",
    "# loop over all gene sets, generate one pdf file per geneset\n",
    "for (i in start:ncol(datasets@meta.data)){\n",
    "    print(paste('plotting module scores', colnames(datasets@meta.data)[i]))\n",
    "    \n",
    "    # make a spatial feature plot per sample\n",
    "    for (k in 1:length(samples)){ \n",
    "        sample <- as.character(samples[k])\n",
    "        print(sample)\n",
    "        plot <- SpatialFeaturePlot(datasets, images = sample, \n",
    "                                   image.alpha=0, # optional: deleting the HE image here\n",
    "                                   stroke = NA,\n",
    "                                   features = colnames(datasets@meta.data)[i],\n",
    "                                   pt.size.factor = 1.4, # do not increase, spatial spots will overlap\n",
    "                                   combine = TRUE)\n",
    "        # add some custom layout\n",
    "        plot <- addSmallLegend(plot)\n",
    "        plot <- plot + \n",
    "                   ggtitle(as.character(ST_ID[k])) +\n",
    "                   theme(plot.title = element_text(size = 9))\n",
    "                   scale_colour_gradientn(colours = c(\"lightgrey\", \"lemonchiffon1\", \"lemonchiffon2\",\"tan1\", \"firebrick2\", \"firebrick3\", \"magenta\"))\n",
    "        plot_list[[k]] <- plot\n",
    "        }\n",
    "   \n",
    "    #place all the samples in a grid on a page \n",
    "    pdf(paste0(outdir, colnames(datasets@meta.data)[i], '.pdf'), width = 9, height = 9)\n",
    "    print(plot_grid(plot_list[[1]], plot_list[[2]], plot_list[[4]], plot_list[[5]], plot_list[[6]], # CWM + NAWM\n",
    "          plot_list[[3]], plot_list[[15]], plot_list[[9]], plot_list[[10]], # active\n",
    "          plot_list[[7]], plot_list[[8]], plot_list[[11]], plot_list[[12]], plot_list[[13]], plot_list[[14]], # mixed\n",
    "                      ncol = 5))\n",
    "    dev.off()\n",
    "}"
   ]
  }
 ],
 "metadata": {
  "kernelspec": {
   "display_name": "R4.2",
   "language": "R",
   "name": "ir"
  },
  "language_info": {
   "codemirror_mode": "r",
   "file_extension": ".r",
   "mimetype": "text/x-r-source",
   "name": "R",
   "pygments_lexer": "r",
   "version": "4.2.0"
  }
 },
 "nbformat": 4,
 "nbformat_minor": 4
}
