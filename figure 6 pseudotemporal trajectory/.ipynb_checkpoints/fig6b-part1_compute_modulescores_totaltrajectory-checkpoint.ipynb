{
 "cells": [
  {
   "cell_type": "code",
   "execution_count": null,
   "metadata": {},
   "outputs": [],
   "source": [
    "########################################################################\n",
    "# Author    : A. Alsema\n",
    "# Date      : Nov 2023\n",
    "# Dataset   : Visium Spatial Transcriptomics for MS lesions, 15 slices with WM \n",
    "# Purpose   : calculate a Seurat module score for a gene list\n",
    "# Output    : csv file with module score per spot: \"celltype-modulescores.csv\"\n",
    "\n",
    "# Required Inputs: \n",
    "# -  seurat compatible object with same barcodes as cds: \"TEMP_seu_filt_as_monocle.rds\"\n",
    "# -  gene lists for module scores. \n",
    "## Note: we tried to make gene lists here as specific as possible for the indicated category. \n",
    "## This means \"genesets/for_monocle_branches_v6.csv\" generally contains short lists of 5-15 genes per category.\n",
    "########################################################################"
   ]
  },
  {
   "cell_type": "code",
   "execution_count": 1,
   "metadata": {
    "collapsed": true,
    "jupyter": {
     "outputs_hidden": true
    },
    "tags": []
   },
   "outputs": [
    {
     "name": "stderr",
     "output_type": "stream",
     "text": [
      "Loading required package: Biobase\n",
      "\n",
      "Loading required package: BiocGenerics\n",
      "\n",
      "\n",
      "Attaching package: ‘BiocGenerics’\n",
      "\n",
      "\n",
      "The following objects are masked from ‘package:stats’:\n",
      "\n",
      "    IQR, mad, sd, var, xtabs\n",
      "\n",
      "\n",
      "The following objects are masked from ‘package:base’:\n",
      "\n",
      "    anyDuplicated, aperm, append, as.data.frame, basename, cbind,\n",
      "    colnames, dirname, do.call, duplicated, eval, evalq, Filter, Find,\n",
      "    get, grep, grepl, intersect, is.unsorted, lapply, Map, mapply,\n",
      "    match, mget, order, paste, pmax, pmax.int, pmin, pmin.int,\n",
      "    Position, rank, rbind, Reduce, rownames, sapply, setdiff, sort,\n",
      "    table, tapply, union, unique, unsplit, which.max, which.min\n",
      "\n",
      "\n",
      "Welcome to Bioconductor\n",
      "\n",
      "    Vignettes contain introductory material; view with\n",
      "    'browseVignettes()'. To cite Bioconductor, see\n",
      "    'citation(\"Biobase\")', and for packages 'citation(\"pkgname\")'.\n",
      "\n",
      "\n",
      "Loading required package: SingleCellExperiment\n",
      "\n",
      "Loading required package: SummarizedExperiment\n",
      "\n",
      "Loading required package: MatrixGenerics\n",
      "\n",
      "Loading required package: matrixStats\n",
      "\n",
      "\n",
      "Attaching package: ‘matrixStats’\n",
      "\n",
      "\n",
      "The following objects are masked from ‘package:Biobase’:\n",
      "\n",
      "    anyMissing, rowMedians\n",
      "\n",
      "\n",
      "\n",
      "Attaching package: ‘MatrixGenerics’\n",
      "\n",
      "\n",
      "The following objects are masked from ‘package:matrixStats’:\n",
      "\n",
      "    colAlls, colAnyNAs, colAnys, colAvgsPerRowSet, colCollapse,\n",
      "    colCounts, colCummaxs, colCummins, colCumprods, colCumsums,\n",
      "    colDiffs, colIQRDiffs, colIQRs, colLogSumExps, colMadDiffs,\n",
      "    colMads, colMaxs, colMeans2, colMedians, colMins, colOrderStats,\n",
      "    colProds, colQuantiles, colRanges, colRanks, colSdDiffs, colSds,\n",
      "    colSums2, colTabulates, colVarDiffs, colVars, colWeightedMads,\n",
      "    colWeightedMeans, colWeightedMedians, colWeightedSds,\n",
      "    colWeightedVars, rowAlls, rowAnyNAs, rowAnys, rowAvgsPerColSet,\n",
      "    rowCollapse, rowCounts, rowCummaxs, rowCummins, rowCumprods,\n",
      "    rowCumsums, rowDiffs, rowIQRDiffs, rowIQRs, rowLogSumExps,\n",
      "    rowMadDiffs, rowMads, rowMaxs, rowMeans2, rowMedians, rowMins,\n",
      "    rowOrderStats, rowProds, rowQuantiles, rowRanges, rowRanks,\n",
      "    rowSdDiffs, rowSds, rowSums2, rowTabulates, rowVarDiffs, rowVars,\n",
      "    rowWeightedMads, rowWeightedMeans, rowWeightedMedians,\n",
      "    rowWeightedSds, rowWeightedVars\n",
      "\n",
      "\n",
      "The following object is masked from ‘package:Biobase’:\n",
      "\n",
      "    rowMedians\n",
      "\n",
      "\n",
      "Loading required package: GenomicRanges\n",
      "\n",
      "Loading required package: stats4\n",
      "\n",
      "Loading required package: S4Vectors\n",
      "\n",
      "\n",
      "Attaching package: ‘S4Vectors’\n",
      "\n",
      "\n",
      "The following objects are masked from ‘package:base’:\n",
      "\n",
      "    expand.grid, I, unname\n",
      "\n",
      "\n",
      "Loading required package: IRanges\n",
      "\n",
      "Loading required package: GenomeInfoDb\n",
      "\n",
      "\n",
      "Attaching package: ‘monocle3’\n",
      "\n",
      "\n",
      "The following objects are masked from ‘package:Biobase’:\n",
      "\n",
      "    exprs, fData, fData<-, pData, pData<-\n",
      "\n",
      "\n",
      "Attaching SeuratObject\n",
      "\n",
      "Seurat v4 was just loaded with SeuratObject v5; disabling v5 assays and\n",
      "validation routines, and ensuring assays work in strict v3/v4\n",
      "compatibility mode\n",
      "\n",
      "\n",
      "Attaching package: ‘Seurat’\n",
      "\n",
      "\n",
      "The following object is masked from ‘package:SummarizedExperiment’:\n",
      "\n",
      "    Assays\n",
      "\n",
      "\n",
      "\n",
      "Attaching package: ‘dplyr’\n",
      "\n",
      "\n",
      "The following objects are masked from ‘package:GenomicRanges’:\n",
      "\n",
      "    intersect, setdiff, union\n",
      "\n",
      "\n",
      "The following object is masked from ‘package:GenomeInfoDb’:\n",
      "\n",
      "    intersect\n",
      "\n",
      "\n",
      "The following objects are masked from ‘package:IRanges’:\n",
      "\n",
      "    collapse, desc, intersect, setdiff, slice, union\n",
      "\n",
      "\n",
      "The following objects are masked from ‘package:S4Vectors’:\n",
      "\n",
      "    first, intersect, rename, setdiff, setequal, union\n",
      "\n",
      "\n",
      "The following object is masked from ‘package:matrixStats’:\n",
      "\n",
      "    count\n",
      "\n",
      "\n",
      "The following object is masked from ‘package:Biobase’:\n",
      "\n",
      "    combine\n",
      "\n",
      "\n",
      "The following objects are masked from ‘package:BiocGenerics’:\n",
      "\n",
      "    combine, intersect, setdiff, union\n",
      "\n",
      "\n",
      "The following objects are masked from ‘package:stats’:\n",
      "\n",
      "    filter, lag\n",
      "\n",
      "\n",
      "The following objects are masked from ‘package:base’:\n",
      "\n",
      "    intersect, setdiff, setequal, union\n",
      "\n",
      "\n"
     ]
    }
   ],
   "source": [
    "rm(list = ls())\n",
    "\n",
    "library(monocle3)\n",
    "library(Seurat)\n",
    "library(dplyr)\n"
   ]
  },
  {
   "cell_type": "code",
   "execution_count": 26,
   "metadata": {},
   "outputs": [
    {
     "data": {
      "text/plain": [
       "An object of class Seurat \n",
       "37538 features across 55084 samples within 2 assays \n",
       "Active assay: Spatial (33538 features, 0 variable features)\n",
       " 3 layers present: counts, data, scale.data\n",
       " 1 other assay present: integrated\n",
       " 2 dimensional reductions calculated: pca, umap\n",
       " 15 images present: section1, section2, section3, section4, section5, section6, section7, section8, section9, section10, section11, section12, section13, section14, section15"
      ]
     },
     "metadata": {},
     "output_type": "display_data"
    }
   ],
   "source": [
    "# load data\n",
    "seu <- readRDS(\"RData/monocle3/TEMP_seu_filt_as_monocle.rds\") # Before loading, I checked that barcodes are the exact same as in 3.monocle_traj_WM_allgenes.rds\n",
    "seu"
   ]
  },
  {
   "cell_type": "code",
   "execution_count": 40,
   "metadata": {
    "tags": []
   },
   "outputs": [],
   "source": [
    "# load a list of gene modules\n",
    "gene_module_df <- read.csv(\"genesets/for_monocle_branches_v6.csv\", header  = TRUE)\n",
    "genesets <- unique(gene_module_df$module)\n",
    "\n",
    "genesets"
   ]
  },
  {
   "cell_type": "markdown",
   "metadata": {},
   "source": [
    "# Create module scores"
   ]
  },
  {
   "cell_type": "code",
   "execution_count": null,
   "metadata": {
    "tags": []
   },
   "outputs": [],
   "source": [
    "meta.vars = ncol(seu@meta.data)\n",
    "\n",
    "for (k in 1:length(genesets)){\n",
    "    geneset = genesets[k]\n",
    "    print(geneset)\n",
    "    current_geneset = gene_module_df %>% filter(module %in% c(as.character(geneset))) %>% pull(gene) %>% list()\n",
    "    print(current_geneset)\n",
    "    seu <- AddModuleScore(seu, features = current_geneset, name = geneset)\n",
    "    }"
   ]
  },
  {
   "cell_type": "code",
   "execution_count": 34,
   "metadata": {
    "tags": []
   },
   "outputs": [],
   "source": [
    "start_slice <- meta.vars + 1\n",
    "end_slice <- ncol(seu@meta.data)"
   ]
  },
  {
   "cell_type": "markdown",
   "metadata": {},
   "source": [
    "# create df for plotting"
   ]
  },
  {
   "cell_type": "code",
   "execution_count": 35,
   "metadata": {
    "tags": []
   },
   "outputs": [
    {
     "name": "stdout",
     "output_type": "stream",
     "text": [
      "[1] \"this should print TRUE:\"\n"
     ]
    },
    {
     "data": {
      "text/html": [
       "TRUE"
      ],
      "text/latex": [
       "TRUE"
      ],
      "text/markdown": [
       "TRUE"
      ],
      "text/plain": [
       "[1] TRUE"
      ]
     },
     "metadata": {},
     "output_type": "display_data"
    }
   ],
   "source": [
    "data_plot = as.data.frame(seu[[\"umap\"]]@cell.embeddings)\n",
    "print(\"this should print TRUE:\")\n",
    "identical(row.names(data_plot), row.names(seu@meta.data)) # sanity check"
   ]
  },
  {
   "cell_type": "code",
   "execution_count": null,
   "metadata": {
    "tags": []
   },
   "outputs": [],
   "source": [
    "data_plot <- cbind(data_plot, seu@meta.data[start_slice:end_slice])\n",
    "data_plot[1:4,]"
   ]
  },
  {
   "cell_type": "code",
   "execution_count": null,
   "metadata": {},
   "outputs": [],
   "source": [
    "write.csv(data_plot, \"RData/monocle3/celltype-modulescores.csv\")"
   ]
  },
  {
   "cell_type": "code",
   "execution_count": 38,
   "metadata": {},
   "outputs": [
    {
     "data": {
      "text/plain": [
       "R version 4.2.0 (2022-04-22)\n",
       "Platform: x86_64-conda-linux-gnu (64-bit)\n",
       "Running under: Ubuntu 20.04.5 LTS\n",
       "\n",
       "Matrix products: default\n",
       "BLAS/LAPACK: /data/bcn/p283607/anaconda3/envs/R4.2/lib/libopenblasp-r0.3.21.so\n",
       "\n",
       "locale:\n",
       " [1] LC_CTYPE=en_US.UTF-8       LC_NUMERIC=C              \n",
       " [3] LC_TIME=en_US.UTF-8        LC_COLLATE=en_US.UTF-8    \n",
       " [5] LC_MONETARY=en_US.UTF-8    LC_MESSAGES=en_US.UTF-8   \n",
       " [7] LC_PAPER=en_US.UTF-8       LC_NAME=C                 \n",
       " [9] LC_ADDRESS=C               LC_TELEPHONE=C            \n",
       "[11] LC_MEASUREMENT=en_US.UTF-8 LC_IDENTIFICATION=C       \n",
       "\n",
       "attached base packages:\n",
       "[1] stats4    stats     graphics  grDevices utils     datasets  methods  \n",
       "[8] base     \n",
       "\n",
       "other attached packages:\n",
       " [1] dplyr_1.1.4                 SeuratObject_5.0.1         \n",
       " [3] Seurat_4.3.0                monocle3_1.3.1             \n",
       " [5] SingleCellExperiment_1.20.1 SummarizedExperiment_1.28.0\n",
       " [7] GenomicRanges_1.50.2        GenomeInfoDb_1.34.9        \n",
       " [9] IRanges_2.32.0              S4Vectors_0.36.2           \n",
       "[11] MatrixGenerics_1.10.0       matrixStats_1.1.0          \n",
       "[13] Biobase_2.58.0              BiocGenerics_0.44.0        \n",
       "\n",
       "loaded via a namespace (and not attached):\n",
       "  [1] Rtsne_0.16             minqa_1.2.6            colorspace_2.1-0      \n",
       "  [4] deldir_2.0-2           ellipsis_0.3.2         ggridges_0.5.4        \n",
       "  [7] IRdisplay_1.1          XVector_0.38.0         base64enc_0.1-3       \n",
       " [10] spatstat.data_3.0-3    leiden_0.4.3.1         listenv_0.9.0         \n",
       " [13] ggrepel_0.9.4          fansi_1.0.6            codetools_0.2-18      \n",
       " [16] splines_4.2.0          polyclip_1.10-6        IRkernel_1.3.1        \n",
       " [19] spam_2.10-0            jsonlite_1.8.7         nloptr_2.0.3          \n",
       " [22] ica_1.0-3              cluster_2.1.4          png_0.1-8             \n",
       " [25] uwot_0.1.16            spatstat.sparse_3.0-3  sctransform_0.4.1     \n",
       " [28] shiny_1.8.0            compiler_4.2.0         httr_1.4.7            \n",
       " [31] Matrix_1.6-3           fastmap_1.1.1          lazyeval_0.2.2        \n",
       " [34] cli_3.6.2              later_1.3.1            htmltools_0.5.7       \n",
       " [37] tools_4.2.0            igraph_1.5.1           dotCall64_1.1-1       \n",
       " [40] gtable_0.3.4           glue_1.7.0             GenomeInfoDbData_1.2.9\n",
       " [43] reshape2_1.4.4         RANN_2.6.1             Rcpp_1.0.11           \n",
       " [46] scattermore_1.2        vctrs_0.6.5            spatstat.explore_3.2-5\n",
       " [49] nlme_3.1-160           progressr_0.14.0       lmtest_0.9-40         \n",
       " [52] spatstat.random_3.2-2  stringr_1.5.1          globals_0.16.2        \n",
       " [55] lme4_1.1-34            mime_0.12              miniUI_0.1.1.1        \n",
       " [58] lifecycle_1.0.4        irlba_2.3.5.1          goftest_1.2-3         \n",
       " [61] future_1.33.0          terra_1.5-21           zlibbioc_1.44.0       \n",
       " [64] MASS_7.3-58.1          zoo_1.8-12             scales_1.3.0          \n",
       " [67] spatstat.utils_3.0-4   promises_1.2.1         parallel_4.2.0        \n",
       " [70] RColorBrewer_1.1-3     gridExtra_2.3          reticulate_1.34.0     \n",
       " [73] pbapply_1.7-2          ggplot2_3.4.4          stringi_1.8.3         \n",
       " [76] boot_1.3-28            repr_1.1.4             rlang_1.1.3           \n",
       " [79] pkgconfig_2.0.3        bitops_1.0-7           evaluate_0.23         \n",
       " [82] lattice_0.20-45        tensor_1.5             ROCR_1.0-11           \n",
       " [85] purrr_1.0.2            patchwork_1.1.3        htmlwidgets_1.6.3     \n",
       " [88] cowplot_1.1.1          tidyselect_1.2.0       parallelly_1.36.0     \n",
       " [91] RcppAnnoy_0.0.21       plyr_1.8.9             magrittr_2.0.3        \n",
       " [94] R6_2.5.1               generics_0.1.3         pbdZMQ_0.3-8          \n",
       " [97] DelayedArray_0.24.0    withr_3.0.0            pillar_1.9.0          \n",
       "[100] fitdistrplus_1.1-11    abind_1.4-5            survival_3.4-0        \n",
       "[103] RCurl_1.98-1.12        sp_2.1-2               tibble_3.2.1          \n",
       "[106] future.apply_1.11.0    crayon_1.5.2           uuid_1.1-0            \n",
       "[109] KernSmooth_2.23-20     utf8_1.2.4             spatstat.geom_3.2-7   \n",
       "[112] plotly_4.10.3          grid_4.2.0             data.table_1.14.8     \n",
       "[115] digest_0.6.33          xtable_1.8-4           tidyr_1.3.1           \n",
       "[118] httpuv_1.6.12          munsell_0.5.0          viridisLite_0.4.2     "
      ]
     },
     "metadata": {},
     "output_type": "display_data"
    }
   ],
   "source": [
    "sessionInfo()"
   ]
  }
 ],
 "metadata": {
  "kernelspec": {
   "display_name": "R4.2",
   "language": "R",
   "name": "ir"
  },
  "language_info": {
   "codemirror_mode": "r",
   "file_extension": ".r",
   "mimetype": "text/x-r-source",
   "name": "R",
   "pygments_lexer": "r",
   "version": "4.2.0"
  }
 },
 "nbformat": 4,
 "nbformat_minor": 4
}
