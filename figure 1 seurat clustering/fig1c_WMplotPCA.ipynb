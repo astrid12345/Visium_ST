{
 "cells": [
  {
   "cell_type": "code",
   "execution_count": null,
   "metadata": {},
   "outputs": [],
   "source": [
    "########################################################################\n",
    "# Author    : A. Alsema\n",
    "# Date      : May-July 2021\n",
    "# Dataset   : Visium Spatial Transcriptomics for MS lesions\n",
    "# Purpose   : plot a PCA with colors indicating the lesion types \n",
    "# Required input: \"3.WM.clustered.res0.2.rds\"\n",
    "# Output    : figure 1d, UMAP with the clusters in custom colors. \n",
    "#########################################################################"
   ]
  },
  {
   "cell_type": "code",
   "execution_count": 1,
   "metadata": {
    "tags": []
   },
   "outputs": [
    {
     "name": "stderr",
     "output_type": "stream",
     "text": [
      "Attaching SeuratObject\n",
      "\n",
      "Seurat v4 was just loaded with SeuratObject v5; disabling v5 assays and\n",
      "validation routines, and ensuring assays work in strict v3/v4\n",
      "compatibility mode\n",
      "\n",
      "\n",
      "Attaching package: ‘dplyr’\n",
      "\n",
      "\n",
      "The following objects are masked from ‘package:stats’:\n",
      "\n",
      "    filter, lag\n",
      "\n",
      "\n",
      "The following objects are masked from ‘package:base’:\n",
      "\n",
      "    intersect, setdiff, setequal, union\n",
      "\n",
      "\n",
      "Warning message:\n",
      "“package ‘RColorBrewer’ was built under R version 4.2.1”\n"
     ]
    },
    {
     "data": {
      "text/html": [
       "<style>\n",
       ".list-inline {list-style: none; margin:0; padding: 0}\n",
       ".list-inline>li {display: inline-block}\n",
       ".list-inline>li:not(:last-child)::after {content: \"\\00b7\"; padding: 0 .5ex}\n",
       "</style>\n",
       "<ol class=list-inline><li>'CWM'</li><li>'NAWM'</li><li>'active'</li><li>'act/inact'</li></ol>\n"
      ],
      "text/latex": [
       "\\begin{enumerate*}\n",
       "\\item 'CWM'\n",
       "\\item 'NAWM'\n",
       "\\item 'active'\n",
       "\\item 'act/inact'\n",
       "\\end{enumerate*}\n"
      ],
      "text/markdown": [
       "1. 'CWM'\n",
       "2. 'NAWM'\n",
       "3. 'active'\n",
       "4. 'act/inact'\n",
       "\n",
       "\n"
      ],
      "text/plain": [
       "[1] \"CWM\"       \"NAWM\"      \"active\"    \"act/inact\""
      ]
     },
     "metadata": {},
     "output_type": "display_data"
    },
    {
     "data": {
      "text/html": [
       "55519"
      ],
      "text/latex": [
       "55519"
      ],
      "text/markdown": [
       "55519"
      ],
      "text/plain": [
       "[1] 55519"
      ]
     },
     "metadata": {},
     "output_type": "display_data"
    }
   ],
   "source": [
    "rm(list = ls())\n",
    "\n",
    "library(Seurat)\n",
    "library(hdf5r)\n",
    "library(ggplot2)\n",
    "library(patchwork)\n",
    "library(future)\n",
    "library(dplyr)\n",
    "library(RColorBrewer)\n",
    "options(future.globals.maxSize = 3000 * 1024^2)\n",
    "res = 0.2\n",
    "datasets <- readRDS(file = paste0(\"./RData/seurat/3.WM.clustered.res\", res, \".rds\"))\n",
    "levels(datasets$Group)\n",
    "ncol(datasets)"
   ]
  },
  {
   "cell_type": "code",
   "execution_count": 3,
   "metadata": {},
   "outputs": [
    {
     "data": {
      "text/plain": [
       "\n",
       "      CWM      NAWM    active act/inact \n",
       "     6538     11651     14612     22718 "
      ]
     },
     "metadata": {},
     "output_type": "display_data"
    }
   ],
   "source": [
    "table(datasets$Group)"
   ]
  },
  {
   "cell_type": "code",
   "execution_count": 3,
   "metadata": {},
   "outputs": [],
   "source": [
    "ggplot.theme <- theme(aspect.ratio = 1,\n",
    "                    text = element_text(hjust = 0.5, face = \"plain\", size = (9)),\n",
    "                    plot.title = element_text(hjust = 0.5, face = \"plain\", size = (10)),\n",
    "                    axis.title.x = element_text(face = \"plain\", size = (12)),\n",
    "                    axis.title.y = element_text(face = \"plain\", size = (12)),\n",
    "                    axis.text = element_text(face = \"plain\", size = (12), colour = \"black\"),\n",
    "                    plot.subtitle = element_text(hjust = 0.5),\n",
    "                    panel.background = element_blank(),\n",
    "                    panel.border = element_blank(),\n",
    "                    panel.grid.major = element_blank(), panel.grid.minor = element_blank(),\n",
    "                    panel.grid = element_blank(),\n",
    "                    axis.line = element_line(color = \"black\"),\n",
    "                    plot.background = element_rect(fill=\"transparent\", color=NA),\n",
    "                    legend.key = element_rect(fill=\"transparent\", color=\"transparent\"),\n",
    "                    legend.box.background = element_rect(fill=\"transparent\", color=\"transparent\"),\n",
    "                    legend.background = element_rect(fill=\"transparent\", color=\"transparent\"),\n",
    "                    legend.text=element_text(size=10), \n",
    "                    legend.title = element_text(size=10))"
   ]
  },
  {
   "cell_type": "code",
   "execution_count": 4,
   "metadata": {
    "tags": []
   },
   "outputs": [
    {
     "data": {
      "text/html": [
       "<style>\n",
       ".dl-inline {width: auto; margin:0; padding: 0}\n",
       ".dl-inline>dt, .dl-inline>dd {float: none; width: auto; display: inline-block}\n",
       ".dl-inline>dt::after {content: \":\\0020\"; padding-right: .5ex}\n",
       ".dl-inline>dt:not(:first-of-type) {padding-left: .5ex}\n",
       "</style><dl class=dl-inline><dt>CWM</dt><dd>'#80C280'</dd><dt>NAWM</dt><dd>'#B36F9F'</dd><dt>active</dt><dd>'#FF4D4D'</dd><dt>act/inact</dt><dd>'#FFB55E'</dd></dl>\n"
      ],
      "text/latex": [
       "\\begin{description*}\n",
       "\\item[CWM] '\\#80C280'\n",
       "\\item[NAWM] '\\#B36F9F'\n",
       "\\item[active] '\\#FF4D4D'\n",
       "\\item[act/inact] '\\#FFB55E'\n",
       "\\end{description*}\n"
      ],
      "text/markdown": [
       "CWM\n",
       ":   '#80C280'NAWM\n",
       ":   '#B36F9F'active\n",
       ":   '#FF4D4D'act/inact\n",
       ":   '#FFB55E'\n",
       "\n"
      ],
      "text/plain": [
       "      CWM      NAWM    active act/inact \n",
       "\"#80C280\" \"#B36F9F\" \"#FF4D4D\" \"#FFB55E\" "
      ]
     },
     "metadata": {},
     "output_type": "display_data"
    }
   ],
   "source": [
    "# some custom colors for the group\n",
    "group_cols <- c(\"#80C280\", \"#B36F9F\", \"#FF4D4D\", \"#FFB55E\")\n",
    "names(group_cols) <- levels(datasets$Group) # important for the PCA plot in figure 1c!\n",
    "group_cols"
   ]
  },
  {
   "cell_type": "code",
   "execution_count": 5,
   "metadata": {},
   "outputs": [
    {
     "data": {
      "text/html": [
       "<strong>png:</strong> 2"
      ],
      "text/latex": [
       "\\textbf{png:} 2"
      ],
      "text/markdown": [
       "**png:** 2"
      ],
      "text/plain": [
       "png \n",
       "  2 "
      ]
     },
     "metadata": {},
     "output_type": "display_data"
    }
   ],
   "source": [
    "# PCA plot for figure 1c\n",
    "pdf('Routput/Seurat/Figures/pca_WM_Group.pdf')\n",
    "DimPlot(datasets, reduction = \"pca\", \n",
    "        group.by = \"Group\", order = levels(datasets$Group),\n",
    "        cols = group_cols, dims = c(1,2)) + ggplot.theme +\n",
    "        scale_x_continuous(limits = c(-20, 20), breaks = c(-20, -10, 0, 10, 20)) +\n",
    "        scale_y_continuous(limits = c(-30, 30), breaks = c(-30, -20, -10, 0, 10, 20, 30))\n",
    "dev.off()\n"
   ]
  },
  {
   "cell_type": "code",
   "execution_count": 6,
   "metadata": {},
   "outputs": [
    {
     "data": {
      "text/plain": [
       "R version 4.2.0 (2022-04-22)\n",
       "Platform: x86_64-conda-linux-gnu (64-bit)\n",
       "Running under: Ubuntu 20.04.5 LTS\n",
       "\n",
       "Matrix products: default\n",
       "BLAS/LAPACK: /data/bcn/p283607/anaconda3/envs/R4.2/lib/libopenblasp-r0.3.21.so\n",
       "\n",
       "locale:\n",
       " [1] LC_CTYPE=en_US.UTF-8       LC_NUMERIC=C              \n",
       " [3] LC_TIME=en_US.UTF-8        LC_COLLATE=en_US.UTF-8    \n",
       " [5] LC_MONETARY=en_US.UTF-8    LC_MESSAGES=en_US.UTF-8   \n",
       " [7] LC_PAPER=en_US.UTF-8       LC_NAME=C                 \n",
       " [9] LC_ADDRESS=C               LC_TELEPHONE=C            \n",
       "[11] LC_MEASUREMENT=en_US.UTF-8 LC_IDENTIFICATION=C       \n",
       "\n",
       "attached base packages:\n",
       "[1] stats     graphics  grDevices utils     datasets  methods   base     \n",
       "\n",
       "other attached packages:\n",
       "[1] RColorBrewer_1.1-3 dplyr_1.1.0        future_1.31.0      patchwork_1.1.2   \n",
       "[5] ggplot2_3.4.1      hdf5r_1.3.7        SeuratObject_4.1.3 Seurat_4.3.0      \n",
       "\n",
       "loaded via a namespace (and not attached):\n",
       "  [1] Rtsne_0.16             colorspace_2.1-0       deldir_1.0-6          \n",
       "  [4] ellipsis_0.3.2         ggridges_0.5.4         IRdisplay_1.1         \n",
       "  [7] base64enc_0.1-3        spatstat.data_3.0-0    farver_2.1.1          \n",
       " [10] leiden_0.4.3           listenv_0.9.0          ggrepel_0.9.3         \n",
       " [13] bit64_4.0.5            fansi_1.0.4            codetools_0.2-18      \n",
       " [16] splines_4.2.0          polyclip_1.10-4        IRkernel_1.3.1        \n",
       " [19] jsonlite_1.8.4         ica_1.0-3              cluster_2.1.4         \n",
       " [22] png_0.1-8              uwot_0.1.14            shiny_1.7.4           \n",
       " [25] sctransform_0.3.5      spatstat.sparse_3.0-0  compiler_4.2.0        \n",
       " [28] httr_1.4.5             Matrix_1.5-1           fastmap_1.1.1         \n",
       " [31] lazyeval_0.2.2         cli_3.6.0              later_1.3.0           \n",
       " [34] htmltools_0.5.4        tools_4.2.0            igraph_1.4.1          \n",
       " [37] gtable_0.3.1           glue_1.6.2             RANN_2.6.1            \n",
       " [40] reshape2_1.4.4         Rcpp_1.0.10            scattermore_0.8       \n",
       " [43] vctrs_0.5.2            spatstat.explore_3.0-5 nlme_3.1-160          \n",
       " [46] progressr_0.11.0       lmtest_0.9-40          spatstat.random_3.0-1 \n",
       " [49] stringr_1.5.0          globals_0.16.2         mime_0.12             \n",
       " [52] miniUI_0.1.1.1         lifecycle_1.0.3        irlba_2.3.5.1         \n",
       " [55] goftest_1.2-3          MASS_7.3-58.1          zoo_1.8-11            \n",
       " [58] scales_1.2.1           promises_1.2.0.1       spatstat.utils_3.0-1  \n",
       " [61] parallel_4.2.0         reticulate_1.28        pbapply_1.7-0         \n",
       " [64] gridExtra_2.3          stringi_1.7.12         repr_1.1.4            \n",
       " [67] rlang_1.0.6            pkgconfig_2.0.3        matrixStats_0.63.0    \n",
       " [70] evaluate_0.20          lattice_0.20-45        ROCR_1.0-11           \n",
       " [73] purrr_1.0.1            tensor_1.5             htmlwidgets_1.6.1     \n",
       " [76] bit_4.0.5              cowplot_1.1.1          tidyselect_1.2.0      \n",
       " [79] parallelly_1.34.0      RcppAnnoy_0.0.20       plyr_1.8.8            \n",
       " [82] magrittr_2.0.3         R6_2.5.1               generics_0.1.3        \n",
       " [85] pbdZMQ_0.3-8           DBI_1.1.3              withr_2.5.0           \n",
       " [88] pillar_1.8.1           fitdistrplus_1.1-8     survival_3.4-0        \n",
       " [91] abind_1.4-5            sp_1.6-0               tibble_3.1.8          \n",
       " [94] future.apply_1.10.0    crayon_1.5.2           uuid_1.1-0            \n",
       " [97] KernSmooth_2.23-20     utf8_1.2.3             spatstat.geom_3.0-3   \n",
       "[100] plotly_4.10.1          grid_4.2.0             data.table_1.14.8     \n",
       "[103] digest_0.6.31          xtable_1.8-4           tidyr_1.3.0           \n",
       "[106] httpuv_1.6.9           munsell_0.5.0          viridisLite_0.4.1     "
      ]
     },
     "metadata": {},
     "output_type": "display_data"
    }
   ],
   "source": [
    "sessionInfo()"
   ]
  }
 ],
 "metadata": {
  "kernelspec": {
   "display_name": "R4.2",
   "language": "R",
   "name": "ir"
  },
  "language_info": {
   "codemirror_mode": "r",
   "file_extension": ".r",
   "mimetype": "text/x-r-source",
   "name": "R",
   "pygments_lexer": "r",
   "version": "4.2.0"
  }
 },
 "nbformat": 4,
 "nbformat_minor": 4
}
