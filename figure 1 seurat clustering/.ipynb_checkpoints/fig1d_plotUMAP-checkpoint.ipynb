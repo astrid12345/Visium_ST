{
 "cells": [
  {
   "cell_type": "code",
   "execution_count": null,
   "metadata": {},
   "outputs": [],
   "source": [
    "########################################################################\n",
    "# Author    : A. Alsema\n",
    "# Date      : May-July 2021\n",
    "# Dataset   : Visium Spatial Transcriptomics for MS lesions\n",
    "# Purpose   : plot a UMAP with the clusters\n",
    "# Required input: \"3.WM.clustered.res0.2.rds\"\n",
    "# Output    : figure 1d, UMAP with the clusters in custom colors.\n",
    "#########################################################################"
   ]
  },
  {
   "cell_type": "code",
   "execution_count": 1,
   "metadata": {},
   "outputs": [
    {
     "name": "stderr",
     "output_type": "stream",
     "text": [
      "Attaching SeuratObject\n",
      "\n",
      "Seurat v4 was just loaded with SeuratObject v5; disabling v5 assays and\n",
      "validation routines, and ensuring assays work in strict v3/v4\n",
      "compatibility mode\n",
      "\n",
      "\n",
      "Attaching package: ‘dplyr’\n",
      "\n",
      "\n",
      "The following objects are masked from ‘package:stats’:\n",
      "\n",
      "    filter, lag\n",
      "\n",
      "\n",
      "The following objects are masked from ‘package:base’:\n",
      "\n",
      "    intersect, setdiff, setequal, union\n",
      "\n",
      "\n",
      "Warning message:\n",
      "“package ‘RColorBrewer’ was built under R version 4.2.1”\n"
     ]
    }
   ],
   "source": [
    "rm(list = ls())\n",
    "\n",
    "library(Seurat)\n",
    "library(hdf5r)\n",
    "library(ggplot2)\n",
    "library(patchwork)\n",
    "library(future)\n",
    "library(dplyr)\n",
    "library(RColorBrewer)\n",
    "options(future.globals.maxSize = 3000 * 1024^2)"
   ]
  },
  {
   "cell_type": "code",
   "execution_count": 2,
   "metadata": {},
   "outputs": [
    {
     "data": {
      "text/html": [
       "<style>\n",
       ".list-inline {list-style: none; margin:0; padding: 0}\n",
       ".list-inline>li {display: inline-block}\n",
       ".list-inline>li:not(:last-child)::after {content: \"\\00b7\"; padding: 0 .5ex}\n",
       "</style>\n",
       "<ol class=list-inline><li>'CWM'</li><li>'NAWM'</li><li>'active'</li><li>'mixed-active-inactive'</li><li>'remyelinated'</li><li>'inactive'</li></ol>\n"
      ],
      "text/latex": [
       "\\begin{enumerate*}\n",
       "\\item 'CWM'\n",
       "\\item 'NAWM'\n",
       "\\item 'active'\n",
       "\\item 'mixed-active-inactive'\n",
       "\\item 'remyelinated'\n",
       "\\item 'inactive'\n",
       "\\end{enumerate*}\n"
      ],
      "text/markdown": [
       "1. 'CWM'\n",
       "2. 'NAWM'\n",
       "3. 'active'\n",
       "4. 'mixed-active-inactive'\n",
       "5. 'remyelinated'\n",
       "6. 'inactive'\n",
       "\n",
       "\n"
      ],
      "text/plain": [
       "[1] \"CWM\"                   \"NAWM\"                  \"active\"               \n",
       "[4] \"mixed-active-inactive\" \"remyelinated\"          \"inactive\"             "
      ]
     },
     "metadata": {},
     "output_type": "display_data"
    }
   ],
   "source": [
    "# load data\n",
    "res = 0.2\n",
    "datasets <- readRDS(file = paste0(\"./RData/seurat/3.WM.clustered.res\", res, \".rds\"))\n",
    "levels(datasets$Group)"
   ]
  },
  {
   "cell_type": "code",
   "execution_count": 11,
   "metadata": {},
   "outputs": [],
   "source": [
    "\n",
    "ggplot.theme <- theme(aspect.ratio = 1,\n",
    "                    text = element_text(hjust = 0.5, face = \"plain\", size = (9)),\n",
    "                    plot.title = element_text(hjust = 0.5, face = \"plain\", size = (10)),\n",
    "                    axis.title.x = element_text(face = \"plain\", size = (12)),\n",
    "                    axis.title.y = element_text(face = \"plain\", size = (12)),\n",
    "                    axis.text = element_text(face = \"plain\", size = (12), colour = \"black\"),\n",
    "#                     axis.text.x = element_text(angle = 90, vjust=0.5, hjust=1),\n",
    "                    plot.subtitle = element_text(hjust = 0.5),\n",
    "                    panel.background = element_blank(),\n",
    "                    panel.border = element_blank(),\n",
    "                    panel.grid.major = element_blank(), panel.grid.minor = element_blank(),\n",
    "                    panel.grid = element_blank(),\n",
    "                    axis.line = element_line(color = \"black\"),\n",
    "                    plot.background = element_rect(fill=\"transparent\", color=NA),\n",
    "                    legend.key = element_rect(fill=\"transparent\", color=\"transparent\"),\n",
    "                    legend.box.background = element_rect(fill=\"transparent\", color=\"transparent\"),\n",
    "                    legend.background = element_rect(fill=\"transparent\", color=\"transparent\"),\n",
    "                    legend.text=element_text(size=10), \n",
    "                    legend.title = element_text(size=10))"
   ]
  },
  {
   "cell_type": "code",
   "execution_count": 3,
   "metadata": {},
   "outputs": [
    {
     "data": {
      "text/html": [
       "<style>\n",
       ".list-inline {list-style: none; margin:0; padding: 0}\n",
       ".list-inline>li {display: inline-block}\n",
       ".list-inline>li:not(:last-child)::after {content: \"\\00b7\"; padding: 0 .5ex}\n",
       "</style>\n",
       "<ol class=list-inline><li>'0'</li><li>'1'</li><li>'2'</li><li>'3'</li></ol>\n"
      ],
      "text/latex": [
       "\\begin{enumerate*}\n",
       "\\item '0'\n",
       "\\item '1'\n",
       "\\item '2'\n",
       "\\item '3'\n",
       "\\end{enumerate*}\n"
      ],
      "text/markdown": [
       "1. '0'\n",
       "2. '1'\n",
       "3. '2'\n",
       "4. '3'\n",
       "\n",
       "\n"
      ],
      "text/plain": [
       "[1] \"0\" \"1\" \"2\" \"3\""
      ]
     },
     "metadata": {},
     "output_type": "display_data"
    }
   ],
   "source": [
    "levels(datasets@active.ident)\n"
   ]
  },
  {
   "cell_type": "code",
   "execution_count": null,
   "metadata": {},
   "outputs": [],
   "source": [
    "ucols <- c(\"#006666\", \"#C8D523\",  \"#EC4861\",\"#FF9933\", \"#B11A20\", \"#3838c9\")\n",
    "\n",
    "names(ucols) <- levels(datasets@active.ident)\n",
    "DimPlot(datasets, label = F, pt.size = 0.6, cols = ucols) + theme_void()"
   ]
  },
  {
   "cell_type": "code",
   "execution_count": 6,
   "metadata": {},
   "outputs": [
    {
     "data": {
      "text/html": [
       "<strong>png:</strong> 2"
      ],
      "text/latex": [
       "\\textbf{png:} 2"
      ],
      "text/markdown": [
       "**png:** 2"
      ],
      "text/plain": [
       "png \n",
       "  2 "
      ]
     },
     "metadata": {},
     "output_type": "display_data"
    }
   ],
   "source": [
    "png(\"./Routput/Seurat/Figures/UMAP-fig1.png\")\n",
    "DimPlot(datasets, label = F, pt.size = 0.6, cols = ucols) + theme_void()\n",
    "dev.off()"
   ]
  },
  {
   "cell_type": "code",
   "execution_count": 7,
   "metadata": {},
   "outputs": [
    {
     "data": {
      "text/html": [
       "<strong>png:</strong> 2"
      ],
      "text/latex": [
       "\\textbf{png:} 2"
      ],
      "text/markdown": [
       "**png:** 2"
      ],
      "text/plain": [
       "png \n",
       "  2 "
      ]
     },
     "metadata": {},
     "output_type": "display_data"
    }
   ],
   "source": [
    "tiff(\"./Routput/Seurat/Figures/UMAP-fig1.tiff\")\n",
    "DimPlot(datasets, label = F, pt.size = 0.6, cols = ucols) + theme_void()\n",
    "dev.off()"
   ]
  },
  {
   "cell_type": "code",
   "execution_count": 2,
   "metadata": {},
   "outputs": [
    {
     "data": {
      "text/plain": [
       "R version 4.2.0 (2022-04-22)\n",
       "Platform: x86_64-conda-linux-gnu (64-bit)\n",
       "Running under: Ubuntu 20.04.5 LTS\n",
       "\n",
       "Matrix products: default\n",
       "BLAS/LAPACK: /data/bcn/p283607/anaconda3/envs/R4.2/lib/libopenblasp-r0.3.21.so\n",
       "\n",
       "locale:\n",
       " [1] LC_CTYPE=en_US.UTF-8       LC_NUMERIC=C              \n",
       " [3] LC_TIME=en_US.UTF-8        LC_COLLATE=en_US.UTF-8    \n",
       " [5] LC_MONETARY=en_US.UTF-8    LC_MESSAGES=en_US.UTF-8   \n",
       " [7] LC_PAPER=en_US.UTF-8       LC_NAME=C                 \n",
       " [9] LC_ADDRESS=C               LC_TELEPHONE=C            \n",
       "[11] LC_MEASUREMENT=en_US.UTF-8 LC_IDENTIFICATION=C       \n",
       "\n",
       "attached base packages:\n",
       "[1] stats     graphics  grDevices utils     datasets  methods   base     \n",
       "\n",
       "other attached packages:\n",
       "[1] RColorBrewer_1.1-3 dplyr_1.1.4        future_1.33.0      patchwork_1.1.3   \n",
       "[5] ggplot2_3.4.4      hdf5r_1.3.7        SeuratObject_5.0.1 Seurat_4.3.0      \n",
       "\n",
       "loaded via a namespace (and not attached):\n",
       "  [1] Rtsne_0.16             colorspace_2.1-0       deldir_2.0-2          \n",
       "  [4] ellipsis_0.3.2         ggridges_0.5.4         IRdisplay_1.1         \n",
       "  [7] base64enc_0.1-3        spatstat.data_3.0-3    leiden_0.4.3.1        \n",
       " [10] listenv_0.9.0          bit64_4.0.5            ggrepel_0.9.4         \n",
       " [13] fansi_1.0.6            codetools_0.2-18       splines_4.2.0         \n",
       " [16] polyclip_1.10-6        IRkernel_1.3.1         spam_2.10-0           \n",
       " [19] jsonlite_1.8.7         ica_1.0-3              cluster_2.1.4         \n",
       " [22] png_0.1-8              uwot_0.1.16            shiny_1.8.0           \n",
       " [25] sctransform_0.4.1      spatstat.sparse_3.0-3  compiler_4.2.0        \n",
       " [28] httr_1.4.7             Matrix_1.6-3           fastmap_1.1.1         \n",
       " [31] lazyeval_0.2.2         cli_3.6.2              later_1.3.1           \n",
       " [34] htmltools_0.5.7        tools_4.2.0            igraph_1.5.1          \n",
       " [37] dotCall64_1.1-1        gtable_0.3.4           glue_1.7.0            \n",
       " [40] RANN_2.6.1             reshape2_1.4.4         Rcpp_1.0.11           \n",
       " [43] scattermore_1.2        vctrs_0.6.5            spatstat.explore_3.2-5\n",
       " [46] nlme_3.1-160           progressr_0.14.0       lmtest_0.9-40         \n",
       " [49] spatstat.random_3.2-2  stringr_1.5.1          globals_0.16.2        \n",
       " [52] mime_0.12              miniUI_0.1.1.1         lifecycle_1.0.4       \n",
       " [55] irlba_2.3.5.1          goftest_1.2-3          MASS_7.3-58.1         \n",
       " [58] zoo_1.8-12             scales_1.3.0           promises_1.2.1        \n",
       " [61] spatstat.utils_3.0-4   parallel_4.2.0         reticulate_1.34.0     \n",
       " [64] pbapply_1.7-2          gridExtra_2.3          stringi_1.8.3         \n",
       " [67] repr_1.1.4             rlang_1.1.3            pkgconfig_2.0.3       \n",
       " [70] matrixStats_1.1.0      evaluate_0.23          lattice_0.20-45       \n",
       " [73] ROCR_1.0-11            purrr_1.0.2            tensor_1.5            \n",
       " [76] htmlwidgets_1.6.3      bit_4.0.5              cowplot_1.1.1         \n",
       " [79] tidyselect_1.2.0       parallelly_1.36.0      RcppAnnoy_0.0.21      \n",
       " [82] plyr_1.8.9             magrittr_2.0.3         R6_2.5.1              \n",
       " [85] generics_0.1.3         pbdZMQ_0.3-8           withr_3.0.0           \n",
       " [88] pillar_1.9.0           fitdistrplus_1.1-11    survival_3.4-0        \n",
       " [91] abind_1.4-5            sp_2.1-2               tibble_3.2.1          \n",
       " [94] future.apply_1.11.0    crayon_1.5.2           uuid_1.1-0            \n",
       " [97] KernSmooth_2.23-20     utf8_1.2.4             spatstat.geom_3.2-7   \n",
       "[100] plotly_4.10.3          grid_4.2.0             data.table_1.14.8     \n",
       "[103] digest_0.6.33          xtable_1.8-4           tidyr_1.3.1           \n",
       "[106] httpuv_1.6.12          munsell_0.5.0          viridisLite_0.4.2     "
      ]
     },
     "metadata": {},
     "output_type": "display_data"
    }
   ],
   "source": [
    "sessionInfo()"
   ]
  }
 ],
 "metadata": {
  "kernelspec": {
   "display_name": "R4.2",
   "language": "R",
   "name": "ir"
  },
  "language_info": {
   "codemirror_mode": "r",
   "file_extension": ".r",
   "mimetype": "text/x-r-source",
   "name": "R",
   "pygments_lexer": "r",
   "version": "4.2.0"
  }
 },
 "nbformat": 4,
 "nbformat_minor": 4
}
