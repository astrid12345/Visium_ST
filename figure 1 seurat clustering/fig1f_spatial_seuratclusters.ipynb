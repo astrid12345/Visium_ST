{
 "cells": [
  {
   "cell_type": "code",
   "execution_count": null,
   "id": "ea5bd650-c4d5-42bf-af8d-9b03570ec6fc",
   "metadata": {},
   "outputs": [],
   "source": [
    "########################################################################\n",
    "# Author    : A. Alsema\n",
    "# Date      : May-July 2021\n",
    "# Dataset   : Visium Spatial Transcriptomics for MS lesions\n",
    "# Purpose   : spatial cluster distribution plots\n",
    "# Required input: \"3.WM.clustered.res0.2.rds\"\n",
    "# Output    : figure 1f and extended data figure 3a. PDF.\n",
    "#########################################################################"
   ]
  },
  {
   "cell_type": "code",
   "execution_count": 1,
   "id": "a5102a3a-7352-4548-b4d8-00c49e16450d",
   "metadata": {
    "collapsed": true,
    "jupyter": {
     "outputs_hidden": true
    },
    "tags": []
   },
   "outputs": [
    {
     "name": "stderr",
     "output_type": "stream",
     "text": [
      "Attaching SeuratObject\n",
      "\n",
      "\n",
      "Attaching package: ‘patchwork’\n",
      "\n",
      "\n",
      "The following object is masked from ‘package:cowplot’:\n",
      "\n",
      "    align_plots\n",
      "\n",
      "\n",
      "\n",
      "Attaching package: ‘dplyr’\n",
      "\n",
      "\n",
      "The following objects are masked from ‘package:stats’:\n",
      "\n",
      "    filter, lag\n",
      "\n",
      "\n",
      "The following objects are masked from ‘package:base’:\n",
      "\n",
      "    intersect, setdiff, setequal, union\n",
      "\n",
      "\n",
      "Warning message:\n",
      "“package ‘RColorBrewer’ was built under R version 4.2.1”\n"
     ]
    },
    {
     "data": {
      "text/html": [
       "<style>\n",
       ".list-inline {list-style: none; margin:0; padding: 0}\n",
       ".list-inline>li {display: inline-block}\n",
       ".list-inline>li:not(:last-child)::after {content: \"\\00b7\"; padding: 0 .5ex}\n",
       "</style>\n",
       "<ol class=list-inline><li>'CWM'</li><li>'NAWM'</li><li>'active'</li><li>'act/inact'</li></ol>\n"
      ],
      "text/latex": [
       "\\begin{enumerate*}\n",
       "\\item 'CWM'\n",
       "\\item 'NAWM'\n",
       "\\item 'active'\n",
       "\\item 'act/inact'\n",
       "\\end{enumerate*}\n"
      ],
      "text/markdown": [
       "1. 'CWM'\n",
       "2. 'NAWM'\n",
       "3. 'active'\n",
       "4. 'act/inact'\n",
       "\n",
       "\n"
      ],
      "text/plain": [
       "[1] \"CWM\"       \"NAWM\"      \"active\"    \"act/inact\""
      ]
     },
     "metadata": {},
     "output_type": "display_data"
    }
   ],
   "source": [
    "rm(list = ls())\n",
    "library(cowplot)\n",
    "library(Seurat)\n",
    "library(hdf5r)\n",
    "library(ggplot2)\n",
    "library(patchwork)\n",
    "library(future)\n",
    "library(dplyr)\n",
    "library(RColorBrewer)\n",
    "\n",
    "res = 0.2\n",
    "datasets <- readRDS(file = paste0(\"./RData/seurat/3.WM.clustered.res\", res, \".rds\"))\n",
    "levels(datasets$Group)"
   ]
  },
  {
   "cell_type": "code",
   "execution_count": 5,
   "id": "148a3f3e-9888-40e6-ab23-c8cbc8192393",
   "metadata": {},
   "outputs": [
    {
     "data": {
      "text/html": [
       "TRUE"
      ],
      "text/latex": [
       "TRUE"
      ],
      "text/markdown": [
       "TRUE"
      ],
      "text/plain": [
       "[1] TRUE"
      ]
     },
     "metadata": {},
     "output_type": "display_data"
    }
   ],
   "source": [
    "ST_ID <- unique(datasets$manuscript_ID)\n",
    "\n",
    "samples <- names(datasets@images)\n",
    "identical(length(ST_ID), length(samples)) # should be TRUE\n",
    "\n",
    "#umap colors\n",
    "ucols <- c(\"#006666\", \"#C8D523\", \"#EC4861\", \"#FF9933\", \"#B11A20\", \"#3838c9\")\n",
    "names(ucols) <- levels(datasets@active.ident)\n"
   ]
  },
  {
   "cell_type": "code",
   "execution_count": 6,
   "id": "031769c2-cf42-401d-8a41-1955102beec5",
   "metadata": {},
   "outputs": [
    {
     "data": {
      "text/html": [
       "<strong>png:</strong> 2"
      ],
      "text/latex": [
       "\\textbf{png:} 2"
      ],
      "text/markdown": [
       "**png:** 2"
      ],
      "text/plain": [
       "png \n",
       "  2 "
      ]
     },
     "metadata": {},
     "output_type": "display_data"
    }
   ],
   "source": [
    "plot_list = NULL\n",
    "for (k in 1:length(samples)){\n",
    "    sample <- as.character(samples[k])\n",
    "    plot <- SpatialDimPlot(datasets, images = sample, \n",
    "                           group.by = \"seurat_clusters\", \n",
    "                           cols = ucols, \n",
    "                           pt.size.factor = 1.6,\n",
    "                           alpha = c(1, 1),\n",
    "                           image.alpha = 1,\n",
    "                           stroke = NA,\n",
    "                           combine = TRUE) \n",
    "    plot <- plot + NoLegend() + ggtitle(as.character(ST_ID[k])) + \n",
    "                   theme(plot.title = element_text(size = 9))\n",
    "    plot_list[[k]] <- plot\n",
    "}\n",
    "\n",
    "pdf(paste0(\"Routput/Seurat/Figures/Spatial_Clustering_res\", res, \".pdf\"), width = 7, height = 5)\n",
    "\n",
    "plot_list[[1]] + plot_list[[2]] + plot_list[[4]] +  plot_list[[5]] +  plot_list[[6]] + # CWM + NAWM\n",
    "plot_list[[3]] + plot_list[[15]] + plot_list[[9]] + plot_list[[10]] + plot_list[[7]] + # active\n",
    "plot_list[[8]] + plot_list[[11]] + plot_list[[12]] + plot_list[[13]] + plot_list[[14]] + # mix act/inact\n",
    "plot_layout(ncol = 5)\n",
    "\n",
    "dev.off()\n"
   ]
  }
 ],
 "metadata": {
  "kernelspec": {
   "display_name": "R4.2",
   "language": "R",
   "name": "ir"
  },
  "language_info": {
   "codemirror_mode": "r",
   "file_extension": ".r",
   "mimetype": "text/x-r-source",
   "name": "R",
   "pygments_lexer": "r",
   "version": "4.2.0"
  }
 },
 "nbformat": 4,
 "nbformat_minor": 5
}
