{
 "cells": [
  {
   "cell_type": "code",
   "execution_count": null,
   "metadata": {},
   "outputs": [],
   "source": [
    "########################################################################\n",
    "# Author    : A. Alsema\n",
    "# Date      : 2021\n",
    "# Dataset   : Visium Spatial Transcriptomics for MS lesions\n",
    "# Purpose   : Load individual samples and combine with the metadata\n",
    "# Required inputs:\n",
    "# - GM_Targetfile_withoutleuko.csv \n",
    "# - path: directory to spaceranger outputs\n",
    "########################################################################"
   ]
  },
  {
   "cell_type": "code",
   "execution_count": 55,
   "metadata": {
    "collapsed": true,
    "jupyter": {
     "outputs_hidden": true
    }
   },
   "outputs": [
    {
     "data": {
      "text/html": [
       "<table class=\"dataframe\">\n",
       "<caption>A data.frame: 12 × 12</caption>\n",
       "<thead>\n",
       "\t<tr><th scope=col>sample_ID</th><th scope=col>slide</th><th scope=col>sample_name</th><th scope=col>NBB</th><th scope=col>lesiontype</th><th scope=col>Age</th><th scope=col>Seks</th><th scope=col>RIN</th><th scope=col>brain_pH</th><th scope=col>PMI</th><th scope=col>Group</th><th scope=col>PMI_min</th></tr>\n",
       "\t<tr><th scope=col>&lt;chr&gt;</th><th scope=col>&lt;int&gt;</th><th scope=col>&lt;chr&gt;</th><th scope=col>&lt;chr&gt;</th><th scope=col>&lt;chr&gt;</th><th scope=col>&lt;int&gt;</th><th scope=col>&lt;chr&gt;</th><th scope=col>&lt;dbl&gt;</th><th scope=col>&lt;dbl&gt;</th><th scope=col>&lt;dbl&gt;</th><th scope=col>&lt;chr&gt;</th><th scope=col>&lt;int&gt;</th></tr>\n",
       "</thead>\n",
       "<tbody>\n",
       "\t<tr><td>ST55</td><td>7</td><td>cGM6 </td><td>2017-005</td><td>CNT  </td><td>60</td><td>f</td><td>7.2</td><td>7.07</td><td> 5.30</td><td>CNT  </td><td>330</td></tr>\n",
       "\t<tr><td>ST56</td><td>7</td><td>NAGM2</td><td>2011-110</td><td>NAGM </td><td>67</td><td>m</td><td>7.0</td><td>  NA</td><td>11.00</td><td>NAGM </td><td>660</td></tr>\n",
       "\t<tr><td>ST57</td><td>7</td><td>icGM1</td><td>2002-053</td><td>GML  </td><td>48</td><td>f</td><td>6.9</td><td>6.64</td><td> 5.50</td><td>GML  </td><td>350</td></tr>\n",
       "\t<tr><td>ST58</td><td>7</td><td>icGM5</td><td>2011-110</td><td>GML  </td><td>67</td><td>m</td><td>7.1</td><td>  NA</td><td>11.00</td><td>GML  </td><td>660</td></tr>\n",
       "\t<tr><td>ST59</td><td>8</td><td>cGM7 </td><td>2017-016</td><td>CNT  </td><td>72</td><td>m</td><td>6.2</td><td>6.45</td><td> 4.20</td><td>CNT  </td><td>260</td></tr>\n",
       "\t<tr><td>ST60</td><td>8</td><td>NAGM1</td><td>2010-082</td><td>NAGM </td><td>76</td><td>f</td><td>6.9</td><td>6.48</td><td> 7.55</td><td>NAGM </td><td>475</td></tr>\n",
       "\t<tr><td>ST61</td><td>8</td><td>icGM4</td><td>2010-082</td><td>GML  </td><td>76</td><td>f</td><td>7.4</td><td>6.48</td><td> 7.55</td><td>GML  </td><td>475</td></tr>\n",
       "\t<tr><td>ST62</td><td>8</td><td>spGM4</td><td>2015-082</td><td>GML  </td><td>47</td><td>f</td><td>5.7</td><td>5.78</td><td> 8.35</td><td>GML  </td><td>515</td></tr>\n",
       "\t<tr><td>ST63</td><td>9</td><td>cGM2 </td><td>1996-032</td><td>CNT  </td><td>60</td><td>f</td><td>8.4</td><td>6.60</td><td> 8.25</td><td>CNT  </td><td>505</td></tr>\n",
       "\t<tr><td>ST64</td><td>9</td><td>NAGM6</td><td>2015-064</td><td>NAGM </td><td>50</td><td>m</td><td>7.5</td><td>6.55</td><td>10.50</td><td>NAGM </td><td>650</td></tr>\n",
       "\t<tr><td>ST65</td><td>9</td><td>spGM7</td><td>2017-020</td><td>GML  </td><td>73</td><td>f</td><td>8.0</td><td>6.60</td><td>   NA</td><td>GML  </td><td> NA</td></tr>\n",
       "\t<tr><td>ST66</td><td>9</td><td>spGM3</td><td>2011-089</td><td>Leuko</td><td>64</td><td>m</td><td>7.6</td><td>6.49</td><td> 7.30</td><td>Leuko</td><td>450</td></tr>\n",
       "</tbody>\n",
       "</table>\n"
      ],
      "text/latex": [
       "A data.frame: 12 × 12\n",
       "\\begin{tabular}{llllllllllll}\n",
       " sample\\_ID & slide & sample\\_name & NBB & lesiontype & Age & Seks & RIN & brain\\_pH & PMI & Group & PMI\\_min\\\\\n",
       " <chr> & <int> & <chr> & <chr> & <chr> & <int> & <chr> & <dbl> & <dbl> & <dbl> & <chr> & <int>\\\\\n",
       "\\hline\n",
       "\t ST55 & 7 & cGM6  & 2017-005 & CNT   & 60 & f & 7.2 & 7.07 &  5.30 & CNT   & 330\\\\\n",
       "\t ST56 & 7 & NAGM2 & 2011-110 & NAGM  & 67 & m & 7.0 &   NA & 11.00 & NAGM  & 660\\\\\n",
       "\t ST57 & 7 & icGM1 & 2002-053 & GML   & 48 & f & 6.9 & 6.64 &  5.50 & GML   & 350\\\\\n",
       "\t ST58 & 7 & icGM5 & 2011-110 & GML   & 67 & m & 7.1 &   NA & 11.00 & GML   & 660\\\\\n",
       "\t ST59 & 8 & cGM7  & 2017-016 & CNT   & 72 & m & 6.2 & 6.45 &  4.20 & CNT   & 260\\\\\n",
       "\t ST60 & 8 & NAGM1 & 2010-082 & NAGM  & 76 & f & 6.9 & 6.48 &  7.55 & NAGM  & 475\\\\\n",
       "\t ST61 & 8 & icGM4 & 2010-082 & GML   & 76 & f & 7.4 & 6.48 &  7.55 & GML   & 475\\\\\n",
       "\t ST62 & 8 & spGM4 & 2015-082 & GML   & 47 & f & 5.7 & 5.78 &  8.35 & GML   & 515\\\\\n",
       "\t ST63 & 9 & cGM2  & 1996-032 & CNT   & 60 & f & 8.4 & 6.60 &  8.25 & CNT   & 505\\\\\n",
       "\t ST64 & 9 & NAGM6 & 2015-064 & NAGM  & 50 & m & 7.5 & 6.55 & 10.50 & NAGM  & 650\\\\\n",
       "\t ST65 & 9 & spGM7 & 2017-020 & GML   & 73 & f & 8.0 & 6.60 &    NA & GML   &  NA\\\\\n",
       "\t ST66 & 9 & spGM3 & 2011-089 & Leuko & 64 & m & 7.6 & 6.49 &  7.30 & Leuko & 450\\\\\n",
       "\\end{tabular}\n"
      ],
      "text/markdown": [
       "\n",
       "A data.frame: 12 × 12\n",
       "\n",
       "| sample_ID &lt;chr&gt; | slide &lt;int&gt; | sample_name &lt;chr&gt; | NBB &lt;chr&gt; | lesiontype &lt;chr&gt; | Age &lt;int&gt; | Seks &lt;chr&gt; | RIN &lt;dbl&gt; | brain_pH &lt;dbl&gt; | PMI &lt;dbl&gt; | Group &lt;chr&gt; | PMI_min &lt;int&gt; |\n",
       "|---|---|---|---|---|---|---|---|---|---|---|---|\n",
       "| ST55 | 7 | cGM6  | 2017-005 | CNT   | 60 | f | 7.2 | 7.07 |  5.30 | CNT   | 330 |\n",
       "| ST56 | 7 | NAGM2 | 2011-110 | NAGM  | 67 | m | 7.0 |   NA | 11.00 | NAGM  | 660 |\n",
       "| ST57 | 7 | icGM1 | 2002-053 | GML   | 48 | f | 6.9 | 6.64 |  5.50 | GML   | 350 |\n",
       "| ST58 | 7 | icGM5 | 2011-110 | GML   | 67 | m | 7.1 |   NA | 11.00 | GML   | 660 |\n",
       "| ST59 | 8 | cGM7  | 2017-016 | CNT   | 72 | m | 6.2 | 6.45 |  4.20 | CNT   | 260 |\n",
       "| ST60 | 8 | NAGM1 | 2010-082 | NAGM  | 76 | f | 6.9 | 6.48 |  7.55 | NAGM  | 475 |\n",
       "| ST61 | 8 | icGM4 | 2010-082 | GML   | 76 | f | 7.4 | 6.48 |  7.55 | GML   | 475 |\n",
       "| ST62 | 8 | spGM4 | 2015-082 | GML   | 47 | f | 5.7 | 5.78 |  8.35 | GML   | 515 |\n",
       "| ST63 | 9 | cGM2  | 1996-032 | CNT   | 60 | f | 8.4 | 6.60 |  8.25 | CNT   | 505 |\n",
       "| ST64 | 9 | NAGM6 | 2015-064 | NAGM  | 50 | m | 7.5 | 6.55 | 10.50 | NAGM  | 650 |\n",
       "| ST65 | 9 | spGM7 | 2017-020 | GML   | 73 | f | 8.0 | 6.60 |    NA | GML   |  NA |\n",
       "| ST66 | 9 | spGM3 | 2011-089 | Leuko | 64 | m | 7.6 | 6.49 |  7.30 | Leuko | 450 |\n",
       "\n"
      ],
      "text/plain": [
       "   sample_ID slide sample_name NBB      lesiontype Age Seks RIN brain_pH PMI  \n",
       "1  ST55      7     cGM6        2017-005 CNT        60  f    7.2 7.07      5.30\n",
       "2  ST56      7     NAGM2       2011-110 NAGM       67  m    7.0   NA     11.00\n",
       "3  ST57      7     icGM1       2002-053 GML        48  f    6.9 6.64      5.50\n",
       "4  ST58      7     icGM5       2011-110 GML        67  m    7.1   NA     11.00\n",
       "5  ST59      8     cGM7        2017-016 CNT        72  m    6.2 6.45      4.20\n",
       "6  ST60      8     NAGM1       2010-082 NAGM       76  f    6.9 6.48      7.55\n",
       "7  ST61      8     icGM4       2010-082 GML        76  f    7.4 6.48      7.55\n",
       "8  ST62      8     spGM4       2015-082 GML        47  f    5.7 5.78      8.35\n",
       "9  ST63      9     cGM2        1996-032 CNT        60  f    8.4 6.60      8.25\n",
       "10 ST64      9     NAGM6       2015-064 NAGM       50  m    7.5 6.55     10.50\n",
       "11 ST65      9     spGM7       2017-020 GML        73  f    8.0 6.60        NA\n",
       "12 ST66      9     spGM3       2011-089 Leuko      64  m    7.6 6.49      7.30\n",
       "   Group PMI_min\n",
       "1  CNT   330    \n",
       "2  NAGM  660    \n",
       "3  GML   350    \n",
       "4  GML   660    \n",
       "5  CNT   260    \n",
       "6  NAGM  475    \n",
       "7  GML   475    \n",
       "8  GML   515    \n",
       "9  CNT   505    \n",
       "10 NAGM  650    \n",
       "11 GML    NA    \n",
       "12 Leuko 450    "
      ]
     },
     "metadata": {},
     "output_type": "display_data"
    }
   ],
   "source": [
    "rm(list = ls())\n",
    "\n",
    "library(Seurat)\n",
    "library(hdf5r)\n",
    "library(ggplot2)\n",
    "library(patchwork)\n",
    "library(future)\n",
    "library(dplyr)\n",
    "library(RColorBrewer)\n",
    "path <- \"SET_THIS_TO_YOUR_SPACERANGER_OUTDIR\"\n",
    "setwd(path)\n",
    "\n",
    "meta <- read.csv(paste0(path, 'GM_Targetfile_withoutleuko.csv'), stringsAsFactors = F)\n",
    "meta"
   ]
  },
  {
   "cell_type": "code",
   "execution_count": 56,
   "metadata": {},
   "outputs": [
    {
     "data": {
      "text/html": [
       "<style>\n",
       ".list-inline {list-style: none; margin:0; padding: 0}\n",
       ".list-inline>li {display: inline-block}\n",
       ".list-inline>li:not(:last-child)::after {content: \"\\00b7\"; padding: 0 .5ex}\n",
       "</style>\n",
       "<ol class=list-inline><li>'ST55'</li><li>'ST56'</li><li>'ST57'</li><li>'ST58'</li><li>'ST59'</li><li>'ST60'</li><li>'ST61'</li><li>'ST62'</li><li>'ST63'</li><li>'ST64'</li><li>'ST65'</li><li>'ST66'</li></ol>\n"
      ],
      "text/latex": [
       "\\begin{enumerate*}\n",
       "\\item 'ST55'\n",
       "\\item 'ST56'\n",
       "\\item 'ST57'\n",
       "\\item 'ST58'\n",
       "\\item 'ST59'\n",
       "\\item 'ST60'\n",
       "\\item 'ST61'\n",
       "\\item 'ST62'\n",
       "\\item 'ST63'\n",
       "\\item 'ST64'\n",
       "\\item 'ST65'\n",
       "\\item 'ST66'\n",
       "\\end{enumerate*}\n"
      ],
      "text/markdown": [
       "1. 'ST55'\n",
       "2. 'ST56'\n",
       "3. 'ST57'\n",
       "4. 'ST58'\n",
       "5. 'ST59'\n",
       "6. 'ST60'\n",
       "7. 'ST61'\n",
       "8. 'ST62'\n",
       "9. 'ST63'\n",
       "10. 'ST64'\n",
       "11. 'ST65'\n",
       "12. 'ST66'\n",
       "\n",
       "\n"
      ],
      "text/plain": [
       " [1] \"ST55\" \"ST56\" \"ST57\" \"ST58\" \"ST59\" \"ST60\" \"ST61\" \"ST62\" \"ST63\" \"ST64\"\n",
       "[11] \"ST65\" \"ST66\""
      ]
     },
     "metadata": {},
     "output_type": "display_data"
    }
   ],
   "source": [
    "\n",
    "donors <- meta$sample_ID\n",
    "donors"
   ]
  },
  {
   "cell_type": "code",
   "execution_count": 62,
   "metadata": {},
   "outputs": [
    {
     "name": "stdout",
     "output_type": "stream",
     "text": [
      "[1] \"Reading data from: ST55\"\n"
     ]
    },
    {
     "name": "stderr",
     "output_type": "stream",
     "text": [
      "Warning message in sparseMatrix(i = indices[] + 1, p = indptr[], x = as.numeric(x = counts[]), :\n",
      "“'giveCsparse' has been deprecated; setting 'repr = \"T\"' for you”\n"
     ]
    },
    {
     "name": "stdout",
     "output_type": "stream",
     "text": [
      "[1] 33538  4831\n",
      "[1] \"Reading data from: ST56\"\n"
     ]
    },
    {
     "name": "stderr",
     "output_type": "stream",
     "text": [
      "Warning message in sparseMatrix(i = indices[] + 1, p = indptr[], x = as.numeric(x = counts[]), :\n",
      "“'giveCsparse' has been deprecated; setting 'repr = \"T\"' for you”\n"
     ]
    },
    {
     "name": "stdout",
     "output_type": "stream",
     "text": [
      "[1] 33538  4549\n",
      "[1] \"Reading data from: ST57\"\n"
     ]
    },
    {
     "name": "stderr",
     "output_type": "stream",
     "text": [
      "Warning message in sparseMatrix(i = indices[] + 1, p = indptr[], x = as.numeric(x = counts[]), :\n",
      "“'giveCsparse' has been deprecated; setting 'repr = \"T\"' for you”\n"
     ]
    },
    {
     "name": "stdout",
     "output_type": "stream",
     "text": [
      "[1] 33538  3167\n",
      "[1] \"Reading data from: ST58\"\n"
     ]
    },
    {
     "name": "stderr",
     "output_type": "stream",
     "text": [
      "Warning message in sparseMatrix(i = indices[] + 1, p = indptr[], x = as.numeric(x = counts[]), :\n",
      "“'giveCsparse' has been deprecated; setting 'repr = \"T\"' for you”\n"
     ]
    },
    {
     "name": "stdout",
     "output_type": "stream",
     "text": [
      "[1] 33538  3566\n",
      "[1] \"Reading data from: ST59\"\n"
     ]
    },
    {
     "name": "stderr",
     "output_type": "stream",
     "text": [
      "Warning message in sparseMatrix(i = indices[] + 1, p = indptr[], x = as.numeric(x = counts[]), :\n",
      "“'giveCsparse' has been deprecated; setting 'repr = \"T\"' for you”\n"
     ]
    },
    {
     "name": "stdout",
     "output_type": "stream",
     "text": [
      "[1] 33538  3225\n",
      "[1] \"Reading data from: ST60\"\n"
     ]
    },
    {
     "name": "stderr",
     "output_type": "stream",
     "text": [
      "Warning message in sparseMatrix(i = indices[] + 1, p = indptr[], x = as.numeric(x = counts[]), :\n",
      "“'giveCsparse' has been deprecated; setting 'repr = \"T\"' for you”\n"
     ]
    },
    {
     "name": "stdout",
     "output_type": "stream",
     "text": [
      "[1] 33538  3068\n",
      "[1] \"Reading data from: ST61\"\n"
     ]
    },
    {
     "name": "stderr",
     "output_type": "stream",
     "text": [
      "Warning message in sparseMatrix(i = indices[] + 1, p = indptr[], x = as.numeric(x = counts[]), :\n",
      "“'giveCsparse' has been deprecated; setting 'repr = \"T\"' for you”\n"
     ]
    },
    {
     "name": "stdout",
     "output_type": "stream",
     "text": [
      "[1] 33538  4673\n",
      "[1] \"Reading data from: ST62\"\n"
     ]
    },
    {
     "name": "stderr",
     "output_type": "stream",
     "text": [
      "Warning message in sparseMatrix(i = indices[] + 1, p = indptr[], x = as.numeric(x = counts[]), :\n",
      "“'giveCsparse' has been deprecated; setting 'repr = \"T\"' for you”\n"
     ]
    },
    {
     "name": "stdout",
     "output_type": "stream",
     "text": [
      "[1] 33538  4624\n",
      "[1] \"Reading data from: ST63\"\n"
     ]
    },
    {
     "name": "stderr",
     "output_type": "stream",
     "text": [
      "Warning message in sparseMatrix(i = indices[] + 1, p = indptr[], x = as.numeric(x = counts[]), :\n",
      "“'giveCsparse' has been deprecated; setting 'repr = \"T\"' for you”\n"
     ]
    },
    {
     "name": "stdout",
     "output_type": "stream",
     "text": [
      "[1] 33538  3459\n",
      "[1] \"Reading data from: ST64\"\n"
     ]
    },
    {
     "name": "stderr",
     "output_type": "stream",
     "text": [
      "Warning message in sparseMatrix(i = indices[] + 1, p = indptr[], x = as.numeric(x = counts[]), :\n",
      "“'giveCsparse' has been deprecated; setting 'repr = \"T\"' for you”\n"
     ]
    },
    {
     "name": "stdout",
     "output_type": "stream",
     "text": [
      "[1] 33538  3596\n",
      "[1] \"Reading data from: ST65\"\n"
     ]
    },
    {
     "name": "stderr",
     "output_type": "stream",
     "text": [
      "Warning message in sparseMatrix(i = indices[] + 1, p = indptr[], x = as.numeric(x = counts[]), :\n",
      "“'giveCsparse' has been deprecated; setting 'repr = \"T\"' for you”\n"
     ]
    },
    {
     "name": "stdout",
     "output_type": "stream",
     "text": [
      "[1] 33538  4325\n",
      "[1] \"Reading data from: ST66\"\n"
     ]
    },
    {
     "name": "stderr",
     "output_type": "stream",
     "text": [
      "Warning message in sparseMatrix(i = indices[] + 1, p = indptr[], x = as.numeric(x = counts[]), :\n",
      "“'giveCsparse' has been deprecated; setting 'repr = \"T\"' for you”\n"
     ]
    },
    {
     "name": "stdout",
     "output_type": "stream",
     "text": [
      "[1] 33538  4239\n"
     ]
    }
   ],
   "source": [
    "\n",
    "# read in the countfiles and metadata\n",
    "# Warning can be safely ignored “Some cells in meta.data not present in provided counts matrix.” This is because abacus has filtered cellbarcodes with no reads already and raw_feature_bc_matrix still includes thm\n",
    "\n",
    "if (file.exists(paste0(path, \"RData/1.datasets.rds\"))){\n",
    "    datasets <- readRDS(paste0(path, \"RData/1.datasets.rds\"))\n",
    "} else {\n",
    "    datasets <- list()\n",
    "    length(datasets) <- length(donors)\n",
    "}\n",
    "\n",
    "for (k in 1:length(donors)){\n",
    "   if (is.null(datasets[[k]])) {\n",
    "       print(paste0(\"Reading data from: \", donors[k]))\n",
    "       seu <- NULL\n",
    "       seu <- Load10X_Spatial(data.dir = paste0(\"./spaceranger_output/\", donors[k], \"-out/outs/\"), \n",
    "            filename = \"filtered_feature_bc_matrix.h5\",\n",
    "              assay = \"Spatial\",\n",
    "              slice = \"slice1\",\n",
    "              filter.matrix = TRUE,\n",
    "              to.upper = FALSE)\n",
    "       meta <- read.csv(paste0(path, 'GM_Targetfile.csv'), stringsAsFactors = F)\n",
    "#        tmp <- meta[meta$sample_ID == donors[k] , ]\n",
    "       seu$orig.ident <- donors[k]\n",
    "       seu$sample_ID <- meta$sample_ID[k]\n",
    "       seu$slide <- meta$slide[k]\n",
    "       seu$sample_name <- meta$sample_name[k]\n",
    "       seu$NBB <- meta$NBB[k]\n",
    "       seu$lesiontype <- meta$lesiontype[k]\n",
    "       seu$Age <- meta$Age[k]\n",
    "       seu$Seks <- meta$Seks[k]\n",
    "       seu$RIN <- meta$RIN[k]\n",
    "       seu$PMI_min <- meta$PMI_min[k]\n",
    "       seu$brain_pH <- meta$brain_pH[k]\n",
    "       seu$Group <- meta$Group[k]\n",
    "        print(dim(seu))\n",
    "       datasets[[k]] <- seu\n",
    "       }\n",
    "\telse {\n",
    "           print(paste0(\"Dataset already loaded or abacus file is missing: Skipping \", donors[k]))\n",
    "  }\n",
    "}"
   ]
  },
  {
   "cell_type": "code",
   "execution_count": 68,
   "metadata": {},
   "outputs": [
    {
     "name": "stdout",
     "output_type": "stream",
     "text": [
      "[1] 12\n"
     ]
    },
    {
     "data": {
      "text/html": [
       "<table class=\"dataframe\">\n",
       "<caption>A data.frame: 4549 × 14</caption>\n",
       "<thead>\n",
       "\t<tr><th></th><th scope=col>orig.ident</th><th scope=col>nCount_Spatial</th><th scope=col>nFeature_Spatial</th><th scope=col>sample_ID</th><th scope=col>slide</th><th scope=col>sample_name</th><th scope=col>NBB</th><th scope=col>lesiontype</th><th scope=col>Age</th><th scope=col>Seks</th><th scope=col>RIN</th><th scope=col>PMI_min</th><th scope=col>brain_pH</th><th scope=col>Group</th></tr>\n",
       "\t<tr><th></th><th scope=col>&lt;chr&gt;</th><th scope=col>&lt;dbl&gt;</th><th scope=col>&lt;int&gt;</th><th scope=col>&lt;chr&gt;</th><th scope=col>&lt;int&gt;</th><th scope=col>&lt;chr&gt;</th><th scope=col>&lt;chr&gt;</th><th scope=col>&lt;chr&gt;</th><th scope=col>&lt;int&gt;</th><th scope=col>&lt;chr&gt;</th><th scope=col>&lt;dbl&gt;</th><th scope=col>&lt;int&gt;</th><th scope=col>&lt;dbl&gt;</th><th scope=col>&lt;chr&gt;</th></tr>\n",
       "</thead>\n",
       "<tbody>\n",
       "\t<tr><th scope=row>AAACAACGAATAGTTC-1</th><td>ST56</td><td>23442</td><td>6265</td><td>ST56</td><td>7</td><td>NAGM2</td><td>2011-110</td><td>NAGM</td><td>67</td><td>m</td><td>7</td><td>660</td><td>NA</td><td>NAGM</td></tr>\n",
       "\t<tr><th scope=row>AAACAAGTATCTCCCA-1</th><td>ST56</td><td> 1445</td><td> 891</td><td>ST56</td><td>7</td><td>NAGM2</td><td>2011-110</td><td>NAGM</td><td>67</td><td>m</td><td>7</td><td>660</td><td>NA</td><td>NAGM</td></tr>\n",
       "\t<tr><th scope=row>AAACAATCTACTAGCA-1</th><td>ST56</td><td> 3011</td><td>1742</td><td>ST56</td><td>7</td><td>NAGM2</td><td>2011-110</td><td>NAGM</td><td>67</td><td>m</td><td>7</td><td>660</td><td>NA</td><td>NAGM</td></tr>\n",
       "\t<tr><th scope=row>AAACACCAATAACTGC-1</th><td>ST56</td><td> 4481</td><td>2137</td><td>ST56</td><td>7</td><td>NAGM2</td><td>2011-110</td><td>NAGM</td><td>67</td><td>m</td><td>7</td><td>660</td><td>NA</td><td>NAGM</td></tr>\n",
       "\t<tr><th scope=row>AAACAGAGCGACTCCT-1</th><td>ST56</td><td>  470</td><td> 350</td><td>ST56</td><td>7</td><td>NAGM2</td><td>2011-110</td><td>NAGM</td><td>67</td><td>m</td><td>7</td><td>660</td><td>NA</td><td>NAGM</td></tr>\n",
       "\t<tr><th scope=row>AAACAGCTTTCAGAAG-1</th><td>ST56</td><td> 7863</td><td>3088</td><td>ST56</td><td>7</td><td>NAGM2</td><td>2011-110</td><td>NAGM</td><td>67</td><td>m</td><td>7</td><td>660</td><td>NA</td><td>NAGM</td></tr>\n",
       "\t<tr><th scope=row>AAACAGGGTCTATATT-1</th><td>ST56</td><td>11474</td><td>4120</td><td>ST56</td><td>7</td><td>NAGM2</td><td>2011-110</td><td>NAGM</td><td>67</td><td>m</td><td>7</td><td>660</td><td>NA</td><td>NAGM</td></tr>\n",
       "\t<tr><th scope=row>AAACAGTGTTCCTGGG-1</th><td>ST56</td><td>12707</td><td>4461</td><td>ST56</td><td>7</td><td>NAGM2</td><td>2011-110</td><td>NAGM</td><td>67</td><td>m</td><td>7</td><td>660</td><td>NA</td><td>NAGM</td></tr>\n",
       "\t<tr><th scope=row>AAACATTTCCCGGATT-1</th><td>ST56</td><td> 3563</td><td>2005</td><td>ST56</td><td>7</td><td>NAGM2</td><td>2011-110</td><td>NAGM</td><td>67</td><td>m</td><td>7</td><td>660</td><td>NA</td><td>NAGM</td></tr>\n",
       "\t<tr><th scope=row>AAACCCGAACGAAATC-1</th><td>ST56</td><td>  394</td><td> 297</td><td>ST56</td><td>7</td><td>NAGM2</td><td>2011-110</td><td>NAGM</td><td>67</td><td>m</td><td>7</td><td>660</td><td>NA</td><td>NAGM</td></tr>\n",
       "\t<tr><th scope=row>AAACCGGAAATGTTAA-1</th><td>ST56</td><td> 1724</td><td>1111</td><td>ST56</td><td>7</td><td>NAGM2</td><td>2011-110</td><td>NAGM</td><td>67</td><td>m</td><td>7</td><td>660</td><td>NA</td><td>NAGM</td></tr>\n",
       "\t<tr><th scope=row>AAACCGGGTAGGTACC-1</th><td>ST56</td><td> 6755</td><td>2948</td><td>ST56</td><td>7</td><td>NAGM2</td><td>2011-110</td><td>NAGM</td><td>67</td><td>m</td><td>7</td><td>660</td><td>NA</td><td>NAGM</td></tr>\n",
       "\t<tr><th scope=row>AAACCGTTCGTCCAGG-1</th><td>ST56</td><td>10091</td><td>3814</td><td>ST56</td><td>7</td><td>NAGM2</td><td>2011-110</td><td>NAGM</td><td>67</td><td>m</td><td>7</td><td>660</td><td>NA</td><td>NAGM</td></tr>\n",
       "\t<tr><th scope=row>AAACCTAAGCAGCCGG-1</th><td>ST56</td><td>22384</td><td>5994</td><td>ST56</td><td>7</td><td>NAGM2</td><td>2011-110</td><td>NAGM</td><td>67</td><td>m</td><td>7</td><td>660</td><td>NA</td><td>NAGM</td></tr>\n",
       "\t<tr><th scope=row>AAACCTCATGAAGTTG-1</th><td>ST56</td><td> 6220</td><td>2646</td><td>ST56</td><td>7</td><td>NAGM2</td><td>2011-110</td><td>NAGM</td><td>67</td><td>m</td><td>7</td><td>660</td><td>NA</td><td>NAGM</td></tr>\n",
       "\t<tr><th scope=row>AAACGAAGAACATACC-1</th><td>ST56</td><td> 2560</td><td>1476</td><td>ST56</td><td>7</td><td>NAGM2</td><td>2011-110</td><td>NAGM</td><td>67</td><td>m</td><td>7</td><td>660</td><td>NA</td><td>NAGM</td></tr>\n",
       "\t<tr><th scope=row>AAACGAAGATGGAGTA-1</th><td>ST56</td><td> 1823</td><td>1050</td><td>ST56</td><td>7</td><td>NAGM2</td><td>2011-110</td><td>NAGM</td><td>67</td><td>m</td><td>7</td><td>660</td><td>NA</td><td>NAGM</td></tr>\n",
       "\t<tr><th scope=row>AAACGAGACGGTTGAT-1</th><td>ST56</td><td> 6542</td><td>2917</td><td>ST56</td><td>7</td><td>NAGM2</td><td>2011-110</td><td>NAGM</td><td>67</td><td>m</td><td>7</td><td>660</td><td>NA</td><td>NAGM</td></tr>\n",
       "\t<tr><th scope=row>AAACGCCCGAGATCGG-1</th><td>ST56</td><td>  260</td><td> 231</td><td>ST56</td><td>7</td><td>NAGM2</td><td>2011-110</td><td>NAGM</td><td>67</td><td>m</td><td>7</td><td>660</td><td>NA</td><td>NAGM</td></tr>\n",
       "\t<tr><th scope=row>AAACGGGCGTACGGGT-1</th><td>ST56</td><td>11982</td><td>4287</td><td>ST56</td><td>7</td><td>NAGM2</td><td>2011-110</td><td>NAGM</td><td>67</td><td>m</td><td>7</td><td>660</td><td>NA</td><td>NAGM</td></tr>\n",
       "\t<tr><th scope=row>AAACGGGTTGGTATCC-1</th><td>ST56</td><td> 6662</td><td>3007</td><td>ST56</td><td>7</td><td>NAGM2</td><td>2011-110</td><td>NAGM</td><td>67</td><td>m</td><td>7</td><td>660</td><td>NA</td><td>NAGM</td></tr>\n",
       "\t<tr><th scope=row>AAACGGTTGCGAACTG-1</th><td>ST56</td><td>21399</td><td>6058</td><td>ST56</td><td>7</td><td>NAGM2</td><td>2011-110</td><td>NAGM</td><td>67</td><td>m</td><td>7</td><td>660</td><td>NA</td><td>NAGM</td></tr>\n",
       "\t<tr><th scope=row>AAACGTGTTCGCCCTA-1</th><td>ST56</td><td> 1799</td><td>1188</td><td>ST56</td><td>7</td><td>NAGM2</td><td>2011-110</td><td>NAGM</td><td>67</td><td>m</td><td>7</td><td>660</td><td>NA</td><td>NAGM</td></tr>\n",
       "\t<tr><th scope=row>AAACTAACGTGGCGAC-1</th><td>ST56</td><td>  931</td><td> 627</td><td>ST56</td><td>7</td><td>NAGM2</td><td>2011-110</td><td>NAGM</td><td>67</td><td>m</td><td>7</td><td>660</td><td>NA</td><td>NAGM</td></tr>\n",
       "\t<tr><th scope=row>AAACTCGGTTCGCAAT-1</th><td>ST56</td><td>31621</td><td>7178</td><td>ST56</td><td>7</td><td>NAGM2</td><td>2011-110</td><td>NAGM</td><td>67</td><td>m</td><td>7</td><td>660</td><td>NA</td><td>NAGM</td></tr>\n",
       "\t<tr><th scope=row>AAACTCGTGATATAAG-1</th><td>ST56</td><td> 1571</td><td>1034</td><td>ST56</td><td>7</td><td>NAGM2</td><td>2011-110</td><td>NAGM</td><td>67</td><td>m</td><td>7</td><td>660</td><td>NA</td><td>NAGM</td></tr>\n",
       "\t<tr><th scope=row>AAACTGCTGGCTCCAA-1</th><td>ST56</td><td> 6400</td><td>2941</td><td>ST56</td><td>7</td><td>NAGM2</td><td>2011-110</td><td>NAGM</td><td>67</td><td>m</td><td>7</td><td>660</td><td>NA</td><td>NAGM</td></tr>\n",
       "\t<tr><th scope=row>AAACTTAATTGCACGC-1</th><td>ST56</td><td> 2331</td><td>1324</td><td>ST56</td><td>7</td><td>NAGM2</td><td>2011-110</td><td>NAGM</td><td>67</td><td>m</td><td>7</td><td>660</td><td>NA</td><td>NAGM</td></tr>\n",
       "\t<tr><th scope=row>AAACTTGCAAACGTAT-1</th><td>ST56</td><td> 8878</td><td>3460</td><td>ST56</td><td>7</td><td>NAGM2</td><td>2011-110</td><td>NAGM</td><td>67</td><td>m</td><td>7</td><td>660</td><td>NA</td><td>NAGM</td></tr>\n",
       "\t<tr><th scope=row>AAAGACCCAAGTCGCG-1</th><td>ST56</td><td> 5043</td><td>2383</td><td>ST56</td><td>7</td><td>NAGM2</td><td>2011-110</td><td>NAGM</td><td>67</td><td>m</td><td>7</td><td>660</td><td>NA</td><td>NAGM</td></tr>\n",
       "\t<tr><th scope=row>⋮</th><td>⋮</td><td>⋮</td><td>⋮</td><td>⋮</td><td>⋮</td><td>⋮</td><td>⋮</td><td>⋮</td><td>⋮</td><td>⋮</td><td>⋮</td><td>⋮</td><td>⋮</td><td>⋮</td></tr>\n",
       "\t<tr><th scope=row>TTGGTGCGGTGTTGAA-1</th><td>ST56</td><td>  814</td><td> 561</td><td>ST56</td><td>7</td><td>NAGM2</td><td>2011-110</td><td>NAGM</td><td>67</td><td>m</td><td>7</td><td>660</td><td>NA</td><td>NAGM</td></tr>\n",
       "\t<tr><th scope=row>TTGGTTCGCTCAAAGG-1</th><td>ST56</td><td> 1533</td><td>1071</td><td>ST56</td><td>7</td><td>NAGM2</td><td>2011-110</td><td>NAGM</td><td>67</td><td>m</td><td>7</td><td>660</td><td>NA</td><td>NAGM</td></tr>\n",
       "\t<tr><th scope=row>TTGGTTGCGGTGCGCG-1</th><td>ST56</td><td> 6581</td><td>2763</td><td>ST56</td><td>7</td><td>NAGM2</td><td>2011-110</td><td>NAGM</td><td>67</td><td>m</td><td>7</td><td>660</td><td>NA</td><td>NAGM</td></tr>\n",
       "\t<tr><th scope=row>TTGTAAGGACCTAAGT-1</th><td>ST56</td><td> 7619</td><td>3281</td><td>ST56</td><td>7</td><td>NAGM2</td><td>2011-110</td><td>NAGM</td><td>67</td><td>m</td><td>7</td><td>660</td><td>NA</td><td>NAGM</td></tr>\n",
       "\t<tr><th scope=row>TTGTAAGGCCAGTTGG-1</th><td>ST56</td><td> 1237</td><td> 833</td><td>ST56</td><td>7</td><td>NAGM2</td><td>2011-110</td><td>NAGM</td><td>67</td><td>m</td><td>7</td><td>660</td><td>NA</td><td>NAGM</td></tr>\n",
       "\t<tr><th scope=row>TTGTAATCCGTACTCG-1</th><td>ST56</td><td> 4152</td><td>2221</td><td>ST56</td><td>7</td><td>NAGM2</td><td>2011-110</td><td>NAGM</td><td>67</td><td>m</td><td>7</td><td>660</td><td>NA</td><td>NAGM</td></tr>\n",
       "\t<tr><th scope=row>TTGTACACCTCGAACA-1</th><td>ST56</td><td> 6040</td><td>2672</td><td>ST56</td><td>7</td><td>NAGM2</td><td>2011-110</td><td>NAGM</td><td>67</td><td>m</td><td>7</td><td>660</td><td>NA</td><td>NAGM</td></tr>\n",
       "\t<tr><th scope=row>TTGTATCACACAGAAT-1</th><td>ST56</td><td> 2036</td><td>1180</td><td>ST56</td><td>7</td><td>NAGM2</td><td>2011-110</td><td>NAGM</td><td>67</td><td>m</td><td>7</td><td>660</td><td>NA</td><td>NAGM</td></tr>\n",
       "\t<tr><th scope=row>TTGTCACCGCGGTATC-1</th><td>ST56</td><td> 2182</td><td>1228</td><td>ST56</td><td>7</td><td>NAGM2</td><td>2011-110</td><td>NAGM</td><td>67</td><td>m</td><td>7</td><td>660</td><td>NA</td><td>NAGM</td></tr>\n",
       "\t<tr><th scope=row>TTGTCGTTCAGTTACC-1</th><td>ST56</td><td> 3424</td><td>1929</td><td>ST56</td><td>7</td><td>NAGM2</td><td>2011-110</td><td>NAGM</td><td>67</td><td>m</td><td>7</td><td>660</td><td>NA</td><td>NAGM</td></tr>\n",
       "\t<tr><th scope=row>TTGTGAACCTAATCCG-1</th><td>ST56</td><td> 2823</td><td>1529</td><td>ST56</td><td>7</td><td>NAGM2</td><td>2011-110</td><td>NAGM</td><td>67</td><td>m</td><td>7</td><td>660</td><td>NA</td><td>NAGM</td></tr>\n",
       "\t<tr><th scope=row>TTGTGAGGCATGACGC-1</th><td>ST56</td><td> 6818</td><td>3051</td><td>ST56</td><td>7</td><td>NAGM2</td><td>2011-110</td><td>NAGM</td><td>67</td><td>m</td><td>7</td><td>660</td><td>NA</td><td>NAGM</td></tr>\n",
       "\t<tr><th scope=row>TTGTGATCTGTTCAGT-1</th><td>ST56</td><td> 4586</td><td>2245</td><td>ST56</td><td>7</td><td>NAGM2</td><td>2011-110</td><td>NAGM</td><td>67</td><td>m</td><td>7</td><td>660</td><td>NA</td><td>NAGM</td></tr>\n",
       "\t<tr><th scope=row>TTGTGCAGCCACGTCA-1</th><td>ST56</td><td> 5154</td><td>2352</td><td>ST56</td><td>7</td><td>NAGM2</td><td>2011-110</td><td>NAGM</td><td>67</td><td>m</td><td>7</td><td>660</td><td>NA</td><td>NAGM</td></tr>\n",
       "\t<tr><th scope=row>TTGTGCGGAAGCGGAT-1</th><td>ST56</td><td> 1440</td><td> 736</td><td>ST56</td><td>7</td><td>NAGM2</td><td>2011-110</td><td>NAGM</td><td>67</td><td>m</td><td>7</td><td>660</td><td>NA</td><td>NAGM</td></tr>\n",
       "\t<tr><th scope=row>TTGTGGCCCTGACAGT-1</th><td>ST56</td><td> 2413</td><td>1405</td><td>ST56</td><td>7</td><td>NAGM2</td><td>2011-110</td><td>NAGM</td><td>67</td><td>m</td><td>7</td><td>660</td><td>NA</td><td>NAGM</td></tr>\n",
       "\t<tr><th scope=row>TTGTGGTAGGAGGGAT-1</th><td>ST56</td><td>14508</td><td>4750</td><td>ST56</td><td>7</td><td>NAGM2</td><td>2011-110</td><td>NAGM</td><td>67</td><td>m</td><td>7</td><td>660</td><td>NA</td><td>NAGM</td></tr>\n",
       "\t<tr><th scope=row>TTGTGGTATAGGTATG-1</th><td>ST56</td><td>  254</td><td> 220</td><td>ST56</td><td>7</td><td>NAGM2</td><td>2011-110</td><td>NAGM</td><td>67</td><td>m</td><td>7</td><td>660</td><td>NA</td><td>NAGM</td></tr>\n",
       "\t<tr><th scope=row>TTGTGGTGGTACTAAG-1</th><td>ST56</td><td> 6961</td><td>3007</td><td>ST56</td><td>7</td><td>NAGM2</td><td>2011-110</td><td>NAGM</td><td>67</td><td>m</td><td>7</td><td>660</td><td>NA</td><td>NAGM</td></tr>\n",
       "\t<tr><th scope=row>TTGTGTATGCCACCAA-1</th><td>ST56</td><td> 4137</td><td>2072</td><td>ST56</td><td>7</td><td>NAGM2</td><td>2011-110</td><td>NAGM</td><td>67</td><td>m</td><td>7</td><td>660</td><td>NA</td><td>NAGM</td></tr>\n",
       "\t<tr><th scope=row>TTGTGTTTCCCGAAAG-1</th><td>ST56</td><td> 5968</td><td>2746</td><td>ST56</td><td>7</td><td>NAGM2</td><td>2011-110</td><td>NAGM</td><td>67</td><td>m</td><td>7</td><td>660</td><td>NA</td><td>NAGM</td></tr>\n",
       "\t<tr><th scope=row>TTGTTAGCAAATTCGA-1</th><td>ST56</td><td> 4024</td><td>2042</td><td>ST56</td><td>7</td><td>NAGM2</td><td>2011-110</td><td>NAGM</td><td>67</td><td>m</td><td>7</td><td>660</td><td>NA</td><td>NAGM</td></tr>\n",
       "\t<tr><th scope=row>TTGTTCAGTGTGCTAC-1</th><td>ST56</td><td> 1772</td><td>1095</td><td>ST56</td><td>7</td><td>NAGM2</td><td>2011-110</td><td>NAGM</td><td>67</td><td>m</td><td>7</td><td>660</td><td>NA</td><td>NAGM</td></tr>\n",
       "\t<tr><th scope=row>TTGTTCTAGATACGCT-1</th><td>ST56</td><td> 5249</td><td>2467</td><td>ST56</td><td>7</td><td>NAGM2</td><td>2011-110</td><td>NAGM</td><td>67</td><td>m</td><td>7</td><td>660</td><td>NA</td><td>NAGM</td></tr>\n",
       "\t<tr><th scope=row>TTGTTGTGTGTCAAGA-1</th><td>ST56</td><td> 2668</td><td>1570</td><td>ST56</td><td>7</td><td>NAGM2</td><td>2011-110</td><td>NAGM</td><td>67</td><td>m</td><td>7</td><td>660</td><td>NA</td><td>NAGM</td></tr>\n",
       "\t<tr><th scope=row>TTGTTTCACATCCAGG-1</th><td>ST56</td><td> 5088</td><td>2324</td><td>ST56</td><td>7</td><td>NAGM2</td><td>2011-110</td><td>NAGM</td><td>67</td><td>m</td><td>7</td><td>660</td><td>NA</td><td>NAGM</td></tr>\n",
       "\t<tr><th scope=row>TTGTTTCATTAGTCTA-1</th><td>ST56</td><td> 5107</td><td>2480</td><td>ST56</td><td>7</td><td>NAGM2</td><td>2011-110</td><td>NAGM</td><td>67</td><td>m</td><td>7</td><td>660</td><td>NA</td><td>NAGM</td></tr>\n",
       "\t<tr><th scope=row>TTGTTTCCATACAACT-1</th><td>ST56</td><td> 7989</td><td>3294</td><td>ST56</td><td>7</td><td>NAGM2</td><td>2011-110</td><td>NAGM</td><td>67</td><td>m</td><td>7</td><td>660</td><td>NA</td><td>NAGM</td></tr>\n",
       "\t<tr><th scope=row>TTGTTTGTATTACACG-1</th><td>ST56</td><td> 9512</td><td>3681</td><td>ST56</td><td>7</td><td>NAGM2</td><td>2011-110</td><td>NAGM</td><td>67</td><td>m</td><td>7</td><td>660</td><td>NA</td><td>NAGM</td></tr>\n",
       "\t<tr><th scope=row>TTGTTTGTGTAAATTC-1</th><td>ST56</td><td>10395</td><td>4196</td><td>ST56</td><td>7</td><td>NAGM2</td><td>2011-110</td><td>NAGM</td><td>67</td><td>m</td><td>7</td><td>660</td><td>NA</td><td>NAGM</td></tr>\n",
       "</tbody>\n",
       "</table>\n"
      ],
      "text/latex": [
       "A data.frame: 4549 × 14\n",
       "\\begin{tabular}{r|llllllllllllll}\n",
       "  & orig.ident & nCount\\_Spatial & nFeature\\_Spatial & sample\\_ID & slide & sample\\_name & NBB & lesiontype & Age & Seks & RIN & PMI\\_min & brain\\_pH & Group\\\\\n",
       "  & <chr> & <dbl> & <int> & <chr> & <int> & <chr> & <chr> & <chr> & <int> & <chr> & <dbl> & <int> & <dbl> & <chr>\\\\\n",
       "\\hline\n",
       "\tAAACAACGAATAGTTC-1 & ST56 & 23442 & 6265 & ST56 & 7 & NAGM2 & 2011-110 & NAGM & 67 & m & 7 & 660 & NA & NAGM\\\\\n",
       "\tAAACAAGTATCTCCCA-1 & ST56 &  1445 &  891 & ST56 & 7 & NAGM2 & 2011-110 & NAGM & 67 & m & 7 & 660 & NA & NAGM\\\\\n",
       "\tAAACAATCTACTAGCA-1 & ST56 &  3011 & 1742 & ST56 & 7 & NAGM2 & 2011-110 & NAGM & 67 & m & 7 & 660 & NA & NAGM\\\\\n",
       "\tAAACACCAATAACTGC-1 & ST56 &  4481 & 2137 & ST56 & 7 & NAGM2 & 2011-110 & NAGM & 67 & m & 7 & 660 & NA & NAGM\\\\\n",
       "\tAAACAGAGCGACTCCT-1 & ST56 &   470 &  350 & ST56 & 7 & NAGM2 & 2011-110 & NAGM & 67 & m & 7 & 660 & NA & NAGM\\\\\n",
       "\tAAACAGCTTTCAGAAG-1 & ST56 &  7863 & 3088 & ST56 & 7 & NAGM2 & 2011-110 & NAGM & 67 & m & 7 & 660 & NA & NAGM\\\\\n",
       "\tAAACAGGGTCTATATT-1 & ST56 & 11474 & 4120 & ST56 & 7 & NAGM2 & 2011-110 & NAGM & 67 & m & 7 & 660 & NA & NAGM\\\\\n",
       "\tAAACAGTGTTCCTGGG-1 & ST56 & 12707 & 4461 & ST56 & 7 & NAGM2 & 2011-110 & NAGM & 67 & m & 7 & 660 & NA & NAGM\\\\\n",
       "\tAAACATTTCCCGGATT-1 & ST56 &  3563 & 2005 & ST56 & 7 & NAGM2 & 2011-110 & NAGM & 67 & m & 7 & 660 & NA & NAGM\\\\\n",
       "\tAAACCCGAACGAAATC-1 & ST56 &   394 &  297 & ST56 & 7 & NAGM2 & 2011-110 & NAGM & 67 & m & 7 & 660 & NA & NAGM\\\\\n",
       "\tAAACCGGAAATGTTAA-1 & ST56 &  1724 & 1111 & ST56 & 7 & NAGM2 & 2011-110 & NAGM & 67 & m & 7 & 660 & NA & NAGM\\\\\n",
       "\tAAACCGGGTAGGTACC-1 & ST56 &  6755 & 2948 & ST56 & 7 & NAGM2 & 2011-110 & NAGM & 67 & m & 7 & 660 & NA & NAGM\\\\\n",
       "\tAAACCGTTCGTCCAGG-1 & ST56 & 10091 & 3814 & ST56 & 7 & NAGM2 & 2011-110 & NAGM & 67 & m & 7 & 660 & NA & NAGM\\\\\n",
       "\tAAACCTAAGCAGCCGG-1 & ST56 & 22384 & 5994 & ST56 & 7 & NAGM2 & 2011-110 & NAGM & 67 & m & 7 & 660 & NA & NAGM\\\\\n",
       "\tAAACCTCATGAAGTTG-1 & ST56 &  6220 & 2646 & ST56 & 7 & NAGM2 & 2011-110 & NAGM & 67 & m & 7 & 660 & NA & NAGM\\\\\n",
       "\tAAACGAAGAACATACC-1 & ST56 &  2560 & 1476 & ST56 & 7 & NAGM2 & 2011-110 & NAGM & 67 & m & 7 & 660 & NA & NAGM\\\\\n",
       "\tAAACGAAGATGGAGTA-1 & ST56 &  1823 & 1050 & ST56 & 7 & NAGM2 & 2011-110 & NAGM & 67 & m & 7 & 660 & NA & NAGM\\\\\n",
       "\tAAACGAGACGGTTGAT-1 & ST56 &  6542 & 2917 & ST56 & 7 & NAGM2 & 2011-110 & NAGM & 67 & m & 7 & 660 & NA & NAGM\\\\\n",
       "\tAAACGCCCGAGATCGG-1 & ST56 &   260 &  231 & ST56 & 7 & NAGM2 & 2011-110 & NAGM & 67 & m & 7 & 660 & NA & NAGM\\\\\n",
       "\tAAACGGGCGTACGGGT-1 & ST56 & 11982 & 4287 & ST56 & 7 & NAGM2 & 2011-110 & NAGM & 67 & m & 7 & 660 & NA & NAGM\\\\\n",
       "\tAAACGGGTTGGTATCC-1 & ST56 &  6662 & 3007 & ST56 & 7 & NAGM2 & 2011-110 & NAGM & 67 & m & 7 & 660 & NA & NAGM\\\\\n",
       "\tAAACGGTTGCGAACTG-1 & ST56 & 21399 & 6058 & ST56 & 7 & NAGM2 & 2011-110 & NAGM & 67 & m & 7 & 660 & NA & NAGM\\\\\n",
       "\tAAACGTGTTCGCCCTA-1 & ST56 &  1799 & 1188 & ST56 & 7 & NAGM2 & 2011-110 & NAGM & 67 & m & 7 & 660 & NA & NAGM\\\\\n",
       "\tAAACTAACGTGGCGAC-1 & ST56 &   931 &  627 & ST56 & 7 & NAGM2 & 2011-110 & NAGM & 67 & m & 7 & 660 & NA & NAGM\\\\\n",
       "\tAAACTCGGTTCGCAAT-1 & ST56 & 31621 & 7178 & ST56 & 7 & NAGM2 & 2011-110 & NAGM & 67 & m & 7 & 660 & NA & NAGM\\\\\n",
       "\tAAACTCGTGATATAAG-1 & ST56 &  1571 & 1034 & ST56 & 7 & NAGM2 & 2011-110 & NAGM & 67 & m & 7 & 660 & NA & NAGM\\\\\n",
       "\tAAACTGCTGGCTCCAA-1 & ST56 &  6400 & 2941 & ST56 & 7 & NAGM2 & 2011-110 & NAGM & 67 & m & 7 & 660 & NA & NAGM\\\\\n",
       "\tAAACTTAATTGCACGC-1 & ST56 &  2331 & 1324 & ST56 & 7 & NAGM2 & 2011-110 & NAGM & 67 & m & 7 & 660 & NA & NAGM\\\\\n",
       "\tAAACTTGCAAACGTAT-1 & ST56 &  8878 & 3460 & ST56 & 7 & NAGM2 & 2011-110 & NAGM & 67 & m & 7 & 660 & NA & NAGM\\\\\n",
       "\tAAAGACCCAAGTCGCG-1 & ST56 &  5043 & 2383 & ST56 & 7 & NAGM2 & 2011-110 & NAGM & 67 & m & 7 & 660 & NA & NAGM\\\\\n",
       "\t⋮ & ⋮ & ⋮ & ⋮ & ⋮ & ⋮ & ⋮ & ⋮ & ⋮ & ⋮ & ⋮ & ⋮ & ⋮ & ⋮ & ⋮\\\\\n",
       "\tTTGGTGCGGTGTTGAA-1 & ST56 &   814 &  561 & ST56 & 7 & NAGM2 & 2011-110 & NAGM & 67 & m & 7 & 660 & NA & NAGM\\\\\n",
       "\tTTGGTTCGCTCAAAGG-1 & ST56 &  1533 & 1071 & ST56 & 7 & NAGM2 & 2011-110 & NAGM & 67 & m & 7 & 660 & NA & NAGM\\\\\n",
       "\tTTGGTTGCGGTGCGCG-1 & ST56 &  6581 & 2763 & ST56 & 7 & NAGM2 & 2011-110 & NAGM & 67 & m & 7 & 660 & NA & NAGM\\\\\n",
       "\tTTGTAAGGACCTAAGT-1 & ST56 &  7619 & 3281 & ST56 & 7 & NAGM2 & 2011-110 & NAGM & 67 & m & 7 & 660 & NA & NAGM\\\\\n",
       "\tTTGTAAGGCCAGTTGG-1 & ST56 &  1237 &  833 & ST56 & 7 & NAGM2 & 2011-110 & NAGM & 67 & m & 7 & 660 & NA & NAGM\\\\\n",
       "\tTTGTAATCCGTACTCG-1 & ST56 &  4152 & 2221 & ST56 & 7 & NAGM2 & 2011-110 & NAGM & 67 & m & 7 & 660 & NA & NAGM\\\\\n",
       "\tTTGTACACCTCGAACA-1 & ST56 &  6040 & 2672 & ST56 & 7 & NAGM2 & 2011-110 & NAGM & 67 & m & 7 & 660 & NA & NAGM\\\\\n",
       "\tTTGTATCACACAGAAT-1 & ST56 &  2036 & 1180 & ST56 & 7 & NAGM2 & 2011-110 & NAGM & 67 & m & 7 & 660 & NA & NAGM\\\\\n",
       "\tTTGTCACCGCGGTATC-1 & ST56 &  2182 & 1228 & ST56 & 7 & NAGM2 & 2011-110 & NAGM & 67 & m & 7 & 660 & NA & NAGM\\\\\n",
       "\tTTGTCGTTCAGTTACC-1 & ST56 &  3424 & 1929 & ST56 & 7 & NAGM2 & 2011-110 & NAGM & 67 & m & 7 & 660 & NA & NAGM\\\\\n",
       "\tTTGTGAACCTAATCCG-1 & ST56 &  2823 & 1529 & ST56 & 7 & NAGM2 & 2011-110 & NAGM & 67 & m & 7 & 660 & NA & NAGM\\\\\n",
       "\tTTGTGAGGCATGACGC-1 & ST56 &  6818 & 3051 & ST56 & 7 & NAGM2 & 2011-110 & NAGM & 67 & m & 7 & 660 & NA & NAGM\\\\\n",
       "\tTTGTGATCTGTTCAGT-1 & ST56 &  4586 & 2245 & ST56 & 7 & NAGM2 & 2011-110 & NAGM & 67 & m & 7 & 660 & NA & NAGM\\\\\n",
       "\tTTGTGCAGCCACGTCA-1 & ST56 &  5154 & 2352 & ST56 & 7 & NAGM2 & 2011-110 & NAGM & 67 & m & 7 & 660 & NA & NAGM\\\\\n",
       "\tTTGTGCGGAAGCGGAT-1 & ST56 &  1440 &  736 & ST56 & 7 & NAGM2 & 2011-110 & NAGM & 67 & m & 7 & 660 & NA & NAGM\\\\\n",
       "\tTTGTGGCCCTGACAGT-1 & ST56 &  2413 & 1405 & ST56 & 7 & NAGM2 & 2011-110 & NAGM & 67 & m & 7 & 660 & NA & NAGM\\\\\n",
       "\tTTGTGGTAGGAGGGAT-1 & ST56 & 14508 & 4750 & ST56 & 7 & NAGM2 & 2011-110 & NAGM & 67 & m & 7 & 660 & NA & NAGM\\\\\n",
       "\tTTGTGGTATAGGTATG-1 & ST56 &   254 &  220 & ST56 & 7 & NAGM2 & 2011-110 & NAGM & 67 & m & 7 & 660 & NA & NAGM\\\\\n",
       "\tTTGTGGTGGTACTAAG-1 & ST56 &  6961 & 3007 & ST56 & 7 & NAGM2 & 2011-110 & NAGM & 67 & m & 7 & 660 & NA & NAGM\\\\\n",
       "\tTTGTGTATGCCACCAA-1 & ST56 &  4137 & 2072 & ST56 & 7 & NAGM2 & 2011-110 & NAGM & 67 & m & 7 & 660 & NA & NAGM\\\\\n",
       "\tTTGTGTTTCCCGAAAG-1 & ST56 &  5968 & 2746 & ST56 & 7 & NAGM2 & 2011-110 & NAGM & 67 & m & 7 & 660 & NA & NAGM\\\\\n",
       "\tTTGTTAGCAAATTCGA-1 & ST56 &  4024 & 2042 & ST56 & 7 & NAGM2 & 2011-110 & NAGM & 67 & m & 7 & 660 & NA & NAGM\\\\\n",
       "\tTTGTTCAGTGTGCTAC-1 & ST56 &  1772 & 1095 & ST56 & 7 & NAGM2 & 2011-110 & NAGM & 67 & m & 7 & 660 & NA & NAGM\\\\\n",
       "\tTTGTTCTAGATACGCT-1 & ST56 &  5249 & 2467 & ST56 & 7 & NAGM2 & 2011-110 & NAGM & 67 & m & 7 & 660 & NA & NAGM\\\\\n",
       "\tTTGTTGTGTGTCAAGA-1 & ST56 &  2668 & 1570 & ST56 & 7 & NAGM2 & 2011-110 & NAGM & 67 & m & 7 & 660 & NA & NAGM\\\\\n",
       "\tTTGTTTCACATCCAGG-1 & ST56 &  5088 & 2324 & ST56 & 7 & NAGM2 & 2011-110 & NAGM & 67 & m & 7 & 660 & NA & NAGM\\\\\n",
       "\tTTGTTTCATTAGTCTA-1 & ST56 &  5107 & 2480 & ST56 & 7 & NAGM2 & 2011-110 & NAGM & 67 & m & 7 & 660 & NA & NAGM\\\\\n",
       "\tTTGTTTCCATACAACT-1 & ST56 &  7989 & 3294 & ST56 & 7 & NAGM2 & 2011-110 & NAGM & 67 & m & 7 & 660 & NA & NAGM\\\\\n",
       "\tTTGTTTGTATTACACG-1 & ST56 &  9512 & 3681 & ST56 & 7 & NAGM2 & 2011-110 & NAGM & 67 & m & 7 & 660 & NA & NAGM\\\\\n",
       "\tTTGTTTGTGTAAATTC-1 & ST56 & 10395 & 4196 & ST56 & 7 & NAGM2 & 2011-110 & NAGM & 67 & m & 7 & 660 & NA & NAGM\\\\\n",
       "\\end{tabular}\n"
      ],
      "text/markdown": [
       "\n",
       "A data.frame: 4549 × 14\n",
       "\n",
       "| <!--/--> | orig.ident &lt;chr&gt; | nCount_Spatial &lt;dbl&gt; | nFeature_Spatial &lt;int&gt; | sample_ID &lt;chr&gt; | slide &lt;int&gt; | sample_name &lt;chr&gt; | NBB &lt;chr&gt; | lesiontype &lt;chr&gt; | Age &lt;int&gt; | Seks &lt;chr&gt; | RIN &lt;dbl&gt; | PMI_min &lt;int&gt; | brain_pH &lt;dbl&gt; | Group &lt;chr&gt; |\n",
       "|---|---|---|---|---|---|---|---|---|---|---|---|---|---|---|\n",
       "| AAACAACGAATAGTTC-1 | ST56 | 23442 | 6265 | ST56 | 7 | NAGM2 | 2011-110 | NAGM | 67 | m | 7 | 660 | NA | NAGM |\n",
       "| AAACAAGTATCTCCCA-1 | ST56 |  1445 |  891 | ST56 | 7 | NAGM2 | 2011-110 | NAGM | 67 | m | 7 | 660 | NA | NAGM |\n",
       "| AAACAATCTACTAGCA-1 | ST56 |  3011 | 1742 | ST56 | 7 | NAGM2 | 2011-110 | NAGM | 67 | m | 7 | 660 | NA | NAGM |\n",
       "| AAACACCAATAACTGC-1 | ST56 |  4481 | 2137 | ST56 | 7 | NAGM2 | 2011-110 | NAGM | 67 | m | 7 | 660 | NA | NAGM |\n",
       "| AAACAGAGCGACTCCT-1 | ST56 |   470 |  350 | ST56 | 7 | NAGM2 | 2011-110 | NAGM | 67 | m | 7 | 660 | NA | NAGM |\n",
       "| AAACAGCTTTCAGAAG-1 | ST56 |  7863 | 3088 | ST56 | 7 | NAGM2 | 2011-110 | NAGM | 67 | m | 7 | 660 | NA | NAGM |\n",
       "| AAACAGGGTCTATATT-1 | ST56 | 11474 | 4120 | ST56 | 7 | NAGM2 | 2011-110 | NAGM | 67 | m | 7 | 660 | NA | NAGM |\n",
       "| AAACAGTGTTCCTGGG-1 | ST56 | 12707 | 4461 | ST56 | 7 | NAGM2 | 2011-110 | NAGM | 67 | m | 7 | 660 | NA | NAGM |\n",
       "| AAACATTTCCCGGATT-1 | ST56 |  3563 | 2005 | ST56 | 7 | NAGM2 | 2011-110 | NAGM | 67 | m | 7 | 660 | NA | NAGM |\n",
       "| AAACCCGAACGAAATC-1 | ST56 |   394 |  297 | ST56 | 7 | NAGM2 | 2011-110 | NAGM | 67 | m | 7 | 660 | NA | NAGM |\n",
       "| AAACCGGAAATGTTAA-1 | ST56 |  1724 | 1111 | ST56 | 7 | NAGM2 | 2011-110 | NAGM | 67 | m | 7 | 660 | NA | NAGM |\n",
       "| AAACCGGGTAGGTACC-1 | ST56 |  6755 | 2948 | ST56 | 7 | NAGM2 | 2011-110 | NAGM | 67 | m | 7 | 660 | NA | NAGM |\n",
       "| AAACCGTTCGTCCAGG-1 | ST56 | 10091 | 3814 | ST56 | 7 | NAGM2 | 2011-110 | NAGM | 67 | m | 7 | 660 | NA | NAGM |\n",
       "| AAACCTAAGCAGCCGG-1 | ST56 | 22384 | 5994 | ST56 | 7 | NAGM2 | 2011-110 | NAGM | 67 | m | 7 | 660 | NA | NAGM |\n",
       "| AAACCTCATGAAGTTG-1 | ST56 |  6220 | 2646 | ST56 | 7 | NAGM2 | 2011-110 | NAGM | 67 | m | 7 | 660 | NA | NAGM |\n",
       "| AAACGAAGAACATACC-1 | ST56 |  2560 | 1476 | ST56 | 7 | NAGM2 | 2011-110 | NAGM | 67 | m | 7 | 660 | NA | NAGM |\n",
       "| AAACGAAGATGGAGTA-1 | ST56 |  1823 | 1050 | ST56 | 7 | NAGM2 | 2011-110 | NAGM | 67 | m | 7 | 660 | NA | NAGM |\n",
       "| AAACGAGACGGTTGAT-1 | ST56 |  6542 | 2917 | ST56 | 7 | NAGM2 | 2011-110 | NAGM | 67 | m | 7 | 660 | NA | NAGM |\n",
       "| AAACGCCCGAGATCGG-1 | ST56 |   260 |  231 | ST56 | 7 | NAGM2 | 2011-110 | NAGM | 67 | m | 7 | 660 | NA | NAGM |\n",
       "| AAACGGGCGTACGGGT-1 | ST56 | 11982 | 4287 | ST56 | 7 | NAGM2 | 2011-110 | NAGM | 67 | m | 7 | 660 | NA | NAGM |\n",
       "| AAACGGGTTGGTATCC-1 | ST56 |  6662 | 3007 | ST56 | 7 | NAGM2 | 2011-110 | NAGM | 67 | m | 7 | 660 | NA | NAGM |\n",
       "| AAACGGTTGCGAACTG-1 | ST56 | 21399 | 6058 | ST56 | 7 | NAGM2 | 2011-110 | NAGM | 67 | m | 7 | 660 | NA | NAGM |\n",
       "| AAACGTGTTCGCCCTA-1 | ST56 |  1799 | 1188 | ST56 | 7 | NAGM2 | 2011-110 | NAGM | 67 | m | 7 | 660 | NA | NAGM |\n",
       "| AAACTAACGTGGCGAC-1 | ST56 |   931 |  627 | ST56 | 7 | NAGM2 | 2011-110 | NAGM | 67 | m | 7 | 660 | NA | NAGM |\n",
       "| AAACTCGGTTCGCAAT-1 | ST56 | 31621 | 7178 | ST56 | 7 | NAGM2 | 2011-110 | NAGM | 67 | m | 7 | 660 | NA | NAGM |\n",
       "| AAACTCGTGATATAAG-1 | ST56 |  1571 | 1034 | ST56 | 7 | NAGM2 | 2011-110 | NAGM | 67 | m | 7 | 660 | NA | NAGM |\n",
       "| AAACTGCTGGCTCCAA-1 | ST56 |  6400 | 2941 | ST56 | 7 | NAGM2 | 2011-110 | NAGM | 67 | m | 7 | 660 | NA | NAGM |\n",
       "| AAACTTAATTGCACGC-1 | ST56 |  2331 | 1324 | ST56 | 7 | NAGM2 | 2011-110 | NAGM | 67 | m | 7 | 660 | NA | NAGM |\n",
       "| AAACTTGCAAACGTAT-1 | ST56 |  8878 | 3460 | ST56 | 7 | NAGM2 | 2011-110 | NAGM | 67 | m | 7 | 660 | NA | NAGM |\n",
       "| AAAGACCCAAGTCGCG-1 | ST56 |  5043 | 2383 | ST56 | 7 | NAGM2 | 2011-110 | NAGM | 67 | m | 7 | 660 | NA | NAGM |\n",
       "| ⋮ | ⋮ | ⋮ | ⋮ | ⋮ | ⋮ | ⋮ | ⋮ | ⋮ | ⋮ | ⋮ | ⋮ | ⋮ | ⋮ | ⋮ |\n",
       "| TTGGTGCGGTGTTGAA-1 | ST56 |   814 |  561 | ST56 | 7 | NAGM2 | 2011-110 | NAGM | 67 | m | 7 | 660 | NA | NAGM |\n",
       "| TTGGTTCGCTCAAAGG-1 | ST56 |  1533 | 1071 | ST56 | 7 | NAGM2 | 2011-110 | NAGM | 67 | m | 7 | 660 | NA | NAGM |\n",
       "| TTGGTTGCGGTGCGCG-1 | ST56 |  6581 | 2763 | ST56 | 7 | NAGM2 | 2011-110 | NAGM | 67 | m | 7 | 660 | NA | NAGM |\n",
       "| TTGTAAGGACCTAAGT-1 | ST56 |  7619 | 3281 | ST56 | 7 | NAGM2 | 2011-110 | NAGM | 67 | m | 7 | 660 | NA | NAGM |\n",
       "| TTGTAAGGCCAGTTGG-1 | ST56 |  1237 |  833 | ST56 | 7 | NAGM2 | 2011-110 | NAGM | 67 | m | 7 | 660 | NA | NAGM |\n",
       "| TTGTAATCCGTACTCG-1 | ST56 |  4152 | 2221 | ST56 | 7 | NAGM2 | 2011-110 | NAGM | 67 | m | 7 | 660 | NA | NAGM |\n",
       "| TTGTACACCTCGAACA-1 | ST56 |  6040 | 2672 | ST56 | 7 | NAGM2 | 2011-110 | NAGM | 67 | m | 7 | 660 | NA | NAGM |\n",
       "| TTGTATCACACAGAAT-1 | ST56 |  2036 | 1180 | ST56 | 7 | NAGM2 | 2011-110 | NAGM | 67 | m | 7 | 660 | NA | NAGM |\n",
       "| TTGTCACCGCGGTATC-1 | ST56 |  2182 | 1228 | ST56 | 7 | NAGM2 | 2011-110 | NAGM | 67 | m | 7 | 660 | NA | NAGM |\n",
       "| TTGTCGTTCAGTTACC-1 | ST56 |  3424 | 1929 | ST56 | 7 | NAGM2 | 2011-110 | NAGM | 67 | m | 7 | 660 | NA | NAGM |\n",
       "| TTGTGAACCTAATCCG-1 | ST56 |  2823 | 1529 | ST56 | 7 | NAGM2 | 2011-110 | NAGM | 67 | m | 7 | 660 | NA | NAGM |\n",
       "| TTGTGAGGCATGACGC-1 | ST56 |  6818 | 3051 | ST56 | 7 | NAGM2 | 2011-110 | NAGM | 67 | m | 7 | 660 | NA | NAGM |\n",
       "| TTGTGATCTGTTCAGT-1 | ST56 |  4586 | 2245 | ST56 | 7 | NAGM2 | 2011-110 | NAGM | 67 | m | 7 | 660 | NA | NAGM |\n",
       "| TTGTGCAGCCACGTCA-1 | ST56 |  5154 | 2352 | ST56 | 7 | NAGM2 | 2011-110 | NAGM | 67 | m | 7 | 660 | NA | NAGM |\n",
       "| TTGTGCGGAAGCGGAT-1 | ST56 |  1440 |  736 | ST56 | 7 | NAGM2 | 2011-110 | NAGM | 67 | m | 7 | 660 | NA | NAGM |\n",
       "| TTGTGGCCCTGACAGT-1 | ST56 |  2413 | 1405 | ST56 | 7 | NAGM2 | 2011-110 | NAGM | 67 | m | 7 | 660 | NA | NAGM |\n",
       "| TTGTGGTAGGAGGGAT-1 | ST56 | 14508 | 4750 | ST56 | 7 | NAGM2 | 2011-110 | NAGM | 67 | m | 7 | 660 | NA | NAGM |\n",
       "| TTGTGGTATAGGTATG-1 | ST56 |   254 |  220 | ST56 | 7 | NAGM2 | 2011-110 | NAGM | 67 | m | 7 | 660 | NA | NAGM |\n",
       "| TTGTGGTGGTACTAAG-1 | ST56 |  6961 | 3007 | ST56 | 7 | NAGM2 | 2011-110 | NAGM | 67 | m | 7 | 660 | NA | NAGM |\n",
       "| TTGTGTATGCCACCAA-1 | ST56 |  4137 | 2072 | ST56 | 7 | NAGM2 | 2011-110 | NAGM | 67 | m | 7 | 660 | NA | NAGM |\n",
       "| TTGTGTTTCCCGAAAG-1 | ST56 |  5968 | 2746 | ST56 | 7 | NAGM2 | 2011-110 | NAGM | 67 | m | 7 | 660 | NA | NAGM |\n",
       "| TTGTTAGCAAATTCGA-1 | ST56 |  4024 | 2042 | ST56 | 7 | NAGM2 | 2011-110 | NAGM | 67 | m | 7 | 660 | NA | NAGM |\n",
       "| TTGTTCAGTGTGCTAC-1 | ST56 |  1772 | 1095 | ST56 | 7 | NAGM2 | 2011-110 | NAGM | 67 | m | 7 | 660 | NA | NAGM |\n",
       "| TTGTTCTAGATACGCT-1 | ST56 |  5249 | 2467 | ST56 | 7 | NAGM2 | 2011-110 | NAGM | 67 | m | 7 | 660 | NA | NAGM |\n",
       "| TTGTTGTGTGTCAAGA-1 | ST56 |  2668 | 1570 | ST56 | 7 | NAGM2 | 2011-110 | NAGM | 67 | m | 7 | 660 | NA | NAGM |\n",
       "| TTGTTTCACATCCAGG-1 | ST56 |  5088 | 2324 | ST56 | 7 | NAGM2 | 2011-110 | NAGM | 67 | m | 7 | 660 | NA | NAGM |\n",
       "| TTGTTTCATTAGTCTA-1 | ST56 |  5107 | 2480 | ST56 | 7 | NAGM2 | 2011-110 | NAGM | 67 | m | 7 | 660 | NA | NAGM |\n",
       "| TTGTTTCCATACAACT-1 | ST56 |  7989 | 3294 | ST56 | 7 | NAGM2 | 2011-110 | NAGM | 67 | m | 7 | 660 | NA | NAGM |\n",
       "| TTGTTTGTATTACACG-1 | ST56 |  9512 | 3681 | ST56 | 7 | NAGM2 | 2011-110 | NAGM | 67 | m | 7 | 660 | NA | NAGM |\n",
       "| TTGTTTGTGTAAATTC-1 | ST56 | 10395 | 4196 | ST56 | 7 | NAGM2 | 2011-110 | NAGM | 67 | m | 7 | 660 | NA | NAGM |\n",
       "\n"
      ],
      "text/plain": [
       "                   orig.ident nCount_Spatial nFeature_Spatial sample_ID slide\n",
       "AAACAACGAATAGTTC-1 ST56       23442          6265             ST56      7    \n",
       "AAACAAGTATCTCCCA-1 ST56        1445           891             ST56      7    \n",
       "AAACAATCTACTAGCA-1 ST56        3011          1742             ST56      7    \n",
       "AAACACCAATAACTGC-1 ST56        4481          2137             ST56      7    \n",
       "AAACAGAGCGACTCCT-1 ST56         470           350             ST56      7    \n",
       "AAACAGCTTTCAGAAG-1 ST56        7863          3088             ST56      7    \n",
       "AAACAGGGTCTATATT-1 ST56       11474          4120             ST56      7    \n",
       "AAACAGTGTTCCTGGG-1 ST56       12707          4461             ST56      7    \n",
       "AAACATTTCCCGGATT-1 ST56        3563          2005             ST56      7    \n",
       "AAACCCGAACGAAATC-1 ST56         394           297             ST56      7    \n",
       "AAACCGGAAATGTTAA-1 ST56        1724          1111             ST56      7    \n",
       "AAACCGGGTAGGTACC-1 ST56        6755          2948             ST56      7    \n",
       "AAACCGTTCGTCCAGG-1 ST56       10091          3814             ST56      7    \n",
       "AAACCTAAGCAGCCGG-1 ST56       22384          5994             ST56      7    \n",
       "AAACCTCATGAAGTTG-1 ST56        6220          2646             ST56      7    \n",
       "AAACGAAGAACATACC-1 ST56        2560          1476             ST56      7    \n",
       "AAACGAAGATGGAGTA-1 ST56        1823          1050             ST56      7    \n",
       "AAACGAGACGGTTGAT-1 ST56        6542          2917             ST56      7    \n",
       "AAACGCCCGAGATCGG-1 ST56         260           231             ST56      7    \n",
       "AAACGGGCGTACGGGT-1 ST56       11982          4287             ST56      7    \n",
       "AAACGGGTTGGTATCC-1 ST56        6662          3007             ST56      7    \n",
       "AAACGGTTGCGAACTG-1 ST56       21399          6058             ST56      7    \n",
       "AAACGTGTTCGCCCTA-1 ST56        1799          1188             ST56      7    \n",
       "AAACTAACGTGGCGAC-1 ST56         931           627             ST56      7    \n",
       "AAACTCGGTTCGCAAT-1 ST56       31621          7178             ST56      7    \n",
       "AAACTCGTGATATAAG-1 ST56        1571          1034             ST56      7    \n",
       "AAACTGCTGGCTCCAA-1 ST56        6400          2941             ST56      7    \n",
       "AAACTTAATTGCACGC-1 ST56        2331          1324             ST56      7    \n",
       "AAACTTGCAAACGTAT-1 ST56        8878          3460             ST56      7    \n",
       "AAAGACCCAAGTCGCG-1 ST56        5043          2383             ST56      7    \n",
       "⋮                  ⋮          ⋮              ⋮                ⋮         ⋮    \n",
       "TTGGTGCGGTGTTGAA-1 ST56         814           561             ST56      7    \n",
       "TTGGTTCGCTCAAAGG-1 ST56        1533          1071             ST56      7    \n",
       "TTGGTTGCGGTGCGCG-1 ST56        6581          2763             ST56      7    \n",
       "TTGTAAGGACCTAAGT-1 ST56        7619          3281             ST56      7    \n",
       "TTGTAAGGCCAGTTGG-1 ST56        1237           833             ST56      7    \n",
       "TTGTAATCCGTACTCG-1 ST56        4152          2221             ST56      7    \n",
       "TTGTACACCTCGAACA-1 ST56        6040          2672             ST56      7    \n",
       "TTGTATCACACAGAAT-1 ST56        2036          1180             ST56      7    \n",
       "TTGTCACCGCGGTATC-1 ST56        2182          1228             ST56      7    \n",
       "TTGTCGTTCAGTTACC-1 ST56        3424          1929             ST56      7    \n",
       "TTGTGAACCTAATCCG-1 ST56        2823          1529             ST56      7    \n",
       "TTGTGAGGCATGACGC-1 ST56        6818          3051             ST56      7    \n",
       "TTGTGATCTGTTCAGT-1 ST56        4586          2245             ST56      7    \n",
       "TTGTGCAGCCACGTCA-1 ST56        5154          2352             ST56      7    \n",
       "TTGTGCGGAAGCGGAT-1 ST56        1440           736             ST56      7    \n",
       "TTGTGGCCCTGACAGT-1 ST56        2413          1405             ST56      7    \n",
       "TTGTGGTAGGAGGGAT-1 ST56       14508          4750             ST56      7    \n",
       "TTGTGGTATAGGTATG-1 ST56         254           220             ST56      7    \n",
       "TTGTGGTGGTACTAAG-1 ST56        6961          3007             ST56      7    \n",
       "TTGTGTATGCCACCAA-1 ST56        4137          2072             ST56      7    \n",
       "TTGTGTTTCCCGAAAG-1 ST56        5968          2746             ST56      7    \n",
       "TTGTTAGCAAATTCGA-1 ST56        4024          2042             ST56      7    \n",
       "TTGTTCAGTGTGCTAC-1 ST56        1772          1095             ST56      7    \n",
       "TTGTTCTAGATACGCT-1 ST56        5249          2467             ST56      7    \n",
       "TTGTTGTGTGTCAAGA-1 ST56        2668          1570             ST56      7    \n",
       "TTGTTTCACATCCAGG-1 ST56        5088          2324             ST56      7    \n",
       "TTGTTTCATTAGTCTA-1 ST56        5107          2480             ST56      7    \n",
       "TTGTTTCCATACAACT-1 ST56        7989          3294             ST56      7    \n",
       "TTGTTTGTATTACACG-1 ST56        9512          3681             ST56      7    \n",
       "TTGTTTGTGTAAATTC-1 ST56       10395          4196             ST56      7    \n",
       "                   sample_name NBB      lesiontype Age Seks RIN PMI_min\n",
       "AAACAACGAATAGTTC-1 NAGM2       2011-110 NAGM       67  m    7   660    \n",
       "AAACAAGTATCTCCCA-1 NAGM2       2011-110 NAGM       67  m    7   660    \n",
       "AAACAATCTACTAGCA-1 NAGM2       2011-110 NAGM       67  m    7   660    \n",
       "AAACACCAATAACTGC-1 NAGM2       2011-110 NAGM       67  m    7   660    \n",
       "AAACAGAGCGACTCCT-1 NAGM2       2011-110 NAGM       67  m    7   660    \n",
       "AAACAGCTTTCAGAAG-1 NAGM2       2011-110 NAGM       67  m    7   660    \n",
       "AAACAGGGTCTATATT-1 NAGM2       2011-110 NAGM       67  m    7   660    \n",
       "AAACAGTGTTCCTGGG-1 NAGM2       2011-110 NAGM       67  m    7   660    \n",
       "AAACATTTCCCGGATT-1 NAGM2       2011-110 NAGM       67  m    7   660    \n",
       "AAACCCGAACGAAATC-1 NAGM2       2011-110 NAGM       67  m    7   660    \n",
       "AAACCGGAAATGTTAA-1 NAGM2       2011-110 NAGM       67  m    7   660    \n",
       "AAACCGGGTAGGTACC-1 NAGM2       2011-110 NAGM       67  m    7   660    \n",
       "AAACCGTTCGTCCAGG-1 NAGM2       2011-110 NAGM       67  m    7   660    \n",
       "AAACCTAAGCAGCCGG-1 NAGM2       2011-110 NAGM       67  m    7   660    \n",
       "AAACCTCATGAAGTTG-1 NAGM2       2011-110 NAGM       67  m    7   660    \n",
       "AAACGAAGAACATACC-1 NAGM2       2011-110 NAGM       67  m    7   660    \n",
       "AAACGAAGATGGAGTA-1 NAGM2       2011-110 NAGM       67  m    7   660    \n",
       "AAACGAGACGGTTGAT-1 NAGM2       2011-110 NAGM       67  m    7   660    \n",
       "AAACGCCCGAGATCGG-1 NAGM2       2011-110 NAGM       67  m    7   660    \n",
       "AAACGGGCGTACGGGT-1 NAGM2       2011-110 NAGM       67  m    7   660    \n",
       "AAACGGGTTGGTATCC-1 NAGM2       2011-110 NAGM       67  m    7   660    \n",
       "AAACGGTTGCGAACTG-1 NAGM2       2011-110 NAGM       67  m    7   660    \n",
       "AAACGTGTTCGCCCTA-1 NAGM2       2011-110 NAGM       67  m    7   660    \n",
       "AAACTAACGTGGCGAC-1 NAGM2       2011-110 NAGM       67  m    7   660    \n",
       "AAACTCGGTTCGCAAT-1 NAGM2       2011-110 NAGM       67  m    7   660    \n",
       "AAACTCGTGATATAAG-1 NAGM2       2011-110 NAGM       67  m    7   660    \n",
       "AAACTGCTGGCTCCAA-1 NAGM2       2011-110 NAGM       67  m    7   660    \n",
       "AAACTTAATTGCACGC-1 NAGM2       2011-110 NAGM       67  m    7   660    \n",
       "AAACTTGCAAACGTAT-1 NAGM2       2011-110 NAGM       67  m    7   660    \n",
       "AAAGACCCAAGTCGCG-1 NAGM2       2011-110 NAGM       67  m    7   660    \n",
       "⋮                  ⋮           ⋮        ⋮          ⋮   ⋮    ⋮   ⋮      \n",
       "TTGGTGCGGTGTTGAA-1 NAGM2       2011-110 NAGM       67  m    7   660    \n",
       "TTGGTTCGCTCAAAGG-1 NAGM2       2011-110 NAGM       67  m    7   660    \n",
       "TTGGTTGCGGTGCGCG-1 NAGM2       2011-110 NAGM       67  m    7   660    \n",
       "TTGTAAGGACCTAAGT-1 NAGM2       2011-110 NAGM       67  m    7   660    \n",
       "TTGTAAGGCCAGTTGG-1 NAGM2       2011-110 NAGM       67  m    7   660    \n",
       "TTGTAATCCGTACTCG-1 NAGM2       2011-110 NAGM       67  m    7   660    \n",
       "TTGTACACCTCGAACA-1 NAGM2       2011-110 NAGM       67  m    7   660    \n",
       "TTGTATCACACAGAAT-1 NAGM2       2011-110 NAGM       67  m    7   660    \n",
       "TTGTCACCGCGGTATC-1 NAGM2       2011-110 NAGM       67  m    7   660    \n",
       "TTGTCGTTCAGTTACC-1 NAGM2       2011-110 NAGM       67  m    7   660    \n",
       "TTGTGAACCTAATCCG-1 NAGM2       2011-110 NAGM       67  m    7   660    \n",
       "TTGTGAGGCATGACGC-1 NAGM2       2011-110 NAGM       67  m    7   660    \n",
       "TTGTGATCTGTTCAGT-1 NAGM2       2011-110 NAGM       67  m    7   660    \n",
       "TTGTGCAGCCACGTCA-1 NAGM2       2011-110 NAGM       67  m    7   660    \n",
       "TTGTGCGGAAGCGGAT-1 NAGM2       2011-110 NAGM       67  m    7   660    \n",
       "TTGTGGCCCTGACAGT-1 NAGM2       2011-110 NAGM       67  m    7   660    \n",
       "TTGTGGTAGGAGGGAT-1 NAGM2       2011-110 NAGM       67  m    7   660    \n",
       "TTGTGGTATAGGTATG-1 NAGM2       2011-110 NAGM       67  m    7   660    \n",
       "TTGTGGTGGTACTAAG-1 NAGM2       2011-110 NAGM       67  m    7   660    \n",
       "TTGTGTATGCCACCAA-1 NAGM2       2011-110 NAGM       67  m    7   660    \n",
       "TTGTGTTTCCCGAAAG-1 NAGM2       2011-110 NAGM       67  m    7   660    \n",
       "TTGTTAGCAAATTCGA-1 NAGM2       2011-110 NAGM       67  m    7   660    \n",
       "TTGTTCAGTGTGCTAC-1 NAGM2       2011-110 NAGM       67  m    7   660    \n",
       "TTGTTCTAGATACGCT-1 NAGM2       2011-110 NAGM       67  m    7   660    \n",
       "TTGTTGTGTGTCAAGA-1 NAGM2       2011-110 NAGM       67  m    7   660    \n",
       "TTGTTTCACATCCAGG-1 NAGM2       2011-110 NAGM       67  m    7   660    \n",
       "TTGTTTCATTAGTCTA-1 NAGM2       2011-110 NAGM       67  m    7   660    \n",
       "TTGTTTCCATACAACT-1 NAGM2       2011-110 NAGM       67  m    7   660    \n",
       "TTGTTTGTATTACACG-1 NAGM2       2011-110 NAGM       67  m    7   660    \n",
       "TTGTTTGTGTAAATTC-1 NAGM2       2011-110 NAGM       67  m    7   660    \n",
       "                   brain_pH Group\n",
       "AAACAACGAATAGTTC-1 NA       NAGM \n",
       "AAACAAGTATCTCCCA-1 NA       NAGM \n",
       "AAACAATCTACTAGCA-1 NA       NAGM \n",
       "AAACACCAATAACTGC-1 NA       NAGM \n",
       "AAACAGAGCGACTCCT-1 NA       NAGM \n",
       "AAACAGCTTTCAGAAG-1 NA       NAGM \n",
       "AAACAGGGTCTATATT-1 NA       NAGM \n",
       "AAACAGTGTTCCTGGG-1 NA       NAGM \n",
       "AAACATTTCCCGGATT-1 NA       NAGM \n",
       "AAACCCGAACGAAATC-1 NA       NAGM \n",
       "AAACCGGAAATGTTAA-1 NA       NAGM \n",
       "AAACCGGGTAGGTACC-1 NA       NAGM \n",
       "AAACCGTTCGTCCAGG-1 NA       NAGM \n",
       "AAACCTAAGCAGCCGG-1 NA       NAGM \n",
       "AAACCTCATGAAGTTG-1 NA       NAGM \n",
       "AAACGAAGAACATACC-1 NA       NAGM \n",
       "AAACGAAGATGGAGTA-1 NA       NAGM \n",
       "AAACGAGACGGTTGAT-1 NA       NAGM \n",
       "AAACGCCCGAGATCGG-1 NA       NAGM \n",
       "AAACGGGCGTACGGGT-1 NA       NAGM \n",
       "AAACGGGTTGGTATCC-1 NA       NAGM \n",
       "AAACGGTTGCGAACTG-1 NA       NAGM \n",
       "AAACGTGTTCGCCCTA-1 NA       NAGM \n",
       "AAACTAACGTGGCGAC-1 NA       NAGM \n",
       "AAACTCGGTTCGCAAT-1 NA       NAGM \n",
       "AAACTCGTGATATAAG-1 NA       NAGM \n",
       "AAACTGCTGGCTCCAA-1 NA       NAGM \n",
       "AAACTTAATTGCACGC-1 NA       NAGM \n",
       "AAACTTGCAAACGTAT-1 NA       NAGM \n",
       "AAAGACCCAAGTCGCG-1 NA       NAGM \n",
       "⋮                  ⋮        ⋮    \n",
       "TTGGTGCGGTGTTGAA-1 NA       NAGM \n",
       "TTGGTTCGCTCAAAGG-1 NA       NAGM \n",
       "TTGGTTGCGGTGCGCG-1 NA       NAGM \n",
       "TTGTAAGGACCTAAGT-1 NA       NAGM \n",
       "TTGTAAGGCCAGTTGG-1 NA       NAGM \n",
       "TTGTAATCCGTACTCG-1 NA       NAGM \n",
       "TTGTACACCTCGAACA-1 NA       NAGM \n",
       "TTGTATCACACAGAAT-1 NA       NAGM \n",
       "TTGTCACCGCGGTATC-1 NA       NAGM \n",
       "TTGTCGTTCAGTTACC-1 NA       NAGM \n",
       "TTGTGAACCTAATCCG-1 NA       NAGM \n",
       "TTGTGAGGCATGACGC-1 NA       NAGM \n",
       "TTGTGATCTGTTCAGT-1 NA       NAGM \n",
       "TTGTGCAGCCACGTCA-1 NA       NAGM \n",
       "TTGTGCGGAAGCGGAT-1 NA       NAGM \n",
       "TTGTGGCCCTGACAGT-1 NA       NAGM \n",
       "TTGTGGTAGGAGGGAT-1 NA       NAGM \n",
       "TTGTGGTATAGGTATG-1 NA       NAGM \n",
       "TTGTGGTGGTACTAAG-1 NA       NAGM \n",
       "TTGTGTATGCCACCAA-1 NA       NAGM \n",
       "TTGTGTTTCCCGAAAG-1 NA       NAGM \n",
       "TTGTTAGCAAATTCGA-1 NA       NAGM \n",
       "TTGTTCAGTGTGCTAC-1 NA       NAGM \n",
       "TTGTTCTAGATACGCT-1 NA       NAGM \n",
       "TTGTTGTGTGTCAAGA-1 NA       NAGM \n",
       "TTGTTTCACATCCAGG-1 NA       NAGM \n",
       "TTGTTTCATTAGTCTA-1 NA       NAGM \n",
       "TTGTTTCCATACAACT-1 NA       NAGM \n",
       "TTGTTTGTATTACACG-1 NA       NAGM \n",
       "TTGTTTGTGTAAATTC-1 NA       NAGM "
      ]
     },
     "metadata": {},
     "output_type": "display_data"
    }
   ],
   "source": [
    "# checks\n",
    "print(length(datasets))\n",
    "datasets[[2]]@meta.data"
   ]
  },
  {
   "cell_type": "code",
   "execution_count": 69,
   "metadata": {},
   "outputs": [],
   "source": [
    "saveRDS(datasets, paste0(path,'RData/1.datasets.rds'))"
   ]
  },
  {
   "cell_type": "code",
   "execution_count": 1,
   "metadata": {},
   "outputs": [
    {
     "data": {
      "text/plain": [
       "R version 4.2.0 (2022-04-22)\n",
       "Platform: x86_64-conda-linux-gnu (64-bit)\n",
       "Running under: Ubuntu 20.04.5 LTS\n",
       "\n",
       "Matrix products: default\n",
       "BLAS/LAPACK: /data/bcn/p283607/anaconda3/envs/R4.2/lib/libopenblasp-r0.3.21.so\n",
       "\n",
       "locale:\n",
       " [1] LC_CTYPE=en_US.UTF-8       LC_NUMERIC=C              \n",
       " [3] LC_TIME=en_US.UTF-8        LC_COLLATE=en_US.UTF-8    \n",
       " [5] LC_MONETARY=en_US.UTF-8    LC_MESSAGES=en_US.UTF-8   \n",
       " [7] LC_PAPER=en_US.UTF-8       LC_NAME=C                 \n",
       " [9] LC_ADDRESS=C               LC_TELEPHONE=C            \n",
       "[11] LC_MEASUREMENT=en_US.UTF-8 LC_IDENTIFICATION=C       \n",
       "\n",
       "attached base packages:\n",
       "[1] stats     graphics  grDevices utils     datasets  methods   base     \n",
       "\n",
       "loaded via a namespace (and not attached):\n",
       " [1] fansi_1.0.6     crayon_1.5.2    digest_0.6.33   utf8_1.2.4     \n",
       " [5] IRdisplay_1.1   repr_1.1.4      lifecycle_1.0.4 jsonlite_1.8.7 \n",
       " [9] evaluate_0.23   pillar_1.9.0    rlang_1.1.3     cli_3.6.2      \n",
       "[13] uuid_1.1-0      vctrs_0.6.5     IRkernel_1.3.1  tools_4.2.0    \n",
       "[17] glue_1.7.0      fastmap_1.1.1   compiler_4.2.0  base64enc_0.1-3\n",
       "[21] pbdZMQ_0.3-8    htmltools_0.5.7"
      ]
     },
     "metadata": {},
     "output_type": "display_data"
    }
   ],
   "source": [
    "sessionInfo()"
   ]
  }
 ],
 "metadata": {
  "kernelspec": {
   "display_name": "R4.2",
   "language": "R",
   "name": "ir"
  },
  "language_info": {
   "codemirror_mode": "r",
   "file_extension": ".r",
   "mimetype": "text/x-r-source",
   "name": "R",
   "pygments_lexer": "r",
   "version": "4.2.0"
  }
 },
 "nbformat": 4,
 "nbformat_minor": 4
}
