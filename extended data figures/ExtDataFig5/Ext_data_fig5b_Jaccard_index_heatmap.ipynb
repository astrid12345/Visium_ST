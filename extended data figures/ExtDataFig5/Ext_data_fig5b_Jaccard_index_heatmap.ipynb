{
 "cells": [
  {
   "cell_type": "code",
   "execution_count": null,
   "metadata": {},
   "outputs": [],
   "source": [
    "# install_github(\"https://github.com/MarcElosua/SPOTlight\" lib = \"/data/bcn/p283607/R/x86_64-pc-linux-gnu-library/4.1/\")"
   ]
  },
  {
   "cell_type": "code",
   "execution_count": null,
   "metadata": {},
   "outputs": [],
   "source": [
    "########################################################################\n",
    "# Author    : A. Alsema\n",
    "# Date      : May 2023\n",
    "# Dataset   : Visium Spatial Transcriptomics for MS lesions\n",
    "# Purpose   : count co-occurence of cell types in the same spatial spot\n",
    "# Output    : heatmap with Jaccard index, corresponding to extended data 5\n",
    "#########################################################################"
   ]
  },
  {
   "cell_type": "code",
   "execution_count": 111,
   "metadata": {},
   "outputs": [],
   "source": [
    "rm(list =ls())\n",
    "setwd(\"/data/bcn/Datasets/ST_WM/\")\n",
    "library(SPOTlight)\n",
    "library(matrixStats)\n",
    "library(RColorBrewer)\n",
    "# heatmap colors \n",
    "colfunc <- colorRampPalette(c(\"steelblue\", \"slategray2\", \"white\", \"tan1\", \"firebrick3\"))\n",
    "heatmap_cols <- colfunc(20)"
   ]
  },
  {
   "cell_type": "code",
   "execution_count": 112,
   "metadata": {
    "collapsed": true,
    "jupyter": {
     "outputs_hidden": true
    }
   },
   "outputs": [
    {
     "data": {
      "text/html": [
       "<table class=\"dataframe\">\n",
       "<caption>A data.frame: 2 × 8</caption>\n",
       "<thead>\n",
       "\t<tr><th></th><th scope=col>ExNeurons</th><th scope=col>GM.astrocytes</th><th scope=col>InhNeurons</th><th scope=col>microglia.macrophages</th><th scope=col>Oligodendrocytes</th><th scope=col>OPCs</th><th scope=col>Vasculature</th><th scope=col>WM.astrocytes</th></tr>\n",
       "\t<tr><th></th><th scope=col>&lt;dbl&gt;</th><th scope=col>&lt;dbl&gt;</th><th scope=col>&lt;dbl&gt;</th><th scope=col>&lt;dbl&gt;</th><th scope=col>&lt;dbl&gt;</th><th scope=col>&lt;dbl&gt;</th><th scope=col>&lt;dbl&gt;</th><th scope=col>&lt;dbl&gt;</th></tr>\n",
       "</thead>\n",
       "<tbody>\n",
       "\t<tr><th scope=row>M1_CGGGTTGTAGCTTTGG-1</th><td>0</td><td>0.1334392</td><td>0</td><td>0.2700976</td><td>0.1122721</td><td>0.2020036</td><td>0.0000000</td><td>0.2821875</td></tr>\n",
       "\t<tr><th scope=row>M1_TCTGTGACTGACCGTT-1</th><td>0</td><td>0.0000000</td><td>0</td><td>0.3322521</td><td>0.1562352</td><td>0.0000000</td><td>0.2216717</td><td>0.2898409</td></tr>\n",
       "</tbody>\n",
       "</table>\n"
      ],
      "text/latex": [
       "A data.frame: 2 × 8\n",
       "\\begin{tabular}{r|llllllll}\n",
       "  & ExNeurons & GM.astrocytes & InhNeurons & microglia.macrophages & Oligodendrocytes & OPCs & Vasculature & WM.astrocytes\\\\\n",
       "  & <dbl> & <dbl> & <dbl> & <dbl> & <dbl> & <dbl> & <dbl> & <dbl>\\\\\n",
       "\\hline\n",
       "\tM1\\_CGGGTTGTAGCTTTGG-1 & 0 & 0.1334392 & 0 & 0.2700976 & 0.1122721 & 0.2020036 & 0.0000000 & 0.2821875\\\\\n",
       "\tM1\\_TCTGTGACTGACCGTT-1 & 0 & 0.0000000 & 0 & 0.3322521 & 0.1562352 & 0.0000000 & 0.2216717 & 0.2898409\\\\\n",
       "\\end{tabular}\n"
      ],
      "text/markdown": [
       "\n",
       "A data.frame: 2 × 8\n",
       "\n",
       "| <!--/--> | ExNeurons &lt;dbl&gt; | GM.astrocytes &lt;dbl&gt; | InhNeurons &lt;dbl&gt; | microglia.macrophages &lt;dbl&gt; | Oligodendrocytes &lt;dbl&gt; | OPCs &lt;dbl&gt; | Vasculature &lt;dbl&gt; | WM.astrocytes &lt;dbl&gt; |\n",
       "|---|---|---|---|---|---|---|---|---|\n",
       "| M1_CGGGTTGTAGCTTTGG-1 | 0 | 0.1334392 | 0 | 0.2700976 | 0.1122721 | 0.2020036 | 0.0000000 | 0.2821875 |\n",
       "| M1_TCTGTGACTGACCGTT-1 | 0 | 0.0000000 | 0 | 0.3322521 | 0.1562352 | 0.0000000 | 0.2216717 | 0.2898409 |\n",
       "\n"
      ],
      "text/plain": [
       "                      ExNeurons GM.astrocytes InhNeurons microglia.macrophages\n",
       "M1_CGGGTTGTAGCTTTGG-1 0         0.1334392     0          0.2700976            \n",
       "M1_TCTGTGACTGACCGTT-1 0         0.0000000     0          0.3322521            \n",
       "                      Oligodendrocytes OPCs      Vasculature WM.astrocytes\n",
       "M1_CGGGTTGTAGCTTTGG-1 0.1122721        0.2020036 0.0000000   0.2821875    \n",
       "M1_TCTGTGACTGACCGTT-1 0.1562352        0.0000000 0.2216717   0.2898409    "
      ]
     },
     "metadata": {},
     "output_type": "display_data"
    },
    {
     "data": {
      "text/html": [
       "<table class=\"dataframe\">\n",
       "<caption>A data.frame: 2 × 8</caption>\n",
       "<thead>\n",
       "\t<tr><th></th><th scope=col>ExNeurons</th><th scope=col>GM.astrocytes</th><th scope=col>InhNeurons</th><th scope=col>microglia.macrophages</th><th scope=col>Oligodendrocytes</th><th scope=col>OPCs</th><th scope=col>Vasculature</th><th scope=col>WM.astrocytes</th></tr>\n",
       "\t<tr><th></th><th scope=col>&lt;dbl&gt;</th><th scope=col>&lt;dbl&gt;</th><th scope=col>&lt;dbl&gt;</th><th scope=col>&lt;dbl&gt;</th><th scope=col>&lt;dbl&gt;</th><th scope=col>&lt;dbl&gt;</th><th scope=col>&lt;dbl&gt;</th><th scope=col>&lt;dbl&gt;</th></tr>\n",
       "</thead>\n",
       "<tbody>\n",
       "\t<tr><th scope=row>M2_CACCCTTTCCTCGCTC-1</th><td>0</td><td>0.1140215</td><td>0</td><td>0.0000000</td><td>0.2193818</td><td>0</td><td>0.1867045</td><td>0.4798922</td></tr>\n",
       "\t<tr><th scope=row>M2_CAACTTGTAGTGGGCA-1</th><td>0</td><td>0.0000000</td><td>0</td><td>0.1510265</td><td>0.3088150</td><td>0</td><td>0.1448671</td><td>0.3952914</td></tr>\n",
       "</tbody>\n",
       "</table>\n"
      ],
      "text/latex": [
       "A data.frame: 2 × 8\n",
       "\\begin{tabular}{r|llllllll}\n",
       "  & ExNeurons & GM.astrocytes & InhNeurons & microglia.macrophages & Oligodendrocytes & OPCs & Vasculature & WM.astrocytes\\\\\n",
       "  & <dbl> & <dbl> & <dbl> & <dbl> & <dbl> & <dbl> & <dbl> & <dbl>\\\\\n",
       "\\hline\n",
       "\tM2\\_CACCCTTTCCTCGCTC-1 & 0 & 0.1140215 & 0 & 0.0000000 & 0.2193818 & 0 & 0.1867045 & 0.4798922\\\\\n",
       "\tM2\\_CAACTTGTAGTGGGCA-1 & 0 & 0.0000000 & 0 & 0.1510265 & 0.3088150 & 0 & 0.1448671 & 0.3952914\\\\\n",
       "\\end{tabular}\n"
      ],
      "text/markdown": [
       "\n",
       "A data.frame: 2 × 8\n",
       "\n",
       "| <!--/--> | ExNeurons &lt;dbl&gt; | GM.astrocytes &lt;dbl&gt; | InhNeurons &lt;dbl&gt; | microglia.macrophages &lt;dbl&gt; | Oligodendrocytes &lt;dbl&gt; | OPCs &lt;dbl&gt; | Vasculature &lt;dbl&gt; | WM.astrocytes &lt;dbl&gt; |\n",
       "|---|---|---|---|---|---|---|---|---|\n",
       "| M2_CACCCTTTCCTCGCTC-1 | 0 | 0.1140215 | 0 | 0.0000000 | 0.2193818 | 0 | 0.1867045 | 0.4798922 |\n",
       "| M2_CAACTTGTAGTGGGCA-1 | 0 | 0.0000000 | 0 | 0.1510265 | 0.3088150 | 0 | 0.1448671 | 0.3952914 |\n",
       "\n"
      ],
      "text/plain": [
       "                      ExNeurons GM.astrocytes InhNeurons microglia.macrophages\n",
       "M2_CACCCTTTCCTCGCTC-1 0         0.1140215     0          0.0000000            \n",
       "M2_CAACTTGTAGTGGGCA-1 0         0.0000000     0          0.1510265            \n",
       "                      Oligodendrocytes OPCs Vasculature WM.astrocytes\n",
       "M2_CACCCTTTCCTCGCTC-1 0.2193818        0    0.1867045   0.4798922    \n",
       "M2_CAACTTGTAGTGGGCA-1 0.3088150        0    0.1448671   0.3952914    "
      ]
     },
     "metadata": {},
     "output_type": "display_data"
    },
    {
     "data": {
      "text/html": [
       "<table class=\"dataframe\">\n",
       "<caption>A data.frame: 2 × 8</caption>\n",
       "<thead>\n",
       "\t<tr><th></th><th scope=col>ExNeurons</th><th scope=col>GM.astrocytes</th><th scope=col>InhNeurons</th><th scope=col>microglia.macrophages</th><th scope=col>Oligodendrocytes</th><th scope=col>OPCs</th><th scope=col>Vasculature</th><th scope=col>WM.astrocytes</th></tr>\n",
       "\t<tr><th></th><th scope=col>&lt;dbl&gt;</th><th scope=col>&lt;dbl&gt;</th><th scope=col>&lt;dbl&gt;</th><th scope=col>&lt;dbl&gt;</th><th scope=col>&lt;dbl&gt;</th><th scope=col>&lt;dbl&gt;</th><th scope=col>&lt;dbl&gt;</th><th scope=col>&lt;dbl&gt;</th></tr>\n",
       "</thead>\n",
       "<tbody>\n",
       "\t<tr><th scope=row>M3_TAGGAACAGCCTCCAG-1</th><td>0</td><td>0</td><td>0</td><td>0.2412497</td><td>0.2099107</td><td>0</td><td>0.1686072</td><td>0.3802324</td></tr>\n",
       "\t<tr><th scope=row>M3_ATGGGAACGGAAGCGG-1</th><td>0</td><td>0</td><td>0</td><td>0.1904130</td><td>0.0000000</td><td>0</td><td>0.6397366</td><td>0.1698503</td></tr>\n",
       "</tbody>\n",
       "</table>\n"
      ],
      "text/latex": [
       "A data.frame: 2 × 8\n",
       "\\begin{tabular}{r|llllllll}\n",
       "  & ExNeurons & GM.astrocytes & InhNeurons & microglia.macrophages & Oligodendrocytes & OPCs & Vasculature & WM.astrocytes\\\\\n",
       "  & <dbl> & <dbl> & <dbl> & <dbl> & <dbl> & <dbl> & <dbl> & <dbl>\\\\\n",
       "\\hline\n",
       "\tM3\\_TAGGAACAGCCTCCAG-1 & 0 & 0 & 0 & 0.2412497 & 0.2099107 & 0 & 0.1686072 & 0.3802324\\\\\n",
       "\tM3\\_ATGGGAACGGAAGCGG-1 & 0 & 0 & 0 & 0.1904130 & 0.0000000 & 0 & 0.6397366 & 0.1698503\\\\\n",
       "\\end{tabular}\n"
      ],
      "text/markdown": [
       "\n",
       "A data.frame: 2 × 8\n",
       "\n",
       "| <!--/--> | ExNeurons &lt;dbl&gt; | GM.astrocytes &lt;dbl&gt; | InhNeurons &lt;dbl&gt; | microglia.macrophages &lt;dbl&gt; | Oligodendrocytes &lt;dbl&gt; | OPCs &lt;dbl&gt; | Vasculature &lt;dbl&gt; | WM.astrocytes &lt;dbl&gt; |\n",
       "|---|---|---|---|---|---|---|---|---|\n",
       "| M3_TAGGAACAGCCTCCAG-1 | 0 | 0 | 0 | 0.2412497 | 0.2099107 | 0 | 0.1686072 | 0.3802324 |\n",
       "| M3_ATGGGAACGGAAGCGG-1 | 0 | 0 | 0 | 0.1904130 | 0.0000000 | 0 | 0.6397366 | 0.1698503 |\n",
       "\n"
      ],
      "text/plain": [
       "                      ExNeurons GM.astrocytes InhNeurons microglia.macrophages\n",
       "M3_TAGGAACAGCCTCCAG-1 0         0             0          0.2412497            \n",
       "M3_ATGGGAACGGAAGCGG-1 0         0             0          0.1904130            \n",
       "                      Oligodendrocytes OPCs Vasculature WM.astrocytes\n",
       "M3_TAGGAACAGCCTCCAG-1 0.2099107        0    0.1686072   0.3802324    \n",
       "M3_ATGGGAACGGAAGCGG-1 0.0000000        0    0.6397366   0.1698503    "
      ]
     },
     "metadata": {},
     "output_type": "display_data"
    },
    {
     "data": {
      "text/html": [
       "<table class=\"dataframe\">\n",
       "<caption>A data.frame: 2 × 8</caption>\n",
       "<thead>\n",
       "\t<tr><th></th><th scope=col>ExNeurons</th><th scope=col>GM.astrocytes</th><th scope=col>InhNeurons</th><th scope=col>microglia.macrophages</th><th scope=col>Oligodendrocytes</th><th scope=col>OPCs</th><th scope=col>Vasculature</th><th scope=col>WM.astrocytes</th></tr>\n",
       "\t<tr><th></th><th scope=col>&lt;dbl&gt;</th><th scope=col>&lt;dbl&gt;</th><th scope=col>&lt;dbl&gt;</th><th scope=col>&lt;dbl&gt;</th><th scope=col>&lt;dbl&gt;</th><th scope=col>&lt;dbl&gt;</th><th scope=col>&lt;dbl&gt;</th><th scope=col>&lt;dbl&gt;</th></tr>\n",
       "</thead>\n",
       "<tbody>\n",
       "\t<tr><th scope=row>M4_CAGTCCAACGCCTTCT-1</th><td>0</td><td>0.1241552</td><td>0</td><td>0</td><td>0</td><td>0</td><td>0.3358712</td><td>0.5399736</td></tr>\n",
       "\t<tr><th scope=row>M4_TCGTCCGGGTACACTC-1</th><td>0</td><td>0.2995710</td><td>0</td><td>0</td><td>0</td><td>0</td><td>0.3286653</td><td>0.3717637</td></tr>\n",
       "</tbody>\n",
       "</table>\n"
      ],
      "text/latex": [
       "A data.frame: 2 × 8\n",
       "\\begin{tabular}{r|llllllll}\n",
       "  & ExNeurons & GM.astrocytes & InhNeurons & microglia.macrophages & Oligodendrocytes & OPCs & Vasculature & WM.astrocytes\\\\\n",
       "  & <dbl> & <dbl> & <dbl> & <dbl> & <dbl> & <dbl> & <dbl> & <dbl>\\\\\n",
       "\\hline\n",
       "\tM4\\_CAGTCCAACGCCTTCT-1 & 0 & 0.1241552 & 0 & 0 & 0 & 0 & 0.3358712 & 0.5399736\\\\\n",
       "\tM4\\_TCGTCCGGGTACACTC-1 & 0 & 0.2995710 & 0 & 0 & 0 & 0 & 0.3286653 & 0.3717637\\\\\n",
       "\\end{tabular}\n"
      ],
      "text/markdown": [
       "\n",
       "A data.frame: 2 × 8\n",
       "\n",
       "| <!--/--> | ExNeurons &lt;dbl&gt; | GM.astrocytes &lt;dbl&gt; | InhNeurons &lt;dbl&gt; | microglia.macrophages &lt;dbl&gt; | Oligodendrocytes &lt;dbl&gt; | OPCs &lt;dbl&gt; | Vasculature &lt;dbl&gt; | WM.astrocytes &lt;dbl&gt; |\n",
       "|---|---|---|---|---|---|---|---|---|\n",
       "| M4_CAGTCCAACGCCTTCT-1 | 0 | 0.1241552 | 0 | 0 | 0 | 0 | 0.3358712 | 0.5399736 |\n",
       "| M4_TCGTCCGGGTACACTC-1 | 0 | 0.2995710 | 0 | 0 | 0 | 0 | 0.3286653 | 0.3717637 |\n",
       "\n"
      ],
      "text/plain": [
       "                      ExNeurons GM.astrocytes InhNeurons microglia.macrophages\n",
       "M4_CAGTCCAACGCCTTCT-1 0         0.1241552     0          0                    \n",
       "M4_TCGTCCGGGTACACTC-1 0         0.2995710     0          0                    \n",
       "                      Oligodendrocytes OPCs Vasculature WM.astrocytes\n",
       "M4_CAGTCCAACGCCTTCT-1 0                0    0.3358712   0.5399736    \n",
       "M4_TCGTCCGGGTACACTC-1 0                0    0.3286653   0.3717637    "
      ]
     },
     "metadata": {},
     "output_type": "display_data"
    },
    {
     "data": {
      "text/html": [
       "<table class=\"dataframe\">\n",
       "<caption>A data.frame: 2 × 8</caption>\n",
       "<thead>\n",
       "\t<tr><th></th><th scope=col>ExNeurons</th><th scope=col>GM.astrocytes</th><th scope=col>InhNeurons</th><th scope=col>microglia.macrophages</th><th scope=col>Oligodendrocytes</th><th scope=col>OPCs</th><th scope=col>Vasculature</th><th scope=col>WM.astrocytes</th></tr>\n",
       "\t<tr><th></th><th scope=col>&lt;dbl&gt;</th><th scope=col>&lt;dbl&gt;</th><th scope=col>&lt;dbl&gt;</th><th scope=col>&lt;dbl&gt;</th><th scope=col>&lt;dbl&gt;</th><th scope=col>&lt;dbl&gt;</th><th scope=col>&lt;dbl&gt;</th><th scope=col>&lt;dbl&gt;</th></tr>\n",
       "</thead>\n",
       "<tbody>\n",
       "\t<tr><th scope=row>M5_GGCGAGCATCGAGGAC-1</th><td>0</td><td>0</td><td>0</td><td>0</td><td>0.6366858</td><td>0</td><td>0.1303497</td><td>0.2329645</td></tr>\n",
       "\t<tr><th scope=row>M5_CGCGTGCTATCAACGA-1</th><td>0</td><td>0</td><td>0</td><td>0</td><td>0.4087801</td><td>0</td><td>0.0000000</td><td>0.5912199</td></tr>\n",
       "</tbody>\n",
       "</table>\n"
      ],
      "text/latex": [
       "A data.frame: 2 × 8\n",
       "\\begin{tabular}{r|llllllll}\n",
       "  & ExNeurons & GM.astrocytes & InhNeurons & microglia.macrophages & Oligodendrocytes & OPCs & Vasculature & WM.astrocytes\\\\\n",
       "  & <dbl> & <dbl> & <dbl> & <dbl> & <dbl> & <dbl> & <dbl> & <dbl>\\\\\n",
       "\\hline\n",
       "\tM5\\_GGCGAGCATCGAGGAC-1 & 0 & 0 & 0 & 0 & 0.6366858 & 0 & 0.1303497 & 0.2329645\\\\\n",
       "\tM5\\_CGCGTGCTATCAACGA-1 & 0 & 0 & 0 & 0 & 0.4087801 & 0 & 0.0000000 & 0.5912199\\\\\n",
       "\\end{tabular}\n"
      ],
      "text/markdown": [
       "\n",
       "A data.frame: 2 × 8\n",
       "\n",
       "| <!--/--> | ExNeurons &lt;dbl&gt; | GM.astrocytes &lt;dbl&gt; | InhNeurons &lt;dbl&gt; | microglia.macrophages &lt;dbl&gt; | Oligodendrocytes &lt;dbl&gt; | OPCs &lt;dbl&gt; | Vasculature &lt;dbl&gt; | WM.astrocytes &lt;dbl&gt; |\n",
       "|---|---|---|---|---|---|---|---|---|\n",
       "| M5_GGCGAGCATCGAGGAC-1 | 0 | 0 | 0 | 0 | 0.6366858 | 0 | 0.1303497 | 0.2329645 |\n",
       "| M5_CGCGTGCTATCAACGA-1 | 0 | 0 | 0 | 0 | 0.4087801 | 0 | 0.0000000 | 0.5912199 |\n",
       "\n"
      ],
      "text/plain": [
       "                      ExNeurons GM.astrocytes InhNeurons microglia.macrophages\n",
       "M5_GGCGAGCATCGAGGAC-1 0         0             0          0                    \n",
       "M5_CGCGTGCTATCAACGA-1 0         0             0          0                    \n",
       "                      Oligodendrocytes OPCs Vasculature WM.astrocytes\n",
       "M5_GGCGAGCATCGAGGAC-1 0.6366858        0    0.1303497   0.2329645    \n",
       "M5_CGCGTGCTATCAACGA-1 0.4087801        0    0.0000000   0.5912199    "
      ]
     },
     "metadata": {},
     "output_type": "display_data"
    },
    {
     "data": {
      "text/html": [
       "<table class=\"dataframe\">\n",
       "<caption>A data.frame: 2 × 8</caption>\n",
       "<thead>\n",
       "\t<tr><th></th><th scope=col>ExNeurons</th><th scope=col>GM.astrocytes</th><th scope=col>InhNeurons</th><th scope=col>microglia.macrophages</th><th scope=col>Oligodendrocytes</th><th scope=col>OPCs</th><th scope=col>Vasculature</th><th scope=col>WM.astrocytes</th></tr>\n",
       "\t<tr><th></th><th scope=col>&lt;dbl&gt;</th><th scope=col>&lt;dbl&gt;</th><th scope=col>&lt;dbl&gt;</th><th scope=col>&lt;dbl&gt;</th><th scope=col>&lt;dbl&gt;</th><th scope=col>&lt;dbl&gt;</th><th scope=col>&lt;dbl&gt;</th><th scope=col>&lt;dbl&gt;</th></tr>\n",
       "</thead>\n",
       "<tbody>\n",
       "\t<tr><th scope=row>M6_AAGTAAGCTTCCAAAC-1</th><td>0</td><td>0</td><td>0</td><td>0.2683763</td><td>0.3655451</td><td>0</td><td>0.1134052</td><td>0.2526734</td></tr>\n",
       "\t<tr><th scope=row>M6_AACGTAGTCTACCCAT-1</th><td>0</td><td>0</td><td>0</td><td>0.4419775</td><td>0.1724682</td><td>0</td><td>0.2025382</td><td>0.1830161</td></tr>\n",
       "</tbody>\n",
       "</table>\n"
      ],
      "text/latex": [
       "A data.frame: 2 × 8\n",
       "\\begin{tabular}{r|llllllll}\n",
       "  & ExNeurons & GM.astrocytes & InhNeurons & microglia.macrophages & Oligodendrocytes & OPCs & Vasculature & WM.astrocytes\\\\\n",
       "  & <dbl> & <dbl> & <dbl> & <dbl> & <dbl> & <dbl> & <dbl> & <dbl>\\\\\n",
       "\\hline\n",
       "\tM6\\_AAGTAAGCTTCCAAAC-1 & 0 & 0 & 0 & 0.2683763 & 0.3655451 & 0 & 0.1134052 & 0.2526734\\\\\n",
       "\tM6\\_AACGTAGTCTACCCAT-1 & 0 & 0 & 0 & 0.4419775 & 0.1724682 & 0 & 0.2025382 & 0.1830161\\\\\n",
       "\\end{tabular}\n"
      ],
      "text/markdown": [
       "\n",
       "A data.frame: 2 × 8\n",
       "\n",
       "| <!--/--> | ExNeurons &lt;dbl&gt; | GM.astrocytes &lt;dbl&gt; | InhNeurons &lt;dbl&gt; | microglia.macrophages &lt;dbl&gt; | Oligodendrocytes &lt;dbl&gt; | OPCs &lt;dbl&gt; | Vasculature &lt;dbl&gt; | WM.astrocytes &lt;dbl&gt; |\n",
       "|---|---|---|---|---|---|---|---|---|\n",
       "| M6_AAGTAAGCTTCCAAAC-1 | 0 | 0 | 0 | 0.2683763 | 0.3655451 | 0 | 0.1134052 | 0.2526734 |\n",
       "| M6_AACGTAGTCTACCCAT-1 | 0 | 0 | 0 | 0.4419775 | 0.1724682 | 0 | 0.2025382 | 0.1830161 |\n",
       "\n"
      ],
      "text/plain": [
       "                      ExNeurons GM.astrocytes InhNeurons microglia.macrophages\n",
       "M6_AAGTAAGCTTCCAAAC-1 0         0             0          0.2683763            \n",
       "M6_AACGTAGTCTACCCAT-1 0         0             0          0.4419775            \n",
       "                      Oligodendrocytes OPCs Vasculature WM.astrocytes\n",
       "M6_AAGTAAGCTTCCAAAC-1 0.3655451        0    0.1134052   0.2526734    \n",
       "M6_AACGTAGTCTACCCAT-1 0.1724682        0    0.2025382   0.1830161    "
      ]
     },
     "metadata": {},
     "output_type": "display_data"
    },
    {
     "data": {
      "text/html": [
       "<table class=\"dataframe\">\n",
       "<caption>A data.frame: 6 × 8</caption>\n",
       "<thead>\n",
       "\t<tr><th></th><th scope=col>ExNeurons</th><th scope=col>GM.astrocytes</th><th scope=col>InhNeurons</th><th scope=col>microglia.macrophages</th><th scope=col>Oligodendrocytes</th><th scope=col>OPCs</th><th scope=col>Vasculature</th><th scope=col>WM.astrocytes</th></tr>\n",
       "\t<tr><th></th><th scope=col>&lt;dbl&gt;</th><th scope=col>&lt;dbl&gt;</th><th scope=col>&lt;dbl&gt;</th><th scope=col>&lt;dbl&gt;</th><th scope=col>&lt;dbl&gt;</th><th scope=col>&lt;dbl&gt;</th><th scope=col>&lt;dbl&gt;</th><th scope=col>&lt;dbl&gt;</th></tr>\n",
       "</thead>\n",
       "<tbody>\n",
       "\t<tr><th scope=row>M6_CTCTCTAACTGCCTAG-1</th><td>0</td><td>0</td><td>0.0000000</td><td>0.0000000</td><td>0.3959903</td><td>0</td><td>0.2444968</td><td>0.3595129</td></tr>\n",
       "\t<tr><th scope=row>M6_CGATTAAATATCTCCT-1</th><td>0</td><td>0</td><td>0.0000000</td><td>0.2755308</td><td>0.3643819</td><td>0</td><td>0.1695225</td><td>0.1905649</td></tr>\n",
       "\t<tr><th scope=row>M6_TGCCGTGGATCGTCCT-1</th><td>0</td><td>0</td><td>0.1889986</td><td>0.1343375</td><td>0.2617076</td><td>0</td><td>0.1661292</td><td>0.2488271</td></tr>\n",
       "\t<tr><th scope=row>M6_GTGGACGCATTTGTCC-1</th><td>0</td><td>0</td><td>0.0000000</td><td>0.1622002</td><td>0.0000000</td><td>0</td><td>0.6236024</td><td>0.2141974</td></tr>\n",
       "\t<tr><th scope=row>M6_CGTTCAGACCCGCGAA-1</th><td>0</td><td>0</td><td>0.0000000</td><td>0.0000000</td><td>0.3591906</td><td>0</td><td>0.2582231</td><td>0.3825864</td></tr>\n",
       "\t<tr><th scope=row>M6_GGTGTAGGTAAGTAAA-1</th><td>0</td><td>0</td><td>0.0000000</td><td>0.3777135</td><td>0.1853798</td><td>0</td><td>0.1057427</td><td>0.3311640</td></tr>\n",
       "</tbody>\n",
       "</table>\n"
      ],
      "text/latex": [
       "A data.frame: 6 × 8\n",
       "\\begin{tabular}{r|llllllll}\n",
       "  & ExNeurons & GM.astrocytes & InhNeurons & microglia.macrophages & Oligodendrocytes & OPCs & Vasculature & WM.astrocytes\\\\\n",
       "  & <dbl> & <dbl> & <dbl> & <dbl> & <dbl> & <dbl> & <dbl> & <dbl>\\\\\n",
       "\\hline\n",
       "\tM6\\_CTCTCTAACTGCCTAG-1 & 0 & 0 & 0.0000000 & 0.0000000 & 0.3959903 & 0 & 0.2444968 & 0.3595129\\\\\n",
       "\tM6\\_CGATTAAATATCTCCT-1 & 0 & 0 & 0.0000000 & 0.2755308 & 0.3643819 & 0 & 0.1695225 & 0.1905649\\\\\n",
       "\tM6\\_TGCCGTGGATCGTCCT-1 & 0 & 0 & 0.1889986 & 0.1343375 & 0.2617076 & 0 & 0.1661292 & 0.2488271\\\\\n",
       "\tM6\\_GTGGACGCATTTGTCC-1 & 0 & 0 & 0.0000000 & 0.1622002 & 0.0000000 & 0 & 0.6236024 & 0.2141974\\\\\n",
       "\tM6\\_CGTTCAGACCCGCGAA-1 & 0 & 0 & 0.0000000 & 0.0000000 & 0.3591906 & 0 & 0.2582231 & 0.3825864\\\\\n",
       "\tM6\\_GGTGTAGGTAAGTAAA-1 & 0 & 0 & 0.0000000 & 0.3777135 & 0.1853798 & 0 & 0.1057427 & 0.3311640\\\\\n",
       "\\end{tabular}\n"
      ],
      "text/markdown": [
       "\n",
       "A data.frame: 6 × 8\n",
       "\n",
       "| <!--/--> | ExNeurons &lt;dbl&gt; | GM.astrocytes &lt;dbl&gt; | InhNeurons &lt;dbl&gt; | microglia.macrophages &lt;dbl&gt; | Oligodendrocytes &lt;dbl&gt; | OPCs &lt;dbl&gt; | Vasculature &lt;dbl&gt; | WM.astrocytes &lt;dbl&gt; |\n",
       "|---|---|---|---|---|---|---|---|---|\n",
       "| M6_CTCTCTAACTGCCTAG-1 | 0 | 0 | 0.0000000 | 0.0000000 | 0.3959903 | 0 | 0.2444968 | 0.3595129 |\n",
       "| M6_CGATTAAATATCTCCT-1 | 0 | 0 | 0.0000000 | 0.2755308 | 0.3643819 | 0 | 0.1695225 | 0.1905649 |\n",
       "| M6_TGCCGTGGATCGTCCT-1 | 0 | 0 | 0.1889986 | 0.1343375 | 0.2617076 | 0 | 0.1661292 | 0.2488271 |\n",
       "| M6_GTGGACGCATTTGTCC-1 | 0 | 0 | 0.0000000 | 0.1622002 | 0.0000000 | 0 | 0.6236024 | 0.2141974 |\n",
       "| M6_CGTTCAGACCCGCGAA-1 | 0 | 0 | 0.0000000 | 0.0000000 | 0.3591906 | 0 | 0.2582231 | 0.3825864 |\n",
       "| M6_GGTGTAGGTAAGTAAA-1 | 0 | 0 | 0.0000000 | 0.3777135 | 0.1853798 | 0 | 0.1057427 | 0.3311640 |\n",
       "\n"
      ],
      "text/plain": [
       "                      ExNeurons GM.astrocytes InhNeurons microglia.macrophages\n",
       "M6_CTCTCTAACTGCCTAG-1 0         0             0.0000000  0.0000000            \n",
       "M6_CGATTAAATATCTCCT-1 0         0             0.0000000  0.2755308            \n",
       "M6_TGCCGTGGATCGTCCT-1 0         0             0.1889986  0.1343375            \n",
       "M6_GTGGACGCATTTGTCC-1 0         0             0.0000000  0.1622002            \n",
       "M6_CGTTCAGACCCGCGAA-1 0         0             0.0000000  0.0000000            \n",
       "M6_GGTGTAGGTAAGTAAA-1 0         0             0.0000000  0.3777135            \n",
       "                      Oligodendrocytes OPCs Vasculature WM.astrocytes\n",
       "M6_CTCTCTAACTGCCTAG-1 0.3959903        0    0.2444968   0.3595129    \n",
       "M6_CGATTAAATATCTCCT-1 0.3643819        0    0.1695225   0.1905649    \n",
       "M6_TGCCGTGGATCGTCCT-1 0.2617076        0    0.1661292   0.2488271    \n",
       "M6_GTGGACGCATTTGTCC-1 0.0000000        0    0.6236024   0.2141974    \n",
       "M6_CGTTCAGACCCGCGAA-1 0.3591906        0    0.2582231   0.3825864    \n",
       "M6_GGTGTAGGTAAGTAAA-1 0.1853798        0    0.1057427   0.3311640    "
      ]
     },
     "metadata": {},
     "output_type": "display_data"
    }
   ],
   "source": [
    "sample_group <- \"mix_act.inact_RIM\"\n",
    "## real data\n",
    "\n",
    "# \n",
    "decon_matrix_1 <- read.csv(\"/data/bcn/Datasets/ST_WM/RData/SPOTlight_nmf/pergroup/ST67_RIM_chronic_celltype_prop.csv\",row.names = 1)\n",
    "decon_matrix_2 <- read.csv(\"/data/bcn/Datasets/ST_WM/RData/SPOTlight_nmf/pergroup/ST68_RIM_chronic_celltype_prop.csv\",row.names = 1)\n",
    "decon_matrix_3 <- read.csv(\"/data/bcn/Datasets/ST_WM/RData/SPOTlight_nmf/pergroup/ST71_RIM_chronic_celltype_prop.csv\",row.names = 1)\n",
    "decon_matrix_4 <- read.csv(\"/data/bcn/Datasets/ST_WM/RData/SPOTlight_nmf/pergroup/ST72_RIM_chronic_celltype_prop.csv\",row.names = 1)\n",
    "decon_matrix_5 <- read.csv(\"/data/bcn/Datasets/ST_WM/RData/SPOTlight_nmf/pergroup/ST73_RIM_chronic_celltype_prop.csv\",row.names = 1)\n",
    "decon_matrix_6 <- read.csv(\"/data/bcn/Datasets/ST_WM/RData/SPOTlight_nmf/pergroup/ST74_RIM_chronic_celltype_prop.csv\",row.names = 1)\n",
    "rownames(decon_matrix_1) <- paste0(\"M1_\", rownames(decon_matrix_1))\n",
    "rownames(decon_matrix_2) <- paste0(\"M2_\", rownames(decon_matrix_2))\n",
    "rownames(decon_matrix_3) <- paste0(\"M3_\", rownames(decon_matrix_3))\n",
    "rownames(decon_matrix_4) <- paste0(\"M4_\", rownames(decon_matrix_4))\n",
    "rownames(decon_matrix_5) <- paste0(\"M5_\", rownames(decon_matrix_5))\n",
    "rownames(decon_matrix_6) <- paste0(\"M6_\", rownames(decon_matrix_6))\n",
    "head(decon_matrix_1, n = 2)\n",
    "head(decon_matrix_2, n = 2)\n",
    "head(decon_matrix_3, n = 2)\n",
    "head(decon_matrix_4, n = 2)\n",
    "head(decon_matrix_5, n = 2)\n",
    "head(decon_matrix_6, n = 2)\n",
    "decon_matrix <- rbind(decon_matrix_1, decon_matrix_2, decon_matrix_3, decon_matrix_4, decon_matrix_5, decon_matrix_6)\n",
    "tail(decon_matrix)"
   ]
  },
  {
   "cell_type": "code",
   "execution_count": 107,
   "metadata": {},
   "outputs": [
    {
     "data": {
      "text/html": [
       "<table class=\"dataframe\">\n",
       "<caption>A data.frame: 2 × 8</caption>\n",
       "<thead>\n",
       "\t<tr><th></th><th scope=col>ExNeurons</th><th scope=col>GM.astrocytes</th><th scope=col>InhNeurons</th><th scope=col>microglia.macrophages</th><th scope=col>Oligodendrocytes</th><th scope=col>OPCs</th><th scope=col>Vasculature</th><th scope=col>WM.astrocytes</th></tr>\n",
       "\t<tr><th></th><th scope=col>&lt;dbl&gt;</th><th scope=col>&lt;dbl&gt;</th><th scope=col>&lt;dbl&gt;</th><th scope=col>&lt;dbl&gt;</th><th scope=col>&lt;dbl&gt;</th><th scope=col>&lt;dbl&gt;</th><th scope=col>&lt;dbl&gt;</th><th scope=col>&lt;dbl&gt;</th></tr>\n",
       "</thead>\n",
       "<tbody>\n",
       "\t<tr><th scope=row>M1_AGCGTAGCGCTAGACC-1</th><td>0</td><td>0.1050103</td><td>0</td><td>0.1406859</td><td>0.3512043</td><td>0.0000000</td><td>0.1092601</td><td>0.2938394</td></tr>\n",
       "\t<tr><th scope=row>M1_AGGTCGCCACTTCGGT-1</th><td>0</td><td>0.0000000</td><td>0</td><td>0.0000000</td><td>0.3790750</td><td>0.1353993</td><td>0.1309340</td><td>0.3545917</td></tr>\n",
       "</tbody>\n",
       "</table>\n"
      ],
      "text/latex": [
       "A data.frame: 2 × 8\n",
       "\\begin{tabular}{r|llllllll}\n",
       "  & ExNeurons & GM.astrocytes & InhNeurons & microglia.macrophages & Oligodendrocytes & OPCs & Vasculature & WM.astrocytes\\\\\n",
       "  & <dbl> & <dbl> & <dbl> & <dbl> & <dbl> & <dbl> & <dbl> & <dbl>\\\\\n",
       "\\hline\n",
       "\tM1\\_AGCGTAGCGCTAGACC-1 & 0 & 0.1050103 & 0 & 0.1406859 & 0.3512043 & 0.0000000 & 0.1092601 & 0.2938394\\\\\n",
       "\tM1\\_AGGTCGCCACTTCGGT-1 & 0 & 0.0000000 & 0 & 0.0000000 & 0.3790750 & 0.1353993 & 0.1309340 & 0.3545917\\\\\n",
       "\\end{tabular}\n"
      ],
      "text/markdown": [
       "\n",
       "A data.frame: 2 × 8\n",
       "\n",
       "| <!--/--> | ExNeurons &lt;dbl&gt; | GM.astrocytes &lt;dbl&gt; | InhNeurons &lt;dbl&gt; | microglia.macrophages &lt;dbl&gt; | Oligodendrocytes &lt;dbl&gt; | OPCs &lt;dbl&gt; | Vasculature &lt;dbl&gt; | WM.astrocytes &lt;dbl&gt; |\n",
       "|---|---|---|---|---|---|---|---|---|\n",
       "| M1_AGCGTAGCGCTAGACC-1 | 0 | 0.1050103 | 0 | 0.1406859 | 0.3512043 | 0.0000000 | 0.1092601 | 0.2938394 |\n",
       "| M1_AGGTCGCCACTTCGGT-1 | 0 | 0.0000000 | 0 | 0.0000000 | 0.3790750 | 0.1353993 | 0.1309340 | 0.3545917 |\n",
       "\n"
      ],
      "text/plain": [
       "                      ExNeurons GM.astrocytes InhNeurons microglia.macrophages\n",
       "M1_AGCGTAGCGCTAGACC-1 0         0.1050103     0          0.1406859            \n",
       "M1_AGGTCGCCACTTCGGT-1 0         0.0000000     0          0.0000000            \n",
       "                      Oligodendrocytes OPCs      Vasculature WM.astrocytes\n",
       "M1_AGCGTAGCGCTAGACC-1 0.3512043        0.0000000 0.1092601   0.2938394    \n",
       "M1_AGGTCGCCACTTCGGT-1 0.3790750        0.1353993 0.1309340   0.3545917    "
      ]
     },
     "metadata": {},
     "output_type": "display_data"
    },
    {
     "data": {
      "text/html": [
       "<table class=\"dataframe\">\n",
       "<caption>A data.frame: 2 × 8</caption>\n",
       "<thead>\n",
       "\t<tr><th></th><th scope=col>ExNeurons</th><th scope=col>GM.astrocytes</th><th scope=col>InhNeurons</th><th scope=col>microglia.macrophages</th><th scope=col>Oligodendrocytes</th><th scope=col>OPCs</th><th scope=col>Vasculature</th><th scope=col>WM.astrocytes</th></tr>\n",
       "\t<tr><th></th><th scope=col>&lt;dbl&gt;</th><th scope=col>&lt;dbl&gt;</th><th scope=col>&lt;dbl&gt;</th><th scope=col>&lt;dbl&gt;</th><th scope=col>&lt;dbl&gt;</th><th scope=col>&lt;dbl&gt;</th><th scope=col>&lt;dbl&gt;</th><th scope=col>&lt;dbl&gt;</th></tr>\n",
       "</thead>\n",
       "<tbody>\n",
       "\t<tr><th scope=row>M2_ATACTCTCGCCACTCT-1</th><td>0</td><td>0</td><td>0</td><td>0.1661330</td><td>0.4007294</td><td>0</td><td>0.2294246</td><td>0.2037129</td></tr>\n",
       "\t<tr><th scope=row>M2_AATCCATGCAAGGGTG-1</th><td>0</td><td>0</td><td>0</td><td>0.2866883</td><td>0.5579873</td><td>0</td><td>0.1553244</td><td>0.0000000</td></tr>\n",
       "</tbody>\n",
       "</table>\n"
      ],
      "text/latex": [
       "A data.frame: 2 × 8\n",
       "\\begin{tabular}{r|llllllll}\n",
       "  & ExNeurons & GM.astrocytes & InhNeurons & microglia.macrophages & Oligodendrocytes & OPCs & Vasculature & WM.astrocytes\\\\\n",
       "  & <dbl> & <dbl> & <dbl> & <dbl> & <dbl> & <dbl> & <dbl> & <dbl>\\\\\n",
       "\\hline\n",
       "\tM2\\_ATACTCTCGCCACTCT-1 & 0 & 0 & 0 & 0.1661330 & 0.4007294 & 0 & 0.2294246 & 0.2037129\\\\\n",
       "\tM2\\_AATCCATGCAAGGGTG-1 & 0 & 0 & 0 & 0.2866883 & 0.5579873 & 0 & 0.1553244 & 0.0000000\\\\\n",
       "\\end{tabular}\n"
      ],
      "text/markdown": [
       "\n",
       "A data.frame: 2 × 8\n",
       "\n",
       "| <!--/--> | ExNeurons &lt;dbl&gt; | GM.astrocytes &lt;dbl&gt; | InhNeurons &lt;dbl&gt; | microglia.macrophages &lt;dbl&gt; | Oligodendrocytes &lt;dbl&gt; | OPCs &lt;dbl&gt; | Vasculature &lt;dbl&gt; | WM.astrocytes &lt;dbl&gt; |\n",
       "|---|---|---|---|---|---|---|---|---|\n",
       "| M2_ATACTCTCGCCACTCT-1 | 0 | 0 | 0 | 0.1661330 | 0.4007294 | 0 | 0.2294246 | 0.2037129 |\n",
       "| M2_AATCCATGCAAGGGTG-1 | 0 | 0 | 0 | 0.2866883 | 0.5579873 | 0 | 0.1553244 | 0.0000000 |\n",
       "\n"
      ],
      "text/plain": [
       "                      ExNeurons GM.astrocytes InhNeurons microglia.macrophages\n",
       "M2_ATACTCTCGCCACTCT-1 0         0             0          0.1661330            \n",
       "M2_AATCCATGCAAGGGTG-1 0         0             0          0.2866883            \n",
       "                      Oligodendrocytes OPCs Vasculature WM.astrocytes\n",
       "M2_ATACTCTCGCCACTCT-1 0.4007294        0    0.2294246   0.2037129    \n",
       "M2_AATCCATGCAAGGGTG-1 0.5579873        0    0.1553244   0.0000000    "
      ]
     },
     "metadata": {},
     "output_type": "display_data"
    },
    {
     "data": {
      "text/html": [
       "<table class=\"dataframe\">\n",
       "<caption>A data.frame: 2 × 8</caption>\n",
       "<thead>\n",
       "\t<tr><th></th><th scope=col>ExNeurons</th><th scope=col>GM.astrocytes</th><th scope=col>InhNeurons</th><th scope=col>microglia.macrophages</th><th scope=col>Oligodendrocytes</th><th scope=col>OPCs</th><th scope=col>Vasculature</th><th scope=col>WM.astrocytes</th></tr>\n",
       "\t<tr><th></th><th scope=col>&lt;dbl&gt;</th><th scope=col>&lt;dbl&gt;</th><th scope=col>&lt;dbl&gt;</th><th scope=col>&lt;dbl&gt;</th><th scope=col>&lt;dbl&gt;</th><th scope=col>&lt;dbl&gt;</th><th scope=col>&lt;dbl&gt;</th><th scope=col>&lt;dbl&gt;</th></tr>\n",
       "</thead>\n",
       "<tbody>\n",
       "\t<tr><th scope=row>M3_CAGGATCCGCCCGACC-1</th><td>0</td><td>0</td><td>0</td><td>0.3334445</td><td>0.1242780</td><td>0.1025729</td><td>0.1443579</td><td>0.2953467</td></tr>\n",
       "\t<tr><th scope=row>M3_CACGATTGGTCGTTAA-1</th><td>0</td><td>0</td><td>0</td><td>0.2868996</td><td>0.1808717</td><td>0.0000000</td><td>0.1531598</td><td>0.3790689</td></tr>\n",
       "</tbody>\n",
       "</table>\n"
      ],
      "text/latex": [
       "A data.frame: 2 × 8\n",
       "\\begin{tabular}{r|llllllll}\n",
       "  & ExNeurons & GM.astrocytes & InhNeurons & microglia.macrophages & Oligodendrocytes & OPCs & Vasculature & WM.astrocytes\\\\\n",
       "  & <dbl> & <dbl> & <dbl> & <dbl> & <dbl> & <dbl> & <dbl> & <dbl>\\\\\n",
       "\\hline\n",
       "\tM3\\_CAGGATCCGCCCGACC-1 & 0 & 0 & 0 & 0.3334445 & 0.1242780 & 0.1025729 & 0.1443579 & 0.2953467\\\\\n",
       "\tM3\\_CACGATTGGTCGTTAA-1 & 0 & 0 & 0 & 0.2868996 & 0.1808717 & 0.0000000 & 0.1531598 & 0.3790689\\\\\n",
       "\\end{tabular}\n"
      ],
      "text/markdown": [
       "\n",
       "A data.frame: 2 × 8\n",
       "\n",
       "| <!--/--> | ExNeurons &lt;dbl&gt; | GM.astrocytes &lt;dbl&gt; | InhNeurons &lt;dbl&gt; | microglia.macrophages &lt;dbl&gt; | Oligodendrocytes &lt;dbl&gt; | OPCs &lt;dbl&gt; | Vasculature &lt;dbl&gt; | WM.astrocytes &lt;dbl&gt; |\n",
       "|---|---|---|---|---|---|---|---|---|\n",
       "| M3_CAGGATCCGCCCGACC-1 | 0 | 0 | 0 | 0.3334445 | 0.1242780 | 0.1025729 | 0.1443579 | 0.2953467 |\n",
       "| M3_CACGATTGGTCGTTAA-1 | 0 | 0 | 0 | 0.2868996 | 0.1808717 | 0.0000000 | 0.1531598 | 0.3790689 |\n",
       "\n"
      ],
      "text/plain": [
       "                      ExNeurons GM.astrocytes InhNeurons microglia.macrophages\n",
       "M3_CAGGATCCGCCCGACC-1 0         0             0          0.3334445            \n",
       "M3_CACGATTGGTCGTTAA-1 0         0             0          0.2868996            \n",
       "                      Oligodendrocytes OPCs      Vasculature WM.astrocytes\n",
       "M3_CAGGATCCGCCCGACC-1 0.1242780        0.1025729 0.1443579   0.2953467    \n",
       "M3_CACGATTGGTCGTTAA-1 0.1808717        0.0000000 0.1531598   0.3790689    "
      ]
     },
     "metadata": {},
     "output_type": "display_data"
    },
    {
     "data": {
      "text/html": [
       "<table class=\"dataframe\">\n",
       "<caption>A data.frame: 2 × 8</caption>\n",
       "<thead>\n",
       "\t<tr><th></th><th scope=col>ExNeurons</th><th scope=col>GM.astrocytes</th><th scope=col>InhNeurons</th><th scope=col>microglia.macrophages</th><th scope=col>Oligodendrocytes</th><th scope=col>OPCs</th><th scope=col>Vasculature</th><th scope=col>WM.astrocytes</th></tr>\n",
       "\t<tr><th></th><th scope=col>&lt;dbl&gt;</th><th scope=col>&lt;dbl&gt;</th><th scope=col>&lt;dbl&gt;</th><th scope=col>&lt;dbl&gt;</th><th scope=col>&lt;dbl&gt;</th><th scope=col>&lt;dbl&gt;</th><th scope=col>&lt;dbl&gt;</th><th scope=col>&lt;dbl&gt;</th></tr>\n",
       "</thead>\n",
       "<tbody>\n",
       "\t<tr><th scope=row>M4_TATGACCTTGCGCTGG-1</th><td>0</td><td>0</td><td>0</td><td>0.1235365</td><td>0.1585860</td><td>0</td><td>0.2144524</td><td>0.5034251</td></tr>\n",
       "\t<tr><th scope=row>M4_ATATACATGTATGGTA-1</th><td>0</td><td>0</td><td>0</td><td>0.0000000</td><td>0.3904177</td><td>0</td><td>0.1728072</td><td>0.4367751</td></tr>\n",
       "</tbody>\n",
       "</table>\n"
      ],
      "text/latex": [
       "A data.frame: 2 × 8\n",
       "\\begin{tabular}{r|llllllll}\n",
       "  & ExNeurons & GM.astrocytes & InhNeurons & microglia.macrophages & Oligodendrocytes & OPCs & Vasculature & WM.astrocytes\\\\\n",
       "  & <dbl> & <dbl> & <dbl> & <dbl> & <dbl> & <dbl> & <dbl> & <dbl>\\\\\n",
       "\\hline\n",
       "\tM4\\_TATGACCTTGCGCTGG-1 & 0 & 0 & 0 & 0.1235365 & 0.1585860 & 0 & 0.2144524 & 0.5034251\\\\\n",
       "\tM4\\_ATATACATGTATGGTA-1 & 0 & 0 & 0 & 0.0000000 & 0.3904177 & 0 & 0.1728072 & 0.4367751\\\\\n",
       "\\end{tabular}\n"
      ],
      "text/markdown": [
       "\n",
       "A data.frame: 2 × 8\n",
       "\n",
       "| <!--/--> | ExNeurons &lt;dbl&gt; | GM.astrocytes &lt;dbl&gt; | InhNeurons &lt;dbl&gt; | microglia.macrophages &lt;dbl&gt; | Oligodendrocytes &lt;dbl&gt; | OPCs &lt;dbl&gt; | Vasculature &lt;dbl&gt; | WM.astrocytes &lt;dbl&gt; |\n",
       "|---|---|---|---|---|---|---|---|---|\n",
       "| M4_TATGACCTTGCGCTGG-1 | 0 | 0 | 0 | 0.1235365 | 0.1585860 | 0 | 0.2144524 | 0.5034251 |\n",
       "| M4_ATATACATGTATGGTA-1 | 0 | 0 | 0 | 0.0000000 | 0.3904177 | 0 | 0.1728072 | 0.4367751 |\n",
       "\n"
      ],
      "text/plain": [
       "                      ExNeurons GM.astrocytes InhNeurons microglia.macrophages\n",
       "M4_TATGACCTTGCGCTGG-1 0         0             0          0.1235365            \n",
       "M4_ATATACATGTATGGTA-1 0         0             0          0.0000000            \n",
       "                      Oligodendrocytes OPCs Vasculature WM.astrocytes\n",
       "M4_TATGACCTTGCGCTGG-1 0.1585860        0    0.2144524   0.5034251    \n",
       "M4_ATATACATGTATGGTA-1 0.3904177        0    0.1728072   0.4367751    "
      ]
     },
     "metadata": {},
     "output_type": "display_data"
    },
    {
     "data": {
      "text/html": [
       "<table class=\"dataframe\">\n",
       "<caption>A data.frame: 2 × 8</caption>\n",
       "<thead>\n",
       "\t<tr><th></th><th scope=col>ExNeurons</th><th scope=col>GM.astrocytes</th><th scope=col>InhNeurons</th><th scope=col>microglia.macrophages</th><th scope=col>Oligodendrocytes</th><th scope=col>OPCs</th><th scope=col>Vasculature</th><th scope=col>WM.astrocytes</th></tr>\n",
       "\t<tr><th></th><th scope=col>&lt;dbl&gt;</th><th scope=col>&lt;dbl&gt;</th><th scope=col>&lt;dbl&gt;</th><th scope=col>&lt;dbl&gt;</th><th scope=col>&lt;dbl&gt;</th><th scope=col>&lt;dbl&gt;</th><th scope=col>&lt;dbl&gt;</th><th scope=col>&lt;dbl&gt;</th></tr>\n",
       "</thead>\n",
       "<tbody>\n",
       "\t<tr><th scope=row>M5_TACCGATCCAACACTT-1</th><td>0</td><td>0</td><td>0</td><td>0</td><td>0.4714019</td><td>0.0000000</td><td>0.3000064</td><td>0.2285917</td></tr>\n",
       "\t<tr><th scope=row>M5_GATAAGGGACGATTAG-1</th><td>0</td><td>0</td><td>0</td><td>0</td><td>0.3000573</td><td>0.1293376</td><td>0.1583772</td><td>0.4122279</td></tr>\n",
       "</tbody>\n",
       "</table>\n"
      ],
      "text/latex": [
       "A data.frame: 2 × 8\n",
       "\\begin{tabular}{r|llllllll}\n",
       "  & ExNeurons & GM.astrocytes & InhNeurons & microglia.macrophages & Oligodendrocytes & OPCs & Vasculature & WM.astrocytes\\\\\n",
       "  & <dbl> & <dbl> & <dbl> & <dbl> & <dbl> & <dbl> & <dbl> & <dbl>\\\\\n",
       "\\hline\n",
       "\tM5\\_TACCGATCCAACACTT-1 & 0 & 0 & 0 & 0 & 0.4714019 & 0.0000000 & 0.3000064 & 0.2285917\\\\\n",
       "\tM5\\_GATAAGGGACGATTAG-1 & 0 & 0 & 0 & 0 & 0.3000573 & 0.1293376 & 0.1583772 & 0.4122279\\\\\n",
       "\\end{tabular}\n"
      ],
      "text/markdown": [
       "\n",
       "A data.frame: 2 × 8\n",
       "\n",
       "| <!--/--> | ExNeurons &lt;dbl&gt; | GM.astrocytes &lt;dbl&gt; | InhNeurons &lt;dbl&gt; | microglia.macrophages &lt;dbl&gt; | Oligodendrocytes &lt;dbl&gt; | OPCs &lt;dbl&gt; | Vasculature &lt;dbl&gt; | WM.astrocytes &lt;dbl&gt; |\n",
       "|---|---|---|---|---|---|---|---|---|\n",
       "| M5_TACCGATCCAACACTT-1 | 0 | 0 | 0 | 0 | 0.4714019 | 0.0000000 | 0.3000064 | 0.2285917 |\n",
       "| M5_GATAAGGGACGATTAG-1 | 0 | 0 | 0 | 0 | 0.3000573 | 0.1293376 | 0.1583772 | 0.4122279 |\n",
       "\n"
      ],
      "text/plain": [
       "                      ExNeurons GM.astrocytes InhNeurons microglia.macrophages\n",
       "M5_TACCGATCCAACACTT-1 0         0             0          0                    \n",
       "M5_GATAAGGGACGATTAG-1 0         0             0          0                    \n",
       "                      Oligodendrocytes OPCs      Vasculature WM.astrocytes\n",
       "M5_TACCGATCCAACACTT-1 0.4714019        0.0000000 0.3000064   0.2285917    \n",
       "M5_GATAAGGGACGATTAG-1 0.3000573        0.1293376 0.1583772   0.4122279    "
      ]
     },
     "metadata": {},
     "output_type": "display_data"
    },
    {
     "data": {
      "text/html": [
       "<table class=\"dataframe\">\n",
       "<caption>A data.frame: 2 × 8</caption>\n",
       "<thead>\n",
       "\t<tr><th></th><th scope=col>ExNeurons</th><th scope=col>GM.astrocytes</th><th scope=col>InhNeurons</th><th scope=col>microglia.macrophages</th><th scope=col>Oligodendrocytes</th><th scope=col>OPCs</th><th scope=col>Vasculature</th><th scope=col>WM.astrocytes</th></tr>\n",
       "\t<tr><th></th><th scope=col>&lt;dbl&gt;</th><th scope=col>&lt;dbl&gt;</th><th scope=col>&lt;dbl&gt;</th><th scope=col>&lt;dbl&gt;</th><th scope=col>&lt;dbl&gt;</th><th scope=col>&lt;dbl&gt;</th><th scope=col>&lt;dbl&gt;</th><th scope=col>&lt;dbl&gt;</th></tr>\n",
       "</thead>\n",
       "<tbody>\n",
       "\t<tr><th scope=row>M6_GCGAGGGACTGCTAGA-1</th><td>0</td><td>0.3245927</td><td>0</td><td>0.0000000</td><td>0.4830625</td><td>0</td><td>0</td><td>0.1923448</td></tr>\n",
       "\t<tr><th scope=row>M6_GCGCGTTTAAATCGTA-1</th><td>0</td><td>0.0000000</td><td>0</td><td>0.2776442</td><td>0.3243708</td><td>0</td><td>0</td><td>0.3979850</td></tr>\n",
       "</tbody>\n",
       "</table>\n"
      ],
      "text/latex": [
       "A data.frame: 2 × 8\n",
       "\\begin{tabular}{r|llllllll}\n",
       "  & ExNeurons & GM.astrocytes & InhNeurons & microglia.macrophages & Oligodendrocytes & OPCs & Vasculature & WM.astrocytes\\\\\n",
       "  & <dbl> & <dbl> & <dbl> & <dbl> & <dbl> & <dbl> & <dbl> & <dbl>\\\\\n",
       "\\hline\n",
       "\tM6\\_GCGAGGGACTGCTAGA-1 & 0 & 0.3245927 & 0 & 0.0000000 & 0.4830625 & 0 & 0 & 0.1923448\\\\\n",
       "\tM6\\_GCGCGTTTAAATCGTA-1 & 0 & 0.0000000 & 0 & 0.2776442 & 0.3243708 & 0 & 0 & 0.3979850\\\\\n",
       "\\end{tabular}\n"
      ],
      "text/markdown": [
       "\n",
       "A data.frame: 2 × 8\n",
       "\n",
       "| <!--/--> | ExNeurons &lt;dbl&gt; | GM.astrocytes &lt;dbl&gt; | InhNeurons &lt;dbl&gt; | microglia.macrophages &lt;dbl&gt; | Oligodendrocytes &lt;dbl&gt; | OPCs &lt;dbl&gt; | Vasculature &lt;dbl&gt; | WM.astrocytes &lt;dbl&gt; |\n",
       "|---|---|---|---|---|---|---|---|---|\n",
       "| M6_GCGAGGGACTGCTAGA-1 | 0 | 0.3245927 | 0 | 0.0000000 | 0.4830625 | 0 | 0 | 0.1923448 |\n",
       "| M6_GCGCGTTTAAATCGTA-1 | 0 | 0.0000000 | 0 | 0.2776442 | 0.3243708 | 0 | 0 | 0.3979850 |\n",
       "\n"
      ],
      "text/plain": [
       "                      ExNeurons GM.astrocytes InhNeurons microglia.macrophages\n",
       "M6_GCGAGGGACTGCTAGA-1 0         0.3245927     0          0.0000000            \n",
       "M6_GCGCGTTTAAATCGTA-1 0         0.0000000     0          0.2776442            \n",
       "                      Oligodendrocytes OPCs Vasculature WM.astrocytes\n",
       "M6_GCGAGGGACTGCTAGA-1 0.4830625        0    0           0.1923448    \n",
       "M6_GCGCGTTTAAATCGTA-1 0.3243708        0    0           0.3979850    "
      ]
     },
     "metadata": {},
     "output_type": "display_data"
    },
    {
     "data": {
      "text/html": [
       "<table class=\"dataframe\">\n",
       "<caption>A data.frame: 6 × 8</caption>\n",
       "<thead>\n",
       "\t<tr><th></th><th scope=col>ExNeurons</th><th scope=col>GM.astrocytes</th><th scope=col>InhNeurons</th><th scope=col>microglia.macrophages</th><th scope=col>Oligodendrocytes</th><th scope=col>OPCs</th><th scope=col>Vasculature</th><th scope=col>WM.astrocytes</th></tr>\n",
       "\t<tr><th></th><th scope=col>&lt;dbl&gt;</th><th scope=col>&lt;dbl&gt;</th><th scope=col>&lt;dbl&gt;</th><th scope=col>&lt;dbl&gt;</th><th scope=col>&lt;dbl&gt;</th><th scope=col>&lt;dbl&gt;</th><th scope=col>&lt;dbl&gt;</th><th scope=col>&lt;dbl&gt;</th></tr>\n",
       "</thead>\n",
       "<tbody>\n",
       "\t<tr><th scope=row>M6_CGTGAACTGACCCGAT-1</th><td>0</td><td>0.0000000</td><td>0.0000000</td><td>0</td><td>0.5689025</td><td>0.22922386</td><td>0.2018737</td><td>0.0000000</td></tr>\n",
       "\t<tr><th scope=row>M6_GACCGGTGATACTCTC-1</th><td>0</td><td>0.0000000</td><td>0.0000000</td><td>0</td><td>0.1753919</td><td>0.00000000</td><td>0.3791439</td><td>0.4454642</td></tr>\n",
       "\t<tr><th scope=row>M6_GCTACTCGGACGCAGA-1</th><td>0</td><td>0.1896757</td><td>0.1235297</td><td>0</td><td>0.5237330</td><td>0.16306166</td><td>0.0000000</td><td>0.0000000</td></tr>\n",
       "\t<tr><th scope=row>M6_CGCCAGTAGTACCTTG-1</th><td>0</td><td>0.0000000</td><td>0.0000000</td><td>0</td><td>0.4089804</td><td>0.00000000</td><td>0.1267500</td><td>0.4642696</td></tr>\n",
       "\t<tr><th scope=row>M6_ACTTTATACACCACTT-1</th><td>0</td><td>0.0000000</td><td>0.0000000</td><td>0</td><td>0.4905701</td><td>0.09806196</td><td>0.1507583</td><td>0.2606097</td></tr>\n",
       "\t<tr><th scope=row>M6_CGATCGAGAAGCACCA-1</th><td>0</td><td>0.0000000</td><td>0.7218831</td><td>0</td><td>0.2781169</td><td>0.00000000</td><td>0.0000000</td><td>0.0000000</td></tr>\n",
       "</tbody>\n",
       "</table>\n"
      ],
      "text/latex": [
       "A data.frame: 6 × 8\n",
       "\\begin{tabular}{r|llllllll}\n",
       "  & ExNeurons & GM.astrocytes & InhNeurons & microglia.macrophages & Oligodendrocytes & OPCs & Vasculature & WM.astrocytes\\\\\n",
       "  & <dbl> & <dbl> & <dbl> & <dbl> & <dbl> & <dbl> & <dbl> & <dbl>\\\\\n",
       "\\hline\n",
       "\tM6\\_CGTGAACTGACCCGAT-1 & 0 & 0.0000000 & 0.0000000 & 0 & 0.5689025 & 0.22922386 & 0.2018737 & 0.0000000\\\\\n",
       "\tM6\\_GACCGGTGATACTCTC-1 & 0 & 0.0000000 & 0.0000000 & 0 & 0.1753919 & 0.00000000 & 0.3791439 & 0.4454642\\\\\n",
       "\tM6\\_GCTACTCGGACGCAGA-1 & 0 & 0.1896757 & 0.1235297 & 0 & 0.5237330 & 0.16306166 & 0.0000000 & 0.0000000\\\\\n",
       "\tM6\\_CGCCAGTAGTACCTTG-1 & 0 & 0.0000000 & 0.0000000 & 0 & 0.4089804 & 0.00000000 & 0.1267500 & 0.4642696\\\\\n",
       "\tM6\\_ACTTTATACACCACTT-1 & 0 & 0.0000000 & 0.0000000 & 0 & 0.4905701 & 0.09806196 & 0.1507583 & 0.2606097\\\\\n",
       "\tM6\\_CGATCGAGAAGCACCA-1 & 0 & 0.0000000 & 0.7218831 & 0 & 0.2781169 & 0.00000000 & 0.0000000 & 0.0000000\\\\\n",
       "\\end{tabular}\n"
      ],
      "text/markdown": [
       "\n",
       "A data.frame: 6 × 8\n",
       "\n",
       "| <!--/--> | ExNeurons &lt;dbl&gt; | GM.astrocytes &lt;dbl&gt; | InhNeurons &lt;dbl&gt; | microglia.macrophages &lt;dbl&gt; | Oligodendrocytes &lt;dbl&gt; | OPCs &lt;dbl&gt; | Vasculature &lt;dbl&gt; | WM.astrocytes &lt;dbl&gt; |\n",
       "|---|---|---|---|---|---|---|---|---|\n",
       "| M6_CGTGAACTGACCCGAT-1 | 0 | 0.0000000 | 0.0000000 | 0 | 0.5689025 | 0.22922386 | 0.2018737 | 0.0000000 |\n",
       "| M6_GACCGGTGATACTCTC-1 | 0 | 0.0000000 | 0.0000000 | 0 | 0.1753919 | 0.00000000 | 0.3791439 | 0.4454642 |\n",
       "| M6_GCTACTCGGACGCAGA-1 | 0 | 0.1896757 | 0.1235297 | 0 | 0.5237330 | 0.16306166 | 0.0000000 | 0.0000000 |\n",
       "| M6_CGCCAGTAGTACCTTG-1 | 0 | 0.0000000 | 0.0000000 | 0 | 0.4089804 | 0.00000000 | 0.1267500 | 0.4642696 |\n",
       "| M6_ACTTTATACACCACTT-1 | 0 | 0.0000000 | 0.0000000 | 0 | 0.4905701 | 0.09806196 | 0.1507583 | 0.2606097 |\n",
       "| M6_CGATCGAGAAGCACCA-1 | 0 | 0.0000000 | 0.7218831 | 0 | 0.2781169 | 0.00000000 | 0.0000000 | 0.0000000 |\n",
       "\n"
      ],
      "text/plain": [
       "                      ExNeurons GM.astrocytes InhNeurons microglia.macrophages\n",
       "M6_CGTGAACTGACCCGAT-1 0         0.0000000     0.0000000  0                    \n",
       "M6_GACCGGTGATACTCTC-1 0         0.0000000     0.0000000  0                    \n",
       "M6_GCTACTCGGACGCAGA-1 0         0.1896757     0.1235297  0                    \n",
       "M6_CGCCAGTAGTACCTTG-1 0         0.0000000     0.0000000  0                    \n",
       "M6_ACTTTATACACCACTT-1 0         0.0000000     0.0000000  0                    \n",
       "M6_CGATCGAGAAGCACCA-1 0         0.0000000     0.7218831  0                    \n",
       "                      Oligodendrocytes OPCs       Vasculature WM.astrocytes\n",
       "M6_CGTGAACTGACCCGAT-1 0.5689025        0.22922386 0.2018737   0.0000000    \n",
       "M6_GACCGGTGATACTCTC-1 0.1753919        0.00000000 0.3791439   0.4454642    \n",
       "M6_GCTACTCGGACGCAGA-1 0.5237330        0.16306166 0.0000000   0.0000000    \n",
       "M6_CGCCAGTAGTACCTTG-1 0.4089804        0.00000000 0.1267500   0.4642696    \n",
       "M6_ACTTTATACACCACTT-1 0.4905701        0.09806196 0.1507583   0.2606097    \n",
       "M6_CGATCGAGAAGCACCA-1 0.2781169        0.00000000 0.0000000   0.0000000    "
      ]
     },
     "metadata": {},
     "output_type": "display_data"
    }
   ],
   "source": [
    "sample_group <- \"mix_act.inact_PL\"\n",
    "## real data\n",
    "\n",
    "# \n",
    "decon_matrix_1 <- read.csv(\"/data/bcn/Datasets/ST_WM/RData/SPOTlight_nmf/pergroup/ST67_PL_chronic_celltype_prop.csv\",row.names = 1)\n",
    "decon_matrix_2 <- read.csv(\"/data/bcn/Datasets/ST_WM/RData/SPOTlight_nmf/pergroup/ST68_PL_chronic_celltype_prop.csv\",row.names = 1)\n",
    "decon_matrix_3 <- read.csv(\"/data/bcn/Datasets/ST_WM/RData/SPOTlight_nmf/pergroup/ST71_PL_chronic_celltype_prop.csv\",row.names = 1)\n",
    "decon_matrix_4 <- read.csv(\"/data/bcn/Datasets/ST_WM/RData/SPOTlight_nmf/pergroup/ST72_PL_chronic_celltype_prop.csv\",row.names = 1)\n",
    "decon_matrix_5 <- read.csv(\"/data/bcn/Datasets/ST_WM/RData/SPOTlight_nmf/pergroup/ST73_PL_chronic_celltype_prop.csv\",row.names = 1)\n",
    "decon_matrix_6 <- read.csv(\"/data/bcn/Datasets/ST_WM/RData/SPOTlight_nmf/pergroup/ST74_PL_chronic_celltype_prop.csv\",row.names = 1)\n",
    "rownames(decon_matrix_1) <- paste0(\"M1_\", rownames(decon_matrix_1))\n",
    "rownames(decon_matrix_2) <- paste0(\"M2_\", rownames(decon_matrix_2))\n",
    "rownames(decon_matrix_3) <- paste0(\"M3_\", rownames(decon_matrix_3))\n",
    "rownames(decon_matrix_4) <- paste0(\"M4_\", rownames(decon_matrix_4))\n",
    "rownames(decon_matrix_5) <- paste0(\"M5_\", rownames(decon_matrix_5))\n",
    "rownames(decon_matrix_6) <- paste0(\"M6_\", rownames(decon_matrix_6))\n",
    "head(decon_matrix_1, n = 2)\n",
    "head(decon_matrix_2, n = 2)\n",
    "head(decon_matrix_3, n = 2)\n",
    "head(decon_matrix_4, n = 2)\n",
    "head(decon_matrix_5, n = 2)\n",
    "head(decon_matrix_6, n = 2)\n",
    "decon_matrix <- rbind(decon_matrix_1, decon_matrix_2, decon_matrix_3, decon_matrix_4, decon_matrix_5, decon_matrix_6)\n",
    "tail(decon_matrix)"
   ]
  },
  {
   "cell_type": "code",
   "execution_count": 98,
   "metadata": {
    "collapsed": true,
    "jupyter": {
     "outputs_hidden": true
    }
   },
   "outputs": [
    {
     "data": {
      "text/html": [
       "<table class=\"dataframe\">\n",
       "<caption>A data.frame: 2 × 8</caption>\n",
       "<thead>\n",
       "\t<tr><th></th><th scope=col>ExNeurons</th><th scope=col>GM.astrocytes</th><th scope=col>InhNeurons</th><th scope=col>microglia.macrophages</th><th scope=col>Oligodendrocytes</th><th scope=col>OPCs</th><th scope=col>Vasculature</th><th scope=col>WM.astrocytes</th></tr>\n",
       "\t<tr><th></th><th scope=col>&lt;dbl&gt;</th><th scope=col>&lt;dbl&gt;</th><th scope=col>&lt;dbl&gt;</th><th scope=col>&lt;dbl&gt;</th><th scope=col>&lt;dbl&gt;</th><th scope=col>&lt;dbl&gt;</th><th scope=col>&lt;dbl&gt;</th><th scope=col>&lt;dbl&gt;</th></tr>\n",
       "</thead>\n",
       "<tbody>\n",
       "\t<tr><th scope=row>M1_CTGGGATCGCCCAGAT-1</th><td>0.000000</td><td>0.0000000</td><td>0.09692087</td><td>0</td><td>0</td><td>0</td><td>0.1670036</td><td>0.7360755</td></tr>\n",
       "\t<tr><th scope=row>M1_CATTATAACAGGGTCC-1</th><td>0.109773</td><td>0.1497035</td><td>0.00000000</td><td>0</td><td>0</td><td>0</td><td>0.1284124</td><td>0.6121111</td></tr>\n",
       "</tbody>\n",
       "</table>\n"
      ],
      "text/latex": [
       "A data.frame: 2 × 8\n",
       "\\begin{tabular}{r|llllllll}\n",
       "  & ExNeurons & GM.astrocytes & InhNeurons & microglia.macrophages & Oligodendrocytes & OPCs & Vasculature & WM.astrocytes\\\\\n",
       "  & <dbl> & <dbl> & <dbl> & <dbl> & <dbl> & <dbl> & <dbl> & <dbl>\\\\\n",
       "\\hline\n",
       "\tM1\\_CTGGGATCGCCCAGAT-1 & 0.000000 & 0.0000000 & 0.09692087 & 0 & 0 & 0 & 0.1670036 & 0.7360755\\\\\n",
       "\tM1\\_CATTATAACAGGGTCC-1 & 0.109773 & 0.1497035 & 0.00000000 & 0 & 0 & 0 & 0.1284124 & 0.6121111\\\\\n",
       "\\end{tabular}\n"
      ],
      "text/markdown": [
       "\n",
       "A data.frame: 2 × 8\n",
       "\n",
       "| <!--/--> | ExNeurons &lt;dbl&gt; | GM.astrocytes &lt;dbl&gt; | InhNeurons &lt;dbl&gt; | microglia.macrophages &lt;dbl&gt; | Oligodendrocytes &lt;dbl&gt; | OPCs &lt;dbl&gt; | Vasculature &lt;dbl&gt; | WM.astrocytes &lt;dbl&gt; |\n",
       "|---|---|---|---|---|---|---|---|---|\n",
       "| M1_CTGGGATCGCCCAGAT-1 | 0.000000 | 0.0000000 | 0.09692087 | 0 | 0 | 0 | 0.1670036 | 0.7360755 |\n",
       "| M1_CATTATAACAGGGTCC-1 | 0.109773 | 0.1497035 | 0.00000000 | 0 | 0 | 0 | 0.1284124 | 0.6121111 |\n",
       "\n"
      ],
      "text/plain": [
       "                      ExNeurons GM.astrocytes InhNeurons microglia.macrophages\n",
       "M1_CTGGGATCGCCCAGAT-1 0.000000  0.0000000     0.09692087 0                    \n",
       "M1_CATTATAACAGGGTCC-1 0.109773  0.1497035     0.00000000 0                    \n",
       "                      Oligodendrocytes OPCs Vasculature WM.astrocytes\n",
       "M1_CTGGGATCGCCCAGAT-1 0                0    0.1670036   0.7360755    \n",
       "M1_CATTATAACAGGGTCC-1 0                0    0.1284124   0.6121111    "
      ]
     },
     "metadata": {},
     "output_type": "display_data"
    },
    {
     "data": {
      "text/html": [
       "<table class=\"dataframe\">\n",
       "<caption>A data.frame: 2 × 8</caption>\n",
       "<thead>\n",
       "\t<tr><th></th><th scope=col>ExNeurons</th><th scope=col>GM.astrocytes</th><th scope=col>InhNeurons</th><th scope=col>microglia.macrophages</th><th scope=col>Oligodendrocytes</th><th scope=col>OPCs</th><th scope=col>Vasculature</th><th scope=col>WM.astrocytes</th></tr>\n",
       "\t<tr><th></th><th scope=col>&lt;dbl&gt;</th><th scope=col>&lt;dbl&gt;</th><th scope=col>&lt;dbl&gt;</th><th scope=col>&lt;dbl&gt;</th><th scope=col>&lt;dbl&gt;</th><th scope=col>&lt;dbl&gt;</th><th scope=col>&lt;dbl&gt;</th><th scope=col>&lt;dbl&gt;</th></tr>\n",
       "</thead>\n",
       "<tbody>\n",
       "\t<tr><th scope=row>M2_GTACGAGATTGCGACA-1</th><td>0</td><td>0.0000000</td><td>0</td><td>0.0000000</td><td>0.0000000</td><td>0</td><td>0.4349678</td><td>0.5650322</td></tr>\n",
       "\t<tr><th scope=row>M2_TAACTCATCCGCGCGG-1</th><td>0</td><td>0.2464096</td><td>0</td><td>0.1314272</td><td>0.1375352</td><td>0</td><td>0.3134753</td><td>0.1711528</td></tr>\n",
       "</tbody>\n",
       "</table>\n"
      ],
      "text/latex": [
       "A data.frame: 2 × 8\n",
       "\\begin{tabular}{r|llllllll}\n",
       "  & ExNeurons & GM.astrocytes & InhNeurons & microglia.macrophages & Oligodendrocytes & OPCs & Vasculature & WM.astrocytes\\\\\n",
       "  & <dbl> & <dbl> & <dbl> & <dbl> & <dbl> & <dbl> & <dbl> & <dbl>\\\\\n",
       "\\hline\n",
       "\tM2\\_GTACGAGATTGCGACA-1 & 0 & 0.0000000 & 0 & 0.0000000 & 0.0000000 & 0 & 0.4349678 & 0.5650322\\\\\n",
       "\tM2\\_TAACTCATCCGCGCGG-1 & 0 & 0.2464096 & 0 & 0.1314272 & 0.1375352 & 0 & 0.3134753 & 0.1711528\\\\\n",
       "\\end{tabular}\n"
      ],
      "text/markdown": [
       "\n",
       "A data.frame: 2 × 8\n",
       "\n",
       "| <!--/--> | ExNeurons &lt;dbl&gt; | GM.astrocytes &lt;dbl&gt; | InhNeurons &lt;dbl&gt; | microglia.macrophages &lt;dbl&gt; | Oligodendrocytes &lt;dbl&gt; | OPCs &lt;dbl&gt; | Vasculature &lt;dbl&gt; | WM.astrocytes &lt;dbl&gt; |\n",
       "|---|---|---|---|---|---|---|---|---|\n",
       "| M2_GTACGAGATTGCGACA-1 | 0 | 0.0000000 | 0 | 0.0000000 | 0.0000000 | 0 | 0.4349678 | 0.5650322 |\n",
       "| M2_TAACTCATCCGCGCGG-1 | 0 | 0.2464096 | 0 | 0.1314272 | 0.1375352 | 0 | 0.3134753 | 0.1711528 |\n",
       "\n"
      ],
      "text/plain": [
       "                      ExNeurons GM.astrocytes InhNeurons microglia.macrophages\n",
       "M2_GTACGAGATTGCGACA-1 0         0.0000000     0          0.0000000            \n",
       "M2_TAACTCATCCGCGCGG-1 0         0.2464096     0          0.1314272            \n",
       "                      Oligodendrocytes OPCs Vasculature WM.astrocytes\n",
       "M2_GTACGAGATTGCGACA-1 0.0000000        0    0.4349678   0.5650322    \n",
       "M2_TAACTCATCCGCGCGG-1 0.1375352        0    0.3134753   0.1711528    "
      ]
     },
     "metadata": {},
     "output_type": "display_data"
    },
    {
     "data": {
      "text/html": [
       "<table class=\"dataframe\">\n",
       "<caption>A data.frame: 2 × 8</caption>\n",
       "<thead>\n",
       "\t<tr><th></th><th scope=col>ExNeurons</th><th scope=col>GM.astrocytes</th><th scope=col>InhNeurons</th><th scope=col>microglia.macrophages</th><th scope=col>Oligodendrocytes</th><th scope=col>OPCs</th><th scope=col>Vasculature</th><th scope=col>WM.astrocytes</th></tr>\n",
       "\t<tr><th></th><th scope=col>&lt;dbl&gt;</th><th scope=col>&lt;dbl&gt;</th><th scope=col>&lt;dbl&gt;</th><th scope=col>&lt;dbl&gt;</th><th scope=col>&lt;dbl&gt;</th><th scope=col>&lt;dbl&gt;</th><th scope=col>&lt;dbl&gt;</th><th scope=col>&lt;dbl&gt;</th></tr>\n",
       "</thead>\n",
       "<tbody>\n",
       "\t<tr><th scope=row>M3_ACGCCAGATGATTTCT-1</th><td>0</td><td>0.0000000</td><td>0</td><td>0.1902085</td><td>0</td><td>0</td><td>0.6236436</td><td>0.1861479</td></tr>\n",
       "\t<tr><th scope=row>M3_GAACGACCGAATGATA-1</th><td>0</td><td>0.1663255</td><td>0</td><td>0.1222336</td><td>0</td><td>0</td><td>0.2920235</td><td>0.4194174</td></tr>\n",
       "</tbody>\n",
       "</table>\n"
      ],
      "text/latex": [
       "A data.frame: 2 × 8\n",
       "\\begin{tabular}{r|llllllll}\n",
       "  & ExNeurons & GM.astrocytes & InhNeurons & microglia.macrophages & Oligodendrocytes & OPCs & Vasculature & WM.astrocytes\\\\\n",
       "  & <dbl> & <dbl> & <dbl> & <dbl> & <dbl> & <dbl> & <dbl> & <dbl>\\\\\n",
       "\\hline\n",
       "\tM3\\_ACGCCAGATGATTTCT-1 & 0 & 0.0000000 & 0 & 0.1902085 & 0 & 0 & 0.6236436 & 0.1861479\\\\\n",
       "\tM3\\_GAACGACCGAATGATA-1 & 0 & 0.1663255 & 0 & 0.1222336 & 0 & 0 & 0.2920235 & 0.4194174\\\\\n",
       "\\end{tabular}\n"
      ],
      "text/markdown": [
       "\n",
       "A data.frame: 2 × 8\n",
       "\n",
       "| <!--/--> | ExNeurons &lt;dbl&gt; | GM.astrocytes &lt;dbl&gt; | InhNeurons &lt;dbl&gt; | microglia.macrophages &lt;dbl&gt; | Oligodendrocytes &lt;dbl&gt; | OPCs &lt;dbl&gt; | Vasculature &lt;dbl&gt; | WM.astrocytes &lt;dbl&gt; |\n",
       "|---|---|---|---|---|---|---|---|---|\n",
       "| M3_ACGCCAGATGATTTCT-1 | 0 | 0.0000000 | 0 | 0.1902085 | 0 | 0 | 0.6236436 | 0.1861479 |\n",
       "| M3_GAACGACCGAATGATA-1 | 0 | 0.1663255 | 0 | 0.1222336 | 0 | 0 | 0.2920235 | 0.4194174 |\n",
       "\n"
      ],
      "text/plain": [
       "                      ExNeurons GM.astrocytes InhNeurons microglia.macrophages\n",
       "M3_ACGCCAGATGATTTCT-1 0         0.0000000     0          0.1902085            \n",
       "M3_GAACGACCGAATGATA-1 0         0.1663255     0          0.1222336            \n",
       "                      Oligodendrocytes OPCs Vasculature WM.astrocytes\n",
       "M3_ACGCCAGATGATTTCT-1 0                0    0.6236436   0.1861479    \n",
       "M3_GAACGACCGAATGATA-1 0                0    0.2920235   0.4194174    "
      ]
     },
     "metadata": {},
     "output_type": "display_data"
    },
    {
     "data": {
      "text/html": [
       "<table class=\"dataframe\">\n",
       "<caption>A data.frame: 2 × 8</caption>\n",
       "<thead>\n",
       "\t<tr><th></th><th scope=col>ExNeurons</th><th scope=col>GM.astrocytes</th><th scope=col>InhNeurons</th><th scope=col>microglia.macrophages</th><th scope=col>Oligodendrocytes</th><th scope=col>OPCs</th><th scope=col>Vasculature</th><th scope=col>WM.astrocytes</th></tr>\n",
       "\t<tr><th></th><th scope=col>&lt;dbl&gt;</th><th scope=col>&lt;dbl&gt;</th><th scope=col>&lt;dbl&gt;</th><th scope=col>&lt;dbl&gt;</th><th scope=col>&lt;dbl&gt;</th><th scope=col>&lt;dbl&gt;</th><th scope=col>&lt;dbl&gt;</th><th scope=col>&lt;dbl&gt;</th></tr>\n",
       "</thead>\n",
       "<tbody>\n",
       "\t<tr><th scope=row>M4_TGTTGGCTGGCGGAAG-1</th><td>0.1215888</td><td>0.0000000</td><td>0.1383891</td><td>0.1179195</td><td>0.0000000</td><td>0</td><td>0.2436338</td><td>0.3784688</td></tr>\n",
       "\t<tr><th scope=row>M4_GCATCCTCTCCTATTA-1</th><td>0.0000000</td><td>0.1903266</td><td>0.1704239</td><td>0.0000000</td><td>0.1116022</td><td>0</td><td>0.2223304</td><td>0.3053170</td></tr>\n",
       "</tbody>\n",
       "</table>\n"
      ],
      "text/latex": [
       "A data.frame: 2 × 8\n",
       "\\begin{tabular}{r|llllllll}\n",
       "  & ExNeurons & GM.astrocytes & InhNeurons & microglia.macrophages & Oligodendrocytes & OPCs & Vasculature & WM.astrocytes\\\\\n",
       "  & <dbl> & <dbl> & <dbl> & <dbl> & <dbl> & <dbl> & <dbl> & <dbl>\\\\\n",
       "\\hline\n",
       "\tM4\\_TGTTGGCTGGCGGAAG-1 & 0.1215888 & 0.0000000 & 0.1383891 & 0.1179195 & 0.0000000 & 0 & 0.2436338 & 0.3784688\\\\\n",
       "\tM4\\_GCATCCTCTCCTATTA-1 & 0.0000000 & 0.1903266 & 0.1704239 & 0.0000000 & 0.1116022 & 0 & 0.2223304 & 0.3053170\\\\\n",
       "\\end{tabular}\n"
      ],
      "text/markdown": [
       "\n",
       "A data.frame: 2 × 8\n",
       "\n",
       "| <!--/--> | ExNeurons &lt;dbl&gt; | GM.astrocytes &lt;dbl&gt; | InhNeurons &lt;dbl&gt; | microglia.macrophages &lt;dbl&gt; | Oligodendrocytes &lt;dbl&gt; | OPCs &lt;dbl&gt; | Vasculature &lt;dbl&gt; | WM.astrocytes &lt;dbl&gt; |\n",
       "|---|---|---|---|---|---|---|---|---|\n",
       "| M4_TGTTGGCTGGCGGAAG-1 | 0.1215888 | 0.0000000 | 0.1383891 | 0.1179195 | 0.0000000 | 0 | 0.2436338 | 0.3784688 |\n",
       "| M4_GCATCCTCTCCTATTA-1 | 0.0000000 | 0.1903266 | 0.1704239 | 0.0000000 | 0.1116022 | 0 | 0.2223304 | 0.3053170 |\n",
       "\n"
      ],
      "text/plain": [
       "                      ExNeurons GM.astrocytes InhNeurons microglia.macrophages\n",
       "M4_TGTTGGCTGGCGGAAG-1 0.1215888 0.0000000     0.1383891  0.1179195            \n",
       "M4_GCATCCTCTCCTATTA-1 0.0000000 0.1903266     0.1704239  0.0000000            \n",
       "                      Oligodendrocytes OPCs Vasculature WM.astrocytes\n",
       "M4_TGTTGGCTGGCGGAAG-1 0.0000000        0    0.2436338   0.3784688    \n",
       "M4_GCATCCTCTCCTATTA-1 0.1116022        0    0.2223304   0.3053170    "
      ]
     },
     "metadata": {},
     "output_type": "display_data"
    },
    {
     "data": {
      "text/html": [
       "<table class=\"dataframe\">\n",
       "<caption>A data.frame: 2 × 8</caption>\n",
       "<thead>\n",
       "\t<tr><th></th><th scope=col>ExNeurons</th><th scope=col>GM.astrocytes</th><th scope=col>InhNeurons</th><th scope=col>microglia.macrophages</th><th scope=col>Oligodendrocytes</th><th scope=col>OPCs</th><th scope=col>Vasculature</th><th scope=col>WM.astrocytes</th></tr>\n",
       "\t<tr><th></th><th scope=col>&lt;dbl&gt;</th><th scope=col>&lt;dbl&gt;</th><th scope=col>&lt;dbl&gt;</th><th scope=col>&lt;dbl&gt;</th><th scope=col>&lt;dbl&gt;</th><th scope=col>&lt;dbl&gt;</th><th scope=col>&lt;dbl&gt;</th><th scope=col>&lt;dbl&gt;</th></tr>\n",
       "</thead>\n",
       "<tbody>\n",
       "\t<tr><th scope=row>M5_TTCTTGGAGTAATGAG-1</th><td>0</td><td>0</td><td>0.2167613</td><td>0</td><td>0.1960443</td><td>0</td><td>0.1201067</td><td>0.4670877</td></tr>\n",
       "\t<tr><th scope=row>M5_TACGGGATGCTAGCAG-1</th><td>0</td><td>0</td><td>0.2274287</td><td>0</td><td>0.3611390</td><td>0</td><td>0.1445425</td><td>0.2668897</td></tr>\n",
       "</tbody>\n",
       "</table>\n"
      ],
      "text/latex": [
       "A data.frame: 2 × 8\n",
       "\\begin{tabular}{r|llllllll}\n",
       "  & ExNeurons & GM.astrocytes & InhNeurons & microglia.macrophages & Oligodendrocytes & OPCs & Vasculature & WM.astrocytes\\\\\n",
       "  & <dbl> & <dbl> & <dbl> & <dbl> & <dbl> & <dbl> & <dbl> & <dbl>\\\\\n",
       "\\hline\n",
       "\tM5\\_TTCTTGGAGTAATGAG-1 & 0 & 0 & 0.2167613 & 0 & 0.1960443 & 0 & 0.1201067 & 0.4670877\\\\\n",
       "\tM5\\_TACGGGATGCTAGCAG-1 & 0 & 0 & 0.2274287 & 0 & 0.3611390 & 0 & 0.1445425 & 0.2668897\\\\\n",
       "\\end{tabular}\n"
      ],
      "text/markdown": [
       "\n",
       "A data.frame: 2 × 8\n",
       "\n",
       "| <!--/--> | ExNeurons &lt;dbl&gt; | GM.astrocytes &lt;dbl&gt; | InhNeurons &lt;dbl&gt; | microglia.macrophages &lt;dbl&gt; | Oligodendrocytes &lt;dbl&gt; | OPCs &lt;dbl&gt; | Vasculature &lt;dbl&gt; | WM.astrocytes &lt;dbl&gt; |\n",
       "|---|---|---|---|---|---|---|---|---|\n",
       "| M5_TTCTTGGAGTAATGAG-1 | 0 | 0 | 0.2167613 | 0 | 0.1960443 | 0 | 0.1201067 | 0.4670877 |\n",
       "| M5_TACGGGATGCTAGCAG-1 | 0 | 0 | 0.2274287 | 0 | 0.3611390 | 0 | 0.1445425 | 0.2668897 |\n",
       "\n"
      ],
      "text/plain": [
       "                      ExNeurons GM.astrocytes InhNeurons microglia.macrophages\n",
       "M5_TTCTTGGAGTAATGAG-1 0         0             0.2167613  0                    \n",
       "M5_TACGGGATGCTAGCAG-1 0         0             0.2274287  0                    \n",
       "                      Oligodendrocytes OPCs Vasculature WM.astrocytes\n",
       "M5_TTCTTGGAGTAATGAG-1 0.1960443        0    0.1201067   0.4670877    \n",
       "M5_TACGGGATGCTAGCAG-1 0.3611390        0    0.1445425   0.2668897    "
      ]
     },
     "metadata": {},
     "output_type": "display_data"
    },
    {
     "data": {
      "text/html": [
       "<table class=\"dataframe\">\n",
       "<caption>A data.frame: 2 × 8</caption>\n",
       "<thead>\n",
       "\t<tr><th></th><th scope=col>ExNeurons</th><th scope=col>GM.astrocytes</th><th scope=col>InhNeurons</th><th scope=col>microglia.macrophages</th><th scope=col>Oligodendrocytes</th><th scope=col>OPCs</th><th scope=col>Vasculature</th><th scope=col>WM.astrocytes</th></tr>\n",
       "\t<tr><th></th><th scope=col>&lt;dbl&gt;</th><th scope=col>&lt;dbl&gt;</th><th scope=col>&lt;dbl&gt;</th><th scope=col>&lt;dbl&gt;</th><th scope=col>&lt;dbl&gt;</th><th scope=col>&lt;dbl&gt;</th><th scope=col>&lt;dbl&gt;</th><th scope=col>&lt;dbl&gt;</th></tr>\n",
       "</thead>\n",
       "<tbody>\n",
       "\t<tr><th scope=row>M6_ATTTGCCTAGTTACGA-1</th><td>0</td><td>0</td><td>0</td><td>0.0000000</td><td>0.2622083</td><td>0</td><td>0.310489</td><td>0.4273027</td></tr>\n",
       "\t<tr><th scope=row>M6_ACGTCCTAAACGAGAT-1</th><td>0</td><td>0</td><td>0</td><td>0.1820059</td><td>0.2446171</td><td>0</td><td>0.189702</td><td>0.3836749</td></tr>\n",
       "</tbody>\n",
       "</table>\n"
      ],
      "text/latex": [
       "A data.frame: 2 × 8\n",
       "\\begin{tabular}{r|llllllll}\n",
       "  & ExNeurons & GM.astrocytes & InhNeurons & microglia.macrophages & Oligodendrocytes & OPCs & Vasculature & WM.astrocytes\\\\\n",
       "  & <dbl> & <dbl> & <dbl> & <dbl> & <dbl> & <dbl> & <dbl> & <dbl>\\\\\n",
       "\\hline\n",
       "\tM6\\_ATTTGCCTAGTTACGA-1 & 0 & 0 & 0 & 0.0000000 & 0.2622083 & 0 & 0.310489 & 0.4273027\\\\\n",
       "\tM6\\_ACGTCCTAAACGAGAT-1 & 0 & 0 & 0 & 0.1820059 & 0.2446171 & 0 & 0.189702 & 0.3836749\\\\\n",
       "\\end{tabular}\n"
      ],
      "text/markdown": [
       "\n",
       "A data.frame: 2 × 8\n",
       "\n",
       "| <!--/--> | ExNeurons &lt;dbl&gt; | GM.astrocytes &lt;dbl&gt; | InhNeurons &lt;dbl&gt; | microglia.macrophages &lt;dbl&gt; | Oligodendrocytes &lt;dbl&gt; | OPCs &lt;dbl&gt; | Vasculature &lt;dbl&gt; | WM.astrocytes &lt;dbl&gt; |\n",
       "|---|---|---|---|---|---|---|---|---|\n",
       "| M6_ATTTGCCTAGTTACGA-1 | 0 | 0 | 0 | 0.0000000 | 0.2622083 | 0 | 0.310489 | 0.4273027 |\n",
       "| M6_ACGTCCTAAACGAGAT-1 | 0 | 0 | 0 | 0.1820059 | 0.2446171 | 0 | 0.189702 | 0.3836749 |\n",
       "\n"
      ],
      "text/plain": [
       "                      ExNeurons GM.astrocytes InhNeurons microglia.macrophages\n",
       "M6_ATTTGCCTAGTTACGA-1 0         0             0          0.0000000            \n",
       "M6_ACGTCCTAAACGAGAT-1 0         0             0          0.1820059            \n",
       "                      Oligodendrocytes OPCs Vasculature WM.astrocytes\n",
       "M6_ATTTGCCTAGTTACGA-1 0.2622083        0    0.310489    0.4273027    \n",
       "M6_ACGTCCTAAACGAGAT-1 0.2446171        0    0.189702    0.3836749    "
      ]
     },
     "metadata": {},
     "output_type": "display_data"
    },
    {
     "data": {
      "text/html": [
       "<table class=\"dataframe\">\n",
       "<caption>A data.frame: 6 × 8</caption>\n",
       "<thead>\n",
       "\t<tr><th></th><th scope=col>ExNeurons</th><th scope=col>GM.astrocytes</th><th scope=col>InhNeurons</th><th scope=col>microglia.macrophages</th><th scope=col>Oligodendrocytes</th><th scope=col>OPCs</th><th scope=col>Vasculature</th><th scope=col>WM.astrocytes</th></tr>\n",
       "\t<tr><th></th><th scope=col>&lt;dbl&gt;</th><th scope=col>&lt;dbl&gt;</th><th scope=col>&lt;dbl&gt;</th><th scope=col>&lt;dbl&gt;</th><th scope=col>&lt;dbl&gt;</th><th scope=col>&lt;dbl&gt;</th><th scope=col>&lt;dbl&gt;</th><th scope=col>&lt;dbl&gt;</th></tr>\n",
       "</thead>\n",
       "<tbody>\n",
       "\t<tr><th scope=row>M6_ATAAGTTACCGCGACG-1</th><td>0</td><td>0.0000000</td><td>0.00000000</td><td>0.12251170</td><td>0.3693471</td><td>0</td><td>0.1631135</td><td>0.3450277</td></tr>\n",
       "\t<tr><th scope=row>M6_TACGACGCTTGCTGCG-1</th><td>0</td><td>0.0000000</td><td>0.00000000</td><td>0.18427082</td><td>0.1542341</td><td>0</td><td>0.3616874</td><td>0.2998076</td></tr>\n",
       "\t<tr><th scope=row>M6_GGGTGACACCTTAACT-1</th><td>0</td><td>0.1364921</td><td>0.18076084</td><td>0.09290856</td><td>0.2073465</td><td>0</td><td>0.1859702</td><td>0.1965217</td></tr>\n",
       "\t<tr><th scope=row>M6_CAAAGGTCATCTGAAA-1</th><td>0</td><td>0.0000000</td><td>0.00000000</td><td>0.00000000</td><td>0.5003537</td><td>0</td><td>0.2072772</td><td>0.2923691</td></tr>\n",
       "\t<tr><th scope=row>M6_AGGCCACATTGGTTAC-1</th><td>0</td><td>0.0000000</td><td>0.09824827</td><td>0.13237784</td><td>0.3588794</td><td>0</td><td>0.1724259</td><td>0.2380685</td></tr>\n",
       "\t<tr><th scope=row>M6_TTAGGATGGGAGGGTA-1</th><td>0</td><td>0.0000000</td><td>0.00000000</td><td>0.27357833</td><td>0.5478886</td><td>0</td><td>0.0000000</td><td>0.1785331</td></tr>\n",
       "</tbody>\n",
       "</table>\n"
      ],
      "text/latex": [
       "A data.frame: 6 × 8\n",
       "\\begin{tabular}{r|llllllll}\n",
       "  & ExNeurons & GM.astrocytes & InhNeurons & microglia.macrophages & Oligodendrocytes & OPCs & Vasculature & WM.astrocytes\\\\\n",
       "  & <dbl> & <dbl> & <dbl> & <dbl> & <dbl> & <dbl> & <dbl> & <dbl>\\\\\n",
       "\\hline\n",
       "\tM6\\_ATAAGTTACCGCGACG-1 & 0 & 0.0000000 & 0.00000000 & 0.12251170 & 0.3693471 & 0 & 0.1631135 & 0.3450277\\\\\n",
       "\tM6\\_TACGACGCTTGCTGCG-1 & 0 & 0.0000000 & 0.00000000 & 0.18427082 & 0.1542341 & 0 & 0.3616874 & 0.2998076\\\\\n",
       "\tM6\\_GGGTGACACCTTAACT-1 & 0 & 0.1364921 & 0.18076084 & 0.09290856 & 0.2073465 & 0 & 0.1859702 & 0.1965217\\\\\n",
       "\tM6\\_CAAAGGTCATCTGAAA-1 & 0 & 0.0000000 & 0.00000000 & 0.00000000 & 0.5003537 & 0 & 0.2072772 & 0.2923691\\\\\n",
       "\tM6\\_AGGCCACATTGGTTAC-1 & 0 & 0.0000000 & 0.09824827 & 0.13237784 & 0.3588794 & 0 & 0.1724259 & 0.2380685\\\\\n",
       "\tM6\\_TTAGGATGGGAGGGTA-1 & 0 & 0.0000000 & 0.00000000 & 0.27357833 & 0.5478886 & 0 & 0.0000000 & 0.1785331\\\\\n",
       "\\end{tabular}\n"
      ],
      "text/markdown": [
       "\n",
       "A data.frame: 6 × 8\n",
       "\n",
       "| <!--/--> | ExNeurons &lt;dbl&gt; | GM.astrocytes &lt;dbl&gt; | InhNeurons &lt;dbl&gt; | microglia.macrophages &lt;dbl&gt; | Oligodendrocytes &lt;dbl&gt; | OPCs &lt;dbl&gt; | Vasculature &lt;dbl&gt; | WM.astrocytes &lt;dbl&gt; |\n",
       "|---|---|---|---|---|---|---|---|---|\n",
       "| M6_ATAAGTTACCGCGACG-1 | 0 | 0.0000000 | 0.00000000 | 0.12251170 | 0.3693471 | 0 | 0.1631135 | 0.3450277 |\n",
       "| M6_TACGACGCTTGCTGCG-1 | 0 | 0.0000000 | 0.00000000 | 0.18427082 | 0.1542341 | 0 | 0.3616874 | 0.2998076 |\n",
       "| M6_GGGTGACACCTTAACT-1 | 0 | 0.1364921 | 0.18076084 | 0.09290856 | 0.2073465 | 0 | 0.1859702 | 0.1965217 |\n",
       "| M6_CAAAGGTCATCTGAAA-1 | 0 | 0.0000000 | 0.00000000 | 0.00000000 | 0.5003537 | 0 | 0.2072772 | 0.2923691 |\n",
       "| M6_AGGCCACATTGGTTAC-1 | 0 | 0.0000000 | 0.09824827 | 0.13237784 | 0.3588794 | 0 | 0.1724259 | 0.2380685 |\n",
       "| M6_TTAGGATGGGAGGGTA-1 | 0 | 0.0000000 | 0.00000000 | 0.27357833 | 0.5478886 | 0 | 0.0000000 | 0.1785331 |\n",
       "\n"
      ],
      "text/plain": [
       "                      ExNeurons GM.astrocytes InhNeurons microglia.macrophages\n",
       "M6_ATAAGTTACCGCGACG-1 0         0.0000000     0.00000000 0.12251170           \n",
       "M6_TACGACGCTTGCTGCG-1 0         0.0000000     0.00000000 0.18427082           \n",
       "M6_GGGTGACACCTTAACT-1 0         0.1364921     0.18076084 0.09290856           \n",
       "M6_CAAAGGTCATCTGAAA-1 0         0.0000000     0.00000000 0.00000000           \n",
       "M6_AGGCCACATTGGTTAC-1 0         0.0000000     0.09824827 0.13237784           \n",
       "M6_TTAGGATGGGAGGGTA-1 0         0.0000000     0.00000000 0.27357833           \n",
       "                      Oligodendrocytes OPCs Vasculature WM.astrocytes\n",
       "M6_ATAAGTTACCGCGACG-1 0.3693471        0    0.1631135   0.3450277    \n",
       "M6_TACGACGCTTGCTGCG-1 0.1542341        0    0.3616874   0.2998076    \n",
       "M6_GGGTGACACCTTAACT-1 0.2073465        0    0.1859702   0.1965217    \n",
       "M6_CAAAGGTCATCTGAAA-1 0.5003537        0    0.2072772   0.2923691    \n",
       "M6_AGGCCACATTGGTTAC-1 0.3588794        0    0.1724259   0.2380685    \n",
       "M6_TTAGGATGGGAGGGTA-1 0.5478886        0    0.0000000   0.1785331    "
      ]
     },
     "metadata": {},
     "output_type": "display_data"
    }
   ],
   "source": [
    "sample_group <- \"mix_act.inact_core\"\n",
    "## real data\n",
    "\n",
    "# \n",
    "decon_matrix_1 <- read.csv(\"/data/bcn/Datasets/ST_WM/RData/SPOTlight_nmf/pergroup/ST67_chronic_celltype_prop.csv\",row.names = 1)\n",
    "decon_matrix_2 <- read.csv(\"/data/bcn/Datasets/ST_WM/RData/SPOTlight_nmf/pergroup/ST68_chronic_celltype_prop.csv\",row.names = 1)\n",
    "decon_matrix_3 <- read.csv(\"/data/bcn/Datasets/ST_WM/RData/SPOTlight_nmf/pergroup/ST71_chronic_celltype_prop.csv\",row.names = 1)\n",
    "decon_matrix_4 <- read.csv(\"/data/bcn/Datasets/ST_WM/RData/SPOTlight_nmf/pergroup/ST72_chronic_celltype_prop.csv\",row.names = 1)\n",
    "decon_matrix_5 <- read.csv(\"/data/bcn/Datasets/ST_WM/RData/SPOTlight_nmf/pergroup/ST73_chronic_celltype_prop.csv\",row.names = 1)\n",
    "decon_matrix_6 <- read.csv(\"/data/bcn/Datasets/ST_WM/RData/SPOTlight_nmf/pergroup/ST74_chronic_celltype_prop.csv\",row.names = 1)\n",
    "rownames(decon_matrix_1) <- paste0(\"M1_\", rownames(decon_matrix_1))\n",
    "rownames(decon_matrix_2) <- paste0(\"M2_\", rownames(decon_matrix_2))\n",
    "rownames(decon_matrix_3) <- paste0(\"M3_\", rownames(decon_matrix_3))\n",
    "rownames(decon_matrix_4) <- paste0(\"M4_\", rownames(decon_matrix_4))\n",
    "rownames(decon_matrix_5) <- paste0(\"M5_\", rownames(decon_matrix_5))\n",
    "rownames(decon_matrix_6) <- paste0(\"M6_\", rownames(decon_matrix_6))\n",
    "head(decon_matrix_1, n = 2)\n",
    "head(decon_matrix_2, n = 2)\n",
    "head(decon_matrix_3, n = 2)\n",
    "head(decon_matrix_4, n = 2)\n",
    "head(decon_matrix_5, n = 2)\n",
    "head(decon_matrix_6, n = 2)\n",
    "decon_matrix <- rbind(decon_matrix_1, decon_matrix_2, decon_matrix_3, decon_matrix_4, decon_matrix_5, decon_matrix_6)\n",
    "tail(decon_matrix)"
   ]
  },
  {
   "cell_type": "code",
   "execution_count": 61,
   "metadata": {
    "collapsed": true,
    "jupyter": {
     "outputs_hidden": true
    }
   },
   "outputs": [
    {
     "data": {
      "text/html": [
       "<table class=\"dataframe\">\n",
       "<caption>A data.frame: 2 × 8</caption>\n",
       "<thead>\n",
       "\t<tr><th></th><th scope=col>ExNeurons</th><th scope=col>GM.astrocytes</th><th scope=col>InhNeurons</th><th scope=col>microglia.macrophages</th><th scope=col>Oligodendrocytes</th><th scope=col>OPCs</th><th scope=col>Vasculature</th><th scope=col>WM.astrocytes</th></tr>\n",
       "\t<tr><th></th><th scope=col>&lt;dbl&gt;</th><th scope=col>&lt;dbl&gt;</th><th scope=col>&lt;dbl&gt;</th><th scope=col>&lt;dbl&gt;</th><th scope=col>&lt;dbl&gt;</th><th scope=col>&lt;dbl&gt;</th><th scope=col>&lt;dbl&gt;</th><th scope=col>&lt;dbl&gt;</th></tr>\n",
       "</thead>\n",
       "<tbody>\n",
       "\t<tr><th scope=row>A1_GTTATTAAATACGACC-1</th><td>0</td><td>0</td><td>0</td><td>0</td><td>0.4265900</td><td>0</td><td>0.1583759</td><td>0.4150341</td></tr>\n",
       "\t<tr><th scope=row>A1_CCTGACGCAACCTTTA-1</th><td>0</td><td>0</td><td>0</td><td>0</td><td>0.2829581</td><td>0</td><td>0.2309035</td><td>0.4861385</td></tr>\n",
       "</tbody>\n",
       "</table>\n"
      ],
      "text/latex": [
       "A data.frame: 2 × 8\n",
       "\\begin{tabular}{r|llllllll}\n",
       "  & ExNeurons & GM.astrocytes & InhNeurons & microglia.macrophages & Oligodendrocytes & OPCs & Vasculature & WM.astrocytes\\\\\n",
       "  & <dbl> & <dbl> & <dbl> & <dbl> & <dbl> & <dbl> & <dbl> & <dbl>\\\\\n",
       "\\hline\n",
       "\tA1\\_GTTATTAAATACGACC-1 & 0 & 0 & 0 & 0 & 0.4265900 & 0 & 0.1583759 & 0.4150341\\\\\n",
       "\tA1\\_CCTGACGCAACCTTTA-1 & 0 & 0 & 0 & 0 & 0.2829581 & 0 & 0.2309035 & 0.4861385\\\\\n",
       "\\end{tabular}\n"
      ],
      "text/markdown": [
       "\n",
       "A data.frame: 2 × 8\n",
       "\n",
       "| <!--/--> | ExNeurons &lt;dbl&gt; | GM.astrocytes &lt;dbl&gt; | InhNeurons &lt;dbl&gt; | microglia.macrophages &lt;dbl&gt; | Oligodendrocytes &lt;dbl&gt; | OPCs &lt;dbl&gt; | Vasculature &lt;dbl&gt; | WM.astrocytes &lt;dbl&gt; |\n",
       "|---|---|---|---|---|---|---|---|---|\n",
       "| A1_GTTATTAAATACGACC-1 | 0 | 0 | 0 | 0 | 0.4265900 | 0 | 0.1583759 | 0.4150341 |\n",
       "| A1_CCTGACGCAACCTTTA-1 | 0 | 0 | 0 | 0 | 0.2829581 | 0 | 0.2309035 | 0.4861385 |\n",
       "\n"
      ],
      "text/plain": [
       "                      ExNeurons GM.astrocytes InhNeurons microglia.macrophages\n",
       "A1_GTTATTAAATACGACC-1 0         0             0          0                    \n",
       "A1_CCTGACGCAACCTTTA-1 0         0             0          0                    \n",
       "                      Oligodendrocytes OPCs Vasculature WM.astrocytes\n",
       "A1_GTTATTAAATACGACC-1 0.4265900        0    0.1583759   0.4150341    \n",
       "A1_CCTGACGCAACCTTTA-1 0.2829581        0    0.2309035   0.4861385    "
      ]
     },
     "metadata": {},
     "output_type": "display_data"
    },
    {
     "data": {
      "text/html": [
       "<table class=\"dataframe\">\n",
       "<caption>A data.frame: 2 × 8</caption>\n",
       "<thead>\n",
       "\t<tr><th></th><th scope=col>ExNeurons</th><th scope=col>GM.astrocytes</th><th scope=col>InhNeurons</th><th scope=col>microglia.macrophages</th><th scope=col>Oligodendrocytes</th><th scope=col>OPCs</th><th scope=col>Vasculature</th><th scope=col>WM.astrocytes</th></tr>\n",
       "\t<tr><th></th><th scope=col>&lt;dbl&gt;</th><th scope=col>&lt;dbl&gt;</th><th scope=col>&lt;dbl&gt;</th><th scope=col>&lt;dbl&gt;</th><th scope=col>&lt;dbl&gt;</th><th scope=col>&lt;dbl&gt;</th><th scope=col>&lt;dbl&gt;</th><th scope=col>&lt;dbl&gt;</th></tr>\n",
       "</thead>\n",
       "<tbody>\n",
       "\t<tr><th scope=row>A2_TACCGATCCAACACTT-1</th><td>0</td><td>0</td><td>0</td><td>0.2196103</td><td>0.6095735</td><td>0.1708161</td><td>0.0000000</td><td>0</td></tr>\n",
       "\t<tr><th scope=row>A2_ATTAAAGCGGACGAGC-1</th><td>0</td><td>0</td><td>0</td><td>0.1427432</td><td>0.6954355</td><td>0.0000000</td><td>0.1618213</td><td>0</td></tr>\n",
       "</tbody>\n",
       "</table>\n"
      ],
      "text/latex": [
       "A data.frame: 2 × 8\n",
       "\\begin{tabular}{r|llllllll}\n",
       "  & ExNeurons & GM.astrocytes & InhNeurons & microglia.macrophages & Oligodendrocytes & OPCs & Vasculature & WM.astrocytes\\\\\n",
       "  & <dbl> & <dbl> & <dbl> & <dbl> & <dbl> & <dbl> & <dbl> & <dbl>\\\\\n",
       "\\hline\n",
       "\tA2\\_TACCGATCCAACACTT-1 & 0 & 0 & 0 & 0.2196103 & 0.6095735 & 0.1708161 & 0.0000000 & 0\\\\\n",
       "\tA2\\_ATTAAAGCGGACGAGC-1 & 0 & 0 & 0 & 0.1427432 & 0.6954355 & 0.0000000 & 0.1618213 & 0\\\\\n",
       "\\end{tabular}\n"
      ],
      "text/markdown": [
       "\n",
       "A data.frame: 2 × 8\n",
       "\n",
       "| <!--/--> | ExNeurons &lt;dbl&gt; | GM.astrocytes &lt;dbl&gt; | InhNeurons &lt;dbl&gt; | microglia.macrophages &lt;dbl&gt; | Oligodendrocytes &lt;dbl&gt; | OPCs &lt;dbl&gt; | Vasculature &lt;dbl&gt; | WM.astrocytes &lt;dbl&gt; |\n",
       "|---|---|---|---|---|---|---|---|---|\n",
       "| A2_TACCGATCCAACACTT-1 | 0 | 0 | 0 | 0.2196103 | 0.6095735 | 0.1708161 | 0.0000000 | 0 |\n",
       "| A2_ATTAAAGCGGACGAGC-1 | 0 | 0 | 0 | 0.1427432 | 0.6954355 | 0.0000000 | 0.1618213 | 0 |\n",
       "\n"
      ],
      "text/plain": [
       "                      ExNeurons GM.astrocytes InhNeurons microglia.macrophages\n",
       "A2_TACCGATCCAACACTT-1 0         0             0          0.2196103            \n",
       "A2_ATTAAAGCGGACGAGC-1 0         0             0          0.1427432            \n",
       "                      Oligodendrocytes OPCs      Vasculature WM.astrocytes\n",
       "A2_TACCGATCCAACACTT-1 0.6095735        0.1708161 0.0000000   0            \n",
       "A2_ATTAAAGCGGACGAGC-1 0.6954355        0.0000000 0.1618213   0            "
      ]
     },
     "metadata": {},
     "output_type": "display_data"
    },
    {
     "data": {
      "text/html": [
       "<table class=\"dataframe\">\n",
       "<caption>A data.frame: 2 × 8</caption>\n",
       "<thead>\n",
       "\t<tr><th></th><th scope=col>ExNeurons</th><th scope=col>GM.astrocytes</th><th scope=col>InhNeurons</th><th scope=col>microglia.macrophages</th><th scope=col>Oligodendrocytes</th><th scope=col>OPCs</th><th scope=col>Vasculature</th><th scope=col>WM.astrocytes</th></tr>\n",
       "\t<tr><th></th><th scope=col>&lt;dbl&gt;</th><th scope=col>&lt;dbl&gt;</th><th scope=col>&lt;dbl&gt;</th><th scope=col>&lt;dbl&gt;</th><th scope=col>&lt;dbl&gt;</th><th scope=col>&lt;dbl&gt;</th><th scope=col>&lt;dbl&gt;</th><th scope=col>&lt;dbl&gt;</th></tr>\n",
       "</thead>\n",
       "<tbody>\n",
       "\t<tr><th scope=row>A3_TGGGCCTTGCCTGCAT-1</th><td>0</td><td>0</td><td>0.0000000</td><td>0.00000</td><td>0.6464436</td><td>0.1730393</td><td>0</td><td>0.1805170</td></tr>\n",
       "\t<tr><th scope=row>A3_CAAAGTCAGGTTAGCT-1</th><td>0</td><td>0</td><td>0.1581313</td><td>0.26614</td><td>0.3528764</td><td>0.0000000</td><td>0</td><td>0.2228523</td></tr>\n",
       "</tbody>\n",
       "</table>\n"
      ],
      "text/latex": [
       "A data.frame: 2 × 8\n",
       "\\begin{tabular}{r|llllllll}\n",
       "  & ExNeurons & GM.astrocytes & InhNeurons & microglia.macrophages & Oligodendrocytes & OPCs & Vasculature & WM.astrocytes\\\\\n",
       "  & <dbl> & <dbl> & <dbl> & <dbl> & <dbl> & <dbl> & <dbl> & <dbl>\\\\\n",
       "\\hline\n",
       "\tA3\\_TGGGCCTTGCCTGCAT-1 & 0 & 0 & 0.0000000 & 0.00000 & 0.6464436 & 0.1730393 & 0 & 0.1805170\\\\\n",
       "\tA3\\_CAAAGTCAGGTTAGCT-1 & 0 & 0 & 0.1581313 & 0.26614 & 0.3528764 & 0.0000000 & 0 & 0.2228523\\\\\n",
       "\\end{tabular}\n"
      ],
      "text/markdown": [
       "\n",
       "A data.frame: 2 × 8\n",
       "\n",
       "| <!--/--> | ExNeurons &lt;dbl&gt; | GM.astrocytes &lt;dbl&gt; | InhNeurons &lt;dbl&gt; | microglia.macrophages &lt;dbl&gt; | Oligodendrocytes &lt;dbl&gt; | OPCs &lt;dbl&gt; | Vasculature &lt;dbl&gt; | WM.astrocytes &lt;dbl&gt; |\n",
       "|---|---|---|---|---|---|---|---|---|\n",
       "| A3_TGGGCCTTGCCTGCAT-1 | 0 | 0 | 0.0000000 | 0.00000 | 0.6464436 | 0.1730393 | 0 | 0.1805170 |\n",
       "| A3_CAAAGTCAGGTTAGCT-1 | 0 | 0 | 0.1581313 | 0.26614 | 0.3528764 | 0.0000000 | 0 | 0.2228523 |\n",
       "\n"
      ],
      "text/plain": [
       "                      ExNeurons GM.astrocytes InhNeurons microglia.macrophages\n",
       "A3_TGGGCCTTGCCTGCAT-1 0         0             0.0000000  0.00000              \n",
       "A3_CAAAGTCAGGTTAGCT-1 0         0             0.1581313  0.26614              \n",
       "                      Oligodendrocytes OPCs      Vasculature WM.astrocytes\n",
       "A3_TGGGCCTTGCCTGCAT-1 0.6464436        0.1730393 0           0.1805170    \n",
       "A3_CAAAGTCAGGTTAGCT-1 0.3528764        0.0000000 0           0.2228523    "
      ]
     },
     "metadata": {},
     "output_type": "display_data"
    },
    {
     "data": {
      "text/html": [
       "<table class=\"dataframe\">\n",
       "<caption>A data.frame: 2 × 8</caption>\n",
       "<thead>\n",
       "\t<tr><th></th><th scope=col>ExNeurons</th><th scope=col>GM.astrocytes</th><th scope=col>InhNeurons</th><th scope=col>microglia.macrophages</th><th scope=col>Oligodendrocytes</th><th scope=col>OPCs</th><th scope=col>Vasculature</th><th scope=col>WM.astrocytes</th></tr>\n",
       "\t<tr><th></th><th scope=col>&lt;dbl&gt;</th><th scope=col>&lt;dbl&gt;</th><th scope=col>&lt;dbl&gt;</th><th scope=col>&lt;dbl&gt;</th><th scope=col>&lt;dbl&gt;</th><th scope=col>&lt;dbl&gt;</th><th scope=col>&lt;dbl&gt;</th><th scope=col>&lt;dbl&gt;</th></tr>\n",
       "</thead>\n",
       "<tbody>\n",
       "\t<tr><th scope=row>A4_ATTTGCCTAGTTACGA-1</th><td>0</td><td>0.1103648</td><td>0.1127463</td><td>0.1087639</td><td>0.3912645</td><td>0</td><td>0.1066740</td><td>0.1701864</td></tr>\n",
       "\t<tr><th scope=row>A4_ACGTCCTAAACGAGAT-1</th><td>0</td><td>0.1205991</td><td>0.0000000</td><td>0.1911117</td><td>0.3680167</td><td>0</td><td>0.2074643</td><td>0.1128082</td></tr>\n",
       "</tbody>\n",
       "</table>\n"
      ],
      "text/latex": [
       "A data.frame: 2 × 8\n",
       "\\begin{tabular}{r|llllllll}\n",
       "  & ExNeurons & GM.astrocytes & InhNeurons & microglia.macrophages & Oligodendrocytes & OPCs & Vasculature & WM.astrocytes\\\\\n",
       "  & <dbl> & <dbl> & <dbl> & <dbl> & <dbl> & <dbl> & <dbl> & <dbl>\\\\\n",
       "\\hline\n",
       "\tA4\\_ATTTGCCTAGTTACGA-1 & 0 & 0.1103648 & 0.1127463 & 0.1087639 & 0.3912645 & 0 & 0.1066740 & 0.1701864\\\\\n",
       "\tA4\\_ACGTCCTAAACGAGAT-1 & 0 & 0.1205991 & 0.0000000 & 0.1911117 & 0.3680167 & 0 & 0.2074643 & 0.1128082\\\\\n",
       "\\end{tabular}\n"
      ],
      "text/markdown": [
       "\n",
       "A data.frame: 2 × 8\n",
       "\n",
       "| <!--/--> | ExNeurons &lt;dbl&gt; | GM.astrocytes &lt;dbl&gt; | InhNeurons &lt;dbl&gt; | microglia.macrophages &lt;dbl&gt; | Oligodendrocytes &lt;dbl&gt; | OPCs &lt;dbl&gt; | Vasculature &lt;dbl&gt; | WM.astrocytes &lt;dbl&gt; |\n",
       "|---|---|---|---|---|---|---|---|---|\n",
       "| A4_ATTTGCCTAGTTACGA-1 | 0 | 0.1103648 | 0.1127463 | 0.1087639 | 0.3912645 | 0 | 0.1066740 | 0.1701864 |\n",
       "| A4_ACGTCCTAAACGAGAT-1 | 0 | 0.1205991 | 0.0000000 | 0.1911117 | 0.3680167 | 0 | 0.2074643 | 0.1128082 |\n",
       "\n"
      ],
      "text/plain": [
       "                      ExNeurons GM.astrocytes InhNeurons microglia.macrophages\n",
       "A4_ATTTGCCTAGTTACGA-1 0         0.1103648     0.1127463  0.1087639            \n",
       "A4_ACGTCCTAAACGAGAT-1 0         0.1205991     0.0000000  0.1911117            \n",
       "                      Oligodendrocytes OPCs Vasculature WM.astrocytes\n",
       "A4_ATTTGCCTAGTTACGA-1 0.3912645        0    0.1066740   0.1701864    \n",
       "A4_ACGTCCTAAACGAGAT-1 0.3680167        0    0.2074643   0.1128082    "
      ]
     },
     "metadata": {},
     "output_type": "display_data"
    },
    {
     "data": {
      "text/html": [
       "<table class=\"dataframe\">\n",
       "<caption>A data.frame: 6 × 8</caption>\n",
       "<thead>\n",
       "\t<tr><th></th><th scope=col>ExNeurons</th><th scope=col>GM.astrocytes</th><th scope=col>InhNeurons</th><th scope=col>microglia.macrophages</th><th scope=col>Oligodendrocytes</th><th scope=col>OPCs</th><th scope=col>Vasculature</th><th scope=col>WM.astrocytes</th></tr>\n",
       "\t<tr><th></th><th scope=col>&lt;dbl&gt;</th><th scope=col>&lt;dbl&gt;</th><th scope=col>&lt;dbl&gt;</th><th scope=col>&lt;dbl&gt;</th><th scope=col>&lt;dbl&gt;</th><th scope=col>&lt;dbl&gt;</th><th scope=col>&lt;dbl&gt;</th><th scope=col>&lt;dbl&gt;</th></tr>\n",
       "</thead>\n",
       "<tbody>\n",
       "\t<tr><th scope=row>A4_TTCGGACTGGGCATGG-1</th><td>0</td><td>0.1258898</td><td>0.0000000</td><td>0.1259814</td><td>0.2581794</td><td>0.0000000</td><td>0.2767193</td><td>0.2132301</td></tr>\n",
       "\t<tr><th scope=row>A4_GGGCCATTCGTGCTGG-1</th><td>0</td><td>0.1239251</td><td>0.1185437</td><td>0.1383037</td><td>0.1740816</td><td>0.0000000</td><td>0.1945032</td><td>0.2506425</td></tr>\n",
       "\t<tr><th scope=row>A4_GAGTTGTCACCAGTCT-1</th><td>0</td><td>0.0000000</td><td>0.0000000</td><td>0.0000000</td><td>0.4869899</td><td>0.0000000</td><td>0.3310111</td><td>0.1819990</td></tr>\n",
       "\t<tr><th scope=row>A4_AGTAATTTGCAAGCGT-1</th><td>0</td><td>0.1187796</td><td>0.0000000</td><td>0.0000000</td><td>0.2096476</td><td>0.1083751</td><td>0.3670744</td><td>0.1961234</td></tr>\n",
       "\t<tr><th scope=row>A4_GTGGCCGGTTTCTCGG-1</th><td>0</td><td>0.0000000</td><td>0.0000000</td><td>0.0000000</td><td>0.4552056</td><td>0.1247608</td><td>0.2867684</td><td>0.1332651</td></tr>\n",
       "\t<tr><th scope=row>A4_GGGCGATCCATAGGCC-1</th><td>0</td><td>0.1192981</td><td>0.0000000</td><td>0.2211091</td><td>0.3109450</td><td>0.0000000</td><td>0.1832058</td><td>0.1654420</td></tr>\n",
       "</tbody>\n",
       "</table>\n"
      ],
      "text/latex": [
       "A data.frame: 6 × 8\n",
       "\\begin{tabular}{r|llllllll}\n",
       "  & ExNeurons & GM.astrocytes & InhNeurons & microglia.macrophages & Oligodendrocytes & OPCs & Vasculature & WM.astrocytes\\\\\n",
       "  & <dbl> & <dbl> & <dbl> & <dbl> & <dbl> & <dbl> & <dbl> & <dbl>\\\\\n",
       "\\hline\n",
       "\tA4\\_TTCGGACTGGGCATGG-1 & 0 & 0.1258898 & 0.0000000 & 0.1259814 & 0.2581794 & 0.0000000 & 0.2767193 & 0.2132301\\\\\n",
       "\tA4\\_GGGCCATTCGTGCTGG-1 & 0 & 0.1239251 & 0.1185437 & 0.1383037 & 0.1740816 & 0.0000000 & 0.1945032 & 0.2506425\\\\\n",
       "\tA4\\_GAGTTGTCACCAGTCT-1 & 0 & 0.0000000 & 0.0000000 & 0.0000000 & 0.4869899 & 0.0000000 & 0.3310111 & 0.1819990\\\\\n",
       "\tA4\\_AGTAATTTGCAAGCGT-1 & 0 & 0.1187796 & 0.0000000 & 0.0000000 & 0.2096476 & 0.1083751 & 0.3670744 & 0.1961234\\\\\n",
       "\tA4\\_GTGGCCGGTTTCTCGG-1 & 0 & 0.0000000 & 0.0000000 & 0.0000000 & 0.4552056 & 0.1247608 & 0.2867684 & 0.1332651\\\\\n",
       "\tA4\\_GGGCGATCCATAGGCC-1 & 0 & 0.1192981 & 0.0000000 & 0.2211091 & 0.3109450 & 0.0000000 & 0.1832058 & 0.1654420\\\\\n",
       "\\end{tabular}\n"
      ],
      "text/markdown": [
       "\n",
       "A data.frame: 6 × 8\n",
       "\n",
       "| <!--/--> | ExNeurons &lt;dbl&gt; | GM.astrocytes &lt;dbl&gt; | InhNeurons &lt;dbl&gt; | microglia.macrophages &lt;dbl&gt; | Oligodendrocytes &lt;dbl&gt; | OPCs &lt;dbl&gt; | Vasculature &lt;dbl&gt; | WM.astrocytes &lt;dbl&gt; |\n",
       "|---|---|---|---|---|---|---|---|---|\n",
       "| A4_TTCGGACTGGGCATGG-1 | 0 | 0.1258898 | 0.0000000 | 0.1259814 | 0.2581794 | 0.0000000 | 0.2767193 | 0.2132301 |\n",
       "| A4_GGGCCATTCGTGCTGG-1 | 0 | 0.1239251 | 0.1185437 | 0.1383037 | 0.1740816 | 0.0000000 | 0.1945032 | 0.2506425 |\n",
       "| A4_GAGTTGTCACCAGTCT-1 | 0 | 0.0000000 | 0.0000000 | 0.0000000 | 0.4869899 | 0.0000000 | 0.3310111 | 0.1819990 |\n",
       "| A4_AGTAATTTGCAAGCGT-1 | 0 | 0.1187796 | 0.0000000 | 0.0000000 | 0.2096476 | 0.1083751 | 0.3670744 | 0.1961234 |\n",
       "| A4_GTGGCCGGTTTCTCGG-1 | 0 | 0.0000000 | 0.0000000 | 0.0000000 | 0.4552056 | 0.1247608 | 0.2867684 | 0.1332651 |\n",
       "| A4_GGGCGATCCATAGGCC-1 | 0 | 0.1192981 | 0.0000000 | 0.2211091 | 0.3109450 | 0.0000000 | 0.1832058 | 0.1654420 |\n",
       "\n"
      ],
      "text/plain": [
       "                      ExNeurons GM.astrocytes InhNeurons microglia.macrophages\n",
       "A4_TTCGGACTGGGCATGG-1 0         0.1258898     0.0000000  0.1259814            \n",
       "A4_GGGCCATTCGTGCTGG-1 0         0.1239251     0.1185437  0.1383037            \n",
       "A4_GAGTTGTCACCAGTCT-1 0         0.0000000     0.0000000  0.0000000            \n",
       "A4_AGTAATTTGCAAGCGT-1 0         0.1187796     0.0000000  0.0000000            \n",
       "A4_GTGGCCGGTTTCTCGG-1 0         0.0000000     0.0000000  0.0000000            \n",
       "A4_GGGCGATCCATAGGCC-1 0         0.1192981     0.0000000  0.2211091            \n",
       "                      Oligodendrocytes OPCs      Vasculature WM.astrocytes\n",
       "A4_TTCGGACTGGGCATGG-1 0.2581794        0.0000000 0.2767193   0.2132301    \n",
       "A4_GGGCCATTCGTGCTGG-1 0.1740816        0.0000000 0.1945032   0.2506425    \n",
       "A4_GAGTTGTCACCAGTCT-1 0.4869899        0.0000000 0.3310111   0.1819990    \n",
       "A4_AGTAATTTGCAAGCGT-1 0.2096476        0.1083751 0.3670744   0.1961234    \n",
       "A4_GTGGCCGGTTTCTCGG-1 0.4552056        0.1247608 0.2867684   0.1332651    \n",
       "A4_GGGCGATCCATAGGCC-1 0.3109450        0.0000000 0.1832058   0.1654420    "
      ]
     },
     "metadata": {},
     "output_type": "display_data"
    }
   ],
   "source": [
    "sample_group <- \"active_PL\"\n",
    "## real data\n",
    "\n",
    "# active\n",
    "decon_matrix_1 <- read.csv(\"/data/bcn/Datasets/ST_WM/RData/SPOTlight_nmf/pergroup/ST33_PL_active_celltype_prop.csv\",row.names = 1)\n",
    "decon_matrix_2 <- read.csv(\"/data/bcn/Datasets/ST_WM/RData/SPOTlight_nmf/pergroup/ST69_PL_active_celltype_prop.csv\",row.names = 1)\n",
    "decon_matrix_3 <- read.csv(\"/data/bcn/Datasets/ST_WM/RData/SPOTlight_nmf/pergroup/ST70_PL_active_celltype_prop.csv\",row.names = 1)\n",
    "decon_matrix_4 <- read.csv(\"/data/bcn/Datasets/ST_WM/RData/SPOTlight_nmf/pergroup/ST79_PL_active_celltype_prop.csv\",row.names = 1)\n",
    "rownames(decon_matrix_1) <- paste0(\"A1_\", rownames(decon_matrix_1))\n",
    "rownames(decon_matrix_2) <- paste0(\"A2_\", rownames(decon_matrix_2))\n",
    "rownames(decon_matrix_3) <- paste0(\"A3_\", rownames(decon_matrix_3))\n",
    "rownames(decon_matrix_4) <- paste0(\"A4_\", rownames(decon_matrix_4))\n",
    "head(decon_matrix_1, n = 2)\n",
    "head(decon_matrix_2, n = 2)\n",
    "head(decon_matrix_3, n = 2)\n",
    "head(decon_matrix_4, n = 2)\n",
    "decon_matrix <- rbind(decon_matrix_1, decon_matrix_2, decon_matrix_3, decon_matrix_4)\n",
    "tail(decon_matrix)"
   ]
  },
  {
   "cell_type": "code",
   "execution_count": null,
   "metadata": {},
   "outputs": [],
   "source": [
    "sample_group <- \"active_rim\"\n",
    "## real data\n",
    "\n",
    "# active\n",
    "decon_matrix_1 <- read.csv(\"/data/bcn/Datasets/ST_WM/RData/SPOTlight_nmf/pergroup/ST33_RIM_active_celltype_prop.csv\",row.names = 1)\n",
    "decon_matrix_2 <- read.csv(\"/data/bcn/Datasets/ST_WM/RData/SPOTlight_nmf/pergroup/ST69_RIM_active_celltype_prop.csv\",row.names = 1)\n",
    "decon_matrix_3 <- read.csv(\"/data/bcn/Datasets/ST_WM/RData/SPOTlight_nmf/pergroup/ST70_RIM_active_celltype_prop.csv\",row.names = 1)\n",
    "decon_matrix_4 <- read.csv(\"/data/bcn/Datasets/ST_WM/RData/SPOTlight_nmf/pergroup/ST79_RIM_active_celltype_prop.csv\",row.names = 1)\n",
    "rownames(decon_matrix_1) <- paste0(\"A1_\", rownames(decon_matrix_1))\n",
    "rownames(decon_matrix_2) <- paste0(\"A2_\", rownames(decon_matrix_2))\n",
    "rownames(decon_matrix_3) <- paste0(\"A3_\", rownames(decon_matrix_3))\n",
    "rownames(decon_matrix_4) <- paste0(\"A4_\", rownames(decon_matrix_4))\n",
    "head(decon_matrix_1, n = 2)\n",
    "head(decon_matrix_2, n = 2)\n",
    "head(decon_matrix_3, n = 2)\n",
    "head(decon_matrix_4, n = 2)\n",
    "decon_matrix <- rbind(decon_matrix_1, decon_matrix_2, decon_matrix_3, decon_matrix_4)\n",
    "tail(decon_matrix)"
   ]
  },
  {
   "cell_type": "code",
   "execution_count": null,
   "metadata": {},
   "outputs": [],
   "source": [
    "sample_group <- \"active_core\"\n",
    "## real data\n",
    "\n",
    "# active\n",
    "decon_matrix_1 <- read.csv(\"/data/bcn/Datasets/ST_WM/RData/SPOTlight_nmf/pergroup/ST33_active_celltype_prop.csv\",row.names = 1)\n",
    "decon_matrix_2 <- read.csv(\"/data/bcn/Datasets/ST_WM/RData/SPOTlight_nmf/pergroup/ST69_active_celltype_prop.csv\",row.names = 1)\n",
    "decon_matrix_3 <- read.csv(\"/data/bcn/Datasets/ST_WM/RData/SPOTlight_nmf/pergroup/ST70_active_celltype_prop.csv\",row.names = 1)\n",
    "decon_matrix_4 <- read.csv(\"/data/bcn/Datasets/ST_WM/RData/SPOTlight_nmf/pergroup/ST79_active_celltype_prop.csv\",row.names = 1)\n",
    "rownames(decon_matrix_1) <- paste0(\"A1_\", rownames(decon_matrix_1))\n",
    "rownames(decon_matrix_2) <- paste0(\"A2_\", rownames(decon_matrix_2))\n",
    "rownames(decon_matrix_3) <- paste0(\"A3_\", rownames(decon_matrix_3))\n",
    "rownames(decon_matrix_4) <- paste0(\"A4_\", rownames(decon_matrix_4))\n",
    "head(decon_matrix_1, n = 2)\n",
    "head(decon_matrix_2, n = 2)\n",
    "head(decon_matrix_3, n = 2)\n",
    "head(decon_matrix_4, n = 2)\n",
    "decon_matrix <- rbind(decon_matrix_1, decon_matrix_2, decon_matrix_3, decon_matrix_4)\n",
    "tail(decon_matrix)"
   ]
  },
  {
   "cell_type": "code",
   "execution_count": null,
   "metadata": {},
   "outputs": [],
   "source": [
    "sample_group <- \"NAWM\"\n",
    "# NAWM\n",
    "decon_matrix_1 <- read.csv(\"/data/bcn/Datasets/ST_WM/RData/SPOTlight_nmf/pergroup/ST34_NAWM_celltype_prop.csv\",row.names = 1)\n",
    "decon_matrix_2 <- read.csv(\"/data/bcn/Datasets/ST_WM/RData/SPOTlight_nmf/pergroup/ST37_NAWM_celltype_prop.csv\",row.names = 1)\n",
    "decon_matrix_3 <- read.csv(\"/data/bcn/Datasets/ST_WM/RData/SPOTlight_nmf/pergroup/ST38_NAWM_celltype_prop.csv\",row.names = 1)\n",
    "rownames(decon_matrix_1) <- paste0(\"N1_\", rownames(decon_matrix_1))\n",
    "rownames(decon_matrix_2) <- paste0(\"N2_\", rownames(decon_matrix_2))\n",
    "rownames(decon_matrix_3) <- paste0(\"N3_\", rownames(decon_matrix_3))\n",
    "decon_matrix <- rbind(decon_matrix_1, decon_matrix_2, decon_matrix_3)\n",
    "tail(decon_matrix)"
   ]
  },
  {
   "cell_type": "code",
   "execution_count": null,
   "metadata": {},
   "outputs": [],
   "source": [
    "# CWM\n",
    "decon_matrix_1 <- read.csv(\"/data/bcn/Datasets/ST_WM/RData/SPOTlight_nmf/pergroup/ST31_CWM_celltype_prop.csv\",row.names = 1)\n",
    "decon_matrix_2 <- read.csv(\"/data/bcn/Datasets/ST_WM/RData/SPOTlight_nmf/pergroup/ST32_CWM_celltype_prop.csv\",row.names = 1)"
   ]
  },
  {
   "cell_type": "markdown",
   "metadata": {},
   "source": [
    "# calculations co-occurance"
   ]
  },
  {
   "cell_type": "code",
   "execution_count": 113,
   "metadata": {},
   "outputs": [
    {
     "data": {
      "text/plain": [
       "    Min.  1st Qu.   Median     Mean  3rd Qu.     Max. \n",
       "0.007657 0.030857 0.090954 0.231289 0.203886 0.919979 "
      ]
     },
     "metadata": {},
     "output_type": "display_data"
    }
   ],
   "source": [
    "my_count_interaction <- function(x, min_prop) {\n",
    "  # for each pair of groups count how many\n",
    "  # samples have value above 'min_prop'\n",
    "  x <- x > min_prop\n",
    "  ij <- combn(colnames(x), 2)\n",
    "  y <- apply(ij, 2, function(.) sum(rowAlls(x[, ., drop = FALSE])))\n",
    "  \n",
    "  # construct 'data.frame'\n",
    "  df <- data.frame(t(ij), y)\n",
    "  names(df) <- c(\"from\", \"to\", \"n\")\n",
    "  return(df)\n",
    "}\n",
    "## real data\n",
    "decon_matrix <- as.matrix(decon_matrix)\n",
    "\n",
    "# get interactions table\n",
    "x = decon_matrix\n",
    "if (is.null(colnames(x))) {\n",
    "  colnames(x) <- seq_len(ncol(x))\n",
    "}\n",
    "df <- my_count_interaction(x, min_prop = 0.1) \n",
    "\n",
    "y <- colnames(x)\n",
    "df$i <- factor(df$from, y)\n",
    "df$j <- factor(df$to, rev(y))\n",
    "\n",
    "# compute proportion of samples that have all groups\n",
    "t <- colSums(x > 0)\n",
    "i <- match(df$from, y)\n",
    "j <- match(df$to, y)\n",
    "df$ti <- t[i]\n",
    "df$tj <- t[j]\n",
    "\n",
    "df$jaccard <- df$n / (df$ti + df$tj - df$n)\n",
    "summary(df$jaccard)"
   ]
  },
  {
   "cell_type": "code",
   "execution_count": 114,
   "metadata": {},
   "outputs": [
    {
     "data": {
      "text/html": [
       "'mix_act.inact_RIM'"
      ],
      "text/latex": [
       "'mix\\_act.inact\\_RIM'"
      ],
      "text/markdown": [
       "'mix_act.inact_RIM'"
      ],
      "text/plain": [
       "[1] \"mix_act.inact_RIM\""
      ]
     },
     "metadata": {},
     "output_type": "display_data"
    }
   ],
   "source": [
    "sample_group"
   ]
  },
  {
   "cell_type": "code",
   "execution_count": 115,
   "metadata": {},
   "outputs": [
    {
     "data": {
      "text/html": [
       "<strong>png:</strong> 2"
      ],
      "text/latex": [
       "\\textbf{png:} 2"
      ],
      "text/markdown": [
       "**png:** 2"
      ],
      "text/plain": [
       "png \n",
       "  2 "
      ]
     },
     "metadata": {},
     "output_type": "display_data"
    }
   ],
   "source": [
    "require(ggplot2)\n",
    "pdf(paste0(\"Routput/SPOTlight/\", sample_group, \"_co-occurance_heatmap.pdf\"))\n",
    "ggplot(df) +\n",
    "  geom_tile(aes_string(\"i\", \"j\", fill = \"jaccard\")) +\n",
    "  scale_fill_gradientn(colours = heatmap_cols, limits = c(0,1)) +\n",
    "  scale_y_discrete(limits = function(.) rev(.)) +\n",
    "  coord_fixed(expand = FALSE) +\n",
    "  labs(x = \"\", y = \"\", fill = \"Jaccard index\") +\n",
    "  ggtitle(paste0(\"celltype co-occurance in \", sample_group)) +\n",
    "  theme_linedraw() +\n",
    "  theme(\n",
    "    panel.grid = element_blank(),\n",
    "    axis.text.x = element_text(angle = 45, hjust = 1))\n",
    "dev.off()               "
   ]
  }
 ],
 "metadata": {
  "kernelspec": {
   "display_name": "R4.2",
   "language": "R",
   "name": "ir"
  },
  "language_info": {
   "codemirror_mode": "r",
   "file_extension": ".r",
   "mimetype": "text/x-r-source",
   "name": "R",
   "pygments_lexer": "r",
   "version": "4.2.0"
  }
 },
 "nbformat": 4,
 "nbformat_minor": 4
}
