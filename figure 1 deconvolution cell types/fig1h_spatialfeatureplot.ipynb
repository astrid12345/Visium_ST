{
 "cells": [
  {
   "cell_type": "code",
   "execution_count": null,
   "id": "e78eda3a-fa0e-496b-a104-4d4c659e8731",
   "metadata": {},
   "outputs": [],
   "source": [
    "########################################################################\n",
    "# Date: Sept 2023\n",
    "# Author: Astrid ALsema\n",
    "# Purpose: rerun Spotlight spatial feature plot with cell proportions without HE image as background.\n",
    "\n",
    "# Required inputs:\n",
    "# - indir: path to 1.datasets.rds: the Visium data of MS lesions, a list of samples directed imported after spaceranger\n",
    "# - path_to_decnv_matrices: this contains tables with the estimated cell type proportions per sample  \n",
    "# as \"ST_ID, \"_celltype_prop.csv\"\n",
    "# - outdir: path to store plots\n",
    "\n",
    "# Output:\n",
    "# - spatial feature plot with estimated cell type proportion\n",
    "########################################################################"
   ]
  },
  {
   "cell_type": "code",
   "execution_count": 5,
   "id": "8899b797-8bec-414c-ac2e-4e88c2d79714",
   "metadata": {
    "collapsed": true,
    "jupyter": {
     "outputs_hidden": true
    },
    "tags": []
   },
   "outputs": [],
   "source": [
    "rm(list=ls())\n",
    "library(tidyr)\n",
    "library(ggplot2)\n",
    "library(Matrix)\n",
    "library(data.table)\n",
    "library(Seurat)\n",
    "library(dplyr)\n",
    "library(RColorBrewer)\n",
    "\n",
    "outdir <- \"YOUR_OUTDIR\"\n",
    "indir <- \"RData/seurat/\"\n",
    "path_to_decnv_matrices <- \"RData/SPOTlight/celltype_prop/\"\n",
    "\n",
    "# load ST data in list\n",
    "ST_ls <- readRDS(paste0(indir,\"1.datasets.rds\")) # loop over all samples\n",
    "\n",
    "for (i in 1:length(ST_ls)){\n",
    "    ST <- ST_ls[[i]]\n",
    "    ST_ID <- unique(ST$orig.ident)\n",
    "    print(paste(\"analysing\", ST_ID))\n",
    "\n",
    "    # filter low-content spots\n",
    "    print(\"filtering spots with less than 100 counts or features. From:\")\n",
    "    print(ncol(ST))\n",
    "    ST <-subset(ST, subset = nCount_Spatial>100)\n",
    "    ST <-subset(ST, subset = nFeature_Spatial>100)\n",
    "    print(\"to\")\n",
    "    print(ncol(ST))\n",
    "\n",
    "    decon_df <- read.csv(paste0(path_to_decnv_matrices, ST_ID, \"_celltype_prop.csv\"))\n",
    "\n",
    "    # add deconvolution results to the meta-data of seurat.\n",
    "\n",
    "    ST@meta.data <- ST@meta.data %>%\n",
    "      tibble::rownames_to_column(\"barcodes\") %>%\n",
    "      dplyr::left_join(decon_df, by = \"barcodes\") %>%\n",
    "      tibble::column_to_rownames(\"barcodes\")\n",
    "\n",
    "    ### make plots \n",
    "    pdf(paste0(outdir, ST_ID, \"_spatialplot_proportions_v2.pdf\"))\n",
    "    print(Seurat::SpatialFeaturePlot(\n",
    "      object = ST,\n",
    "      image.alpha = 0,\n",
    "      stroke = NA,\n",
    "      features = c(\"Oligodendrocytes\", \"OPCs\", \"GM.astrocytes\", \"WM.astrocytes\"),\n",
    "      alpha = c(0.1, 1)))\n",
    "    print(Seurat::SpatialFeaturePlot(\n",
    "      object = ST,\n",
    "      image.alpha = 0,\n",
    "      stroke = NA,\n",
    "      features = c(\"ExNeurons\", \"InhNeurons\", \"microglia.macrophages\", \"Vasculature\"),\n",
    "      alpha = c(0.1, 1)))\n",
    "    dev.off()\n",
    "    }"
   ]
  }
 ],
 "metadata": {
  "kernelspec": {
   "display_name": "R4.2",
   "language": "R",
   "name": "ir"
  },
  "language_info": {
   "codemirror_mode": "r",
   "file_extension": ".r",
   "mimetype": "text/x-r-source",
   "name": "R",
   "pygments_lexer": "r",
   "version": "4.2.0"
  }
 },
 "nbformat": 4,
 "nbformat_minor": 5
}
