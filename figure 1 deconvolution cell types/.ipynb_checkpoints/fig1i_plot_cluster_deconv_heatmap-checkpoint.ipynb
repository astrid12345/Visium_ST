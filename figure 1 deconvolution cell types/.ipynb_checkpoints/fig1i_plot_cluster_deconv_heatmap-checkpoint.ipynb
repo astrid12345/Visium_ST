{
 "cells": [
  {
   "cell_type": "code",
   "execution_count": null,
   "id": "72f67ffb-749b-44a7-8c06-00c889882f8f",
   "metadata": {},
   "outputs": [],
   "source": [
    "########################################################################\n",
    "# Author    : A. Alsema\n",
    "# Date      : May 2023\n",
    "# Dataset   : Visium Spatial Transcriptomics for MS lesions\n",
    "# Purpose   : plot heatmap corresponding to figure 1e, seurat clusters with average cell type proportions\n",
    "\n",
    "# Required inputs:\n",
    "# - seurat_metadata_with_cellprop.csv: table with estimated cell type proportions per spot, generated in script 0, 1\n",
    "# - path_to_seurat_clusters: directory to seurat_metadata_with_cellprop.csv\n",
    "# - outdir: path to store pfds\n",
    "\n",
    "# Output: \n",
    "# - heatmap as pdf\n",
    "#########################################################################"
   ]
  },
  {
   "cell_type": "code",
   "execution_count": 1,
   "id": "6c8f3c44-9599-4038-b111-bb00584d6751",
   "metadata": {},
   "outputs": [
    {
     "name": "stderr",
     "output_type": "stream",
     "text": [
      "\n",
      "Attaching package: ‘dplyr’\n",
      "\n",
      "\n",
      "The following objects are masked from ‘package:stats’:\n",
      "\n",
      "    filter, lag\n",
      "\n",
      "\n",
      "The following objects are masked from ‘package:base’:\n",
      "\n",
      "    intersect, setdiff, setequal, union\n",
      "\n",
      "\n"
     ]
    },
    {
     "data": {
      "text/html": [
       "<table class=\"dataframe\">\n",
       "<caption>A data.frame: 6 × 34</caption>\n",
       "<thead>\n",
       "\t<tr><th></th><th scope=col>X</th><th scope=col>ExNeurons</th><th scope=col>GM.astrocytes</th><th scope=col>InhNeurons</th><th scope=col>microglia.macrophages</th><th scope=col>Oligodendrocytes</th><th scope=col>OPCs</th><th scope=col>Vasculature</th><th scope=col>WM.astrocytes</th><th scope=col>res_ss</th><th scope=col>⋯</th><th scope=col>PMI_min</th><th scope=col>brain_pH</th><th scope=col>Group</th><th scope=col>percent.mito</th><th scope=col>percent.ribo</th><th scope=col>integrated_snn_res.0.3</th><th scope=col>seurat_clusters</th><th scope=col>ngenes_rate</th><th scope=col>integrated_snn_res.0.2</th><th scope=col>barcode</th></tr>\n",
       "\t<tr><th></th><th scope=col>&lt;chr&gt;</th><th scope=col>&lt;dbl&gt;</th><th scope=col>&lt;dbl&gt;</th><th scope=col>&lt;dbl&gt;</th><th scope=col>&lt;dbl&gt;</th><th scope=col>&lt;dbl&gt;</th><th scope=col>&lt;dbl&gt;</th><th scope=col>&lt;dbl&gt;</th><th scope=col>&lt;dbl&gt;</th><th scope=col>&lt;dbl&gt;</th><th scope=col>⋯</th><th scope=col>&lt;int&gt;</th><th scope=col>&lt;dbl&gt;</th><th scope=col>&lt;chr&gt;</th><th scope=col>&lt;dbl&gt;</th><th scope=col>&lt;dbl&gt;</th><th scope=col>&lt;int&gt;</th><th scope=col>&lt;int&gt;</th><th scope=col>&lt;dbl&gt;</th><th scope=col>&lt;int&gt;</th><th scope=col>&lt;chr&gt;</th></tr>\n",
       "</thead>\n",
       "<tbody>\n",
       "\t<tr><th scope=row>1</th><td>ST31_AAACAAGTATCTCCCA-1</td><td>0</td><td>0.0000000</td><td>0.0000000</td><td>0.0000000</td><td>0.4916877</td><td>0.0000000</td><td>0.1273714</td><td>0.3809408</td><td>0</td><td>⋯</td><td>345</td><td>6.38</td><td>CWM</td><td> 8.290686</td><td> 6.960082</td><td>1</td><td>0</td><td>-0.52670691</td><td>0</td><td>ST31_AAACAAGTATCTCCCA-1</td></tr>\n",
       "\t<tr><th scope=row>2</th><td>ST31_AAACACCAATAACTGC-1</td><td>0</td><td>0.0000000</td><td>0.1628974</td><td>0.0000000</td><td>0.4066010</td><td>0.0000000</td><td>0.4305016</td><td>0.0000000</td><td>0</td><td>⋯</td><td>345</td><td>6.38</td><td>CWM</td><td>10.026212</td><td>10.157274</td><td>5</td><td>4</td><td>-0.22430454</td><td>4</td><td>ST31_AAACACCAATAACTGC-1</td></tr>\n",
       "\t<tr><th scope=row>3</th><td>ST31_AAACAGAGCGACTCCT-1</td><td>0</td><td>0.0000000</td><td>0.0000000</td><td>0.0000000</td><td>0.5524707</td><td>0.0000000</td><td>0.2228127</td><td>0.2247166</td><td>0</td><td>⋯</td><td>345</td><td>6.38</td><td>CWM</td><td>12.896599</td><td> 8.148824</td><td>1</td><td>0</td><td> 1.05821620</td><td>0</td><td>ST31_AAACAGAGCGACTCCT-1</td></tr>\n",
       "\t<tr><th scope=row>4</th><td>ST31_AAACAGCTTTCAGAAG-1</td><td>0</td><td>0.1229631</td><td>0.0000000</td><td>0.1249028</td><td>0.3388955</td><td>0.0000000</td><td>0.2143917</td><td>0.1988469</td><td>0</td><td>⋯</td><td>345</td><td>6.38</td><td>CWM</td><td> 9.614621</td><td> 8.184346</td><td>1</td><td>0</td><td> 0.36137595</td><td>0</td><td>ST31_AAACAGCTTTCAGAAG-1</td></tr>\n",
       "\t<tr><th scope=row>5</th><td>ST31_AAACAGGGTCTATATT-1</td><td>0</td><td>0.2001461</td><td>0.1106823</td><td>0.0000000</td><td>0.2248000</td><td>0.1042993</td><td>0.1459291</td><td>0.2141432</td><td>0</td><td>⋯</td><td>345</td><td>6.38</td><td>CWM</td><td>12.680950</td><td> 8.222351</td><td>2</td><td>0</td><td>-0.06174832</td><td>0</td><td>ST31_AAACAGGGTCTATATT-1</td></tr>\n",
       "\t<tr><th scope=row>6</th><td>ST31_AAACAGTGTTCCTGGG-1</td><td>0</td><td>0.0000000</td><td>0.0000000</td><td>0.1303810</td><td>0.4779928</td><td>0.0000000</td><td>0.1568175</td><td>0.2348087</td><td>0</td><td>⋯</td><td>345</td><td>6.38</td><td>CWM</td><td> 7.974541</td><td> 7.675028</td><td>1</td><td>0</td><td> 0.42711559</td><td>0</td><td>ST31_AAACAGTGTTCCTGGG-1</td></tr>\n",
       "</tbody>\n",
       "</table>\n"
      ],
      "text/latex": [
       "A data.frame: 6 × 34\n",
       "\\begin{tabular}{r|lllllllllllllllllllll}\n",
       "  & X & ExNeurons & GM.astrocytes & InhNeurons & microglia.macrophages & Oligodendrocytes & OPCs & Vasculature & WM.astrocytes & res\\_ss & ⋯ & PMI\\_min & brain\\_pH & Group & percent.mito & percent.ribo & integrated\\_snn\\_res.0.3 & seurat\\_clusters & ngenes\\_rate & integrated\\_snn\\_res.0.2 & barcode\\\\\n",
       "  & <chr> & <dbl> & <dbl> & <dbl> & <dbl> & <dbl> & <dbl> & <dbl> & <dbl> & <dbl> & ⋯ & <int> & <dbl> & <chr> & <dbl> & <dbl> & <int> & <int> & <dbl> & <int> & <chr>\\\\\n",
       "\\hline\n",
       "\t1 & ST31\\_AAACAAGTATCTCCCA-1 & 0 & 0.0000000 & 0.0000000 & 0.0000000 & 0.4916877 & 0.0000000 & 0.1273714 & 0.3809408 & 0 & ⋯ & 345 & 6.38 & CWM &  8.290686 &  6.960082 & 1 & 0 & -0.52670691 & 0 & ST31\\_AAACAAGTATCTCCCA-1\\\\\n",
       "\t2 & ST31\\_AAACACCAATAACTGC-1 & 0 & 0.0000000 & 0.1628974 & 0.0000000 & 0.4066010 & 0.0000000 & 0.4305016 & 0.0000000 & 0 & ⋯ & 345 & 6.38 & CWM & 10.026212 & 10.157274 & 5 & 4 & -0.22430454 & 4 & ST31\\_AAACACCAATAACTGC-1\\\\\n",
       "\t3 & ST31\\_AAACAGAGCGACTCCT-1 & 0 & 0.0000000 & 0.0000000 & 0.0000000 & 0.5524707 & 0.0000000 & 0.2228127 & 0.2247166 & 0 & ⋯ & 345 & 6.38 & CWM & 12.896599 &  8.148824 & 1 & 0 &  1.05821620 & 0 & ST31\\_AAACAGAGCGACTCCT-1\\\\\n",
       "\t4 & ST31\\_AAACAGCTTTCAGAAG-1 & 0 & 0.1229631 & 0.0000000 & 0.1249028 & 0.3388955 & 0.0000000 & 0.2143917 & 0.1988469 & 0 & ⋯ & 345 & 6.38 & CWM &  9.614621 &  8.184346 & 1 & 0 &  0.36137595 & 0 & ST31\\_AAACAGCTTTCAGAAG-1\\\\\n",
       "\t5 & ST31\\_AAACAGGGTCTATATT-1 & 0 & 0.2001461 & 0.1106823 & 0.0000000 & 0.2248000 & 0.1042993 & 0.1459291 & 0.2141432 & 0 & ⋯ & 345 & 6.38 & CWM & 12.680950 &  8.222351 & 2 & 0 & -0.06174832 & 0 & ST31\\_AAACAGGGTCTATATT-1\\\\\n",
       "\t6 & ST31\\_AAACAGTGTTCCTGGG-1 & 0 & 0.0000000 & 0.0000000 & 0.1303810 & 0.4779928 & 0.0000000 & 0.1568175 & 0.2348087 & 0 & ⋯ & 345 & 6.38 & CWM &  7.974541 &  7.675028 & 1 & 0 &  0.42711559 & 0 & ST31\\_AAACAGTGTTCCTGGG-1\\\\\n",
       "\\end{tabular}\n"
      ],
      "text/markdown": [
       "\n",
       "A data.frame: 6 × 34\n",
       "\n",
       "| <!--/--> | X &lt;chr&gt; | ExNeurons &lt;dbl&gt; | GM.astrocytes &lt;dbl&gt; | InhNeurons &lt;dbl&gt; | microglia.macrophages &lt;dbl&gt; | Oligodendrocytes &lt;dbl&gt; | OPCs &lt;dbl&gt; | Vasculature &lt;dbl&gt; | WM.astrocytes &lt;dbl&gt; | res_ss &lt;dbl&gt; | ⋯ ⋯ | PMI_min &lt;int&gt; | brain_pH &lt;dbl&gt; | Group &lt;chr&gt; | percent.mito &lt;dbl&gt; | percent.ribo &lt;dbl&gt; | integrated_snn_res.0.3 &lt;int&gt; | seurat_clusters &lt;int&gt; | ngenes_rate &lt;dbl&gt; | integrated_snn_res.0.2 &lt;int&gt; | barcode &lt;chr&gt; |\n",
       "|---|---|---|---|---|---|---|---|---|---|---|---|---|---|---|---|---|---|---|---|---|---|\n",
       "| 1 | ST31_AAACAAGTATCTCCCA-1 | 0 | 0.0000000 | 0.0000000 | 0.0000000 | 0.4916877 | 0.0000000 | 0.1273714 | 0.3809408 | 0 | ⋯ | 345 | 6.38 | CWM |  8.290686 |  6.960082 | 1 | 0 | -0.52670691 | 0 | ST31_AAACAAGTATCTCCCA-1 |\n",
       "| 2 | ST31_AAACACCAATAACTGC-1 | 0 | 0.0000000 | 0.1628974 | 0.0000000 | 0.4066010 | 0.0000000 | 0.4305016 | 0.0000000 | 0 | ⋯ | 345 | 6.38 | CWM | 10.026212 | 10.157274 | 5 | 4 | -0.22430454 | 4 | ST31_AAACACCAATAACTGC-1 |\n",
       "| 3 | ST31_AAACAGAGCGACTCCT-1 | 0 | 0.0000000 | 0.0000000 | 0.0000000 | 0.5524707 | 0.0000000 | 0.2228127 | 0.2247166 | 0 | ⋯ | 345 | 6.38 | CWM | 12.896599 |  8.148824 | 1 | 0 |  1.05821620 | 0 | ST31_AAACAGAGCGACTCCT-1 |\n",
       "| 4 | ST31_AAACAGCTTTCAGAAG-1 | 0 | 0.1229631 | 0.0000000 | 0.1249028 | 0.3388955 | 0.0000000 | 0.2143917 | 0.1988469 | 0 | ⋯ | 345 | 6.38 | CWM |  9.614621 |  8.184346 | 1 | 0 |  0.36137595 | 0 | ST31_AAACAGCTTTCAGAAG-1 |\n",
       "| 5 | ST31_AAACAGGGTCTATATT-1 | 0 | 0.2001461 | 0.1106823 | 0.0000000 | 0.2248000 | 0.1042993 | 0.1459291 | 0.2141432 | 0 | ⋯ | 345 | 6.38 | CWM | 12.680950 |  8.222351 | 2 | 0 | -0.06174832 | 0 | ST31_AAACAGGGTCTATATT-1 |\n",
       "| 6 | ST31_AAACAGTGTTCCTGGG-1 | 0 | 0.0000000 | 0.0000000 | 0.1303810 | 0.4779928 | 0.0000000 | 0.1568175 | 0.2348087 | 0 | ⋯ | 345 | 6.38 | CWM |  7.974541 |  7.675028 | 1 | 0 |  0.42711559 | 0 | ST31_AAACAGTGTTCCTGGG-1 |\n",
       "\n"
      ],
      "text/plain": [
       "  X                       ExNeurons GM.astrocytes InhNeurons\n",
       "1 ST31_AAACAAGTATCTCCCA-1 0         0.0000000     0.0000000 \n",
       "2 ST31_AAACACCAATAACTGC-1 0         0.0000000     0.1628974 \n",
       "3 ST31_AAACAGAGCGACTCCT-1 0         0.0000000     0.0000000 \n",
       "4 ST31_AAACAGCTTTCAGAAG-1 0         0.1229631     0.0000000 \n",
       "5 ST31_AAACAGGGTCTATATT-1 0         0.2001461     0.1106823 \n",
       "6 ST31_AAACAGTGTTCCTGGG-1 0         0.0000000     0.0000000 \n",
       "  microglia.macrophages Oligodendrocytes OPCs      Vasculature WM.astrocytes\n",
       "1 0.0000000             0.4916877        0.0000000 0.1273714   0.3809408    \n",
       "2 0.0000000             0.4066010        0.0000000 0.4305016   0.0000000    \n",
       "3 0.0000000             0.5524707        0.0000000 0.2228127   0.2247166    \n",
       "4 0.1249028             0.3388955        0.0000000 0.2143917   0.1988469    \n",
       "5 0.0000000             0.2248000        0.1042993 0.1459291   0.2141432    \n",
       "6 0.1303810             0.4779928        0.0000000 0.1568175   0.2348087    \n",
       "  res_ss ⋯ PMI_min brain_pH Group percent.mito percent.ribo\n",
       "1 0      ⋯ 345     6.38     CWM    8.290686     6.960082   \n",
       "2 0      ⋯ 345     6.38     CWM   10.026212    10.157274   \n",
       "3 0      ⋯ 345     6.38     CWM   12.896599     8.148824   \n",
       "4 0      ⋯ 345     6.38     CWM    9.614621     8.184346   \n",
       "5 0      ⋯ 345     6.38     CWM   12.680950     8.222351   \n",
       "6 0      ⋯ 345     6.38     CWM    7.974541     7.675028   \n",
       "  integrated_snn_res.0.3 seurat_clusters ngenes_rate integrated_snn_res.0.2\n",
       "1 1                      0               -0.52670691 0                     \n",
       "2 5                      4               -0.22430454 4                     \n",
       "3 1                      0                1.05821620 0                     \n",
       "4 1                      0                0.36137595 0                     \n",
       "5 2                      0               -0.06174832 0                     \n",
       "6 1                      0                0.42711559 0                     \n",
       "  barcode                \n",
       "1 ST31_AAACAAGTATCTCCCA-1\n",
       "2 ST31_AAACACCAATAACTGC-1\n",
       "3 ST31_AAACAGAGCGACTCCT-1\n",
       "4 ST31_AAACAGCTTTCAGAAG-1\n",
       "5 ST31_AAACAGGGTCTATATT-1\n",
       "6 ST31_AAACAGTGTTCCTGGG-1"
      ]
     },
     "metadata": {},
     "output_type": "display_data"
    }
   ],
   "source": [
    "rm(list=ls())\n",
    "library(dplyr)\n",
    "library(tidyr)\n",
    "library(ggplot2)\n",
    "\n",
    "deconv_cluster_info <- read.csv(paste0(path_to_seurat_clusters, \"seurat_metadata_with_cellprop.csv\"))\n",
    "head(deconv_cluster_info)"
   ]
  },
  {
   "cell_type": "code",
   "execution_count": 2,
   "id": "06652ef1-60be-452e-bf05-9fdf2245a913",
   "metadata": {
    "tags": []
   },
   "outputs": [
    {
     "data": {
      "text/html": [
       "<table class=\"dataframe\">\n",
       "<caption>A tibble: 42 × 3</caption>\n",
       "<thead>\n",
       "\t<tr><th scope=col>seurat_clusters</th><th scope=col>celltype</th><th scope=col>celltype.prop</th></tr>\n",
       "\t<tr><th scope=col>&lt;int&gt;</th><th scope=col>&lt;chr&gt;</th><th scope=col>&lt;dbl&gt;</th></tr>\n",
       "</thead>\n",
       "<tbody>\n",
       "\t<tr><td>0</td><td>avg_GM.astrocytes        </td><td>0.025271928</td></tr>\n",
       "\t<tr><td>1</td><td>avg_GM.astrocytes        </td><td>0.061257476</td></tr>\n",
       "\t<tr><td>2</td><td>avg_GM.astrocytes        </td><td>0.074671441</td></tr>\n",
       "\t<tr><td>3</td><td>avg_GM.astrocytes        </td><td>0.015777747</td></tr>\n",
       "\t<tr><td>4</td><td>avg_GM.astrocytes        </td><td>0.024822253</td></tr>\n",
       "\t<tr><td>5</td><td>avg_GM.astrocytes        </td><td>0.035912480</td></tr>\n",
       "\t<tr><td>0</td><td>avg_WM.astrocytes        </td><td>0.249886179</td></tr>\n",
       "\t<tr><td>1</td><td>avg_WM.astrocytes        </td><td>0.322563758</td></tr>\n",
       "\t<tr><td>2</td><td>avg_WM.astrocytes        </td><td>0.428663950</td></tr>\n",
       "\t<tr><td>3</td><td>avg_WM.astrocytes        </td><td>0.265424564</td></tr>\n",
       "\t<tr><td>4</td><td>avg_WM.astrocytes        </td><td>0.249409825</td></tr>\n",
       "\t<tr><td>5</td><td>avg_WM.astrocytes        </td><td>0.266555792</td></tr>\n",
       "\t<tr><td>0</td><td>avg_microglia.macrophages</td><td>0.107683476</td></tr>\n",
       "\t<tr><td>1</td><td>avg_microglia.macrophages</td><td>0.111183182</td></tr>\n",
       "\t<tr><td>2</td><td>avg_microglia.macrophages</td><td>0.119069414</td></tr>\n",
       "\t<tr><td>3</td><td>avg_microglia.macrophages</td><td>0.297275079</td></tr>\n",
       "\t<tr><td>4</td><td>avg_microglia.macrophages</td><td>0.137356545</td></tr>\n",
       "\t<tr><td>5</td><td>avg_microglia.macrophages</td><td>0.121150594</td></tr>\n",
       "\t<tr><td>0</td><td>avg_oligos               </td><td>0.424679062</td></tr>\n",
       "\t<tr><td>1</td><td>avg_oligos               </td><td>0.217770689</td></tr>\n",
       "\t<tr><td>2</td><td>avg_oligos               </td><td>0.165880251</td></tr>\n",
       "\t<tr><td>3</td><td>avg_oligos               </td><td>0.223158730</td></tr>\n",
       "\t<tr><td>4</td><td>avg_oligos               </td><td>0.154599509</td></tr>\n",
       "\t<tr><td>5</td><td>avg_oligos               </td><td>0.249901993</td></tr>\n",
       "\t<tr><td>0</td><td>avg_OPCs                 </td><td>0.020870842</td></tr>\n",
       "\t<tr><td>1</td><td>avg_OPCs                 </td><td>0.026090752</td></tr>\n",
       "\t<tr><td>2</td><td>avg_OPCs                 </td><td>0.008440151</td></tr>\n",
       "\t<tr><td>3</td><td>avg_OPCs                 </td><td>0.009102837</td></tr>\n",
       "\t<tr><td>4</td><td>avg_OPCs                 </td><td>0.005684975</td></tr>\n",
       "\t<tr><td>5</td><td>avg_OPCs                 </td><td>0.014002857</td></tr>\n",
       "\t<tr><td>0</td><td>avg_Neurons              </td><td>0.021182315</td></tr>\n",
       "\t<tr><td>1</td><td>avg_Neurons              </td><td>0.062847359</td></tr>\n",
       "\t<tr><td>2</td><td>avg_Neurons              </td><td>0.015287935</td></tr>\n",
       "\t<tr><td>3</td><td>avg_Neurons              </td><td>0.011753052</td></tr>\n",
       "\t<tr><td>4</td><td>avg_Neurons              </td><td>0.013901404</td></tr>\n",
       "\t<tr><td>5</td><td>avg_Neurons              </td><td>0.033104787</td></tr>\n",
       "\t<tr><td>0</td><td>avg_vasculature          </td><td>0.150426200</td></tr>\n",
       "\t<tr><td>1</td><td>avg_vasculature          </td><td>0.198286782</td></tr>\n",
       "\t<tr><td>2</td><td>avg_vasculature          </td><td>0.187986859</td></tr>\n",
       "\t<tr><td>3</td><td>avg_vasculature          </td><td>0.177507992</td></tr>\n",
       "\t<tr><td>4</td><td>avg_vasculature          </td><td>0.414225488</td></tr>\n",
       "\t<tr><td>5</td><td>avg_vasculature          </td><td>0.279371498</td></tr>\n",
       "</tbody>\n",
       "</table>\n"
      ],
      "text/latex": [
       "A tibble: 42 × 3\n",
       "\\begin{tabular}{lll}\n",
       " seurat\\_clusters & celltype & celltype.prop\\\\\n",
       " <int> & <chr> & <dbl>\\\\\n",
       "\\hline\n",
       "\t 0 & avg\\_GM.astrocytes         & 0.025271928\\\\\n",
       "\t 1 & avg\\_GM.astrocytes         & 0.061257476\\\\\n",
       "\t 2 & avg\\_GM.astrocytes         & 0.074671441\\\\\n",
       "\t 3 & avg\\_GM.astrocytes         & 0.015777747\\\\\n",
       "\t 4 & avg\\_GM.astrocytes         & 0.024822253\\\\\n",
       "\t 5 & avg\\_GM.astrocytes         & 0.035912480\\\\\n",
       "\t 0 & avg\\_WM.astrocytes         & 0.249886179\\\\\n",
       "\t 1 & avg\\_WM.astrocytes         & 0.322563758\\\\\n",
       "\t 2 & avg\\_WM.astrocytes         & 0.428663950\\\\\n",
       "\t 3 & avg\\_WM.astrocytes         & 0.265424564\\\\\n",
       "\t 4 & avg\\_WM.astrocytes         & 0.249409825\\\\\n",
       "\t 5 & avg\\_WM.astrocytes         & 0.266555792\\\\\n",
       "\t 0 & avg\\_microglia.macrophages & 0.107683476\\\\\n",
       "\t 1 & avg\\_microglia.macrophages & 0.111183182\\\\\n",
       "\t 2 & avg\\_microglia.macrophages & 0.119069414\\\\\n",
       "\t 3 & avg\\_microglia.macrophages & 0.297275079\\\\\n",
       "\t 4 & avg\\_microglia.macrophages & 0.137356545\\\\\n",
       "\t 5 & avg\\_microglia.macrophages & 0.121150594\\\\\n",
       "\t 0 & avg\\_oligos                & 0.424679062\\\\\n",
       "\t 1 & avg\\_oligos                & 0.217770689\\\\\n",
       "\t 2 & avg\\_oligos                & 0.165880251\\\\\n",
       "\t 3 & avg\\_oligos                & 0.223158730\\\\\n",
       "\t 4 & avg\\_oligos                & 0.154599509\\\\\n",
       "\t 5 & avg\\_oligos                & 0.249901993\\\\\n",
       "\t 0 & avg\\_OPCs                  & 0.020870842\\\\\n",
       "\t 1 & avg\\_OPCs                  & 0.026090752\\\\\n",
       "\t 2 & avg\\_OPCs                  & 0.008440151\\\\\n",
       "\t 3 & avg\\_OPCs                  & 0.009102837\\\\\n",
       "\t 4 & avg\\_OPCs                  & 0.005684975\\\\\n",
       "\t 5 & avg\\_OPCs                  & 0.014002857\\\\\n",
       "\t 0 & avg\\_Neurons               & 0.021182315\\\\\n",
       "\t 1 & avg\\_Neurons               & 0.062847359\\\\\n",
       "\t 2 & avg\\_Neurons               & 0.015287935\\\\\n",
       "\t 3 & avg\\_Neurons               & 0.011753052\\\\\n",
       "\t 4 & avg\\_Neurons               & 0.013901404\\\\\n",
       "\t 5 & avg\\_Neurons               & 0.033104787\\\\\n",
       "\t 0 & avg\\_vasculature           & 0.150426200\\\\\n",
       "\t 1 & avg\\_vasculature           & 0.198286782\\\\\n",
       "\t 2 & avg\\_vasculature           & 0.187986859\\\\\n",
       "\t 3 & avg\\_vasculature           & 0.177507992\\\\\n",
       "\t 4 & avg\\_vasculature           & 0.414225488\\\\\n",
       "\t 5 & avg\\_vasculature           & 0.279371498\\\\\n",
       "\\end{tabular}\n"
      ],
      "text/markdown": [
       "\n",
       "A tibble: 42 × 3\n",
       "\n",
       "| seurat_clusters &lt;int&gt; | celltype &lt;chr&gt; | celltype.prop &lt;dbl&gt; |\n",
       "|---|---|---|\n",
       "| 0 | avg_GM.astrocytes         | 0.025271928 |\n",
       "| 1 | avg_GM.astrocytes         | 0.061257476 |\n",
       "| 2 | avg_GM.astrocytes         | 0.074671441 |\n",
       "| 3 | avg_GM.astrocytes         | 0.015777747 |\n",
       "| 4 | avg_GM.astrocytes         | 0.024822253 |\n",
       "| 5 | avg_GM.astrocytes         | 0.035912480 |\n",
       "| 0 | avg_WM.astrocytes         | 0.249886179 |\n",
       "| 1 | avg_WM.astrocytes         | 0.322563758 |\n",
       "| 2 | avg_WM.astrocytes         | 0.428663950 |\n",
       "| 3 | avg_WM.astrocytes         | 0.265424564 |\n",
       "| 4 | avg_WM.astrocytes         | 0.249409825 |\n",
       "| 5 | avg_WM.astrocytes         | 0.266555792 |\n",
       "| 0 | avg_microglia.macrophages | 0.107683476 |\n",
       "| 1 | avg_microglia.macrophages | 0.111183182 |\n",
       "| 2 | avg_microglia.macrophages | 0.119069414 |\n",
       "| 3 | avg_microglia.macrophages | 0.297275079 |\n",
       "| 4 | avg_microglia.macrophages | 0.137356545 |\n",
       "| 5 | avg_microglia.macrophages | 0.121150594 |\n",
       "| 0 | avg_oligos                | 0.424679062 |\n",
       "| 1 | avg_oligos                | 0.217770689 |\n",
       "| 2 | avg_oligos                | 0.165880251 |\n",
       "| 3 | avg_oligos                | 0.223158730 |\n",
       "| 4 | avg_oligos                | 0.154599509 |\n",
       "| 5 | avg_oligos                | 0.249901993 |\n",
       "| 0 | avg_OPCs                  | 0.020870842 |\n",
       "| 1 | avg_OPCs                  | 0.026090752 |\n",
       "| 2 | avg_OPCs                  | 0.008440151 |\n",
       "| 3 | avg_OPCs                  | 0.009102837 |\n",
       "| 4 | avg_OPCs                  | 0.005684975 |\n",
       "| 5 | avg_OPCs                  | 0.014002857 |\n",
       "| 0 | avg_Neurons               | 0.021182315 |\n",
       "| 1 | avg_Neurons               | 0.062847359 |\n",
       "| 2 | avg_Neurons               | 0.015287935 |\n",
       "| 3 | avg_Neurons               | 0.011753052 |\n",
       "| 4 | avg_Neurons               | 0.013901404 |\n",
       "| 5 | avg_Neurons               | 0.033104787 |\n",
       "| 0 | avg_vasculature           | 0.150426200 |\n",
       "| 1 | avg_vasculature           | 0.198286782 |\n",
       "| 2 | avg_vasculature           | 0.187986859 |\n",
       "| 3 | avg_vasculature           | 0.177507992 |\n",
       "| 4 | avg_vasculature           | 0.414225488 |\n",
       "| 5 | avg_vasculature           | 0.279371498 |\n",
       "\n"
      ],
      "text/plain": [
       "   seurat_clusters celltype                  celltype.prop\n",
       "1  0               avg_GM.astrocytes         0.025271928  \n",
       "2  1               avg_GM.astrocytes         0.061257476  \n",
       "3  2               avg_GM.astrocytes         0.074671441  \n",
       "4  3               avg_GM.astrocytes         0.015777747  \n",
       "5  4               avg_GM.astrocytes         0.024822253  \n",
       "6  5               avg_GM.astrocytes         0.035912480  \n",
       "7  0               avg_WM.astrocytes         0.249886179  \n",
       "8  1               avg_WM.astrocytes         0.322563758  \n",
       "9  2               avg_WM.astrocytes         0.428663950  \n",
       "10 3               avg_WM.astrocytes         0.265424564  \n",
       "11 4               avg_WM.astrocytes         0.249409825  \n",
       "12 5               avg_WM.astrocytes         0.266555792  \n",
       "13 0               avg_microglia.macrophages 0.107683476  \n",
       "14 1               avg_microglia.macrophages 0.111183182  \n",
       "15 2               avg_microglia.macrophages 0.119069414  \n",
       "16 3               avg_microglia.macrophages 0.297275079  \n",
       "17 4               avg_microglia.macrophages 0.137356545  \n",
       "18 5               avg_microglia.macrophages 0.121150594  \n",
       "19 0               avg_oligos                0.424679062  \n",
       "20 1               avg_oligos                0.217770689  \n",
       "21 2               avg_oligos                0.165880251  \n",
       "22 3               avg_oligos                0.223158730  \n",
       "23 4               avg_oligos                0.154599509  \n",
       "24 5               avg_oligos                0.249901993  \n",
       "25 0               avg_OPCs                  0.020870842  \n",
       "26 1               avg_OPCs                  0.026090752  \n",
       "27 2               avg_OPCs                  0.008440151  \n",
       "28 3               avg_OPCs                  0.009102837  \n",
       "29 4               avg_OPCs                  0.005684975  \n",
       "30 5               avg_OPCs                  0.014002857  \n",
       "31 0               avg_Neurons               0.021182315  \n",
       "32 1               avg_Neurons               0.062847359  \n",
       "33 2               avg_Neurons               0.015287935  \n",
       "34 3               avg_Neurons               0.011753052  \n",
       "35 4               avg_Neurons               0.013901404  \n",
       "36 5               avg_Neurons               0.033104787  \n",
       "37 0               avg_vasculature           0.150426200  \n",
       "38 1               avg_vasculature           0.198286782  \n",
       "39 2               avg_vasculature           0.187986859  \n",
       "40 3               avg_vasculature           0.177507992  \n",
       "41 4               avg_vasculature           0.414225488  \n",
       "42 5               avg_vasculature           0.279371498  "
      ]
     },
     "metadata": {},
     "output_type": "display_data"
    }
   ],
   "source": [
    "df_heatmap = deconv_cluster_info %>%\n",
    "    mutate(Neurons = ExNeurons + InhNeurons) %>%\n",
    "    group_by(seurat_clusters) %>%\n",
    "    summarise(\n",
    "              avg_GM.astrocytes = mean(GM.astrocytes),\n",
    "              avg_WM.astrocytes = mean(WM.astrocytes),\n",
    "              avg_microglia.macrophages = mean(microglia.macrophages),\n",
    "              avg_oligos = mean(Oligodendrocytes),\n",
    "              avg_OPCs = mean(OPCs),\n",
    "              avg_Neurons = mean(Neurons),\n",
    "              avg_vasculature = mean(Vasculature)\n",
    "              ) %>%\n",
    "    gather(key = celltype, value = celltype.prop, 2:8)\n",
    "df_heatmap"
   ]
  },
  {
   "cell_type": "code",
   "execution_count": 4,
   "id": "2e43162c-1ccd-458c-bd0a-b4511b1ca912",
   "metadata": {},
   "outputs": [
    {
     "data": {
      "image/png": "[encoded data removed]",
      "text/plain": [
       "plot without title"
      ]
     },
     "metadata": {
      "image/png": {
       "height": 420,
       "width": 420
      }
     },
     "output_type": "display_data"
    }
   ],
   "source": [
    "df_heatmap$seurat_clusters <- factor(df_heatmap$seurat_clusters, levels = unique(df_heatmap$seurat_clusters))\n",
    "df_heatmap$celltype <- factor(df_heatmap$celltype, levels = rev(c(\"avg_oligos\", \"avg_OPCs\", \"avg_GM.astrocytes\", \"avg_WM.astrocytes\",\n",
    "                                                               \"avg_microglia.macrophages\", \"avg_vasculature\", \"avg_Neurons\")))\n",
    "\n",
    "ggplot(df_heatmap, aes(seurat_clusters, celltype, fill= celltype.prop)) + \n",
    "  geom_tile() +\n",
    "  scale_fill_gradient(low=\"white\", high=\"red\") +\n",
    "  coord_equal() + scale_x_discrete(position = \"top\") +\n",
    "  theme_classic()\n",
    "    "
   ]
  },
  {
   "cell_type": "code",
   "execution_count": 5,
   "id": "02d0a130-2a3a-4a61-8b28-d8b0b100ab72",
   "metadata": {},
   "outputs": [
    {
     "data": {
      "text/html": [
       "<strong>png:</strong> 2"
      ],
      "text/latex": [
       "\\textbf{png:} 2"
      ],
      "text/markdown": [
       "**png:** 2"
      ],
      "text/plain": [
       "png \n",
       "  2 "
      ]
     },
     "metadata": {},
     "output_type": "display_data"
    },
    {
     "data": {
      "text/html": [
       "<strong>png:</strong> 2"
      ],
      "text/latex": [
       "\\textbf{png:} 2"
      ],
      "text/markdown": [
       "**png:** 2"
      ],
      "text/plain": [
       "png \n",
       "  2 "
      ]
     },
     "metadata": {},
     "output_type": "display_data"
    }
   ],
   "source": [
    "pdf(paste0(outdir, \"celltypeproportions_per_cluster_square.pdf\"))\n",
    "ggplot(df_heatmap, aes(seurat_clusters, celltype, fill= celltype.prop)) + \n",
    "  geom_tile() +\n",
    "  scale_fill_gradient(low=\"white\", high=\"red\") +\n",
    "  coord_equal() + scale_x_discrete(position = \"top\") +\n",
    "  theme_classic()\n",
    "dev.off()\n",
    "\n",
    "pdf(paste0(outdir, \"celltypeproportions_per_cluster_rectangle.pdf\"))\n",
    "ggplot(df_heatmap, aes(seurat_clusters, celltype, fill= celltype.prop)) + \n",
    "  geom_tile() +\n",
    "  scale_fill_gradient(low=\"white\", high=\"red\") +\n",
    "  coord_equal() + scale_x_discrete(position = \"top\") +\n",
    "  theme_classic()\n",
    "    \n",
    "dev.off()"
   ]
  }
 ],
 "metadata": {
  "kernelspec": {
   "display_name": "R4.2",
   "language": "R",
   "name": "ir"
  },
  "language_info": {
   "codemirror_mode": "r",
   "file_extension": ".r",
   "mimetype": "text/x-r-source",
   "name": "R",
   "pygments_lexer": "r",
   "version": "4.2.0"
  }
 },
 "nbformat": 4,
 "nbformat_minor": 5
}
