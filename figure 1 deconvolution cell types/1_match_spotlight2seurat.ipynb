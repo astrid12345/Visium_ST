{
 "cells": [
  {
   "cell_type": "code",
   "execution_count": null,
   "id": "601985e2-3c3b-4ea8-9b4d-ccc96a599cf7",
   "metadata": {},
   "outputs": [],
   "source": [
    "########################################################################\n",
    "# Author    : A. Alsema\n",
    "# Date      : July 2021\n",
    "# Dataset   : Visium Spatial Transcriptomics for MS lesions\n",
    "# Purpose   : match spotlight proportion estimates to seurat metadata on spot-level\n",
    "\n",
    "# Required inputs:\n",
    "# - path_to_decnv_matrices: this contains tables with the estimated cell type proportions per sample  as \"ST_ID, \"_celltype_prop.csv\"\n",
    "# - path_to_seurat_clusters: this contains \"seurat_metadata.csv\" with seurat metadata of all samples\n",
    "\n",
    "# Output:\n",
    "# - seurat_metadata_with_cellprop.csv: merged data inputs, matched by spot barcode\n",
    "########################################################################"
   ]
  },
  {
   "cell_type": "code",
   "execution_count": 1,
   "id": "998ffd43-a81a-45ee-9046-0ceed5d222fd",
   "metadata": {
    "collapsed": true,
    "jupyter": {
     "outputs_hidden": true
    },
    "tags": []
   },
   "outputs": [],
   "source": [
    "rm(list = ls())"
   ]
  },
  {
   "cell_type": "code",
   "execution_count": 15,
   "id": "f2e8f9fc-d59a-45e6-8930-cf00f95c7106",
   "metadata": {
    "tags": []
   },
   "outputs": [],
   "source": [
    "library(stringr)\n",
    "path_to_decnv_matrices <- c(\"RData/SPOTlight/\")\n",
    "path_to_seurat_clusters <- c(\"Routput/Seurat/\")"
   ]
  },
  {
   "cell_type": "code",
   "execution_count": 32,
   "id": "c6e64d5d-0446-4f30-8fa5-06ff3ab0e7ca",
   "metadata": {
    "tags": []
   },
   "outputs": [],
   "source": [
    "current_samples <- c(\"ST31\", \"ST32\", \"ST34\", \n",
    "                     \"ST37\", \"ST38\", \"ST33\", \n",
    "                     \"ST69\", \"ST70\", \"ST79\", \n",
    "                     \"ST67\", \"ST68\", \"ST71\", \n",
    "                     \"ST72\", \"ST73\", \"ST74\") \n",
    "deconv_df_combined <- data.frame()\n",
    "for (current_sample in current_samples){\n",
    "    deconv_df <- read.csv(paste0(path_to_decnv_matrices,  current_sample, \"_celltype_prop.csv\"), row.names = 1)\n",
    "    deconv_df$my_barcode <- str_sub(row.names(deconv_df), end = 18)\n",
    "    deconv_df$my_barcode <- paste(current_sample, deconv_df$my_barcode, sep = \"_\")\n",
    "    rownames(deconv_df) <- deconv_df$my_barcode\n",
    "    deconv_df_combined <- rbind(deconv_df, deconv_df_combined)\n",
    "}\n",
    "\n",
    "str(deconv_df_combined)"
   ]
  },
  {
   "cell_type": "code",
   "execution_count": 31,
   "id": "8f97d7af-fb22-4d9d-9515-14cf930e02fe",
   "metadata": {
    "tags": []
   },
   "outputs": [
    {
     "name": "stdout",
     "output_type": "stream",
     "text": [
      "'data.frame':\t55519 obs. of  22 variables:\n",
      " $ orig.ident            : chr  \"ST31_CWM\" \"ST31_CWM\" \"ST31_CWM\" \"ST31_CWM\" ...\n",
      " $ nCount_Spatial        : int  977 1526 4381 2517 1727 2671 507 1445 1388 2513 ...\n",
      " $ nFeature_Spatial      : int  684 937 2010 1427 1073 1482 401 847 875 1403 ...\n",
      " $ sample_ID             : chr  \"ST31\" \"ST31\" \"ST31\" \"ST31\" ...\n",
      " $ manuscript_ID         : chr  \"C1\" \"C1\" \"C1\" \"C1\" ...\n",
      " $ slide                 : chr  \"ST_1\" \"ST_1\" \"ST_1\" \"ST_1\" ...\n",
      " $ sample_name           : chr  \"CWM_2012_070\" \"CWM_2012_070\" \"CWM_2012_070\" \"CWM_2012_070\" ...\n",
      " $ donor_ID              : chr  \"2012-070\" \"2012-070\" \"2012-070\" \"2012-070\" ...\n",
      " $ lesiontype            : chr  \"CNT\" \"CNT\" \"CNT\" \"CNT\" ...\n",
      " $ Age                   : int  79 79 79 79 79 79 79 79 79 79 ...\n",
      " $ Sex                   : chr  \"M\" \"M\" \"M\" \"M\" ...\n",
      " $ RIN                   : num  7.7 7.7 7.7 7.7 7.7 7.7 7.7 7.7 7.7 7.7 ...\n",
      " $ PMI_min               : int  345 345 345 345 345 345 345 345 345 345 ...\n",
      " $ brain_pH              : num  6.38 6.38 6.38 6.38 6.38 6.38 6.38 6.38 6.38 6.38 ...\n",
      " $ Group                 : chr  \"CWM\" \"CWM\" \"CWM\" \"CWM\" ...\n",
      " $ percent.mito          : num  8.29 10.03 12.9 9.61 12.68 ...\n",
      " $ percent.ribo          : num  6.96 10.16 8.15 8.18 8.22 ...\n",
      " $ integrated_snn_res.0.3: int  1 5 1 1 2 1 1 4 1 1 ...\n",
      " $ seurat_clusters       : int  0 4 0 0 0 0 0 3 0 0 ...\n",
      " $ ngenes_rate           : num  -0.5267 -0.2243 1.0582 0.3614 -0.0617 ...\n",
      " $ integrated_snn_res.0.2: int  0 4 0 0 0 0 0 3 0 0 ...\n",
      " $ barcode               : chr  \"ST31_AAACAAGTATCTCCCA-1\" \"ST31_AAACACCAATAACTGC-1\" \"ST31_AAACAGAGCGACTCCT-1\" \"ST31_AAACAGCTTTCAGAAG-1\" ...\n"
     ]
    }
   ],
   "source": [
    "cluster_info <- read.csv(paste0(path_to_seurat_clusters, \"seurat_metadata.csv\"), row.names =1)\n",
    "cluster_info$barcode <- str_sub(row.names(cluster_info), end = 18)\n",
    "cluster_info$barcode <- paste(cluster_info$sample_ID, cluster_info$barcode, sep = \"_\")\n",
    "\n",
    "str(cluster_info)"
   ]
  },
  {
   "cell_type": "code",
   "execution_count": 44,
   "id": "a0410901-b6aa-4e15-be61-710e30a26100",
   "metadata": {
    "tags": []
   },
   "outputs": [
    {
     "data": {
      "text/html": [
       "TRUE"
      ],
      "text/latex": [
       "TRUE"
      ],
      "text/markdown": [
       "TRUE"
      ],
      "text/plain": [
       "[1] TRUE"
      ]
     },
     "metadata": {},
     "output_type": "display_data"
    }
   ],
   "source": [
    "deconv_match <- deconv_df_combined[match(cluster_info$barcode, deconv_df_combined$my_barcode),]\n",
    "identical(rownames(deconv_match), cluster_info$barcode)"
   ]
  },
  {
   "cell_type": "code",
   "execution_count": 46,
   "id": "2e4a8042-4dec-411f-91aa-02a952b5079b",
   "metadata": {},
   "outputs": [],
   "source": [
    "deconv_cluster_info <- cbind(deconv_match, cluster_info)"
   ]
  },
  {
   "cell_type": "code",
   "execution_count": 48,
   "id": "59cc02cb-f889-407e-990c-8397dd4961db",
   "metadata": {},
   "outputs": [],
   "source": [
    "write.csv(deconv_cluster_info, paste0(path_to_seurat_clusters, \"seurat_metadata_with_cellprop.csv\"))"
   ]
  }
 ],
 "metadata": {
  "kernelspec": {
   "display_name": "R4.2",
   "language": "R",
   "name": "ir"
  },
  "language_info": {
   "codemirror_mode": "r",
   "file_extension": ".r",
   "mimetype": "text/x-r-source",
   "name": "R",
   "pygments_lexer": "r",
   "version": "4.2.0"
  }
 },
 "nbformat": 4,
 "nbformat_minor": 5
}
