{
 "cells": [
  {
   "cell_type": "code",
   "execution_count": null,
   "metadata": {},
   "outputs": [],
   "source": [
    "########################################################################\n",
    "# Author    : A. Alsema\n",
    "# Date      : Augustus 2021\n",
    "# Dataset   : Visium Spatial Transcriptomics for MS lesions\n",
    "# Purpose   : Calculate marker genes for each cluster\n",
    "# Output    : csv files with cluster markers \n",
    "\n",
    "# Inputs: \n",
    "# - indir : contains the \"XXX_sce_qX.rds\" with final clustering results.\n",
    "# - outpath : dir to store differentially expressed markers \n",
    "# - sampleIDs: a vector of samples to be processed\n",
    "# - sampleQs: optimized q-value per sample\n",
    "\n",
    "\n",
    "# Note: http://www.ezstatconsulting.com/BayesSpace/articles/thrane_melanoma.html#differential-expression-analysis-of-spatial-clusters-1\n",
    "#########################################################################"
   ]
  },
  {
   "cell_type": "code",
   "execution_count": null,
   "metadata": {
    "tags": []
   },
   "outputs": [],
   "source": [
    "rm(list = ls())\n",
    "indir <- \"<your_indir>\" \n",
    "outpath <- \"<your_outdir>\"\n",
    "dir.create(get(\"outpath\"), recursive = TRUE)"
   ]
  },
  {
   "cell_type": "code",
   "execution_count": null,
   "metadata": {
    "tags": []
   },
   "outputs": [],
   "source": [
    "# load packages\n",
    "library(dplyr)\n",
    "library(BayesSpace)\n",
    "library(Seurat)\n",
    "library(tidyverse)\n",
    "library(BiocSingular)\n",
    "library(scater)\n",
    "library(scran)\n",
    "library(future)\n",
    "\n",
    "# vector of samples to be processed\n",
    "sampleIDs <- c(\"ST31\", \"ST33\", \"ST34\", # ST32 is skipped because it has only one cluster!\n",
    "\"ST37\", \"ST38\", \"ST67\", \"ST68\", \n",
    "\"ST69\", \"ST70\", \"ST71\", \"ST72\",\n",
    "\"ST73\", \"ST74\", \"ST79\", \n",
    "\"ST55\",\"ST56\", \"ST57\", \"ST58\", \n",
    "\"ST59\", \"ST60\", \"ST61\", \"ST62\", \n",
    "\"ST63\", \"ST64\", \"ST65\")\n",
    "\n",
    "# Vector of corresponding cluster numbers for each sample. A range of q-values have been tested and optimized beforehand.\n",
    "sampleQs <- c(2, 10, 2, \n",
    "2, 3, 9, 8, \n",
    "6, 8, 8, 10,\n",
    "6, 7, 5,\n",
    "4, 5, 10, 10,\n",
    "8, 9, 10, 4,\n",
    "8, 8, 8) \n",
    "\n",
    "for (i in 1:length(sampleIDs)){\n",
    "    sampleID <- sampleIDs[i]\n",
    "    print(sampleID)\n",
    "    q <- sampleQs[i]\n",
    "    \n",
    "    ### Load data  ###\n",
    "    sce <- readRDS(file=paste0(indir, sampleID, \"_sce_q\", q,\".rds\"))\n",
    "    print(paste('read in sce',sampleID))\n",
    "\n",
    "    ### Convert BayesSpace to seurat  ###\n",
    "    print(\"converting SCE to seurat...\")\n",
    "    # NOTE TO SELF: watch out, in sobj counts and  data slot will both contain lognorm counts, not really a normal seurat object.\n",
    "    # for this reason I don't save or otherwise use this temperory intermediate sobj\n",
    "    sobj <- Seurat::CreateSeuratObject(counts=logcounts(sce),\n",
    "                                       assay='Spatial',\n",
    "                                       meta.data=as.data.frame(colData(sce)))\n",
    "    sobj <- Seurat::SetIdent(sobj, value = \"spatial.cluster\")\n",
    "    sobj$ngenes_rate <- scale(sobj$nFeature_Spatial)\n",
    "    \n",
    "    ### calculate cluster markers ###\n",
    "    # the best results where for ngenes_rate as covariate. \n",
    "    # it performs better than using no covariate or sizeFactor as covariate/latent.var\n",
    "    markers <- Seurat::FindAllMarkers(sobj, assay='Spatial', slot='data', \n",
    "                                      test.use = \"MAST\",\n",
    "                                      group.by='spatial.cluster',\n",
    "                                      latent.vars = \"ngenes_rate\", # MAST paper shows this latent variable improves the results. https://doi.org/10.1186/s13059-015-0844-5 \n",
    "                                      logfc.threshold=0.25, \n",
    "                                      verbose = FALSE,\n",
    "                                      only.pos=FALSE)\n",
    "    ### write out cluster markers ###\n",
    "    write.csv(markers,file = paste0(outpath, sampleID,\"_q\", q, \"_all_markers.csv\" ))\n",
    "\n",
    "    \n",
    "    ### optional: write out subsets ###\n",
    "    markers <- markers[markers$p_val_adj < 0.05, ]\n",
    "    markers_up <- markers[markers$avg_log2FC > 0.25, ]   \n",
    "    markers_down <- markers[markers$avg_log2FC < -0.25, ]\n",
    "    write.csv(markers_up,file = paste0(outpath, sampleID,\"_q\", q, \"_sign_up_markers.csv\" ))\n",
    "    write.csv(markers_down,file = paste0(outpath, sampleID,\"_q\", q, \"_sign_down_markers.csv\" ))\n",
    "\n",
    "    ### create a message ###\n",
    "    if (exists(\"markers_up\")== TRUE){   \n",
    "        print(nrow(markers_up))\n",
    "    }else {\n",
    "        print(\"there are no enriched cluster markers\")\n",
    "    }\n",
    "    \n",
    "    if (exists(\"markers_down\")== TRUE){   \n",
    "        print(nrow(markers_down))\n",
    "    }else {\n",
    "        print(\"there are no depleted cluster markers\")\n",
    "    }\n",
    "}"
   ]
  },
  {
   "cell_type": "code",
   "execution_count": null,
   "metadata": {},
   "outputs": [],
   "source": [
    "sessionInfo()"
   ]
  }
 ],
 "metadata": {
  "kernelspec": {
   "display_name": "R4.2",
   "language": "R",
   "name": "ir"
  },
  "language_info": {
   "codemirror_mode": "r",
   "file_extension": ".r",
   "mimetype": "text/x-r-source",
   "name": "R",
   "pygments_lexer": "r",
   "version": "4.2.0"
  }
 },
 "nbformat": 4,
 "nbformat_minor": 4
}
